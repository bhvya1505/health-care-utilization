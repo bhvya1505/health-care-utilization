{
 "cells": [
  {
   "cell_type": "markdown",
   "id": "fd148c65-9c40-4115-9b7e-2201e0987f5c",
   "metadata": {},
   "source": [
    "# Healthcare Disparities Analysis Based on Demographics!\n",
    "\n",
    "The goal is to examine how patient demographics (e.g. Age, Gender, Marital Status) influence treatment and healthcare access, identifying disparities in the quality of care. "
   ]
  },
  {
   "cell_type": "code",
   "execution_count": 49,
   "id": "4675423f-26a7-4cdd-b9ce-408babcc6ca7",
   "metadata": {},
   "outputs": [],
   "source": [
    "from pyspark.sql import SparkSession\n",
    "spark = SparkSession.builder.appName(\"Disparities in Healthcare Analysis\").getOrCreate()\n",
    "from pyspark.sql.functions import year, current_date, concat_ws, when, col, trim, lower,count, mean, stddev, to_timestamp, unix_timestamp, regexp_replace, sum\n",
    "import boto3\n",
    "import io\n",
    "import pandas as pd\n",
    "import matplotlib.pyplot as plt\n",
    "import seaborn as sns"
   ]
  },
  {
   "cell_type": "markdown",
   "id": "af258d52-622f-459b-8bf6-58888a623ada",
   "metadata": {},
   "source": [
    "## Initial setting up Data Frames and Exploration\n",
    "\n",
    "We have already completed the ETL portion of extracting the data from individual patient json files. The extraction was done based on categories such as observation, immunization, diagnostic  reports, enocounters, claims data etc. That data is stored in parquet format for each category and is being used here below to examine what each dataframe looks like at the moment.    "
   ]
  },
  {
   "cell_type": "code",
   "execution_count": 50,
   "id": "e7bd053c-7ace-4c7e-aac0-94581a3df47d",
   "metadata": {},
   "outputs": [],
   "source": [
    "import sys\n",
    "\n",
    "input = sys.argv[1]\n",
    "s3 = boto3.client(\"s3\")\n",
    "bucket = sys.argv[2]\n",
    "base_key = sys.argv[3]\n",
    "#input = \"etl\"\n",
    "\n",
    "observation_df = spark.read.parquet(f\"{input}/observation\")\n",
    "immunization_df = spark.read.parquet(f\"{input}/immunization\")\n",
    "diagnostic_report_df = spark.read.parquet(f\"{input}/diagnostic_report\")\n",
    "procedure_df = spark.read.parquet(f\"{input}/procedure\")\n",
    "careteam_df = spark.read.parquet(f\"{input}/careteam\")\n",
    "careplan_df = spark.read.parquet(f\"{input}/careplan\")\n",
    "explanation_of_benefit_df = spark.read.parquet(f\"{input}/explanation_of_benefit\")\n",
    "claim_df = spark.read.parquet(f\"{input}/claim\")\n",
    "medication_request_df = spark.read.parquet(f\"{input}/medication_request\")\n",
    "condition_df = spark.read.parquet(f\"{input}/condition\")\n",
    "encounter_df = spark.read.parquet(f\"{input}/encounter\")\n",
    "patient_df = spark.read.parquet(f\"{input}/patient\")\n",
    "\n",
    "\n",
    "#observation_df.show(5)\n",
    "# immunization_df.show(5)\n",
    "# diagnostic_report_df.show(5)\n",
    "# procedure_df.show(5)\n",
    "# careteam_df.show(5)\n",
    "# careplan_df.show(5)\n",
    "# explanation_of_benefit_df.show(5)\n",
    "# claim_df.show(5)\n",
    "# medication_request_df.show(5)\n",
    "# condition_df.show(5)\n",
    "# encounter_df.show(5)\n",
    "\n"
   ]
  },
  {
   "cell_type": "markdown",
   "id": "9b1715e5-671d-4886-b810-2c70b81c0793",
   "metadata": {},
   "source": [
    "We looked at all the dataframes and the one's that interest us the most are the patients, encounters and the explanation of benefit dataframe. We are going to start with the patient data frame as it contains the key variables on which the project is going to focus. "
   ]
  },
  {
   "cell_type": "code",
   "execution_count": 51,
   "id": "3d4bc76c-baef-4ee2-8f2c-88781f8a595a",
   "metadata": {},
   "outputs": [
    {
     "name": "stdout",
     "output_type": "stream",
     "text": [
      "+--------------------+--------------------+-----------+----------+------+----------+--------------------+--------------------+-------+-----------+-----------------+-------------------+------------+--------------+--------------------+---------------+--------------------+------------------+------------------------------+---------------------------+--------------+---------+\n",
      "|          patient_id|    identifier_types|  last_name|first_name|gender|birth_date|                city|               state|country|postal_code|         latitude|          longitude|       phone|marital_status| mothers_maiden_name|birthplace_city|    birthplace_state|birthplace_country|disability_adjusted_life_years|quality_adjusted_life_years|multiple_birth|languages|\n",
      "+--------------------+--------------------+-----------+----------+------+----------+--------------------+--------------------+-------+-----------+-----------------+-------------------+------------+--------------+--------------------+---------------+--------------------+------------------+------------------------------+---------------------------+--------------+---------+\n",
      "|37b0788d-2389-b70...|[null, Medical Re...|  Harber290| Zachary28|  male|1977-02-03|Division No. 4, S...|Newfoundland and ...|     CA|        A1A|48.52235473195535|-55.367993741065376|555-999-9943|             M| Sharika71 Bailey598|       Paradise|Newfoundland and ...|                CA|             20.28075539923084|          17.71924460076916|         false|[English]|\n",
      "|7ca297d1-94e0-806...|[null, Medical Re...|  Murphy561| Zenaida56|female|1955-05-02|         Clarenville|Newfoundland and ...|     CA|        A5A|48.12501389713399| -53.92252843475256|555-305-5898|             S|Lavon272 Christia...|      Bay Bulls|Newfoundland and ...|                CA|            2.7338625827639547|         54.266137417236045|         false|[English]|\n",
      "|000002d9-3788-19b...|[null, Medical Re...|Schmeler639|  Zetta950|female|2019-05-13|   Wallace Hills 14A|         Nova Scotia|     CA|        B3K|44.90638228831787|-63.963210909879436|555-850-6821| Never Married|Gaynell126 Beahan375|    Cape Breton|         Nova Scotia|                CA|                           0.0|                        1.0|         false|[English]|\n",
      "|047c5aaf-d8cb-a31...|[null, Medical Re...| Volkman526|  Zulma701|female|1965-08-20|           Woodstock|Newfoundland and ...|     CA|        A1A|48.53819876689299| -55.41441339349075|555-292-7037|             S|Mazie442 Jaskolsk...|     St. John's|Newfoundland and ...|                CA|           0.11930722915184863|          46.88069277084815|         false|[English]|\n",
      "|43dceade-79e7-fc0...|[null, Medical Re...|   Feest103| Zandra428|female|1998-02-28|      North Cowichan|    British Columbia|     CA|        V0R|48.85197586305505| -123.7064674358977|555-870-8290| Never Married|Arielle168 MacGyv...|       Kamloops|    British Columbia|                CA|            0.2352648564246976|           21.7647351435753|         false|[English]|\n",
      "+--------------------+--------------------+-----------+----------+------+----------+--------------------+--------------------+-------+-----------+-----------------+-------------------+------------+--------------+--------------------+---------------+--------------------+------------------+------------------------------+---------------------------+--------------+---------+\n",
      "only showing top 5 rows\n",
      "\n",
      "root\n",
      " |-- patient_id: string (nullable = true)\n",
      " |-- identifier_types: array (nullable = true)\n",
      " |    |-- element: string (containsNull = true)\n",
      " |-- last_name: string (nullable = true)\n",
      " |-- first_name: string (nullable = true)\n",
      " |-- gender: string (nullable = true)\n",
      " |-- birth_date: string (nullable = true)\n",
      " |-- city: string (nullable = true)\n",
      " |-- state: string (nullable = true)\n",
      " |-- country: string (nullable = true)\n",
      " |-- postal_code: string (nullable = true)\n",
      " |-- latitude: double (nullable = true)\n",
      " |-- longitude: double (nullable = true)\n",
      " |-- phone: string (nullable = true)\n",
      " |-- marital_status: string (nullable = true)\n",
      " |-- mothers_maiden_name: string (nullable = true)\n",
      " |-- birthplace_city: string (nullable = true)\n",
      " |-- birthplace_state: string (nullable = true)\n",
      " |-- birthplace_country: string (nullable = true)\n",
      " |-- disability_adjusted_life_years: double (nullable = true)\n",
      " |-- quality_adjusted_life_years: double (nullable = true)\n",
      " |-- multiple_birth: boolean (nullable = true)\n",
      " |-- languages: array (nullable = true)\n",
      " |    |-- element: string (containsNull = true)\n",
      "\n"
     ]
    }
   ],
   "source": [
    "patient_df.show(5)\n",
    "patient_df.printSchema()"
   ]
  },
  {
   "cell_type": "code",
   "execution_count": 52,
   "id": "9fda96c3-a4f4-47e7-bfca-7c1df5cf6c39",
   "metadata": {},
   "outputs": [
    {
     "name": "stdout",
     "output_type": "stream",
     "text": [
      "Number of cities: 14\n",
      "+--------------------+\n",
      "|                city|\n",
      "+--------------------+\n",
      "|Division No. 4, S...|\n",
      "|         Clarenville|\n",
      "|           Woodstock|\n",
      "|   Wallace Hills 14A|\n",
      "|      North Cowichan|\n",
      "|    Hay River Dene 1|\n",
      "|        Powell River|\n",
      "|            Montréal|\n",
      "|         Clyde River|\n",
      "|       Prince Albert|\n",
      "|             Toronto|\n",
      "|              Dieppe|\n",
      "|             Chambly|\n",
      "|              Dawson|\n",
      "+--------------------+\n",
      "\n",
      "+--------------------+\n",
      "|               state|\n",
      "+--------------------+\n",
      "|Newfoundland and ...|\n",
      "|         Nova Scotia|\n",
      "|    British Columbia|\n",
      "|Northwest Territo...|\n",
      "|              Quebec|\n",
      "|Prince Edward Island|\n",
      "|        Saskatchewan|\n",
      "|             Ontario|\n",
      "|       New Brunswick|\n",
      "|               Yukon|\n",
      "+--------------------+\n",
      "\n",
      "+---------+\n",
      "|languages|\n",
      "+---------+\n",
      "|[English]|\n",
      "|[English]|\n",
      "|[English]|\n",
      "|[English]|\n",
      "|[English]|\n",
      "|[English]|\n",
      "|[English]|\n",
      "|[English]|\n",
      "|[English]|\n",
      "|[English]|\n",
      "|[English]|\n",
      "|[English]|\n",
      "|[English]|\n",
      "|[English]|\n",
      "|[English]|\n",
      "+---------+\n",
      "\n",
      "+--------------+\n",
      "|marital_status|\n",
      "+--------------+\n",
      "|             M|\n",
      "|             S|\n",
      "| Never Married|\n",
      "+--------------+\n",
      "\n",
      "+------+\n",
      "|gender|\n",
      "+------+\n",
      "|  male|\n",
      "|female|\n",
      "+------+\n",
      "\n"
     ]
    }
   ],
   "source": [
    "cities_count = patient_df.select(\"city\").distinct().count()\n",
    "print(f\"Number of cities: {cities_count}\")\n",
    "patient_df.select(\"city\").distinct().show()\n",
    "patient_df.select(\"state\").distinct().show()\n",
    "\n",
    "patient_df.select(\"languages\").show()\n",
    "patient_df.select(\"marital_status\").distinct().show()\n",
    "patient_df.select(\"gender\").distinct().show()"
   ]
  },
  {
   "cell_type": "markdown",
   "id": "ed021a7f-1c85-41e3-a4db-2c6b90569efb",
   "metadata": {},
   "source": [
    "After the initial exploration, the primary areas to focus on are Gender, Marital Status and Age. We expected to have socioeconomic and ethnic data in the demographics, but they were not present in the dataset. Age is calculated based on the birth year and the current date. We drop the columns that are not needed and store them in a new dataframe that is called patient_df_cleaned. "
   ]
  },
  {
   "cell_type": "code",
   "execution_count": 53,
   "id": "f9e27b10-500f-4c52-a21b-523de6882cac",
   "metadata": {},
   "outputs": [],
   "source": [
    "patient_df_cleaned = patient_df.select(\n",
    "    \"patient_id\",\n",
    "    \"gender\",\n",
    "    \"birth_date\",\n",
    "    \"state\",\n",
    "    \"postal_code\",\n",
    "    \"marital_status\",\n",
    "    \"disability_adjusted_life_years\",\n",
    "    \"quality_adjusted_life_years\",\n",
    ")"
   ]
  },
  {
   "cell_type": "markdown",
   "id": "7d13b8f6-192d-448f-b892-e910a91d532a",
   "metadata": {},
   "source": [
    "### Calculating age"
   ]
  },
  {
   "cell_type": "code",
   "execution_count": 54,
   "id": "f6ff746f-3491-4d22-90e0-944f5b9fb566",
   "metadata": {},
   "outputs": [
    {
     "name": "stdout",
     "output_type": "stream",
     "text": [
      "+--------------------+------+----------+--------------------+-----------+--------------+------------------------------+---------------------------+---+\n",
      "|          patient_id|gender|birth_date|               state|postal_code|marital_status|disability_adjusted_life_years|quality_adjusted_life_years|age|\n",
      "+--------------------+------+----------+--------------------+-----------+--------------+------------------------------+---------------------------+---+\n",
      "|37b0788d-2389-b70...|  male|1977-02-03|Newfoundland and ...|        A1A|             M|             20.28075539923084|          17.71924460076916| 47|\n",
      "|7ca297d1-94e0-806...|female|1955-05-02|Newfoundland and ...|        A5A|             S|            2.7338625827639547|         54.266137417236045| 69|\n",
      "|000002d9-3788-19b...|female|2019-05-13|         Nova Scotia|        B3K| Never Married|                           0.0|                        1.0|  5|\n",
      "|047c5aaf-d8cb-a31...|female|1965-08-20|Newfoundland and ...|        A1A|             S|           0.11930722915184863|          46.88069277084815| 59|\n",
      "|43dceade-79e7-fc0...|female|1998-02-28|    British Columbia|        V0R| Never Married|            0.2352648564246976|           21.7647351435753| 26|\n",
      "|0ff36c90-7124-356...|  male|1976-10-24|Northwest Territo...|        X1A|             S|            13.305182020937078|         30.694817979062922| 48|\n",
      "|33c6c178-b195-c16...|  male|1997-04-13|    British Columbia|        V8A| Never Married|           0.10556535972610256|         22.894434640273897| 27|\n",
      "|d59c9ad1-8a83-f0f...|  male|1950-02-18|              Quebec|        H1X|             S|          0.001375550509201...|           69.9986244494908| 74|\n",
      "|c8af2e36-e7d2-fc2...|female|1932-01-30|Prince Edward Island|        C1A|             M|             17.88266610855829|          69.11733389144172| 92|\n",
      "|8fc4d8c6-1ae5-273...|female|1948-05-10|        Saskatchewan|        S6X|             M|             4.534778979359391|          66.46522102064061| 76|\n",
      "|fbcfe59a-ee76-74e...|  male|1994-03-31|             Ontario|        M5T| Never Married|                           0.0|                        6.0| 30|\n",
      "|b4b67625-c44c-a83...|female|1921-09-16|       New Brunswick|        E1A|             M|             26.14170585712538|          71.85829414287463|103|\n",
      "|5bbda3f6-ee30-6a5...|  male|1967-05-28|              Quebec|        J3L|             M|            1.1335464915548155|          51.86645350844518| 57|\n",
      "|fb47aa81-57a0-edc...|female|2006-01-21|             Ontario|        M5T| Never Married|          0.002142737663232659|         13.997857262336767| 18|\n",
      "|3ed96c8a-2671-295...|  male|1944-03-07|               Yukon|        Y0B|             S|            12.760364834252417|         62.239635165747586| 80|\n",
      "+--------------------+------+----------+--------------------+-----------+--------------+------------------------------+---------------------------+---+\n",
      "\n"
     ]
    }
   ],
   "source": [
    "patient_df_cleaned = patient_df_cleaned.withColumn(\n",
    "    \"age\",\n",
    "    year(current_date()) - year(col(\"birth_date\"))\n",
    ")\n",
    "\n",
    "patient_df_cleaned.show()"
   ]
  },
  {
   "cell_type": "markdown",
   "id": "bd1a312d-fb6b-4fe3-a240-f824011bf913",
   "metadata": {},
   "source": [
    "### Standardizing Marital Status "
   ]
  },
  {
   "cell_type": "code",
   "execution_count": 55,
   "id": "c39c3dcf-8144-4884-a8ca-b12ac98a33fa",
   "metadata": {},
   "outputs": [
    {
     "name": "stdout",
     "output_type": "stream",
     "text": [
      "+--------------+\n",
      "|marital_status|\n",
      "+--------------+\n",
      "|       Married|\n",
      "|        Single|\n",
      "| Never Married|\n",
      "+--------------+\n",
      "\n"
     ]
    }
   ],
   "source": [
    "\n",
    "patient_df_cleaned = patient_df_cleaned.withColumn(\n",
    "    \"marital_status\",\n",
    "    trim(lower(col(\"marital_status\")))  \n",
    ")\n",
    "\n",
    "patient_df_cleaned = patient_df_cleaned.withColumn(\n",
    "    \"marital_status\",\n",
    "    when(col(\"marital_status\") == \"m\", \"Married\")\n",
    "    .when(col(\"marital_status\") == \"s\", \"Single\")\n",
    "    .when(col(\"marital_status\") == \"never married\", \"Never Married\")\n",
    "    .otherwise(\"Unknown\")  \n",
    ")\n",
    "\n",
    "patient_df_cleaned.select(\"marital_status\").distinct().show()"
   ]
  },
  {
   "cell_type": "markdown",
   "id": "9c7b9ed0-73e0-483b-98ac-6cbf1b5d2c98",
   "metadata": {},
   "source": [
    "Making sure there are no patients without a patient ID"
   ]
  },
  {
   "cell_type": "code",
   "execution_count": 56,
   "id": "beefa28b-73f9-40de-bf3e-30cf25b20bc6",
   "metadata": {},
   "outputs": [
    {
     "name": "stdout",
     "output_type": "stream",
     "text": [
      "null 'patient_id': 0\n"
     ]
    }
   ],
   "source": [
    "null_patient_id = patient_df_cleaned.filter(col(\"patient_id\").isNull()).count()\n",
    "\n",
    "print(f\"null 'patient_id': {null_patient_id}\")"
   ]
  },
  {
   "cell_type": "markdown",
   "id": "d97cad53-2009-43ea-b9c0-9437f4cab460",
   "metadata": {},
   "source": [
    "### Observations from the Patient dataset. \n",
    "\n",
    "We look at the distribution of patients by gender. We calculate the average age of patients and the std deviation between them. Then we look at the marital status of the patients. "
   ]
  },
  {
   "cell_type": "code",
   "execution_count": 57,
   "id": "665a9e05-a918-4080-8be4-3961832fc9bb",
   "metadata": {},
   "outputs": [
    {
     "name": "stdout",
     "output_type": "stream",
     "text": [
      "+------+-----+\n",
      "|gender|count|\n",
      "+------+-----+\n",
      "|  male|    7|\n",
      "|female|    8|\n",
      "+------+-----+\n",
      "\n"
     ]
    }
   ],
   "source": [
    "patient_df_cleaned.groupBy(\"gender\").agg(count(\"*\").alias(\"count\")).show()"
   ]
  },
  {
   "cell_type": "code",
   "execution_count": 58,
   "id": "f8e1557c-a3a8-4b33-a1e9-ae54ebe50562",
   "metadata": {},
   "outputs": [
    {
     "name": "stdout",
     "output_type": "stream",
     "text": [
      "+-----------------+------------------+\n",
      "|      average_age|        stddev_age|\n",
      "+-----------------+------------------+\n",
      "|54.06666666666667|28.704073047632274|\n",
      "+-----------------+------------------+\n",
      "\n"
     ]
    }
   ],
   "source": [
    "age_stats = patient_df_cleaned.select(\n",
    "    mean(\"age\").alias(\"average_age\"),\n",
    "    stddev(\"age\").alias(\"stddev_age\")\n",
    ")\n",
    "age_stats.show()"
   ]
  },
  {
   "cell_type": "code",
   "execution_count": 59,
   "id": "6e53f769-3a4d-497b-bd32-654c1ebb5f45",
   "metadata": {},
   "outputs": [
    {
     "name": "stdout",
     "output_type": "stream",
     "text": [
      "+--------------+-----+\n",
      "|marital_status|count|\n",
      "+--------------+-----+\n",
      "|       Married|    5|\n",
      "|        Single|    5|\n",
      "| Never Married|    5|\n",
      "+--------------+-----+\n",
      "\n"
     ]
    }
   ],
   "source": [
    "patient_df_cleaned.groupBy(\"marital_status\").agg(count(\"*\").alias(\"count\")).show()"
   ]
  },
  {
   "cell_type": "code",
   "execution_count": 60,
   "id": "69eb22b8-faeb-43d0-b4f4-c33de4678381",
   "metadata": {},
   "outputs": [
    {
     "name": "stdout",
     "output_type": "stream",
     "text": [
      "+------+--------------+------------------+------------------+-----+\n",
      "|gender|marital_status|average_age       |stddev_age        |count|\n",
      "+------+--------------+------------------+------------------+-----+\n",
      "|male  |Married       |52.0              |7.0710678118654755|2    |\n",
      "|female|Single        |64.0              |7.0710678118654755|2    |\n",
      "|female|Never Married |16.333333333333332|10.598742063723098|3    |\n",
      "|male  |Single        |67.33333333333333 |17.009801096230763|3    |\n",
      "|male  |Never Married |28.5              |2.1213203435596424|2    |\n",
      "|female|Married       |90.33333333333333 |13.576941236277534|3    |\n",
      "+------+--------------+------------------+------------------+-----+\n",
      "\n"
     ]
    }
   ],
   "source": [
    "patient_df_cleaned.groupBy(\"gender\", \"marital_status\").agg(\n",
    "    mean(\"age\").alias(\"average_age\"),\n",
    "    stddev(\"age\").alias(\"stddev_age\"),\n",
    "    count(\"*\").alias(\"count\")\n",
    ").show(truncate=False)"
   ]
  },
  {
   "cell_type": "markdown",
   "id": "a2a586b6-65fb-4ee9-bd55-6227f6a5433d",
   "metadata": {},
   "source": [
    "Uploading plots to S3 function"
   ]
  },
  {
   "cell_type": "code",
   "execution_count": 61,
   "id": "d4a2abfe-37c7-42e2-85a9-8f720716ef16",
   "metadata": {},
   "outputs": [],
   "source": [
    "def upload_plot_to_s3(plt, plot_name):\n",
    "    \n",
    "    buffer = io.BytesIO()\n",
    "    plt.savefig(buffer, format=\"png\")\n",
    "    buffer.seek(0)  \n",
    "    \n",
    "    key = f\"{base_key}/{plot_name}.png\"\n",
    "    \n",
    "    s3.put_object(Bucket=bucket, Key=key, Body=buffer, ContentType=\"image/png\")\n",
    "    \n",
    "    buffer.close()\n",
    "    \n",
    "    print(f\"Plot successfully uploaded to s3://{bucket}/{key}\")"
   ]
  },
  {
   "cell_type": "code",
   "execution_count": null,
   "id": "d5c0f338-73ee-479e-8be1-e6e7f1a9f0b0",
   "metadata": {},
   "outputs": [],
   "source": [
    "gender_counts = patient_df_cleaned.groupBy(\"gender\").count().toPandas()\n",
    "age_counts = patient_df_cleaned.groupBy(\"age\").count().toPandas()\n",
    "marital_status_counts = patient_df_cleaned.groupBy(\"marital_status\").count().toPandas()\n",
    "age_by_gender_marital_status = patient_df_cleaned.groupBy(\"gender\", \"marital_status\").agg(\n",
    "    mean(\"age\").alias(\"average_age\"),\n",
    "    stddev(\"age\").alias(\"stddev_age\"),\n",
    "    count(\"*\").alias(\"count\")\n",
    ").toPandas()"
   ]
  },
  {
   "cell_type": "markdown",
   "id": "a9a22c09-57bc-4461-bb8c-e3c368608baa",
   "metadata": {},
   "source": [
    "#### Gender Distribution Bar Plot"
   ]
  },
  {
   "cell_type": "code",
   "execution_count": null,
   "id": "6bc3c75b-7984-4c2d-8b88-73bc15f28abe",
   "metadata": {},
   "outputs": [],
   "source": [
    "\n",
    "plt.figure(figsize=(8, 6))\n",
    "sns.barplot(data=gender_counts, x=\"gender\", y=\"count\", palette=\"Set2\")\n",
    "plt.title(\"Gender Distribution\")\n",
    "plt.xlabel(\"Gender\")\n",
    "plt.ylabel(\"Count\")\n",
    "upload_plot_to_s3(plt, \"gender_distribution\")"
   ]
  },
  {
   "cell_type": "markdown",
   "id": "5c087083-16c5-43ed-b428-afb81d049ae2",
   "metadata": {},
   "source": [
    "#### Age Distribution (Box Plot)"
   ]
  },
  {
   "cell_type": "code",
   "execution_count": null,
   "id": "aa3644a6-561f-42ea-a13c-b1abf5e18b71",
   "metadata": {},
   "outputs": [],
   "source": [
    "plt.figure(figsize=(8, 6))\n",
    "sns.boxplot(x=\"age\", data=age_counts, color=\"lightblue\")\n",
    "plt.title(\"Age Distribution\")\n",
    "plt.xlabel(\"Age\")\n",
    "upload_plot_to_s3(plt, \"age_distribution_boxplot\")"
   ]
  },
  {
   "cell_type": "markdown",
   "id": "eaf0908f-6e5e-41be-b9fe-4d043aab256c",
   "metadata": {},
   "source": [
    "#### Marital Status Distribution Bar Plot"
   ]
  },
  {
   "cell_type": "code",
   "execution_count": null,
   "id": "10374450-cabf-40fd-a698-a5dfd83f0de9",
   "metadata": {},
   "outputs": [],
   "source": [
    "plt.figure(figsize=(8, 6))\n",
    "sns.barplot(data=marital_status_counts, x=\"marital_status\", y=\"count\", palette=\"muted\")\n",
    "plt.title(\"Marital Status Distribution\")\n",
    "plt.xlabel(\"Marital Status\")\n",
    "plt.ylabel(\"Count\")\n",
    "upload_plot_to_s3(plt, \"marital_status_distribution\")"
   ]
  },
  {
   "cell_type": "markdown",
   "id": "fdedaa85-9a33-4a07-aa1b-5370501352af",
   "metadata": {},
   "source": [
    "#### Average Age by Gender and Marital Status"
   ]
  },
  {
   "cell_type": "code",
   "execution_count": null,
   "id": "df716cd4-bf46-4f32-8614-9d8ae77d5b86",
   "metadata": {},
   "outputs": [],
   "source": [
    "plt.figure(figsize=(12, 8))\n",
    "sns.barplot(data=age_by_gender_marital_status, x=\"gender\", y=\"average_age\", hue=\"marital_status\")\n",
    "plt.title(\"Average Age by Gender and Marital Status\")\n",
    "plt.xlabel(\"Gender\")\n",
    "plt.ylabel(\"Average Age\")\n",
    "upload_plot_to_s3(plt, \"average_age_by_gender_marital_status\")"
   ]
  },
  {
   "cell_type": "markdown",
   "id": "f70062f3-7c65-468d-8540-0609bcf79584",
   "metadata": {},
   "source": [
    "# Encounters "
   ]
  },
  {
   "cell_type": "markdown",
   "id": "a21978f1-7bd6-4cc6-b419-d2e1245a970d",
   "metadata": {},
   "source": [
    "After examining the patient df and demographics, now we want to see what kind of healtchare access usually patients get. We start by examining and cleaning the df encounters.\n"
   ]
  },
  {
   "cell_type": "code",
   "execution_count": 62,
   "id": "06b2d0e4-dca2-4a92-9594-970e37bc594b",
   "metadata": {},
   "outputs": [
    {
     "name": "stdout",
     "output_type": "stream",
     "text": [
      "root\n",
      " |-- encounter_id: string (nullable = true)\n",
      " |-- status: string (nullable = true)\n",
      " |-- class_code: string (nullable = true)\n",
      " |-- type_text: string (nullable = true)\n",
      " |-- start_time: string (nullable = true)\n",
      " |-- end_time: string (nullable = true)\n",
      " |-- patient_reference: string (nullable = true)\n",
      " |-- service_provider_id: string (nullable = true)\n",
      " |-- service_provider_display: string (nullable = true)\n",
      " |-- participant_individual_display: string (nullable = true)\n",
      " |-- participant_individual_reference: string (nullable = true)\n",
      " |-- participant_period_start: string (nullable = true)\n",
      " |-- participant_period_end: string (nullable = true)\n",
      " |-- participant_type_code: string (nullable = true)\n",
      " |-- participant_type_display: string (nullable = true)\n",
      "\n",
      "+------------------------------------+--------+----------+------------------------------------------+-------------------------+-------------------------+---------------------------------------------+-------------------------------------------------------------------------------------------------------+--------------------------------+------------------------------+-----------------------------------------------------------------+-------------------------+-------------------------+---------------------+------------------------+\n",
      "|encounter_id                        |status  |class_code|type_text                                 |start_time               |end_time                 |patient_reference                            |service_provider_id                                                                                    |service_provider_display        |participant_individual_display|participant_individual_reference                                 |participant_period_start |participant_period_end   |participant_type_code|participant_type_display|\n",
      "+------------------------------------+--------+----------+------------------------------------------+-------------------------+-------------------------+---------------------------------------------+-------------------------------------------------------------------------------------------------------+--------------------------------+------------------------------+-----------------------------------------------------------------+-------------------------+-------------------------+---------------------+------------------------+\n",
      "|67994a7b-c816-6aa6-a5b2-2751672432e9|finished|AMB       |Encounter for symptom                     |1956-09-06T22:44:33-04:00|1956-09-06T22:59:33-04:00|urn:uuid:7ca297d1-94e0-8069-4cdb-50f313de9a5f|Organization?identifier=https://github.com/synthetichealth/synthea|066f5330-cbcc-335e-8c77-624a43292376|Dr. g.b. Cross Memorial Hospital|Dr. Almeta56 Carter549        |Practitioner?identifier=http://hl7.org/fhir/sid/us-npi|9999999939|1956-09-06T22:44:33-04:00|1956-09-06T22:59:33-04:00|PPRF                 |primary performer       |\n",
      "|bcd7f8fa-4ac1-196a-8d58-1d45d0962f05|finished|AMB       |Well child visit (procedure)              |1972-06-19T03:44:33-04:00|1972-06-19T03:59:33-04:00|urn:uuid:7ca297d1-94e0-8069-4cdb-50f313de9a5f|Organization?identifier=https://github.com/synthetichealth/synthea|ee4a206a-492f-3d2f-ba3e-63ac22b63ba6|Eastport Community Health Centre|Dr. Elfrieda676 Wintheiser220 |Practitioner?identifier=http://hl7.org/fhir/sid/us-npi|9999999359|1972-06-19T03:44:33-04:00|1972-06-19T03:59:33-04:00|PPRF                 |primary performer       |\n",
      "|6dd581fa-09c7-dc5e-69aa-55adad0bd6e2|finished|AMB       |Prenatal initial visit                    |1988-10-10T03:44:33-04:00|1988-10-10T03:59:33-04:00|urn:uuid:7ca297d1-94e0-8069-4cdb-50f313de9a5f|Organization?identifier=https://github.com/synthetichealth/synthea|066f5330-cbcc-335e-8c77-624a43292376|Dr. g.b. Cross Memorial Hospital|Dr. Almeta56 Carter549        |Practitioner?identifier=http://hl7.org/fhir/sid/us-npi|9999999939|1988-10-10T03:44:33-04:00|1988-10-10T03:59:33-04:00|PPRF                 |primary performer       |\n",
      "|1f0e1d43-e7c5-7064-f9a9-625601bd6cc9|finished|AMB       |Consultation for treatment                |2002-08-22T03:44:33-04:00|2002-08-22T04:24:22-04:00|urn:uuid:7ca297d1-94e0-8069-4cdb-50f313de9a5f|Organization?identifier=https://github.com/synthetichealth/synthea|066f5330-cbcc-335e-8c77-624a43292376|Dr. g.b. Cross Memorial Hospital|Dr. Almeta56 Carter549        |Practitioner?identifier=http://hl7.org/fhir/sid/us-npi|9999999939|2002-08-22T03:44:33-04:00|2002-08-22T04:24:22-04:00|PPRF                 |primary performer       |\n",
      "|9f03d2d1-4ec2-3373-4d4c-63d2bb091233|finished|AMB       |Encounter for symptom                     |2004-03-25T20:44:33-05:00|2004-03-25T20:59:33-05:00|urn:uuid:7ca297d1-94e0-8069-4cdb-50f313de9a5f|Organization?identifier=https://github.com/synthetichealth/synthea|066f5330-cbcc-335e-8c77-624a43292376|Dr. g.b. Cross Memorial Hospital|Dr. Almeta56 Carter549        |Practitioner?identifier=http://hl7.org/fhir/sid/us-npi|9999999939|2004-03-25T20:44:33-05:00|2004-03-25T20:59:33-05:00|PPRF                 |primary performer       |\n",
      "|7dea3a29-6f9c-b011-2d6c-b5ff8ef276de|finished|AMB       |General examination of patient (procedure)|2005-05-02T03:44:33-04:00|2005-05-02T03:59:33-04:00|urn:uuid:7ca297d1-94e0-8069-4cdb-50f313de9a5f|Organization?identifier=https://github.com/synthetichealth/synthea|ee4a206a-492f-3d2f-ba3e-63ac22b63ba6|Eastport Community Health Centre|Dr. Elfrieda676 Wintheiser220 |Practitioner?identifier=http://hl7.org/fhir/sid/us-npi|9999999359|2005-05-02T03:44:33-04:00|2005-05-02T03:59:33-04:00|PPRF                 |primary performer       |\n",
      "|b77709fa-8940-1d0e-1c51-7d1a7e85a005|finished|AMB       |Encounter for 'check-up'                  |2005-05-02T03:44:33-04:00|2005-05-02T03:59:33-04:00|urn:uuid:7ca297d1-94e0-8069-4cdb-50f313de9a5f|Organization?identifier=https://github.com/synthetichealth/synthea|066f5330-cbcc-335e-8c77-624a43292376|Dr. g.b. Cross Memorial Hospital|Dr. Almeta56 Carter549        |Practitioner?identifier=http://hl7.org/fhir/sid/us-npi|9999999939|2005-05-02T03:44:33-04:00|2005-05-02T03:59:33-04:00|PPRF                 |primary performer       |\n",
      "|678ef28a-670a-96b1-aaac-d445f00c1a57|finished|AMB       |Patient encounter procedure               |2005-08-22T03:44:33-04:00|2005-08-22T04:14:33-04:00|urn:uuid:7ca297d1-94e0-8069-4cdb-50f313de9a5f|Organization?identifier=https://github.com/synthetichealth/synthea|066f5330-cbcc-335e-8c77-624a43292376|Dr. g.b. Cross Memorial Hospital|Dr. Almeta56 Carter549        |Practitioner?identifier=http://hl7.org/fhir/sid/us-npi|9999999939|2005-08-22T03:44:33-04:00|2005-08-22T04:14:33-04:00|PPRF                 |primary performer       |\n",
      "|249c90d5-e858-2862-a20c-f755f85b2922|finished|AMB       |Encounter for problem                     |2006-01-19T02:44:33-05:00|2006-01-19T03:07:43-05:00|urn:uuid:7ca297d1-94e0-8069-4cdb-50f313de9a5f|Organization?identifier=https://github.com/synthetichealth/synthea|066f5330-cbcc-335e-8c77-624a43292376|Dr. g.b. Cross Memorial Hospital|Dr. Almeta56 Carter549        |Practitioner?identifier=http://hl7.org/fhir/sid/us-npi|9999999939|2006-01-19T02:44:33-05:00|2006-01-19T03:07:43-05:00|PPRF                 |primary performer       |\n",
      "|f2e9b264-652b-2e37-5d7b-ead701bfe233|finished|AMB       |Encounter for problem                     |2006-02-04T03:07:43-05:00|2006-02-04T03:22:43-05:00|urn:uuid:7ca297d1-94e0-8069-4cdb-50f313de9a5f|Organization?identifier=https://github.com/synthetichealth/synthea|066f5330-cbcc-335e-8c77-624a43292376|Dr. g.b. Cross Memorial Hospital|Dr. Almeta56 Carter549        |Practitioner?identifier=http://hl7.org/fhir/sid/us-npi|9999999939|2006-02-04T03:07:43-05:00|2006-02-04T03:22:43-05:00|PPRF                 |primary performer       |\n",
      "+------------------------------------+--------+----------+------------------------------------------+-------------------------+-------------------------+---------------------------------------------+-------------------------------------------------------------------------------------------------------+--------------------------------+------------------------------+-----------------------------------------------------------------+-------------------------+-------------------------+---------------------+------------------------+\n",
      "only showing top 10 rows\n",
      "\n"
     ]
    }
   ],
   "source": [
    "encounter_df.printSchema()\n",
    "encounter_df.show(10, truncate=False)"
   ]
  },
  {
   "cell_type": "markdown",
   "id": "fc29f9f4-1cba-4f62-a5b1-b81918fc54ed",
   "metadata": {},
   "source": [
    "We look at differennt HL7 class codes and then standardize them based on the information we got from https://terminology.hl7.org/1.0.0/ValueSet-v3-ActEncounterCode.html "
   ]
  },
  {
   "cell_type": "code",
   "execution_count": 63,
   "id": "bf1b4e87-b799-44a1-948e-fd3f1213d985",
   "metadata": {},
   "outputs": [
    {
     "name": "stdout",
     "output_type": "stream",
     "text": [
      "+----------+\n",
      "|class_code|\n",
      "+----------+\n",
      "|IMP       |\n",
      "|AMB       |\n",
      "|EMER      |\n",
      "+----------+\n",
      "\n"
     ]
    }
   ],
   "source": [
    "encounter_df.select(\"class_code\").distinct().show(truncate=False)"
   ]
  },
  {
   "cell_type": "code",
   "execution_count": 64,
   "id": "d7f27554-fe96-4b37-b2d3-0e911927521f",
   "metadata": {},
   "outputs": [
    {
     "name": "stdout",
     "output_type": "stream",
     "text": [
      "+--------+\n",
      "|status  |\n",
      "+--------+\n",
      "|finished|\n",
      "+--------+\n",
      "\n"
     ]
    }
   ],
   "source": [
    "encounter_df.select(\"status\").distinct().show(truncate=False)"
   ]
  },
  {
   "cell_type": "markdown",
   "id": "5d434759-6496-4913-a701-2904fdf1fa2d",
   "metadata": {},
   "source": [
    "We create an cleaned encounter df and convert the timestamps from strings so that we can calculate the enocunter duration for each encounter "
   ]
  },
  {
   "cell_type": "code",
   "execution_count": 65,
   "id": "bee76c25-c89d-43eb-933d-8ec5aa1d44ec",
   "metadata": {},
   "outputs": [],
   "source": [
    "encounter_df_cleaned = encounter_df\n",
    "encounter_df_cleaned = encounter_df.dropna(subset=[\"encounter_id\", \"patient_reference\", \"start_time\"])\n",
    "encounter_df_cleaned = encounter_df_cleaned.withColumn(\"start_time\", to_timestamp(\"start_time\"))\n",
    "encounter_df_cleaned = encounter_df_cleaned.withColumn(\"end_time\", to_timestamp(\"end_time\"))\n",
    "encounter_df_cleaned = encounter_df_cleaned.withColumn(\n",
    "    \"encounter_duration\",\n",
    "    (unix_timestamp(\"end_time\") - unix_timestamp(\"start_time\")) / 60  \n",
    ")"
   ]
  },
  {
   "cell_type": "code",
   "execution_count": 66,
   "id": "56f446c5-416e-40b6-8abb-81c302736baa",
   "metadata": {},
   "outputs": [],
   "source": [
    "encounter_df_cleaned = encounter_df_cleaned.withColumn(\n",
    "    \"status\",\n",
    "    when(col(\"status\") == \"finished\", \"Completed\")\n",
    "    .otherwise(\"In-Progress\")\n",
    ")"
   ]
  },
  {
   "cell_type": "code",
   "execution_count": 67,
   "id": "8d1b1bb3-5d3b-41ce-8e18-5888536f2601",
   "metadata": {
    "scrolled": true
   },
   "outputs": [
    {
     "name": "stdout",
     "output_type": "stream",
     "text": [
      "+---------+\n",
      "|   status|\n",
      "+---------+\n",
      "|Completed|\n",
      "+---------+\n",
      "\n"
     ]
    }
   ],
   "source": [
    "encounter_df_cleaned.select(\"status\").distinct().show() #Probably going to drop if only finished values"
   ]
  },
  {
   "cell_type": "code",
   "execution_count": 68,
   "id": "6617503a-6065-4710-bd52-9cbd2f869193",
   "metadata": {},
   "outputs": [
    {
     "name": "stdout",
     "output_type": "stream",
     "text": [
      "+----------+\n",
      "|class_code|\n",
      "+----------+\n",
      "|Ambulatory|\n",
      "| Emergency|\n",
      "| Inpatient|\n",
      "+----------+\n",
      "\n"
     ]
    }
   ],
   "source": [
    "encounter_df_cleaned = encounter_df_cleaned.withColumn(\n",
    "    \"class_code\",\n",
    "    when(col(\"class_code\") == \"IMP\", \"Inpatient\")\n",
    "    .when(col(\"class_code\") == \"AMB\", \"Ambulatory\")\n",
    "    .when(col(\"class_code\") == \"EMER\", \"Emergency\")\n",
    "    .otherwise(\"Unknown\")  \n",
    ")\n",
    "\n",
    "encounter_df_cleaned.select(\"class_code\").distinct().show()"
   ]
  },
  {
   "cell_type": "markdown",
   "id": "92d35a10-1c3c-4ead-a3b8-61e108a56589",
   "metadata": {},
   "source": [
    "The patient_reference is not in correct format so we have to strip the initial terms from it to match it with patient id's in patient df."
   ]
  },
  {
   "cell_type": "code",
   "execution_count": 69,
   "id": "abe4f996-5e62-4086-bc4b-9454f55e37a8",
   "metadata": {},
   "outputs": [
    {
     "name": "stdout",
     "output_type": "stream",
     "text": [
      "+------------------------------------+\n",
      "|patient_reference                   |\n",
      "+------------------------------------+\n",
      "|7ca297d1-94e0-8069-4cdb-50f313de9a5f|\n",
      "|b4b67625-c44c-a832-7aba-3a2ae02a4ef1|\n",
      "|0ff36c90-7124-3569-9591-75c6386f45f5|\n",
      "|c8af2e36-e7d2-fc26-de8c-8936c9e4705e|\n",
      "|37b0788d-2389-b706-52e0-7938f80f3f23|\n",
      "|3ed96c8a-2671-2959-57cd-b3aeb8b16af0|\n",
      "|43dceade-79e7-fc0f-8245-59ec5feb4174|\n",
      "|8fc4d8c6-1ae5-2736-1158-ef55c405db8d|\n",
      "|5bbda3f6-ee30-6a51-ebbd-19cd0a6b119d|\n",
      "|33c6c178-b195-c16c-0045-02f5f4b53073|\n",
      "|d59c9ad1-8a83-f0f0-a080-635ff42b43fa|\n",
      "|fb47aa81-57a0-edc1-185d-891ad133034b|\n",
      "|fbcfe59a-ee76-74ed-240c-a0f3c9d46c04|\n",
      "|000002d9-3788-19b0-0631-c4cad43fe513|\n",
      "|047c5aaf-d8cb-a31b-189a-f28e0efb78e0|\n",
      "+------------------------------------+\n",
      "\n",
      "+------------------------------------+---------+----------+------------------------------------------+-------------------+-------------------+------------------------------------+-------------------------------------------------------------------------------------------------------+--------------------------------+------------------------------+-----------------------------------------------------------------+-------------------------+-------------------------+---------------------+------------------------+------------------+\n",
      "|encounter_id                        |status   |class_code|type_text                                 |start_time         |end_time           |patient_reference                   |service_provider_id                                                                                    |service_provider_display        |participant_individual_display|participant_individual_reference                                 |participant_period_start |participant_period_end   |participant_type_code|participant_type_display|encounter_duration|\n",
      "+------------------------------------+---------+----------+------------------------------------------+-------------------+-------------------+------------------------------------+-------------------------------------------------------------------------------------------------------+--------------------------------+------------------------------+-----------------------------------------------------------------+-------------------------+-------------------------+---------------------+------------------------+------------------+\n",
      "|67994a7b-c816-6aa6-a5b2-2751672432e9|Completed|Ambulatory|Encounter for symptom                     |1956-09-06 19:44:33|1956-09-06 19:59:33|7ca297d1-94e0-8069-4cdb-50f313de9a5f|Organization?identifier=https://github.com/synthetichealth/synthea|066f5330-cbcc-335e-8c77-624a43292376|Dr. g.b. Cross Memorial Hospital|Dr. Almeta56 Carter549        |Practitioner?identifier=http://hl7.org/fhir/sid/us-npi|9999999939|1956-09-06T22:44:33-04:00|1956-09-06T22:59:33-04:00|PPRF                 |primary performer       |15.0              |\n",
      "|bcd7f8fa-4ac1-196a-8d58-1d45d0962f05|Completed|Ambulatory|Well child visit (procedure)              |1972-06-19 00:44:33|1972-06-19 00:59:33|7ca297d1-94e0-8069-4cdb-50f313de9a5f|Organization?identifier=https://github.com/synthetichealth/synthea|ee4a206a-492f-3d2f-ba3e-63ac22b63ba6|Eastport Community Health Centre|Dr. Elfrieda676 Wintheiser220 |Practitioner?identifier=http://hl7.org/fhir/sid/us-npi|9999999359|1972-06-19T03:44:33-04:00|1972-06-19T03:59:33-04:00|PPRF                 |primary performer       |15.0              |\n",
      "|6dd581fa-09c7-dc5e-69aa-55adad0bd6e2|Completed|Ambulatory|Prenatal initial visit                    |1988-10-10 00:44:33|1988-10-10 00:59:33|7ca297d1-94e0-8069-4cdb-50f313de9a5f|Organization?identifier=https://github.com/synthetichealth/synthea|066f5330-cbcc-335e-8c77-624a43292376|Dr. g.b. Cross Memorial Hospital|Dr. Almeta56 Carter549        |Practitioner?identifier=http://hl7.org/fhir/sid/us-npi|9999999939|1988-10-10T03:44:33-04:00|1988-10-10T03:59:33-04:00|PPRF                 |primary performer       |15.0              |\n",
      "|1f0e1d43-e7c5-7064-f9a9-625601bd6cc9|Completed|Ambulatory|Consultation for treatment                |2002-08-22 00:44:33|2002-08-22 01:24:22|7ca297d1-94e0-8069-4cdb-50f313de9a5f|Organization?identifier=https://github.com/synthetichealth/synthea|066f5330-cbcc-335e-8c77-624a43292376|Dr. g.b. Cross Memorial Hospital|Dr. Almeta56 Carter549        |Practitioner?identifier=http://hl7.org/fhir/sid/us-npi|9999999939|2002-08-22T03:44:33-04:00|2002-08-22T04:24:22-04:00|PPRF                 |primary performer       |39.81666666666667 |\n",
      "|9f03d2d1-4ec2-3373-4d4c-63d2bb091233|Completed|Ambulatory|Encounter for symptom                     |2004-03-25 17:44:33|2004-03-25 17:59:33|7ca297d1-94e0-8069-4cdb-50f313de9a5f|Organization?identifier=https://github.com/synthetichealth/synthea|066f5330-cbcc-335e-8c77-624a43292376|Dr. g.b. Cross Memorial Hospital|Dr. Almeta56 Carter549        |Practitioner?identifier=http://hl7.org/fhir/sid/us-npi|9999999939|2004-03-25T20:44:33-05:00|2004-03-25T20:59:33-05:00|PPRF                 |primary performer       |15.0              |\n",
      "|7dea3a29-6f9c-b011-2d6c-b5ff8ef276de|Completed|Ambulatory|General examination of patient (procedure)|2005-05-02 00:44:33|2005-05-02 00:59:33|7ca297d1-94e0-8069-4cdb-50f313de9a5f|Organization?identifier=https://github.com/synthetichealth/synthea|ee4a206a-492f-3d2f-ba3e-63ac22b63ba6|Eastport Community Health Centre|Dr. Elfrieda676 Wintheiser220 |Practitioner?identifier=http://hl7.org/fhir/sid/us-npi|9999999359|2005-05-02T03:44:33-04:00|2005-05-02T03:59:33-04:00|PPRF                 |primary performer       |15.0              |\n",
      "|b77709fa-8940-1d0e-1c51-7d1a7e85a005|Completed|Ambulatory|Encounter for 'check-up'                  |2005-05-02 00:44:33|2005-05-02 00:59:33|7ca297d1-94e0-8069-4cdb-50f313de9a5f|Organization?identifier=https://github.com/synthetichealth/synthea|066f5330-cbcc-335e-8c77-624a43292376|Dr. g.b. Cross Memorial Hospital|Dr. Almeta56 Carter549        |Practitioner?identifier=http://hl7.org/fhir/sid/us-npi|9999999939|2005-05-02T03:44:33-04:00|2005-05-02T03:59:33-04:00|PPRF                 |primary performer       |15.0              |\n",
      "|678ef28a-670a-96b1-aaac-d445f00c1a57|Completed|Ambulatory|Patient encounter procedure               |2005-08-22 00:44:33|2005-08-22 01:14:33|7ca297d1-94e0-8069-4cdb-50f313de9a5f|Organization?identifier=https://github.com/synthetichealth/synthea|066f5330-cbcc-335e-8c77-624a43292376|Dr. g.b. Cross Memorial Hospital|Dr. Almeta56 Carter549        |Practitioner?identifier=http://hl7.org/fhir/sid/us-npi|9999999939|2005-08-22T03:44:33-04:00|2005-08-22T04:14:33-04:00|PPRF                 |primary performer       |30.0              |\n",
      "|249c90d5-e858-2862-a20c-f755f85b2922|Completed|Ambulatory|Encounter for problem                     |2006-01-18 23:44:33|2006-01-19 00:07:43|7ca297d1-94e0-8069-4cdb-50f313de9a5f|Organization?identifier=https://github.com/synthetichealth/synthea|066f5330-cbcc-335e-8c77-624a43292376|Dr. g.b. Cross Memorial Hospital|Dr. Almeta56 Carter549        |Practitioner?identifier=http://hl7.org/fhir/sid/us-npi|9999999939|2006-01-19T02:44:33-05:00|2006-01-19T03:07:43-05:00|PPRF                 |primary performer       |23.166666666666668|\n",
      "|f2e9b264-652b-2e37-5d7b-ead701bfe233|Completed|Ambulatory|Encounter for problem                     |2006-02-04 00:07:43|2006-02-04 00:22:43|7ca297d1-94e0-8069-4cdb-50f313de9a5f|Organization?identifier=https://github.com/synthetichealth/synthea|066f5330-cbcc-335e-8c77-624a43292376|Dr. g.b. Cross Memorial Hospital|Dr. Almeta56 Carter549        |Practitioner?identifier=http://hl7.org/fhir/sid/us-npi|9999999939|2006-02-04T03:07:43-05:00|2006-02-04T03:22:43-05:00|PPRF                 |primary performer       |15.0              |\n",
      "+------------------------------------+---------+----------+------------------------------------------+-------------------+-------------------+------------------------------------+-------------------------------------------------------------------------------------------------------+--------------------------------+------------------------------+-----------------------------------------------------------------+-------------------------+-------------------------+---------------------+------------------------+------------------+\n",
      "only showing top 10 rows\n",
      "\n"
     ]
    }
   ],
   "source": [
    "encounter_df_cleaned = encounter_df_cleaned.withColumn(\n",
    "    \"patient_reference\",\n",
    "    regexp_replace(\"patient_reference\", \"urn:uuid:\", \"\")\n",
    ")\n",
    "\n",
    "encounter_df_cleaned.select(\"patient_reference\").distinct().show(truncate=False)\n",
    "encounter_df_cleaned.show(10, truncate=False)"
   ]
  },
  {
   "cell_type": "code",
   "execution_count": 70,
   "id": "0f550a3d-5f66-446b-9e5e-1df97a8481eb",
   "metadata": {},
   "outputs": [
    {
     "name": "stdout",
     "output_type": "stream",
     "text": [
      "+------------------------------------+\n",
      "|patient_reference                   |\n",
      "+------------------------------------+\n",
      "|7ca297d1-94e0-8069-4cdb-50f313de9a5f|\n",
      "|b4b67625-c44c-a832-7aba-3a2ae02a4ef1|\n",
      "|0ff36c90-7124-3569-9591-75c6386f45f5|\n",
      "|c8af2e36-e7d2-fc26-de8c-8936c9e4705e|\n",
      "|37b0788d-2389-b706-52e0-7938f80f3f23|\n",
      "|3ed96c8a-2671-2959-57cd-b3aeb8b16af0|\n",
      "|43dceade-79e7-fc0f-8245-59ec5feb4174|\n",
      "|8fc4d8c6-1ae5-2736-1158-ef55c405db8d|\n",
      "|5bbda3f6-ee30-6a51-ebbd-19cd0a6b119d|\n",
      "|33c6c178-b195-c16c-0045-02f5f4b53073|\n",
      "|d59c9ad1-8a83-f0f0-a080-635ff42b43fa|\n",
      "|fb47aa81-57a0-edc1-185d-891ad133034b|\n",
      "|fbcfe59a-ee76-74ed-240c-a0f3c9d46c04|\n",
      "|000002d9-3788-19b0-0631-c4cad43fe513|\n",
      "|047c5aaf-d8cb-a31b-189a-f28e0efb78e0|\n",
      "+------------------------------------+\n",
      "\n"
     ]
    }
   ],
   "source": [
    "encounter_df_cleaned.select(\"patient_reference\").distinct().count()\n",
    "encounter_df_cleaned.select(\"patient_reference\").distinct().show(truncate=False)"
   ]
  },
  {
   "cell_type": "markdown",
   "id": "b392d121-3c2e-493d-8b22-617dcf08df4d",
   "metadata": {},
   "source": [
    "We join the cleaned encounter df with cleaned patient df."
   ]
  },
  {
   "cell_type": "code",
   "execution_count": 71,
   "id": "581f202a-155c-4cfb-b1cf-42797d3be66e",
   "metadata": {},
   "outputs": [],
   "source": [
    "encounter_patient_df = encounter_df_cleaned.join(\n",
    "    patient_df_cleaned,\n",
    "    encounter_df_cleaned.patient_reference == patient_df_cleaned.patient_id,\n",
    "    how=\"inner\"\n",
    ")"
   ]
  },
  {
   "cell_type": "code",
   "execution_count": 72,
   "id": "67351b23-f5ff-47e3-acc2-ef7ce339eb2a",
   "metadata": {},
   "outputs": [
    {
     "name": "stdout",
     "output_type": "stream",
     "text": [
      "root\n",
      " |-- encounter_id: string (nullable = true)\n",
      " |-- status: string (nullable = false)\n",
      " |-- class_code: string (nullable = false)\n",
      " |-- type_text: string (nullable = true)\n",
      " |-- start_time: timestamp (nullable = true)\n",
      " |-- end_time: timestamp (nullable = true)\n",
      " |-- patient_reference: string (nullable = true)\n",
      " |-- service_provider_id: string (nullable = true)\n",
      " |-- service_provider_display: string (nullable = true)\n",
      " |-- participant_individual_display: string (nullable = true)\n",
      " |-- participant_individual_reference: string (nullable = true)\n",
      " |-- participant_period_start: string (nullable = true)\n",
      " |-- participant_period_end: string (nullable = true)\n",
      " |-- participant_type_code: string (nullable = true)\n",
      " |-- participant_type_display: string (nullable = true)\n",
      " |-- encounter_duration: double (nullable = true)\n",
      " |-- patient_id: string (nullable = true)\n",
      " |-- gender: string (nullable = true)\n",
      " |-- birth_date: string (nullable = true)\n",
      " |-- state: string (nullable = true)\n",
      " |-- postal_code: string (nullable = true)\n",
      " |-- marital_status: string (nullable = false)\n",
      " |-- disability_adjusted_life_years: double (nullable = true)\n",
      " |-- quality_adjusted_life_years: double (nullable = true)\n",
      " |-- age: integer (nullable = true)\n",
      "\n",
      "+------------------------------------+---------+----------+------------------------------------------+-------------------+-------------------+------------------------------------+-------------------------------------------------------------------------------------------------------+--------------------------------+------------------------------+-----------------------------------------------------------------+-------------------------+-------------------------+---------------------+------------------------+------------------+------------------------------------+------+----------+-------------------------+-----------+--------------+------------------------------+---------------------------+---+\n",
      "|encounter_id                        |status   |class_code|type_text                                 |start_time         |end_time           |patient_reference                   |service_provider_id                                                                                    |service_provider_display        |participant_individual_display|participant_individual_reference                                 |participant_period_start |participant_period_end   |participant_type_code|participant_type_display|encounter_duration|patient_id                          |gender|birth_date|state                    |postal_code|marital_status|disability_adjusted_life_years|quality_adjusted_life_years|age|\n",
      "+------------------------------------+---------+----------+------------------------------------------+-------------------+-------------------+------------------------------------+-------------------------------------------------------------------------------------------------------+--------------------------------+------------------------------+-----------------------------------------------------------------+-------------------------+-------------------------+---------------------+------------------------+------------------+------------------------------------+------+----------+-------------------------+-----------+--------------+------------------------------+---------------------------+---+\n",
      "|67994a7b-c816-6aa6-a5b2-2751672432e9|Completed|Ambulatory|Encounter for symptom                     |1956-09-06 19:44:33|1956-09-06 19:59:33|7ca297d1-94e0-8069-4cdb-50f313de9a5f|Organization?identifier=https://github.com/synthetichealth/synthea|066f5330-cbcc-335e-8c77-624a43292376|Dr. g.b. Cross Memorial Hospital|Dr. Almeta56 Carter549        |Practitioner?identifier=http://hl7.org/fhir/sid/us-npi|9999999939|1956-09-06T22:44:33-04:00|1956-09-06T22:59:33-04:00|PPRF                 |primary performer       |15.0              |7ca297d1-94e0-8069-4cdb-50f313de9a5f|female|1955-05-02|Newfoundland and Labrador|A5A        |Single        |2.7338625827639547            |54.266137417236045         |69 |\n",
      "|bcd7f8fa-4ac1-196a-8d58-1d45d0962f05|Completed|Ambulatory|Well child visit (procedure)              |1972-06-19 00:44:33|1972-06-19 00:59:33|7ca297d1-94e0-8069-4cdb-50f313de9a5f|Organization?identifier=https://github.com/synthetichealth/synthea|ee4a206a-492f-3d2f-ba3e-63ac22b63ba6|Eastport Community Health Centre|Dr. Elfrieda676 Wintheiser220 |Practitioner?identifier=http://hl7.org/fhir/sid/us-npi|9999999359|1972-06-19T03:44:33-04:00|1972-06-19T03:59:33-04:00|PPRF                 |primary performer       |15.0              |7ca297d1-94e0-8069-4cdb-50f313de9a5f|female|1955-05-02|Newfoundland and Labrador|A5A        |Single        |2.7338625827639547            |54.266137417236045         |69 |\n",
      "|6dd581fa-09c7-dc5e-69aa-55adad0bd6e2|Completed|Ambulatory|Prenatal initial visit                    |1988-10-10 00:44:33|1988-10-10 00:59:33|7ca297d1-94e0-8069-4cdb-50f313de9a5f|Organization?identifier=https://github.com/synthetichealth/synthea|066f5330-cbcc-335e-8c77-624a43292376|Dr. g.b. Cross Memorial Hospital|Dr. Almeta56 Carter549        |Practitioner?identifier=http://hl7.org/fhir/sid/us-npi|9999999939|1988-10-10T03:44:33-04:00|1988-10-10T03:59:33-04:00|PPRF                 |primary performer       |15.0              |7ca297d1-94e0-8069-4cdb-50f313de9a5f|female|1955-05-02|Newfoundland and Labrador|A5A        |Single        |2.7338625827639547            |54.266137417236045         |69 |\n",
      "|1f0e1d43-e7c5-7064-f9a9-625601bd6cc9|Completed|Ambulatory|Consultation for treatment                |2002-08-22 00:44:33|2002-08-22 01:24:22|7ca297d1-94e0-8069-4cdb-50f313de9a5f|Organization?identifier=https://github.com/synthetichealth/synthea|066f5330-cbcc-335e-8c77-624a43292376|Dr. g.b. Cross Memorial Hospital|Dr. Almeta56 Carter549        |Practitioner?identifier=http://hl7.org/fhir/sid/us-npi|9999999939|2002-08-22T03:44:33-04:00|2002-08-22T04:24:22-04:00|PPRF                 |primary performer       |39.81666666666667 |7ca297d1-94e0-8069-4cdb-50f313de9a5f|female|1955-05-02|Newfoundland and Labrador|A5A        |Single        |2.7338625827639547            |54.266137417236045         |69 |\n",
      "|9f03d2d1-4ec2-3373-4d4c-63d2bb091233|Completed|Ambulatory|Encounter for symptom                     |2004-03-25 17:44:33|2004-03-25 17:59:33|7ca297d1-94e0-8069-4cdb-50f313de9a5f|Organization?identifier=https://github.com/synthetichealth/synthea|066f5330-cbcc-335e-8c77-624a43292376|Dr. g.b. Cross Memorial Hospital|Dr. Almeta56 Carter549        |Practitioner?identifier=http://hl7.org/fhir/sid/us-npi|9999999939|2004-03-25T20:44:33-05:00|2004-03-25T20:59:33-05:00|PPRF                 |primary performer       |15.0              |7ca297d1-94e0-8069-4cdb-50f313de9a5f|female|1955-05-02|Newfoundland and Labrador|A5A        |Single        |2.7338625827639547            |54.266137417236045         |69 |\n",
      "|7dea3a29-6f9c-b011-2d6c-b5ff8ef276de|Completed|Ambulatory|General examination of patient (procedure)|2005-05-02 00:44:33|2005-05-02 00:59:33|7ca297d1-94e0-8069-4cdb-50f313de9a5f|Organization?identifier=https://github.com/synthetichealth/synthea|ee4a206a-492f-3d2f-ba3e-63ac22b63ba6|Eastport Community Health Centre|Dr. Elfrieda676 Wintheiser220 |Practitioner?identifier=http://hl7.org/fhir/sid/us-npi|9999999359|2005-05-02T03:44:33-04:00|2005-05-02T03:59:33-04:00|PPRF                 |primary performer       |15.0              |7ca297d1-94e0-8069-4cdb-50f313de9a5f|female|1955-05-02|Newfoundland and Labrador|A5A        |Single        |2.7338625827639547            |54.266137417236045         |69 |\n",
      "|b77709fa-8940-1d0e-1c51-7d1a7e85a005|Completed|Ambulatory|Encounter for 'check-up'                  |2005-05-02 00:44:33|2005-05-02 00:59:33|7ca297d1-94e0-8069-4cdb-50f313de9a5f|Organization?identifier=https://github.com/synthetichealth/synthea|066f5330-cbcc-335e-8c77-624a43292376|Dr. g.b. Cross Memorial Hospital|Dr. Almeta56 Carter549        |Practitioner?identifier=http://hl7.org/fhir/sid/us-npi|9999999939|2005-05-02T03:44:33-04:00|2005-05-02T03:59:33-04:00|PPRF                 |primary performer       |15.0              |7ca297d1-94e0-8069-4cdb-50f313de9a5f|female|1955-05-02|Newfoundland and Labrador|A5A        |Single        |2.7338625827639547            |54.266137417236045         |69 |\n",
      "|678ef28a-670a-96b1-aaac-d445f00c1a57|Completed|Ambulatory|Patient encounter procedure               |2005-08-22 00:44:33|2005-08-22 01:14:33|7ca297d1-94e0-8069-4cdb-50f313de9a5f|Organization?identifier=https://github.com/synthetichealth/synthea|066f5330-cbcc-335e-8c77-624a43292376|Dr. g.b. Cross Memorial Hospital|Dr. Almeta56 Carter549        |Practitioner?identifier=http://hl7.org/fhir/sid/us-npi|9999999939|2005-08-22T03:44:33-04:00|2005-08-22T04:14:33-04:00|PPRF                 |primary performer       |30.0              |7ca297d1-94e0-8069-4cdb-50f313de9a5f|female|1955-05-02|Newfoundland and Labrador|A5A        |Single        |2.7338625827639547            |54.266137417236045         |69 |\n",
      "|249c90d5-e858-2862-a20c-f755f85b2922|Completed|Ambulatory|Encounter for problem                     |2006-01-18 23:44:33|2006-01-19 00:07:43|7ca297d1-94e0-8069-4cdb-50f313de9a5f|Organization?identifier=https://github.com/synthetichealth/synthea|066f5330-cbcc-335e-8c77-624a43292376|Dr. g.b. Cross Memorial Hospital|Dr. Almeta56 Carter549        |Practitioner?identifier=http://hl7.org/fhir/sid/us-npi|9999999939|2006-01-19T02:44:33-05:00|2006-01-19T03:07:43-05:00|PPRF                 |primary performer       |23.166666666666668|7ca297d1-94e0-8069-4cdb-50f313de9a5f|female|1955-05-02|Newfoundland and Labrador|A5A        |Single        |2.7338625827639547            |54.266137417236045         |69 |\n",
      "|f2e9b264-652b-2e37-5d7b-ead701bfe233|Completed|Ambulatory|Encounter for problem                     |2006-02-04 00:07:43|2006-02-04 00:22:43|7ca297d1-94e0-8069-4cdb-50f313de9a5f|Organization?identifier=https://github.com/synthetichealth/synthea|066f5330-cbcc-335e-8c77-624a43292376|Dr. g.b. Cross Memorial Hospital|Dr. Almeta56 Carter549        |Practitioner?identifier=http://hl7.org/fhir/sid/us-npi|9999999939|2006-02-04T03:07:43-05:00|2006-02-04T03:22:43-05:00|PPRF                 |primary performer       |15.0              |7ca297d1-94e0-8069-4cdb-50f313de9a5f|female|1955-05-02|Newfoundland and Labrador|A5A        |Single        |2.7338625827639547            |54.266137417236045         |69 |\n",
      "+------------------------------------+---------+----------+------------------------------------------+-------------------+-------------------+------------------------------------+-------------------------------------------------------------------------------------------------------+--------------------------------+------------------------------+-----------------------------------------------------------------+-------------------------+-------------------------+---------------------+------------------------+------------------+------------------------------------+------+----------+-------------------------+-----------+--------------+------------------------------+---------------------------+---+\n",
      "only showing top 10 rows\n",
      "\n"
     ]
    }
   ],
   "source": [
    "encounter_patient_df.printSchema()\n",
    "encounter_patient_df.show(10, truncate=False)"
   ]
  },
  {
   "cell_type": "markdown",
   "id": "138b7bb5-407e-4e84-a462-464daa7a4aeb",
   "metadata": {},
   "source": [
    "Dropping the unnecessary columns from the encounter_patient_df"
   ]
  },
  {
   "cell_type": "code",
   "execution_count": 73,
   "id": "2e1fd70e-266c-4c7c-aa39-037ae47e2e17",
   "metadata": {},
   "outputs": [],
   "source": [
    "encounter_patient_df = encounter_patient_df.drop(\n",
    "    \"service_provider_id\",\n",
    "    \"service_provider_display\",\n",
    "    \"participant_individual_display\",\n",
    "    \"participant_individual_reference\",\n",
    "    \"participant_period_start\",\n",
    "    \"participant_period_end\",\n",
    "    \"participant_type_code\",\n",
    "    \"participant_type_display\"\n",
    ")"
   ]
  },
  {
   "cell_type": "code",
   "execution_count": 74,
   "id": "535fbfad-b73d-4b14-9740-aeee8a43c209",
   "metadata": {},
   "outputs": [
    {
     "name": "stdout",
     "output_type": "stream",
     "text": [
      "Number of overlapping records: 887\n"
     ]
    }
   ],
   "source": [
    "overlap_count = encounter_df_cleaned.join(\n",
    "    patient_df_cleaned,\n",
    "    encounter_df_cleaned.patient_reference == patient_df_cleaned.patient_id,\n",
    "    how=\"inner\"\n",
    ").count()\n",
    "print(f\"Number of overlapping records: {overlap_count}\")"
   ]
  },
  {
   "cell_type": "code",
   "execution_count": 75,
   "id": "73ae4152-8963-499d-aec4-7b39417af4bd",
   "metadata": {},
   "outputs": [
    {
     "name": "stdout",
     "output_type": "stream",
     "text": [
      "+------+----------+-----+\n",
      "|gender|class_code|count|\n",
      "+------+----------+-----+\n",
      "|female| Inpatient|   33|\n",
      "|female| Emergency|   24|\n",
      "|female|Ambulatory|  479|\n",
      "|  male|Ambulatory|  333|\n",
      "|  male| Emergency|    9|\n",
      "|  male| Inpatient|    9|\n",
      "+------+----------+-----+\n",
      "\n"
     ]
    }
   ],
   "source": [
    "encounter_patient_df.groupBy(\"gender\", \"class_code\").count().show()"
   ]
  },
  {
   "cell_type": "markdown",
   "id": "1ccdfabb-c92f-4533-8e89-0b0bd2360478",
   "metadata": {},
   "source": [
    "#### Gender vs Class Code Count"
   ]
  },
  {
   "cell_type": "code",
   "execution_count": null,
   "id": "db8aac76-2df9-4986-b869-81d1fead55b7",
   "metadata": {},
   "outputs": [],
   "source": [
    "gender_class_code_counts = encounter_patient_df.groupBy(\"gender\", \"class_code\").count().toPandas()\n",
    "\n",
    "pivot_data = gender_class_code_counts.pivot(index=\"gender\", columns=\"class_code\", values=\"count\").fillna(0)\n",
    "\n",
    "\n",
    "pivot_data.plot(kind=\"bar\", stacked=True, figsize=(10, 6), colormap=\"Set2\")\n",
    "plt.title(\"Gender vs Class Code Encounter Distribution\")\n",
    "plt.xlabel(\"Gender\")\n",
    "plt.ylabel(\"Count\")\n",
    "plt.legend(title=\"Class Code\")\n",
    "plt.tight_layout()\n",
    "plt.show()\n",
    "upload_plot_to_s3(plt, \"Gender_vs_Class_Code_Count\")"
   ]
  },
  {
   "cell_type": "code",
   "execution_count": 76,
   "id": "ec07b879-1dd6-4b61-b75c-42d1f1ddd1ca",
   "metadata": {},
   "outputs": [
    {
     "name": "stdout",
     "output_type": "stream",
     "text": [
      "+------+-----------------+\n",
      "|gender|     avg_duration|\n",
      "+------+-----------------+\n",
      "|female| 76265.7761504975|\n",
      "|  male|90.67079772079772|\n",
      "+------+-----------------+\n",
      "\n"
     ]
    }
   ],
   "source": [
    "encounter_patient_df.groupBy(\"gender\").agg(mean(\"encounter_duration\").alias(\"avg_duration\")).show()"
   ]
  },
  {
   "cell_type": "markdown",
   "id": "58753ba9-91c6-4fa4-b6c5-d54652e18faf",
   "metadata": {},
   "source": [
    "#### Gender vs Average Encounter Duration Plot"
   ]
  },
  {
   "cell_type": "code",
   "execution_count": null,
   "id": "0682788a-ee43-4e1e-8dd8-4a9cd6c2f20b",
   "metadata": {},
   "outputs": [],
   "source": [
    "gender_avg_duration = encounter_patient_df.groupBy(\"gender\").agg(mean(\"encounter_duration\").alias(\"avg_duration\")).toPandas()\n",
    "\n",
    "plt.figure(figsize=(8, 6))\n",
    "sns.barplot(data=gender_avg_duration, x=\"gender\", y=\"avg_duration\", palette=\"Set2\")\n",
    "plt.title(\"Average Encounter Duration by Gender\")\n",
    "plt.xlabel(\"Gender\")\n",
    "plt.ylabel(\"Average Duration\")\n",
    "plt.tight_layout()\n",
    "plt.show()\n",
    "upload_plot_to_s3(plt, \"Gender_vs_Avg_Encounter_Duration\")"
   ]
  },
  {
   "cell_type": "markdown",
   "id": "b3ecc791-3344-4f5a-b021-4fc3f961a657",
   "metadata": {},
   "source": [
    "Creating Age groups to use ages as a classifier in our analysis "
   ]
  },
  {
   "cell_type": "code",
   "execution_count": 77,
   "id": "952b05b2-0c01-4c27-91d6-b4428c411ec4",
   "metadata": {},
   "outputs": [
    {
     "name": "stdout",
     "output_type": "stream",
     "text": [
      "+-----------+------------------+\n",
      "|  age_group|      avg_duration|\n",
      "+-----------+------------------+\n",
      "|     Senior| 78647.56153846154|\n",
      "|Middle Aged| 45.78261802575108|\n",
      "|Young Adult|21.976933333333335|\n",
      "|      Child|              15.0|\n",
      "+-----------+------------------+\n",
      "\n"
     ]
    }
   ],
   "source": [
    "from pyspark.sql.functions import when\n",
    "\n",
    "encounter_patient_df = encounter_patient_df.withColumn(\n",
    "    \"age_group\",\n",
    "    when(col(\"age\") < 18, \"Child\")\n",
    "    .when((col(\"age\") >= 18) & (col(\"age\") < 40), \"Young Adult\")\n",
    "    .when((col(\"age\") >= 40) & (col(\"age\") < 65), \"Middle Aged\")\n",
    "    .otherwise(\"Senior\")\n",
    ")\n",
    "\n",
    "encounter_patient_df.groupBy(\"age_group\").agg(mean(\"encounter_duration\").alias(\"avg_duration\")).show()\n"
   ]
  },
  {
   "cell_type": "markdown",
   "id": "74b1b8c6-03f1-4538-9559-661319471b01",
   "metadata": {},
   "source": [
    "#### Age Group vs Average Encounter Duration Plot"
   ]
  },
  {
   "cell_type": "code",
   "execution_count": null,
   "id": "aa514675-2a94-4ea9-993a-e18bc7213f0f",
   "metadata": {},
   "outputs": [],
   "source": [
    "age_group_avg_duration = encounter_patient_df.groupBy(\"age_group\").agg(mean(\"encounter_duration\").alias(\"avg_duration\")).toPandas()\n",
    "\n",
    "plt.figure(figsize=(8, 6))\n",
    "sns.lineplot(data=age_group_avg_duration, x=\"age_group\", y=\"avg_duration\", marker=\"o\", palette=\"Set2\")\n",
    "plt.title(\"Average Encounter Duration by Age Group\")\n",
    "plt.xlabel(\"Age Group\")\n",
    "plt.ylabel(\"Average Duration\")\n",
    "plt.tight_layout()\n",
    "plt.show()\n",
    "upload_plot_to_s3(plt, \"AgeGroup_vs_Average_Encounter_Duration\")\n"
   ]
  },
  {
   "cell_type": "code",
   "execution_count": 41,
   "id": "b814f586-fb18-4bb7-af94-e87b360c5ac4",
   "metadata": {},
   "outputs": [
    {
     "name": "stdout",
     "output_type": "stream",
     "text": [
      "+------------------------------------+---------+----------+--------------------------------------------+-------------------+-------------------+------------------------------------+------------------+------------------------------------+------+----------+-------------------------+-----------+--------------+------------------------------+---------------------------+---+---------+\n",
      "|encounter_id                        |status   |class_code|type_text                                   |start_time         |end_time           |patient_reference                   |encounter_duration|patient_id                          |gender|birth_date|state                    |postal_code|marital_status|disability_adjusted_life_years|quality_adjusted_life_years|age|age_group|\n",
      "+------------------------------------+---------+----------+--------------------------------------------+-------------------+-------------------+------------------------------------+------------------+------------------------------------+------+----------+-------------------------+-----------+--------------+------------------------------+---------------------------+---+---------+\n",
      "|84006e4b-e560-32c3-c48c-77e5e699cb2a|Completed|Inpatient |Encounter for symptom (procedure)           |1941-11-23 19:28:00|2019-06-14 20:28:00|b4b67625-c44c-a832-7aba-3a2ae02a4ef1|4.079088E7        |b4b67625-c44c-a832-7aba-3a2ae02a4ef1|female|1921-09-16|New Brunswick            |E1A        |Married       |26.14170585712538             |71.85829414287463          |103|Senior   |\n",
      "|53bdb3f8-f4f9-bf9f-60ae-50d9456d364b|Completed|Inpatient |Hospital admission for isolation (procedure)|2020-03-08 19:19:51|2020-03-16 19:50:55|c8af2e36-e7d2-fc26-de8c-8936c9e4705e|11551.066666666668|c8af2e36-e7d2-fc26-de8c-8936c9e4705e|female|1932-01-30|Prince Edward Island     |C1A        |Married       |17.88266610855829             |69.11733389144172          |92 |Senior   |\n",
      "|fe3905f7-9ac9-36f7-d85d-6abcce262dfa|Completed|Emergency |Encounter for problem                       |2006-01-21 05:18:11|2006-01-28 14:18:11|8fc4d8c6-1ae5-2736-1158-ef55c405db8d|10620.0           |8fc4d8c6-1ae5-2736-1158-ef55c405db8d|female|1948-05-10|Saskatchewan             |S6X        |Married       |4.534778979359391             |66.46522102064061          |76 |Senior   |\n",
      "|4a355fc6-1bba-d01d-4236-d2a16237b505|Completed|Inpatient |Admission to intensive care unit (procedure)|2020-02-17 06:44:48|2020-02-23 11:58:11|3ed96c8a-2671-2959-57cd-b3aeb8b16af0|8953.383333333333 |3ed96c8a-2671-2959-57cd-b3aeb8b16af0|male  |1944-03-07|Yukon                    |Y0B        |Single        |12.760364834252417            |62.239635165747586         |80 |Senior   |\n",
      "|e7b2e83a-319d-b8cd-2759-f3cf4da46a44|Completed|Inpatient |Hospital admission for isolation (procedure)|2020-02-18 06:04:53|2020-02-23 10:37:58|8fc4d8c6-1ae5-2736-1158-ef55c405db8d|7473.083333333333 |8fc4d8c6-1ae5-2736-1158-ef55c405db8d|female|1948-05-10|Saskatchewan             |S6X        |Married       |4.534778979359391             |66.46522102064061          |76 |Senior   |\n",
      "|caf87e99-66ba-18e9-8654-ec06e5369479|Completed|Inpatient |Encounter Inpatient                         |1947-07-31 03:48:18|1947-08-04 11:49:34|c8af2e36-e7d2-fc26-de8c-8936c9e4705e|6241.266666666666 |c8af2e36-e7d2-fc26-de8c-8936c9e4705e|female|1932-01-30|Prince Edward Island     |C1A        |Married       |17.88266610855829             |69.11733389144172          |92 |Senior   |\n",
      "|65a33d8e-3888-729d-de60-c8d279801226|Completed|Inpatient |Hospital admission for isolation (procedure)|2020-02-13 06:18:04|2020-02-17 06:44:48|3ed96c8a-2671-2959-57cd-b3aeb8b16af0|5786.733333333334 |3ed96c8a-2671-2959-57cd-b3aeb8b16af0|male  |1944-03-07|Yukon                    |Y0B        |Single        |12.760364834252417            |62.239635165747586         |80 |Senior   |\n",
      "|ff5e7bb6-3c45-23fb-8427-7be49c62dab2|Completed|Inpatient |Admission to intensive care unit (procedure)|2019-05-22 18:19:55|2019-05-23 19:26:54|c8af2e36-e7d2-fc26-de8c-8936c9e4705e|1506.9833333333333|c8af2e36-e7d2-fc26-de8c-8936c9e4705e|female|1932-01-30|Prince Edward Island     |C1A        |Married       |17.88266610855829             |69.11733389144172          |92 |Senior   |\n",
      "|98e03bab-9a5b-fd11-814f-623d22a04871|Completed|Inpatient |Admission to intensive care unit (procedure)|2010-01-16 00:55:16|2010-01-17 01:56:19|7ca297d1-94e0-8069-4cdb-50f313de9a5f|1501.05           |7ca297d1-94e0-8069-4cdb-50f313de9a5f|female|1955-05-02|Newfoundland and Labrador|A5A        |Single        |2.7338625827639547            |54.266137417236045         |69 |Senior   |\n",
      "|cde2af48-e4cb-3992-aae5-f88e79071420|Completed|Inpatient |Admission to intensive care unit (procedure)|2011-09-19 02:56:19|2011-09-20 03:48:15|7ca297d1-94e0-8069-4cdb-50f313de9a5f|1491.9333333333334|7ca297d1-94e0-8069-4cdb-50f313de9a5f|female|1955-05-02|Newfoundland and Labrador|A5A        |Single        |2.7338625827639547            |54.266137417236045         |69 |Senior   |\n",
      "+------------------------------------+---------+----------+--------------------------------------------+-------------------+-------------------+------------------------------------+------------------+------------------------------------+------+----------+-------------------------+-----------+--------------+------------------------------+---------------------------+---+---------+\n",
      "only showing top 10 rows\n",
      "\n"
     ]
    }
   ],
   "source": [
    "encounter_patient_df.orderBy(col(\"encounter_duration\").desc()).show(10, truncate=False)\n"
   ]
  },
  {
   "cell_type": "markdown",
   "id": "e9450402-91e2-4f5f-b930-86c30b207091",
   "metadata": {},
   "source": [
    "Some patients may be in the hospital for a significant long period of time, we are trying to remove these outliers from our dataset. "
   ]
  },
  {
   "cell_type": "code",
   "execution_count": 42,
   "id": "29e50f0c-b6c6-4173-a5a2-fd9231358718",
   "metadata": {},
   "outputs": [
    {
     "name": "stdout",
     "output_type": "stream",
     "text": [
      "+------------------------------------+---------+----------+--------------------------------------------+-------------------+-------------------+------------------------------------+------------------+------------------------------------+------+----------+-------------------------+-----------+--------------+------------------------------+---------------------------+---+---------+\n",
      "|encounter_id                        |status   |class_code|type_text                                   |start_time         |end_time           |patient_reference                   |encounter_duration|patient_id                          |gender|birth_date|state                    |postal_code|marital_status|disability_adjusted_life_years|quality_adjusted_life_years|age|age_group|\n",
      "+------------------------------------+---------+----------+--------------------------------------------+-------------------+-------------------+------------------------------------+------------------+------------------------------------+------+----------+-------------------------+-----------+--------------+------------------------------+---------------------------+---+---------+\n",
      "|84006e4b-e560-32c3-c48c-77e5e699cb2a|Completed|Inpatient |Encounter for symptom (procedure)           |1941-11-23 19:28:00|2019-06-14 20:28:00|b4b67625-c44c-a832-7aba-3a2ae02a4ef1|4.079088E7        |b4b67625-c44c-a832-7aba-3a2ae02a4ef1|female|1921-09-16|New Brunswick            |E1A        |Married       |26.14170585712538             |71.85829414287463          |103|Senior   |\n",
      "|53bdb3f8-f4f9-bf9f-60ae-50d9456d364b|Completed|Inpatient |Hospital admission for isolation (procedure)|2020-03-08 19:19:51|2020-03-16 19:50:55|c8af2e36-e7d2-fc26-de8c-8936c9e4705e|11551.066666666668|c8af2e36-e7d2-fc26-de8c-8936c9e4705e|female|1932-01-30|Prince Edward Island     |C1A        |Married       |17.88266610855829             |69.11733389144172          |92 |Senior   |\n",
      "|4a355fc6-1bba-d01d-4236-d2a16237b505|Completed|Inpatient |Admission to intensive care unit (procedure)|2020-02-17 06:44:48|2020-02-23 11:58:11|3ed96c8a-2671-2959-57cd-b3aeb8b16af0|8953.383333333333 |3ed96c8a-2671-2959-57cd-b3aeb8b16af0|male  |1944-03-07|Yukon                    |Y0B        |Single        |12.760364834252417            |62.239635165747586         |80 |Senior   |\n",
      "|e7b2e83a-319d-b8cd-2759-f3cf4da46a44|Completed|Inpatient |Hospital admission for isolation (procedure)|2020-02-18 06:04:53|2020-02-23 10:37:58|8fc4d8c6-1ae5-2736-1158-ef55c405db8d|7473.083333333333 |8fc4d8c6-1ae5-2736-1158-ef55c405db8d|female|1948-05-10|Saskatchewan             |S6X        |Married       |4.534778979359391             |66.46522102064061          |76 |Senior   |\n",
      "|caf87e99-66ba-18e9-8654-ec06e5369479|Completed|Inpatient |Encounter Inpatient                         |1947-07-31 03:48:18|1947-08-04 11:49:34|c8af2e36-e7d2-fc26-de8c-8936c9e4705e|6241.266666666666 |c8af2e36-e7d2-fc26-de8c-8936c9e4705e|female|1932-01-30|Prince Edward Island     |C1A        |Married       |17.88266610855829             |69.11733389144172          |92 |Senior   |\n",
      "|65a33d8e-3888-729d-de60-c8d279801226|Completed|Inpatient |Hospital admission for isolation (procedure)|2020-02-13 06:18:04|2020-02-17 06:44:48|3ed96c8a-2671-2959-57cd-b3aeb8b16af0|5786.733333333334 |3ed96c8a-2671-2959-57cd-b3aeb8b16af0|male  |1944-03-07|Yukon                    |Y0B        |Single        |12.760364834252417            |62.239635165747586         |80 |Senior   |\n",
      "|ff5e7bb6-3c45-23fb-8427-7be49c62dab2|Completed|Inpatient |Admission to intensive care unit (procedure)|2019-05-22 18:19:55|2019-05-23 19:26:54|c8af2e36-e7d2-fc26-de8c-8936c9e4705e|1506.9833333333333|c8af2e36-e7d2-fc26-de8c-8936c9e4705e|female|1932-01-30|Prince Edward Island     |C1A        |Married       |17.88266610855829             |69.11733389144172          |92 |Senior   |\n",
      "|98e03bab-9a5b-fd11-814f-623d22a04871|Completed|Inpatient |Admission to intensive care unit (procedure)|2010-01-16 00:55:16|2010-01-17 01:56:19|7ca297d1-94e0-8069-4cdb-50f313de9a5f|1501.05           |7ca297d1-94e0-8069-4cdb-50f313de9a5f|female|1955-05-02|Newfoundland and Labrador|A5A        |Single        |2.7338625827639547            |54.266137417236045         |69 |Senior   |\n",
      "|cde2af48-e4cb-3992-aae5-f88e79071420|Completed|Inpatient |Admission to intensive care unit (procedure)|2011-09-19 02:56:19|2011-09-20 03:48:15|7ca297d1-94e0-8069-4cdb-50f313de9a5f|1491.9333333333334|7ca297d1-94e0-8069-4cdb-50f313de9a5f|female|1955-05-02|Newfoundland and Labrador|A5A        |Single        |2.7338625827639547            |54.266137417236045         |69 |Senior   |\n",
      "|583133c2-99d2-caae-ed78-b11999c129da|Completed|Inpatient |Admission to intensive care unit (procedure)|2009-01-19 00:07:43|2009-01-20 00:55:16|7ca297d1-94e0-8069-4cdb-50f313de9a5f|1487.55           |7ca297d1-94e0-8069-4cdb-50f313de9a5f|female|1955-05-02|Newfoundland and Labrador|A5A        |Single        |2.7338625827639547            |54.266137417236045         |69 |Senior   |\n",
      "+------------------------------------+---------+----------+--------------------------------------------+-------------------+-------------------+------------------------------------+------------------+------------------------------------+------+----------+-------------------------+-----------+--------------+------------------------------+---------------------------+---+---------+\n",
      "only showing top 10 rows\n",
      "\n"
     ]
    }
   ],
   "source": [
    "\n",
    "inpatient_long_stay = encounter_patient_df.filter((col(\"class_code\") == \"Inpatient\") & (col(\"encounter_duration\") > 1440))\n",
    "\n",
    "\n",
    "inpatient_long_stay.orderBy(col(\"encounter_duration\").desc()).show(10, truncate=False)\n"
   ]
  },
  {
   "cell_type": "markdown",
   "id": "28f16fc6-6954-4f91-849e-a8dab3043647",
   "metadata": {},
   "source": [
    "Finding out avg and max duration of different types of encounters "
   ]
  },
  {
   "cell_type": "code",
   "execution_count": 43,
   "id": "81de3be4-eb82-490c-8f89-1186e8066e22",
   "metadata": {},
   "outputs": [
    {
     "name": "stdout",
     "output_type": "stream",
     "text": [
      "+----------+------------------+-----------------+\n",
      "|class_code|      avg_duration|     max_duration|\n",
      "+----------+------------------+-----------------+\n",
      "|Ambulatory|18.077073070607554|99.93333333333334|\n",
      "| Emergency| 382.1515151515151|          10620.0|\n",
      "| Inpatient| 973404.5686507936|       4.079088E7|\n",
      "+----------+------------------+-----------------+\n",
      "\n"
     ]
    }
   ],
   "source": [
    "\n",
    "from pyspark.sql.functions import max\n",
    "\n",
    "encounter_patient_df.groupBy(\"class_code\").agg(\n",
    "    mean(\"encounter_duration\").alias(\"avg_duration\"),\n",
    "    max(\"encounter_duration\").alias(\"max_duration\")\n",
    ").show()\n",
    "\n"
   ]
  },
  {
   "cell_type": "code",
   "execution_count": 44,
   "id": "b430fb1a-6644-42f4-81a6-19cf27866c83",
   "metadata": {},
   "outputs": [
    {
     "name": "stdout",
     "output_type": "stream",
     "text": [
      "+------------------------------------+---------+----------+------------------------------------------+-------------------+-------------------+------------------------------------+------------------+------------------------------------+------+----------+-------------------------+-----------+--------------+------------------------------+---------------------------+---+---------+\n",
      "|encounter_id                        |status   |class_code|type_text                                 |start_time         |end_time           |patient_reference                   |encounter_duration|patient_id                          |gender|birth_date|state                    |postal_code|marital_status|disability_adjusted_life_years|quality_adjusted_life_years|age|age_group|\n",
      "+------------------------------------+---------+----------+------------------------------------------+-------------------+-------------------+------------------------------------+------------------+------------------------------------+------+----------+-------------------------+-----------+--------------+------------------------------+---------------------------+---+---------+\n",
      "|67994a7b-c816-6aa6-a5b2-2751672432e9|Completed|Ambulatory|Encounter for symptom                     |1956-09-06 19:44:33|1956-09-06 19:59:33|7ca297d1-94e0-8069-4cdb-50f313de9a5f|15.0              |7ca297d1-94e0-8069-4cdb-50f313de9a5f|female|1955-05-02|Newfoundland and Labrador|A5A        |Single        |2.7338625827639547            |54.266137417236045         |69 |Senior   |\n",
      "|bcd7f8fa-4ac1-196a-8d58-1d45d0962f05|Completed|Ambulatory|Well child visit (procedure)              |1972-06-19 00:44:33|1972-06-19 00:59:33|7ca297d1-94e0-8069-4cdb-50f313de9a5f|15.0              |7ca297d1-94e0-8069-4cdb-50f313de9a5f|female|1955-05-02|Newfoundland and Labrador|A5A        |Single        |2.7338625827639547            |54.266137417236045         |69 |Senior   |\n",
      "|6dd581fa-09c7-dc5e-69aa-55adad0bd6e2|Completed|Ambulatory|Prenatal initial visit                    |1988-10-10 00:44:33|1988-10-10 00:59:33|7ca297d1-94e0-8069-4cdb-50f313de9a5f|15.0              |7ca297d1-94e0-8069-4cdb-50f313de9a5f|female|1955-05-02|Newfoundland and Labrador|A5A        |Single        |2.7338625827639547            |54.266137417236045         |69 |Senior   |\n",
      "|1f0e1d43-e7c5-7064-f9a9-625601bd6cc9|Completed|Ambulatory|Consultation for treatment                |2002-08-22 00:44:33|2002-08-22 01:24:22|7ca297d1-94e0-8069-4cdb-50f313de9a5f|39.81666666666667 |7ca297d1-94e0-8069-4cdb-50f313de9a5f|female|1955-05-02|Newfoundland and Labrador|A5A        |Single        |2.7338625827639547            |54.266137417236045         |69 |Senior   |\n",
      "|9f03d2d1-4ec2-3373-4d4c-63d2bb091233|Completed|Ambulatory|Encounter for symptom                     |2004-03-25 17:44:33|2004-03-25 17:59:33|7ca297d1-94e0-8069-4cdb-50f313de9a5f|15.0              |7ca297d1-94e0-8069-4cdb-50f313de9a5f|female|1955-05-02|Newfoundland and Labrador|A5A        |Single        |2.7338625827639547            |54.266137417236045         |69 |Senior   |\n",
      "|7dea3a29-6f9c-b011-2d6c-b5ff8ef276de|Completed|Ambulatory|General examination of patient (procedure)|2005-05-02 00:44:33|2005-05-02 00:59:33|7ca297d1-94e0-8069-4cdb-50f313de9a5f|15.0              |7ca297d1-94e0-8069-4cdb-50f313de9a5f|female|1955-05-02|Newfoundland and Labrador|A5A        |Single        |2.7338625827639547            |54.266137417236045         |69 |Senior   |\n",
      "|b77709fa-8940-1d0e-1c51-7d1a7e85a005|Completed|Ambulatory|Encounter for 'check-up'                  |2005-05-02 00:44:33|2005-05-02 00:59:33|7ca297d1-94e0-8069-4cdb-50f313de9a5f|15.0              |7ca297d1-94e0-8069-4cdb-50f313de9a5f|female|1955-05-02|Newfoundland and Labrador|A5A        |Single        |2.7338625827639547            |54.266137417236045         |69 |Senior   |\n",
      "|678ef28a-670a-96b1-aaac-d445f00c1a57|Completed|Ambulatory|Patient encounter procedure               |2005-08-22 00:44:33|2005-08-22 01:14:33|7ca297d1-94e0-8069-4cdb-50f313de9a5f|30.0              |7ca297d1-94e0-8069-4cdb-50f313de9a5f|female|1955-05-02|Newfoundland and Labrador|A5A        |Single        |2.7338625827639547            |54.266137417236045         |69 |Senior   |\n",
      "|249c90d5-e858-2862-a20c-f755f85b2922|Completed|Ambulatory|Encounter for problem                     |2006-01-18 23:44:33|2006-01-19 00:07:43|7ca297d1-94e0-8069-4cdb-50f313de9a5f|23.166666666666668|7ca297d1-94e0-8069-4cdb-50f313de9a5f|female|1955-05-02|Newfoundland and Labrador|A5A        |Single        |2.7338625827639547            |54.266137417236045         |69 |Senior   |\n",
      "|f2e9b264-652b-2e37-5d7b-ead701bfe233|Completed|Ambulatory|Encounter for problem                     |2006-02-04 00:07:43|2006-02-04 00:22:43|7ca297d1-94e0-8069-4cdb-50f313de9a5f|15.0              |7ca297d1-94e0-8069-4cdb-50f313de9a5f|female|1955-05-02|Newfoundland and Labrador|A5A        |Single        |2.7338625827639547            |54.266137417236045         |69 |Senior   |\n",
      "+------------------------------------+---------+----------+------------------------------------------+-------------------+-------------------+------------------------------------+------------------+------------------------------------+------+----------+-------------------------+-----------+--------------+------------------------------+---------------------------+---+---------+\n",
      "only showing top 10 rows\n",
      "\n"
     ]
    }
   ],
   "source": [
    "filtered_encounter_patient_df = encounter_patient_df.filter(\n",
    "    (col(\"encounter_duration\") <= 86400) | (col(\"class_code\") != \"Inpatient\")\n",
    ")\n",
    "\n",
    "filtered_encounter_patient_df.show(10, truncate=False)\n",
    "\n",
    "#86400 is equal to 60 days in the hospital "
   ]
  },
  {
   "cell_type": "markdown",
   "id": "487777ee-7f2c-4870-b20d-d08118ba0b3a",
   "metadata": {},
   "source": [
    "Creating a seperate df for outliers"
   ]
  },
  {
   "cell_type": "code",
   "execution_count": 46,
   "id": "2b0cbd38-6289-4d72-89a3-c748d9b86105",
   "metadata": {},
   "outputs": [
    {
     "name": "stdout",
     "output_type": "stream",
     "text": [
      "+--------------------+---------+----------+--------------------+-------------------+-------------------+--------------------+------------------+--------------------+------+----------+-------------+-----------+--------------+------------------------------+---------------------------+---+---------+\n",
      "|        encounter_id|   status|class_code|           type_text|         start_time|           end_time|   patient_reference|encounter_duration|          patient_id|gender|birth_date|        state|postal_code|marital_status|disability_adjusted_life_years|quality_adjusted_life_years|age|age_group|\n",
      "+--------------------+---------+----------+--------------------+-------------------+-------------------+--------------------+------------------+--------------------+------+----------+-------------+-----------+--------------+------------------------------+---------------------------+---+---------+\n",
      "|84006e4b-e560-32c...|Completed| Inpatient|Encounter for sym...|1941-11-23 19:28:00|2019-06-14 20:28:00|b4b67625-c44c-a83...|        4.079088E7|b4b67625-c44c-a83...|female|1921-09-16|New Brunswick|        E1A|       Married|             26.14170585712538|          71.85829414287463|103|   Senior|\n",
      "+--------------------+---------+----------+--------------------+-------------------+-------------------+--------------------+------------------+--------------------+------+----------+-------------+-----------+--------------+------------------------------+---------------------------+---+---------+\n",
      "\n"
     ]
    }
   ],
   "source": [
    "outliers_df = encounter_patient_df.filter(col(\"encounter_duration\") > 86400)\n",
    "outliers_df.show()"
   ]
  },
  {
   "cell_type": "code",
   "execution_count": 47,
   "id": "437e2ee5-331d-4d2f-8d8c-c874965e335a",
   "metadata": {},
   "outputs": [
    {
     "name": "stdout",
     "output_type": "stream",
     "text": [
      "+----------+------------------+\n",
      "|class_code|      avg_duration|\n",
      "+----------+------------------+\n",
      "|Ambulatory|18.077073070607554|\n",
      "| Emergency| 382.1515151515151|\n",
      "| Inpatient|2246.6313008130082|\n",
      "+----------+------------------+\n",
      "\n"
     ]
    }
   ],
   "source": [
    "filtered_encounter_patient_df.groupBy(\"class_code\").agg(\n",
    "    mean(\"encounter_duration\").alias(\"avg_duration\")\n",
    ").show()\n"
   ]
  },
  {
   "cell_type": "markdown",
   "id": "dd6328e7-1e90-43a5-831a-68e0a968495a",
   "metadata": {},
   "source": [
    "#### Class Code vs Average Encounter Duration with Filtered Data Plot"
   ]
  },
  {
   "cell_type": "code",
   "execution_count": null,
   "id": "5e978379-ceb3-4313-a322-4112ea2db597",
   "metadata": {},
   "outputs": [],
   "source": [
    "class_code_duration_stats = encounter_patient_df.groupBy(\"class_code\").agg(\n",
    "    mean(\"encounter_duration\").alias(\"avg_duration\"),\n",
    "    max(\"encounter_duration\").alias(\"max_duration\")\n",
    ").toPandas()\n",
    "\n",
    "plt.figure(figsize=(10, 6))\n",
    "sns.scatterplot(data=class_code_duration_stats, x=\"avg_duration\", y=\"max_duration\", hue=\"class_code\", palette=\"Set2\", s=100)\n",
    "plt.title(\"Average vs Max Encounter Duration by Class Code\")\n",
    "plt.xlabel(\"Average Duration\")\n",
    "plt.ylabel(\"Max Duration\")\n",
    "plt.legend(title=\"Class Code\")\n",
    "plt.tight_layout()\n",
    "plt.show()\n",
    "upload_plot_to_s3(plt, \"Class_Code_vs_Average_Encounter_Duration_with_Filtered_Data\")"
   ]
  },
  {
   "cell_type": "code",
   "execution_count": 48,
   "id": "d8f72537-7255-438d-9f14-a14f06e6d900",
   "metadata": {},
   "outputs": [
    {
     "name": "stdout",
     "output_type": "stream",
     "text": [
      "+----------+-----------+------------------+\n",
      "|class_code|  age_group|      avg_duration|\n",
      "+----------+-----------+------------------+\n",
      "|Ambulatory|      Child|              15.0|\n",
      "|Ambulatory|Middle Aged| 20.39170403587444|\n",
      "|Ambulatory|     Senior|16.520860448300798|\n",
      "|Ambulatory|Young Adult|20.000980392156865|\n",
      "| Emergency|Middle Aged|              60.0|\n",
      "| Emergency|     Senior| 565.9047619047619|\n",
      "| Emergency|Young Adult|61.166666666666664|\n",
      "| Inpatient|Middle Aged|            1440.0|\n",
      "| Inpatient|     Senior| 2333.834684684685|\n",
      "+----------+-----------+------------------+\n",
      "\n"
     ]
    }
   ],
   "source": [
    "# Group by age_group and class_code with filtered data\n",
    "filtered_encounter_patient_df.groupBy(\"class_code\", \"age_group\").agg(\n",
    "    mean(\"encounter_duration\").alias(\"avg_duration\")\n",
    ").orderBy(\"class_code\", \"age_group\").show()\n"
   ]
  },
  {
   "cell_type": "markdown",
   "id": "de588051-9e16-4154-90c1-7a2c541d4227",
   "metadata": {},
   "source": [
    "#### Heatmap for Class Code, Age Group vs Average Encounter Duration"
   ]
  },
  {
   "cell_type": "code",
   "execution_count": null,
   "id": "e94b0ed3-7571-4bd2-80c3-9888ce304460",
   "metadata": {},
   "outputs": [],
   "source": [
    "class_code_age_group_avg_duration = filtered_encounter_patient_df.groupBy(\"class_code\", \"age_group\").agg(\n",
    "    mean(\"encounter_duration\").alias(\"avg_duration\")\n",
    ").orderBy(\"class_code\", \"age_group\").toPandas()\n",
    "\n",
    "pivot_data = class_code_age_group_avg_duration.pivot(\n",
    "    index=\"class_code\",  \n",
    "    columns=\"age_group\",  \n",
    "    values=\"avg_duration\"  \n",
    ").fillna(0)\n",
    "\n",
    "plt.figure(figsize=(12, 6))\n",
    "sns.heatmap(pivot_data, annot=True, cmap=\"coolwarm\", fmt=\".1f\")\n",
    "plt.title(\"Average Encounter Duration by Class Code and Age Group (Heatmap)\")\n",
    "plt.xlabel(\"Age Group\")\n",
    "plt.ylabel(\"Class Code\")\n",
    "plt.tight_layout()\n",
    "plt.show()\n",
    "upload_plot_to_s3(plt, \"Heatmap_for_Class_Code_Age_Group_Average_Encounter\")"
   ]
  },
  {
   "cell_type": "code",
   "execution_count": 78,
   "id": "710deed8-21d2-44d8-bf1a-84cdebf71be1",
   "metadata": {},
   "outputs": [
    {
     "name": "stdout",
     "output_type": "stream",
     "text": [
      "+----------+-----------+------+------------------+\n",
      "|class_code|age_group  |gender|avg_duration      |\n",
      "+----------+-----------+------+------------------+\n",
      "|Ambulatory|Child      |female|15.0              |\n",
      "|Ambulatory|Middle Aged|female|15.0              |\n",
      "|Ambulatory|Middle Aged|male  |20.618457943925236|\n",
      "|Ambulatory|Senior     |female|16.398496905393458|\n",
      "|Ambulatory|Senior     |male  |17.070039682539683|\n",
      "|Ambulatory|Young Adult|female|21.500198412698417|\n",
      "|Ambulatory|Young Adult|male  |16.402857142857144|\n",
      "|Emergency |Middle Aged|female|60.0              |\n",
      "|Emergency |Middle Aged|male  |60.0              |\n",
      "|Emergency |Senior     |female|616.7894736842105 |\n",
      "|Emergency |Senior     |male  |82.5              |\n",
      "|Emergency |Young Adult|female|61.75             |\n",
      "|Emergency |Young Adult|male  |60.0              |\n",
      "|Inpatient |Middle Aged|male  |1440.0            |\n",
      "|Inpatient |Senior     |female|2102.867708333333 |\n",
      "|Inpatient |Senior     |male  |3812.0233333333335|\n",
      "+----------+-----------+------+------------------+\n",
      "\n"
     ]
    }
   ],
   "source": [
    "# Group by class_code, age_group, and gender to calculate average duration\n",
    "filtered_encounter_patient_df.groupBy(\"class_code\", \"age_group\", \"gender\").agg(\n",
    "    mean(\"encounter_duration\").alias(\"avg_duration\")\n",
    ").orderBy(\"class_code\", \"age_group\", \"gender\").show(truncate=False)\n"
   ]
  },
  {
   "cell_type": "markdown",
   "id": "bff6f286-ab91-456a-abef-0ae53bb1bdf2",
   "metadata": {},
   "source": [
    "#### Heatmap for Class Code, Age Group, Gender vs Average Encounter Duration"
   ]
  },
  {
   "cell_type": "code",
   "execution_count": null,
   "id": "e06fc6f1-f027-4a46-8fda-a3f9a04d2127",
   "metadata": {},
   "outputs": [],
   "source": [
    "class_code_age_group_gender_avg_duration = filtered_encounter_patient_df.groupBy(\"class_code\", \"age_group\", \"gender\").agg(\n",
    "    mean(\"encounter_duration\").alias(\"avg_duration\")\n",
    ").orderBy(\"class_code\", \"age_group\", \"gender\").toPandas()\n",
    "\n",
    "pivot_data = class_code_age_group_gender_avg_duration.pivot_table(index=[\"class_code\", \"age_group\"], columns=\"gender\", values=\"avg_duration\").fillna(0)\n",
    "\n",
    "plt.figure(figsize=(12, 8))\n",
    "sns.heatmap(pivot_data, annot=True, cmap=\"coolwarm\", fmt=\".1f\")\n",
    "plt.title(\"Average Encounter Duration by Class Code, Age Group, and Gender (Heatmap)\")\n",
    "plt.xlabel(\"Gender\")\n",
    "plt.ylabel(\"Class Code and Age Group\")\n",
    "plt.tight_layout()\n",
    "plt.show()\n",
    "upload_plot_to_s3(plt, \"Heatmap_for_Class_Code_Age_Group_Gender_Average_Encounter\")"
   ]
  },
  {
   "cell_type": "code",
   "execution_count": 79,
   "id": "e91f2b0b-a7d2-4cd2-a5fa-397a72eabf34",
   "metadata": {},
   "outputs": [
    {
     "name": "stdout",
     "output_type": "stream",
     "text": [
      "+--------------+------------------+\n",
      "|marital_status|      avg_duration|\n",
      "+--------------+------------------+\n",
      "|        Single| 89.80153631284917|\n",
      "|       Married|214.13807106598986|\n",
      "| Never Married|21.508333333333333|\n",
      "+--------------+------------------+\n",
      "\n"
     ]
    }
   ],
   "source": [
    "filtered_encounter_patient_df.groupBy(\"marital_status\").agg(\n",
    "    mean(\"encounter_duration\").alias(\"avg_duration\")\n",
    ").show()"
   ]
  },
  {
   "cell_type": "code",
   "execution_count": 80,
   "id": "0b24ce33-f75f-4822-bb60-a0b213e5e2ff",
   "metadata": {},
   "outputs": [
    {
     "name": "stdout",
     "output_type": "stream",
     "text": [
      "+--------------+------+------------------+\n",
      "|marital_status|gender|      avg_duration|\n",
      "+--------------+------+------------------+\n",
      "|       Married|female| 288.8011320754717|\n",
      "|       Married|  male| 60.76046511627907|\n",
      "| Never Married|female|22.556872852233678|\n",
      "| Never Married|  male| 18.75945945945946|\n",
      "|        Single|female| 51.18901734104047|\n",
      "|        Single|  male|125.90945945945946|\n",
      "+--------------+------+------------------+\n",
      "\n"
     ]
    }
   ],
   "source": [
    "filtered_encounter_patient_df.groupBy(\"marital_status\", \"gender\").agg(\n",
    "    mean(\"encounter_duration\").alias(\"avg_duration\")\n",
    ").orderBy(\"marital_status\", \"gender\").show()"
   ]
  },
  {
   "cell_type": "markdown",
   "id": "ac1a004d-b1e6-4520-9cda-eecb6e001a06",
   "metadata": {},
   "source": [
    "#### Marital Status vs Gender vs Average Encounter Duration"
   ]
  },
  {
   "cell_type": "code",
   "execution_count": null,
   "id": "c958bd52-f0a3-43fa-9bb9-1a74c0fe8935",
   "metadata": {},
   "outputs": [],
   "source": [
    "marital_gender_avg_duration = filtered_encounter_patient_df.groupBy(\"marital_status\", \"gender\").agg(\n",
    "    mean(\"encounter_duration\").alias(\"avg_duration\")\n",
    ").orderBy(\"marital_status\", \"gender\").toPandas()\n",
    "\n",
    "plt.figure(figsize=(10, 6))\n",
    "sns.barplot(data=marital_gender_avg_duration, x=\"marital_status\", y=\"avg_duration\", hue=\"gender\", palette=\"Set2\")\n",
    "plt.title(\"Average Encounter Duration by Marital Status and Gender\")\n",
    "plt.xlabel(\"Marital Status\")\n",
    "plt.ylabel(\"Average Duration\")\n",
    "plt.tight_layout()\n",
    "plt.show()\n",
    "upload_plot_to_s3(plt, \"MaritalStatusvsGendervsAverageEncounter\")\n"
   ]
  },
  {
   "cell_type": "code",
   "execution_count": 81,
   "id": "3b1c80d1-12fd-4b6c-a114-fe76a9a87fe0",
   "metadata": {},
   "outputs": [
    {
     "name": "stdout",
     "output_type": "stream",
     "text": [
      "+--------------+------+-----------+------------------+\n",
      "|marital_status|gender|age_group  |avg_duration      |\n",
      "+--------------+------+-----------+------------------+\n",
      "|Married       |female|Senior     |288.8011320754717 |\n",
      "|Married       |male  |Middle Aged|60.76046511627907 |\n",
      "|Never Married |female|Child      |15.0              |\n",
      "|Never Married |female|Young Adult|23.32973484848485 |\n",
      "|Never Married |male  |Young Adult|18.75945945945946 |\n",
      "|Single        |female|Middle Aged|19.5              |\n",
      "|Single        |female|Senior     |53.13312883435583 |\n",
      "|Single        |male  |Middle Aged|28.023936170212767|\n",
      "|Single        |male  |Senior     |227.02197802197801|\n",
      "+--------------+------+-----------+------------------+\n",
      "\n"
     ]
    }
   ],
   "source": [
    "filtered_encounter_patient_df.groupBy(\"marital_status\", \"gender\", \"age_group\").agg(\n",
    "    mean(\"encounter_duration\").alias(\"avg_duration\")\n",
    ").orderBy(\"marital_status\", \"gender\", \"age_group\").show(truncate=False)"
   ]
  },
  {
   "cell_type": "markdown",
   "id": "0ba78539-639e-4b6c-a4f0-cf2c5d780dde",
   "metadata": {},
   "source": [
    "#### Marital Status, Gender, Age Group vs Average Encounter Duration"
   ]
  },
  {
   "cell_type": "code",
   "execution_count": null,
   "id": "e2810012-4036-4b38-8f3f-c54241a83f46",
   "metadata": {},
   "outputs": [],
   "source": [
    "marital_gender_age_avg_duration = filtered_encounter_patient_df.groupBy(\"marital_status\", \"gender\", \"age_group\").agg(\n",
    "    mean(\"encounter_duration\").alias(\"avg_duration\")\n",
    ").orderBy(\"marital_status\", \"gender\", \"age_group\").toPandas()\n",
    "\n",
    "# Plotting FacetGrid to compare avg_duration for each combination of the categorical variables\n",
    "sns.set(style=\"whitegrid\")\n",
    "g = sns.catplot(\n",
    "    data=marital_gender_age_avg_duration, \n",
    "    x=\"marital_status\", \n",
    "    y=\"avg_duration\", \n",
    "    hue=\"gender\", \n",
    "    col=\"age_group\",  # Facet by age group\n",
    "    kind=\"bar\", \n",
    "    height=6, \n",
    "    aspect=1.2, \n",
    "    palette=\"Set2\"\n",
    ")\n",
    "g.set_axis_labels(\"Marital Status\", \"Average Encounter Duration\")\n",
    "g.set_titles(\"Age Group: {col_name}\")\n",
    "plt.tight_layout()\n",
    "plt.show()\n",
    "upload_plot_to_s3(plt, \"MaritalStatusGenderAgeGroupvsAverageEncounterDuration\")"
   ]
  },
  {
   "cell_type": "markdown",
   "id": "8684fbba-aa36-40ea-9c7b-8a25082d5a2e",
   "metadata": {},
   "source": [
    "# Explanation of Benefits (Claims)"
   ]
  },
  {
   "cell_type": "markdown",
   "id": "3eaafe7c-1c61-4a36-8af8-ed02855f9950",
   "metadata": {},
   "source": [
    "Explanation of benefits is the most important df since it contains and links claims, encounters and patient demographics. We can find out how much someone spent on their encounters. So we start by examining Explanation of benefits data frame, trying to clean and extract the payment information for encounters."
   ]
  },
  {
   "cell_type": "code",
   "execution_count": 86,
   "id": "7f70602d-69f0-40ca-b594-0712706613fb",
   "metadata": {},
   "outputs": [
    {
     "name": "stdout",
     "output_type": "stream",
     "text": [
      "root\n",
      " |-- eob_id: string (nullable = true)\n",
      " |-- identifier_claim_id: string (nullable = true)\n",
      " |-- identifier_claim_group: string (nullable = true)\n",
      " |-- status: string (nullable = true)\n",
      " |-- code: array (nullable = true)\n",
      " |    |-- element: string (containsNull = true)\n",
      " |-- use: string (nullable = true)\n",
      " |-- patient_reference: string (nullable = true)\n",
      " |-- billable_period_start: string (nullable = true)\n",
      " |-- billable_period_end: string (nullable = true)\n",
      " |-- insurer_display: string (nullable = true)\n",
      " |-- provider_reference: string (nullable = true)\n",
      " |-- referral_reference: string (nullable = true)\n",
      " |-- claim_reference: string (nullable = true)\n",
      " |-- outcome: string (nullable = true)\n",
      " |-- care_team_provider_reference: string (nullable = true)\n",
      " |-- care_team_role: string (nullable = true)\n",
      " |-- insurance_coverage_reference: string (nullable = true)\n",
      " |-- insurance_coverage_display: string (nullable = true)\n",
      " |-- insurance_focal: boolean (nullable = true)\n",
      " |-- item_category_display: string (nullable = true)\n",
      " |-- item_service_code: string (nullable = true)\n",
      " |-- item_service_description: string (nullable = true)\n",
      " |-- item_net_value: double (nullable = true)\n",
      " |-- item_net_currency: string (nullable = true)\n",
      " |-- location_description: string (nullable = true)\n",
      " |-- service_period_start: string (nullable = true)\n",
      " |-- service_period_end: string (nullable = true)\n",
      " |-- adjudication: array (nullable = true)\n",
      " |    |-- element: struct (containsNull = true)\n",
      " |    |    |-- amount: struct (nullable = true)\n",
      " |    |    |    |-- currency: string (nullable = true)\n",
      " |    |    |    |-- value: double (nullable = true)\n",
      " |    |    |-- category: struct (nullable = true)\n",
      " |    |    |    |-- coding: array (nullable = true)\n",
      " |    |    |    |    |-- element: struct (containsNull = true)\n",
      " |    |    |    |    |    |-- code: string (nullable = true)\n",
      " |    |    |    |    |    |-- display: string (nullable = true)\n",
      " |    |    |    |    |    |-- system: string (nullable = true)\n",
      " |-- total_amount: double (nullable = true)\n",
      " |-- total_currency: string (nullable = true)\n",
      " |-- payment_amount: double (nullable = true)\n",
      " |-- payment_currency: string (nullable = true)\n",
      " |-- created_date: string (nullable = true)\n",
      "\n",
      "+------------------------------------+------------------------------------+----------------------+------+---------------+-----+---------------------------------------------+-------------------------+-------------------------+---------------+-----------------------------------------------------------------+------------------+---------------------------------------------+--------+-----------------------------------------------------------------+-------------------------+----------------------------+--------------------------+---------------+---------------------+-----------------+---------------------------------------+--------------+-----------------+------------------------------+-------------------------+-------------------------+------------+------------+--------------+--------------+----------------+-------------------------+\n",
      "|eob_id                              |identifier_claim_id                 |identifier_claim_group|status|code           |use  |patient_reference                            |billable_period_start    |billable_period_end      |insurer_display|provider_reference                                               |referral_reference|claim_reference                              |outcome |care_team_provider_reference                                     |care_team_role           |insurance_coverage_reference|insurance_coverage_display|insurance_focal|item_category_display|item_service_code|item_service_description               |item_net_value|item_net_currency|location_description          |service_period_start     |service_period_end       |adjudication|total_amount|total_currency|payment_amount|payment_currency|created_date             |\n",
      "+------------------------------------+------------------------------------+----------------------+------+---------------+-----+---------------------------------------------+-------------------------+-------------------------+---------------+-----------------------------------------------------------------+------------------+---------------------------------------------+--------+-----------------------------------------------------------------+-------------------------+----------------------------+--------------------------+---------------+---------------------+-----------------+---------------------------------------+--------------+-----------------+------------------------------+-------------------------+-------------------------+------------+------------+--------------+--------------+----------------+-------------------------+\n",
      "|009ea376-8aff-d92c-e5f0-3b6980a2fd29|ea1baf46-35ce-a1fa-c8ff-b244e831ca29|99999999999           |active|[institutional]|claim|urn:uuid:7ca297d1-94e0-8069-4cdb-50f313de9a5f|1956-09-06T22:59:33-04:00|1957-09-06T22:59:33-04:00|NO_INSURANCE   |Practitioner?identifier=http://hl7.org/fhir/sid/us-npi|9999999939|#referral         |urn:uuid:ea1baf46-35ce-a1fa-c8ff-b244e831ca29|complete|Practitioner?identifier=http://hl7.org/fhir/sid/us-npi|9999999939|Primary Care Practitioner|#coverage                   |NO_INSURANCE              |true           |Medical care         |185345009        |Encounter for symptom                  |null          |null             |Inpatient Hospital            |1956-09-06T22:44:33-04:00|1956-09-06T22:59:33-04:00|null        |null        |null          |0.0           |USD             |1956-09-06T22:59:33-04:00|\n",
      "|009ea376-8aff-d92c-e5f0-3b6980a2fd29|ea1baf46-35ce-a1fa-c8ff-b244e831ca29|99999999999           |active|[institutional]|claim|urn:uuid:7ca297d1-94e0-8069-4cdb-50f313de9a5f|1956-09-06T22:59:33-04:00|1957-09-06T22:59:33-04:00|NO_INSURANCE   |Practitioner?identifier=http://hl7.org/fhir/sid/us-npi|9999999939|#referral         |urn:uuid:ea1baf46-35ce-a1fa-c8ff-b244e831ca29|complete|Practitioner?identifier=http://hl7.org/fhir/sid/us-npi|9999999939|Primary Care Practitioner|#coverage                   |NO_INSURANCE              |true           |Medical care         |40055000         |Chronic sinusitis (disorder)           |null          |null             |Inpatient Hospital            |1956-09-06T22:44:33-04:00|1956-09-06T22:59:33-04:00|null        |null        |null          |0.0           |USD             |1956-09-06T22:59:33-04:00|\n",
      "|009ea376-8aff-d92c-e5f0-3b6980a2fd29|ea1baf46-35ce-a1fa-c8ff-b244e831ca29|99999999999           |active|[institutional]|claim|urn:uuid:7ca297d1-94e0-8069-4cdb-50f313de9a5f|1956-09-06T22:59:33-04:00|1957-09-06T22:59:33-04:00|NO_INSURANCE   |Practitioner?identifier=http://hl7.org/fhir/sid/us-npi|9999999939|#referral         |urn:uuid:ea1baf46-35ce-a1fa-c8ff-b244e831ca29|complete|Practitioner?identifier=http://hl7.org/fhir/sid/us-npi|9999999939|Primary Care Practitioner|#coverage                   |NO_INSURANCE              |true           |Medical care         |185345009        |Encounter for symptom                  |null          |null             |Inpatient Hospital            |1956-09-06T22:44:33-04:00|1956-09-06T22:59:33-04:00|null        |null        |null          |0.0           |USD             |1956-09-06T22:59:33-04:00|\n",
      "|009ea376-8aff-d92c-e5f0-3b6980a2fd29|ea1baf46-35ce-a1fa-c8ff-b244e831ca29|99999999999           |active|[institutional]|claim|urn:uuid:7ca297d1-94e0-8069-4cdb-50f313de9a5f|1956-09-06T22:59:33-04:00|1957-09-06T22:59:33-04:00|NO_INSURANCE   |Practitioner?identifier=http://hl7.org/fhir/sid/us-npi|9999999939|#referral         |urn:uuid:ea1baf46-35ce-a1fa-c8ff-b244e831ca29|complete|Practitioner?identifier=http://hl7.org/fhir/sid/us-npi|9999999939|Primary Care Practitioner|#coverage                   |NO_INSURANCE              |true           |Medical care         |40055000         |Chronic sinusitis (disorder)           |null          |null             |Inpatient Hospital            |1956-09-06T22:44:33-04:00|1956-09-06T22:59:33-04:00|null        |null        |null          |0.0           |USD             |1956-09-06T22:59:33-04:00|\n",
      "|f0ceb0aa-aac4-828c-9490-cc7d31c5f820|f6d072a1-66de-d03e-1616-99eeeceed280|99999999999           |active|[institutional]|claim|urn:uuid:7ca297d1-94e0-8069-4cdb-50f313de9a5f|1972-06-19T03:59:33-04:00|1973-06-19T03:59:33-04:00|NO_INSURANCE   |Practitioner?identifier=http://hl7.org/fhir/sid/us-npi|9999999359|#referral         |urn:uuid:f6d072a1-66de-d03e-1616-99eeeceed280|complete|Practitioner?identifier=http://hl7.org/fhir/sid/us-npi|9999999359|Primary Care Practitioner|#coverage                   |NO_INSURANCE              |true           |Medical care         |410620009        |Well child visit (procedure)           |null          |null             |Off Campus-Outpatient Hospital|1972-06-19T03:44:33-04:00|1972-06-19T03:59:33-04:00|null        |null        |null          |0.0           |USD             |1972-06-19T03:59:33-04:00|\n",
      "|f0ceb0aa-aac4-828c-9490-cc7d31c5f820|f6d072a1-66de-d03e-1616-99eeeceed280|99999999999           |active|[institutional]|claim|urn:uuid:7ca297d1-94e0-8069-4cdb-50f313de9a5f|1972-06-19T03:59:33-04:00|1973-06-19T03:59:33-04:00|NO_INSURANCE   |Practitioner?identifier=http://hl7.org/fhir/sid/us-npi|9999999359|#referral         |urn:uuid:f6d072a1-66de-d03e-1616-99eeeceed280|complete|Practitioner?identifier=http://hl7.org/fhir/sid/us-npi|9999999359|Primary Care Practitioner|#coverage                   |NO_INSURANCE              |true           |Medical care         |162864005        |Body mass index 30+ - obesity (finding)|null          |null             |Off Campus-Outpatient Hospital|1972-06-19T03:44:33-04:00|1972-06-19T03:59:33-04:00|null        |null        |null          |0.0           |USD             |1972-06-19T03:59:33-04:00|\n",
      "|f0ceb0aa-aac4-828c-9490-cc7d31c5f820|f6d072a1-66de-d03e-1616-99eeeceed280|99999999999           |active|[institutional]|claim|urn:uuid:7ca297d1-94e0-8069-4cdb-50f313de9a5f|1972-06-19T03:59:33-04:00|1973-06-19T03:59:33-04:00|NO_INSURANCE   |Practitioner?identifier=http://hl7.org/fhir/sid/us-npi|9999999359|#referral         |urn:uuid:f6d072a1-66de-d03e-1616-99eeeceed280|complete|Practitioner?identifier=http://hl7.org/fhir/sid/us-npi|9999999359|Primary Care Practitioner|#coverage                   |NO_INSURANCE              |true           |Medical care         |410620009        |Well child visit (procedure)           |null          |null             |Off Campus-Outpatient Hospital|1972-06-19T03:44:33-04:00|1972-06-19T03:59:33-04:00|null        |null        |null          |0.0           |USD             |1972-06-19T03:59:33-04:00|\n",
      "|f0ceb0aa-aac4-828c-9490-cc7d31c5f820|f6d072a1-66de-d03e-1616-99eeeceed280|99999999999           |active|[institutional]|claim|urn:uuid:7ca297d1-94e0-8069-4cdb-50f313de9a5f|1972-06-19T03:59:33-04:00|1973-06-19T03:59:33-04:00|NO_INSURANCE   |Practitioner?identifier=http://hl7.org/fhir/sid/us-npi|9999999359|#referral         |urn:uuid:f6d072a1-66de-d03e-1616-99eeeceed280|complete|Practitioner?identifier=http://hl7.org/fhir/sid/us-npi|9999999359|Primary Care Practitioner|#coverage                   |NO_INSURANCE              |true           |Medical care         |162864005        |Body mass index 30+ - obesity (finding)|null          |null             |Off Campus-Outpatient Hospital|1972-06-19T03:44:33-04:00|1972-06-19T03:59:33-04:00|null        |null        |null          |0.0           |USD             |1972-06-19T03:59:33-04:00|\n",
      "|c032bf48-1906-3a6f-d797-8dbe1d428648|3ae2c9f8-a972-1ada-4f22-a048e1337435|99999999999           |active|[institutional]|claim|urn:uuid:7ca297d1-94e0-8069-4cdb-50f313de9a5f|1988-10-10T03:59:33-04:00|1989-10-10T03:59:33-04:00|NO_INSURANCE   |Practitioner?identifier=http://hl7.org/fhir/sid/us-npi|9999999939|#referral         |urn:uuid:3ae2c9f8-a972-1ada-4f22-a048e1337435|complete|Practitioner?identifier=http://hl7.org/fhir/sid/us-npi|9999999939|Primary Care Practitioner|#coverage                   |NO_INSURANCE              |true           |Medical care         |424441002        |Prenatal initial visit                 |null          |null             |Inpatient Hospital            |1988-10-10T03:44:33-04:00|1988-10-10T03:59:33-04:00|null        |null        |null          |0.0           |USD             |1988-10-10T03:59:33-04:00|\n",
      "|c032bf48-1906-3a6f-d797-8dbe1d428648|3ae2c9f8-a972-1ada-4f22-a048e1337435|99999999999           |active|[institutional]|claim|urn:uuid:7ca297d1-94e0-8069-4cdb-50f313de9a5f|1988-10-10T03:59:33-04:00|1989-10-10T03:59:33-04:00|NO_INSURANCE   |Practitioner?identifier=http://hl7.org/fhir/sid/us-npi|9999999939|#referral         |urn:uuid:3ae2c9f8-a972-1ada-4f22-a048e1337435|complete|Practitioner?identifier=http://hl7.org/fhir/sid/us-npi|9999999939|Primary Care Practitioner|#coverage                   |NO_INSURANCE              |true           |Medical care         |19169002         |Miscarriage in first trimester         |null          |null             |Inpatient Hospital            |1988-10-10T03:44:33-04:00|1988-10-10T03:59:33-04:00|null        |null        |null          |0.0           |USD             |1988-10-10T03:59:33-04:00|\n",
      "+------------------------------------+------------------------------------+----------------------+------+---------------+-----+---------------------------------------------+-------------------------+-------------------------+---------------+-----------------------------------------------------------------+------------------+---------------------------------------------+--------+-----------------------------------------------------------------+-------------------------+----------------------------+--------------------------+---------------+---------------------+-----------------+---------------------------------------+--------------+-----------------+------------------------------+-------------------------+-------------------------+------------+------------+--------------+--------------+----------------+-------------------------+\n",
      "only showing top 10 rows\n",
      "\n"
     ]
    }
   ],
   "source": [
    "explanation_of_benefit_df.printSchema()\n",
    "explanation_of_benefit_df.show(10, truncate=False)\n"
   ]
  },
  {
   "cell_type": "code",
   "execution_count": 87,
   "id": "ead394f9-d22b-49ad-aa5b-6e2bedf3cbfc",
   "metadata": {},
   "outputs": [
    {
     "data": {
      "text/plain": [
       "887"
      ]
     },
     "execution_count": 87,
     "metadata": {},
     "output_type": "execute_result"
    }
   ],
   "source": [
    "explanation_of_benefit_df.select(\"eob_id\").distinct().count()"
   ]
  },
  {
   "cell_type": "markdown",
   "id": "b740fd77-5b18-4f01-b402-0c31e041caaa",
   "metadata": {},
   "source": [
    "We can see there are null values in columns because we might have nested data that we need to extract. "
   ]
  },
  {
   "cell_type": "code",
   "execution_count": 88,
   "id": "bb942ee4-e40b-4fbc-bfa8-49170762c074",
   "metadata": {},
   "outputs": [
    {
     "name": "stdout",
     "output_type": "stream",
     "text": [
      "+----------------+------------------+-------------+--------------------+\n",
      "|avg_total_amount|avg_payment_amount|total_claimed|          total_paid|\n",
      "+----------------+------------------+-------------+--------------------+\n",
      "|            null|3650.2017721226207|         null|1.2622397728000022E7|\n",
      "+----------------+------------------+-------------+--------------------+\n",
      "\n"
     ]
    }
   ],
   "source": [
    "explanation_of_benefit_df.select(\n",
    "    mean(\"total_amount\").alias(\"avg_total_amount\"),\n",
    "    mean(\"payment_amount\").alias(\"avg_payment_amount\"),\n",
    "    sum(\"total_amount\").alias(\"total_claimed\"),\n",
    "    sum(\"payment_amount\").alias(\"total_paid\")\n",
    ").show()"
   ]
  },
  {
   "cell_type": "code",
   "execution_count": null,
   "id": "7be8e6d0-f202-4bc9-84a6-bce09d322128",
   "metadata": {},
   "outputs": [],
   "source": [
    "# explanation_of_benefit_df.select(\n",
    "#     sum(col(\"total_amount\").isNull().cast(\"int\")).alias(\"null_total_amount\"),\n",
    "#     sum(col(\"payment_amount\").isNull().cast(\"int\")).alias(\"null_payment_amount\")\n",
    "# ).show()\n"
   ]
  },
  {
   "cell_type": "code",
   "execution_count": 90,
   "id": "27caf140-6425-43dd-a28c-83d8c3ba7415",
   "metadata": {},
   "outputs": [
    {
     "name": "stdout",
     "output_type": "stream",
     "text": [
      "+------------+------------------+\n",
      "|total_amount|payment_amount    |\n",
      "+------------+------------------+\n",
      "|null        |0.0               |\n",
      "|null        |0.0               |\n",
      "|null        |0.0               |\n",
      "|null        |0.0               |\n",
      "|null        |0.0               |\n",
      "|null        |0.0               |\n",
      "|null        |0.0               |\n",
      "|null        |0.0               |\n",
      "|null        |0.0               |\n",
      "|null        |0.0               |\n",
      "|null        |0.0               |\n",
      "|null        |0.0               |\n",
      "|null        |0.0               |\n",
      "|null        |0.0               |\n",
      "|null        |0.0               |\n",
      "|null        |0.0               |\n",
      "|null        |0.0               |\n",
      "|null        |0.0               |\n",
      "|null        |108.80000000000001|\n",
      "|null        |108.80000000000001|\n",
      "+------------+------------------+\n",
      "only showing top 20 rows\n",
      "\n"
     ]
    }
   ],
   "source": [
    "explanation_of_benefit_df.select(\"total_amount\", \"payment_amount\").show(truncate=False)"
   ]
  },
  {
   "cell_type": "code",
   "execution_count": 91,
   "id": "bae879de-54b6-41bb-8a77-c810144668d9",
   "metadata": {},
   "outputs": [
    {
     "name": "stdout",
     "output_type": "stream",
     "text": [
      "+------------+\n",
      "|total_amount|\n",
      "+------------+\n",
      "+------------+\n",
      "\n"
     ]
    }
   ],
   "source": [
    "\n",
    "explanation_of_benefit_df.filter(col(\"total_amount\").isNotNull()).select(\"total_amount\").show(truncate=False)\n"
   ]
  },
  {
   "cell_type": "markdown",
   "id": "db6380f2-de49-495d-a323-52126e2d3e3a",
   "metadata": {},
   "source": [
    "From the dataframe, adjudication is the column with many nested arrays that we need to extract values from since it contains all the co-pay, procedure amount. "
   ]
  },
  {
   "cell_type": "code",
   "execution_count": 92,
   "id": "153c8fa4-c1c4-438d-9ad4-d0229d820aac",
   "metadata": {},
   "outputs": [
    {
     "name": "stdout",
     "output_type": "stream",
     "text": [
      "+------------------------------------------------------------------------------------------------------------------------------------------------------------------------------------------------------------------------------------------------------------------------------------------------------------------------------------------------------------------------------------------------------------------------------------------------------------------------------------------------------------------------------------------------------------------------------------------------------------------------------------------------------------------------------------------------------------------------------------------------------------------------------------------------------------------------------------------------------------------------------------------------------------------------------------------------------------------------------------------------------------------------------------------------------------------------------------------------------------------------------------------------------------------------+\n",
      "|adjudication                                                                                                                                                                                                                                                                                                                                                                                                                                                                                                                                                                                                                                                                                                                                                                                                                                                                                                                                                                                                                                                                                                                                                            |\n",
      "+------------------------------------------------------------------------------------------------------------------------------------------------------------------------------------------------------------------------------------------------------------------------------------------------------------------------------------------------------------------------------------------------------------------------------------------------------------------------------------------------------------------------------------------------------------------------------------------------------------------------------------------------------------------------------------------------------------------------------------------------------------------------------------------------------------------------------------------------------------------------------------------------------------------------------------------------------------------------------------------------------------------------------------------------------------------------------------------------------------------------------------------------------------------------+\n",
      "|null                                                                                                                                                                                                                                                                                                                                                                                                                                                                                                                                                                                                                                                                                                                                                                                                                                                                                                                                                                                                                                                                                                                                                                    |\n",
      "|null                                                                                                                                                                                                                                                                                                                                                                                                                                                                                                                                                                                                                                                                                                                                                                                                                                                                                                                                                                                                                                                                                                                                                                    |\n",
      "|null                                                                                                                                                                                                                                                                                                                                                                                                                                                                                                                                                                                                                                                                                                                                                                                                                                                                                                                                                                                                                                                                                                                                                                    |\n",
      "|null                                                                                                                                                                                                                                                                                                                                                                                                                                                                                                                                                                                                                                                                                                                                                                                                                                                                                                                                                                                                                                                                                                                                                                    |\n",
      "|null                                                                                                                                                                                                                                                                                                                                                                                                                                                                                                                                                                                                                                                                                                                                                                                                                                                                                                                                                                                                                                                                                                                                                                    |\n",
      "|null                                                                                                                                                                                                                                                                                                                                                                                                                                                                                                                                                                                                                                                                                                                                                                                                                                                                                                                                                                                                                                                                                                                                                                    |\n",
      "|null                                                                                                                                                                                                                                                                                                                                                                                                                                                                                                                                                                                                                                                                                                                                                                                                                                                                                                                                                                                                                                                                                                                                                                    |\n",
      "|null                                                                                                                                                                                                                                                                                                                                                                                                                                                                                                                                                                                                                                                                                                                                                                                                                                                                                                                                                                                                                                                                                                                                                                    |\n",
      "|null                                                                                                                                                                                                                                                                                                                                                                                                                                                                                                                                                                                                                                                                                                                                                                                                                                                                                                                                                                                                                                                                                                                                                                    |\n",
      "|null                                                                                                                                                                                                                                                                                                                                                                                                                                                                                                                                                                                                                                                                                                                                                                                                                                                                                                                                                                                                                                                                                                                                                                    |\n",
      "|null                                                                                                                                                                                                                                                                                                                                                                                                                                                                                                                                                                                                                                                                                                                                                                                                                                                                                                                                                                                                                                                                                                                                                                    |\n",
      "|null                                                                                                                                                                                                                                                                                                                                                                                                                                                                                                                                                                                                                                                                                                                                                                                                                                                                                                                                                                                                                                                                                                                                                                    |\n",
      "|null                                                                                                                                                                                                                                                                                                                                                                                                                                                                                                                                                                                                                                                                                                                                                                                                                                                                                                                                                                                                                                                                                                                                                                    |\n",
      "|null                                                                                                                                                                                                                                                                                                                                                                                                                                                                                                                                                                                                                                                                                                                                                                                                                                                                                                                                                                                                                                                                                                                                                                    |\n",
      "|null                                                                                                                                                                                                                                                                                                                                                                                                                                                                                                                                                                                                                                                                                                                                                                                                                                                                                                                                                                                                                                                                                                                                                                    |\n",
      "|null                                                                                                                                                                                                                                                                                                                                                                                                                                                                                                                                                                                                                                                                                                                                                                                                                                                                                                                                                                                                                                                                                                                                                                    |\n",
      "|null                                                                                                                                                                                                                                                                                                                                                                                                                                                                                                                                                                                                                                                                                                                                                                                                                                                                                                                                                                                                                                                                                                                                                                    |\n",
      "|null                                                                                                                                                                                                                                                                                                                                                                                                                                                                                                                                                                                                                                                                                                                                                                                                                                                                                                                                                                                                                                                                                                                                                                    |\n",
      "|null                                                                                                                                                                                                                                                                                                                                                                                                                                                                                                                                                                                                                                                                                                                                                                                                                                                                                                                                                                                                                                                                                                                                                                    |\n",
      "|[{{USD, 27.200000000000003}, {[{https://bluebutton.cms.gov/resources/variables/line_coinsrnc_amt, Line Beneficiary Coinsurance Amount, https://bluebutton.cms.gov/resources/codesystem/adjudication}]}}, {{USD, 108.80000000000001}, {[{https://bluebutton.cms.gov/resources/variables/line_prvdr_pmt_amt, Line Provider Payment Amount, https://bluebutton.cms.gov/resources/codesystem/adjudication}]}}, {{USD, 136.0}, {[{https://bluebutton.cms.gov/resources/variables/line_sbmtd_chrg_amt, Line Submitted Charge Amount, https://bluebutton.cms.gov/resources/codesystem/adjudication}]}}, {{USD, 136.0}, {[{https://bluebutton.cms.gov/resources/variables/line_alowd_chrg_amt, Line Allowed Charge Amount, https://bluebutton.cms.gov/resources/codesystem/adjudication}]}}, {{USD, 0.0}, {[{https://bluebutton.cms.gov/resources/variables/line_bene_ptb_ddctbl_amt, Line Beneficiary Part B Deductible Amount, https://bluebutton.cms.gov/resources/codesystem/adjudication}]}}, {null, {[{https://bluebutton.cms.gov/resources/variables/line_prcsg_ind_cd, Line Processing Indicator Code, https://bluebutton.cms.gov/resources/codesystem/adjudication}]}}]|\n",
      "+------------------------------------------------------------------------------------------------------------------------------------------------------------------------------------------------------------------------------------------------------------------------------------------------------------------------------------------------------------------------------------------------------------------------------------------------------------------------------------------------------------------------------------------------------------------------------------------------------------------------------------------------------------------------------------------------------------------------------------------------------------------------------------------------------------------------------------------------------------------------------------------------------------------------------------------------------------------------------------------------------------------------------------------------------------------------------------------------------------------------------------------------------------------------+\n",
      "only showing top 20 rows\n",
      "\n"
     ]
    }
   ],
   "source": [
    "explanation_of_benefit_df.select(\"adjudication\").show(truncate=False)"
   ]
  },
  {
   "cell_type": "code",
   "execution_count": 94,
   "id": "afefcbbe-9784-46ff-a94a-1332b196a033",
   "metadata": {},
   "outputs": [
    {
     "name": "stdout",
     "output_type": "stream",
     "text": [
      "root\n",
      " |-- adjudication: array (nullable = true)\n",
      " |    |-- element: struct (containsNull = true)\n",
      " |    |    |-- amount: struct (nullable = true)\n",
      " |    |    |    |-- currency: string (nullable = true)\n",
      " |    |    |    |-- value: double (nullable = true)\n",
      " |    |    |-- category: struct (nullable = true)\n",
      " |    |    |    |-- coding: array (nullable = true)\n",
      " |    |    |    |    |-- element: struct (containsNull = true)\n",
      " |    |    |    |    |    |-- code: string (nullable = true)\n",
      " |    |    |    |    |    |-- display: string (nullable = true)\n",
      " |    |    |    |    |    |-- system: string (nullable = true)\n",
      "\n"
     ]
    }
   ],
   "source": [
    "\n",
    "explanation_of_benefit_df.select(\"adjudication\").printSchema()\n"
   ]
  },
  {
   "cell_type": "markdown",
   "id": "f632ef4d-62c8-4209-8bc2-32a0ed1aee87",
   "metadata": {},
   "source": [
    "We created another dataframe to store the flattened adjudicated df but we still have nested columns here so we might have to extract a few more items before we join it with the encounter and patient df. "
   ]
  },
  {
   "cell_type": "code",
   "execution_count": 95,
   "id": "0ec55834-878f-490a-9f18-8c180cf9e3d1",
   "metadata": {},
   "outputs": [
    {
     "name": "stdout",
     "output_type": "stream",
     "text": [
      "+------------------------------------+---------------------------------------------+------------------------------------------------------------------------------------------------------------------------------------------------------------------------------------------------------+\n",
      "|eob_id                              |patient_reference                            |adjudication_item                                                                                                                                                                                     |\n",
      "+------------------------------------+---------------------------------------------+------------------------------------------------------------------------------------------------------------------------------------------------------------------------------------------------------+\n",
      "|03a8d3d0-079f-1ab2-eb4a-3961b3d71854|urn:uuid:7ca297d1-94e0-8069-4cdb-50f313de9a5f|{{USD, 27.200000000000003}, {[{https://bluebutton.cms.gov/resources/variables/line_coinsrnc_amt, Line Beneficiary Coinsurance Amount, https://bluebutton.cms.gov/resources/codesystem/adjudication}]}}|\n",
      "|03a8d3d0-079f-1ab2-eb4a-3961b3d71854|urn:uuid:7ca297d1-94e0-8069-4cdb-50f313de9a5f|{{USD, 108.80000000000001}, {[{https://bluebutton.cms.gov/resources/variables/line_prvdr_pmt_amt, Line Provider Payment Amount, https://bluebutton.cms.gov/resources/codesystem/adjudication}]}}      |\n",
      "|03a8d3d0-079f-1ab2-eb4a-3961b3d71854|urn:uuid:7ca297d1-94e0-8069-4cdb-50f313de9a5f|{{USD, 136.0}, {[{https://bluebutton.cms.gov/resources/variables/line_sbmtd_chrg_amt, Line Submitted Charge Amount, https://bluebutton.cms.gov/resources/codesystem/adjudication}]}}                  |\n",
      "|03a8d3d0-079f-1ab2-eb4a-3961b3d71854|urn:uuid:7ca297d1-94e0-8069-4cdb-50f313de9a5f|{{USD, 136.0}, {[{https://bluebutton.cms.gov/resources/variables/line_alowd_chrg_amt, Line Allowed Charge Amount, https://bluebutton.cms.gov/resources/codesystem/adjudication}]}}                    |\n",
      "|03a8d3d0-079f-1ab2-eb4a-3961b3d71854|urn:uuid:7ca297d1-94e0-8069-4cdb-50f313de9a5f|{{USD, 0.0}, {[{https://bluebutton.cms.gov/resources/variables/line_bene_ptb_ddctbl_amt, Line Beneficiary Part B Deductible Amount, https://bluebutton.cms.gov/resources/codesystem/adjudication}]}}  |\n",
      "|03a8d3d0-079f-1ab2-eb4a-3961b3d71854|urn:uuid:7ca297d1-94e0-8069-4cdb-50f313de9a5f|{null, {[{https://bluebutton.cms.gov/resources/variables/line_prcsg_ind_cd, Line Processing Indicator Code, https://bluebutton.cms.gov/resources/codesystem/adjudication}]}}                          |\n",
      "|03a8d3d0-079f-1ab2-eb4a-3961b3d71854|urn:uuid:7ca297d1-94e0-8069-4cdb-50f313de9a5f|{{USD, 27.200000000000003}, {[{https://bluebutton.cms.gov/resources/variables/line_coinsrnc_amt, Line Beneficiary Coinsurance Amount, https://bluebutton.cms.gov/resources/codesystem/adjudication}]}}|\n",
      "|03a8d3d0-079f-1ab2-eb4a-3961b3d71854|urn:uuid:7ca297d1-94e0-8069-4cdb-50f313de9a5f|{{USD, 108.80000000000001}, {[{https://bluebutton.cms.gov/resources/variables/line_prvdr_pmt_amt, Line Provider Payment Amount, https://bluebutton.cms.gov/resources/codesystem/adjudication}]}}      |\n",
      "|03a8d3d0-079f-1ab2-eb4a-3961b3d71854|urn:uuid:7ca297d1-94e0-8069-4cdb-50f313de9a5f|{{USD, 136.0}, {[{https://bluebutton.cms.gov/resources/variables/line_sbmtd_chrg_amt, Line Submitted Charge Amount, https://bluebutton.cms.gov/resources/codesystem/adjudication}]}}                  |\n",
      "|03a8d3d0-079f-1ab2-eb4a-3961b3d71854|urn:uuid:7ca297d1-94e0-8069-4cdb-50f313de9a5f|{{USD, 136.0}, {[{https://bluebutton.cms.gov/resources/variables/line_alowd_chrg_amt, Line Allowed Charge Amount, https://bluebutton.cms.gov/resources/codesystem/adjudication}]}}                    |\n",
      "|03a8d3d0-079f-1ab2-eb4a-3961b3d71854|urn:uuid:7ca297d1-94e0-8069-4cdb-50f313de9a5f|{{USD, 0.0}, {[{https://bluebutton.cms.gov/resources/variables/line_bene_ptb_ddctbl_amt, Line Beneficiary Part B Deductible Amount, https://bluebutton.cms.gov/resources/codesystem/adjudication}]}}  |\n",
      "|03a8d3d0-079f-1ab2-eb4a-3961b3d71854|urn:uuid:7ca297d1-94e0-8069-4cdb-50f313de9a5f|{null, {[{https://bluebutton.cms.gov/resources/variables/line_prcsg_ind_cd, Line Processing Indicator Code, https://bluebutton.cms.gov/resources/codesystem/adjudication}]}}                          |\n",
      "|c1e8af95-d4e7-b32e-a227-9212a299ec1d|urn:uuid:7ca297d1-94e0-8069-4cdb-50f313de9a5f|{{USD, 1424.948}, {[{https://bluebutton.cms.gov/resources/variables/line_coinsrnc_amt, Line Beneficiary Coinsurance Amount, https://bluebutton.cms.gov/resources/codesystem/adjudication}]}}          |\n",
      "|c1e8af95-d4e7-b32e-a227-9212a299ec1d|urn:uuid:7ca297d1-94e0-8069-4cdb-50f313de9a5f|{{USD, 5699.792}, {[{https://bluebutton.cms.gov/resources/variables/line_prvdr_pmt_amt, Line Provider Payment Amount, https://bluebutton.cms.gov/resources/codesystem/adjudication}]}}                |\n",
      "|c1e8af95-d4e7-b32e-a227-9212a299ec1d|urn:uuid:7ca297d1-94e0-8069-4cdb-50f313de9a5f|{{USD, 7124.74}, {[{https://bluebutton.cms.gov/resources/variables/line_sbmtd_chrg_amt, Line Submitted Charge Amount, https://bluebutton.cms.gov/resources/codesystem/adjudication}]}}                |\n",
      "|c1e8af95-d4e7-b32e-a227-9212a299ec1d|urn:uuid:7ca297d1-94e0-8069-4cdb-50f313de9a5f|{{USD, 7124.74}, {[{https://bluebutton.cms.gov/resources/variables/line_alowd_chrg_amt, Line Allowed Charge Amount, https://bluebutton.cms.gov/resources/codesystem/adjudication}]}}                  |\n",
      "|c1e8af95-d4e7-b32e-a227-9212a299ec1d|urn:uuid:7ca297d1-94e0-8069-4cdb-50f313de9a5f|{{USD, 0.0}, {[{https://bluebutton.cms.gov/resources/variables/line_bene_ptb_ddctbl_amt, Line Beneficiary Part B Deductible Amount, https://bluebutton.cms.gov/resources/codesystem/adjudication}]}}  |\n",
      "|c1e8af95-d4e7-b32e-a227-9212a299ec1d|urn:uuid:7ca297d1-94e0-8069-4cdb-50f313de9a5f|{null, {[{https://bluebutton.cms.gov/resources/variables/line_prcsg_ind_cd, Line Processing Indicator Code, https://bluebutton.cms.gov/resources/codesystem/adjudication}]}}                          |\n",
      "|c1e8af95-d4e7-b32e-a227-9212a299ec1d|urn:uuid:7ca297d1-94e0-8069-4cdb-50f313de9a5f|{{USD, 110.84000000000002}, {[{https://bluebutton.cms.gov/resources/variables/line_coinsrnc_amt, Line Beneficiary Coinsurance Amount, https://bluebutton.cms.gov/resources/codesystem/adjudication}]}}|\n",
      "|c1e8af95-d4e7-b32e-a227-9212a299ec1d|urn:uuid:7ca297d1-94e0-8069-4cdb-50f313de9a5f|{{USD, 443.36000000000007}, {[{https://bluebutton.cms.gov/resources/variables/line_prvdr_pmt_amt, Line Provider Payment Amount, https://bluebutton.cms.gov/resources/codesystem/adjudication}]}}      |\n",
      "+------------------------------------+---------------------------------------------+------------------------------------------------------------------------------------------------------------------------------------------------------------------------------------------------------+\n",
      "only showing top 20 rows\n",
      "\n"
     ]
    }
   ],
   "source": [
    "from pyspark.sql.functions import explode\n",
    "\n",
    "# Explode the adjudication array\n",
    "adjudication_exploded_df = explanation_of_benefit_df.select(\n",
    "    \"eob_id\",\n",
    "    \"patient_reference\",\n",
    "    explode(\"adjudication\").alias(\"adjudication_item\")\n",
    ")\n",
    "\n",
    "\n",
    "adjudication_exploded_df.show(truncate=False)\n"
   ]
  },
  {
   "cell_type": "code",
   "execution_count": 96,
   "id": "5f816d69-9f65-478f-865c-fca8b4c63f1b",
   "metadata": {},
   "outputs": [
    {
     "name": "stdout",
     "output_type": "stream",
     "text": [
      "+------------------------------------+---------------------------------------------+------------------+--------+------------------------------------------------------------------------------------------------------------------------------------------------------------------------------------+\n",
      "|eob_id                              |patient_reference                            |value             |currency|coding                                                                                                                                                                              |\n",
      "+------------------------------------+---------------------------------------------+------------------+--------+------------------------------------------------------------------------------------------------------------------------------------------------------------------------------------+\n",
      "|03a8d3d0-079f-1ab2-eb4a-3961b3d71854|urn:uuid:7ca297d1-94e0-8069-4cdb-50f313de9a5f|27.200000000000003|USD     |[{https://bluebutton.cms.gov/resources/variables/line_coinsrnc_amt, Line Beneficiary Coinsurance Amount, https://bluebutton.cms.gov/resources/codesystem/adjudication}]             |\n",
      "|03a8d3d0-079f-1ab2-eb4a-3961b3d71854|urn:uuid:7ca297d1-94e0-8069-4cdb-50f313de9a5f|108.80000000000001|USD     |[{https://bluebutton.cms.gov/resources/variables/line_prvdr_pmt_amt, Line Provider Payment Amount, https://bluebutton.cms.gov/resources/codesystem/adjudication}]                   |\n",
      "|03a8d3d0-079f-1ab2-eb4a-3961b3d71854|urn:uuid:7ca297d1-94e0-8069-4cdb-50f313de9a5f|136.0             |USD     |[{https://bluebutton.cms.gov/resources/variables/line_sbmtd_chrg_amt, Line Submitted Charge Amount, https://bluebutton.cms.gov/resources/codesystem/adjudication}]                  |\n",
      "|03a8d3d0-079f-1ab2-eb4a-3961b3d71854|urn:uuid:7ca297d1-94e0-8069-4cdb-50f313de9a5f|136.0             |USD     |[{https://bluebutton.cms.gov/resources/variables/line_alowd_chrg_amt, Line Allowed Charge Amount, https://bluebutton.cms.gov/resources/codesystem/adjudication}]                    |\n",
      "|03a8d3d0-079f-1ab2-eb4a-3961b3d71854|urn:uuid:7ca297d1-94e0-8069-4cdb-50f313de9a5f|0.0               |USD     |[{https://bluebutton.cms.gov/resources/variables/line_bene_ptb_ddctbl_amt, Line Beneficiary Part B Deductible Amount, https://bluebutton.cms.gov/resources/codesystem/adjudication}]|\n",
      "|03a8d3d0-079f-1ab2-eb4a-3961b3d71854|urn:uuid:7ca297d1-94e0-8069-4cdb-50f313de9a5f|null              |null    |[{https://bluebutton.cms.gov/resources/variables/line_prcsg_ind_cd, Line Processing Indicator Code, https://bluebutton.cms.gov/resources/codesystem/adjudication}]                  |\n",
      "|03a8d3d0-079f-1ab2-eb4a-3961b3d71854|urn:uuid:7ca297d1-94e0-8069-4cdb-50f313de9a5f|27.200000000000003|USD     |[{https://bluebutton.cms.gov/resources/variables/line_coinsrnc_amt, Line Beneficiary Coinsurance Amount, https://bluebutton.cms.gov/resources/codesystem/adjudication}]             |\n",
      "|03a8d3d0-079f-1ab2-eb4a-3961b3d71854|urn:uuid:7ca297d1-94e0-8069-4cdb-50f313de9a5f|108.80000000000001|USD     |[{https://bluebutton.cms.gov/resources/variables/line_prvdr_pmt_amt, Line Provider Payment Amount, https://bluebutton.cms.gov/resources/codesystem/adjudication}]                   |\n",
      "|03a8d3d0-079f-1ab2-eb4a-3961b3d71854|urn:uuid:7ca297d1-94e0-8069-4cdb-50f313de9a5f|136.0             |USD     |[{https://bluebutton.cms.gov/resources/variables/line_sbmtd_chrg_amt, Line Submitted Charge Amount, https://bluebutton.cms.gov/resources/codesystem/adjudication}]                  |\n",
      "|03a8d3d0-079f-1ab2-eb4a-3961b3d71854|urn:uuid:7ca297d1-94e0-8069-4cdb-50f313de9a5f|136.0             |USD     |[{https://bluebutton.cms.gov/resources/variables/line_alowd_chrg_amt, Line Allowed Charge Amount, https://bluebutton.cms.gov/resources/codesystem/adjudication}]                    |\n",
      "|03a8d3d0-079f-1ab2-eb4a-3961b3d71854|urn:uuid:7ca297d1-94e0-8069-4cdb-50f313de9a5f|0.0               |USD     |[{https://bluebutton.cms.gov/resources/variables/line_bene_ptb_ddctbl_amt, Line Beneficiary Part B Deductible Amount, https://bluebutton.cms.gov/resources/codesystem/adjudication}]|\n",
      "|03a8d3d0-079f-1ab2-eb4a-3961b3d71854|urn:uuid:7ca297d1-94e0-8069-4cdb-50f313de9a5f|null              |null    |[{https://bluebutton.cms.gov/resources/variables/line_prcsg_ind_cd, Line Processing Indicator Code, https://bluebutton.cms.gov/resources/codesystem/adjudication}]                  |\n",
      "|c1e8af95-d4e7-b32e-a227-9212a299ec1d|urn:uuid:7ca297d1-94e0-8069-4cdb-50f313de9a5f|1424.948          |USD     |[{https://bluebutton.cms.gov/resources/variables/line_coinsrnc_amt, Line Beneficiary Coinsurance Amount, https://bluebutton.cms.gov/resources/codesystem/adjudication}]             |\n",
      "|c1e8af95-d4e7-b32e-a227-9212a299ec1d|urn:uuid:7ca297d1-94e0-8069-4cdb-50f313de9a5f|5699.792          |USD     |[{https://bluebutton.cms.gov/resources/variables/line_prvdr_pmt_amt, Line Provider Payment Amount, https://bluebutton.cms.gov/resources/codesystem/adjudication}]                   |\n",
      "|c1e8af95-d4e7-b32e-a227-9212a299ec1d|urn:uuid:7ca297d1-94e0-8069-4cdb-50f313de9a5f|7124.74           |USD     |[{https://bluebutton.cms.gov/resources/variables/line_sbmtd_chrg_amt, Line Submitted Charge Amount, https://bluebutton.cms.gov/resources/codesystem/adjudication}]                  |\n",
      "|c1e8af95-d4e7-b32e-a227-9212a299ec1d|urn:uuid:7ca297d1-94e0-8069-4cdb-50f313de9a5f|7124.74           |USD     |[{https://bluebutton.cms.gov/resources/variables/line_alowd_chrg_amt, Line Allowed Charge Amount, https://bluebutton.cms.gov/resources/codesystem/adjudication}]                    |\n",
      "|c1e8af95-d4e7-b32e-a227-9212a299ec1d|urn:uuid:7ca297d1-94e0-8069-4cdb-50f313de9a5f|0.0               |USD     |[{https://bluebutton.cms.gov/resources/variables/line_bene_ptb_ddctbl_amt, Line Beneficiary Part B Deductible Amount, https://bluebutton.cms.gov/resources/codesystem/adjudication}]|\n",
      "|c1e8af95-d4e7-b32e-a227-9212a299ec1d|urn:uuid:7ca297d1-94e0-8069-4cdb-50f313de9a5f|null              |null    |[{https://bluebutton.cms.gov/resources/variables/line_prcsg_ind_cd, Line Processing Indicator Code, https://bluebutton.cms.gov/resources/codesystem/adjudication}]                  |\n",
      "|c1e8af95-d4e7-b32e-a227-9212a299ec1d|urn:uuid:7ca297d1-94e0-8069-4cdb-50f313de9a5f|110.84000000000002|USD     |[{https://bluebutton.cms.gov/resources/variables/line_coinsrnc_amt, Line Beneficiary Coinsurance Amount, https://bluebutton.cms.gov/resources/codesystem/adjudication}]             |\n",
      "|c1e8af95-d4e7-b32e-a227-9212a299ec1d|urn:uuid:7ca297d1-94e0-8069-4cdb-50f313de9a5f|443.36000000000007|USD     |[{https://bluebutton.cms.gov/resources/variables/line_prvdr_pmt_amt, Line Provider Payment Amount, https://bluebutton.cms.gov/resources/codesystem/adjudication}]                   |\n",
      "+------------------------------------+---------------------------------------------+------------------+--------+------------------------------------------------------------------------------------------------------------------------------------------------------------------------------------+\n",
      "only showing top 20 rows\n",
      "\n"
     ]
    }
   ],
   "source": [
    "# Extract amount and category fields\n",
    "adjudication_details_df = adjudication_exploded_df.select(\n",
    "    \"eob_id\",\n",
    "    \"patient_reference\",\n",
    "    \"adjudication_item.amount.value\",\n",
    "    \"adjudication_item.amount.currency\",\n",
    "    \"adjudication_item.category.coding\"\n",
    ")\n",
    "\n",
    "\n",
    "adjudication_details_df.show(truncate=False)\n"
   ]
  },
  {
   "cell_type": "code",
   "execution_count": 97,
   "id": "f69d7245-d620-4391-be88-f7493f7f5a43",
   "metadata": {},
   "outputs": [
    {
     "name": "stdout",
     "output_type": "stream",
     "text": [
      "root\n",
      " |-- eob_id: string (nullable = true)\n",
      " |-- patient_reference: string (nullable = true)\n",
      " |-- value: double (nullable = true)\n",
      " |-- currency: string (nullable = true)\n",
      " |-- coding: array (nullable = true)\n",
      " |    |-- element: struct (containsNull = true)\n",
      " |    |    |-- code: string (nullable = true)\n",
      " |    |    |-- display: string (nullable = true)\n",
      " |    |    |-- system: string (nullable = true)\n",
      "\n"
     ]
    }
   ],
   "source": [
    "adjudication_details_df.printSchema()"
   ]
  },
  {
   "cell_type": "code",
   "execution_count": 98,
   "id": "bd283190-9876-43ae-8a9b-ab749c524d0e",
   "metadata": {},
   "outputs": [
    {
     "name": "stdout",
     "output_type": "stream",
     "text": [
      "+-----------------------------------------------------------------------+-----------------------------------------+\n",
      "|category_code                                                          |category_display                         |\n",
      "+-----------------------------------------------------------------------+-----------------------------------------+\n",
      "|https://bluebutton.cms.gov/resources/variables/line_coinsrnc_amt       |Line Beneficiary Coinsurance Amount      |\n",
      "|https://bluebutton.cms.gov/resources/variables/line_prvdr_pmt_amt      |Line Provider Payment Amount             |\n",
      "|https://bluebutton.cms.gov/resources/variables/line_sbmtd_chrg_amt     |Line Submitted Charge Amount             |\n",
      "|https://bluebutton.cms.gov/resources/variables/line_alowd_chrg_amt     |Line Allowed Charge Amount               |\n",
      "|https://bluebutton.cms.gov/resources/variables/line_bene_ptb_ddctbl_amt|Line Beneficiary Part B Deductible Amount|\n",
      "|https://bluebutton.cms.gov/resources/variables/line_prcsg_ind_cd       |Line Processing Indicator Code           |\n",
      "|https://bluebutton.cms.gov/resources/variables/line_coinsrnc_amt       |Line Beneficiary Coinsurance Amount      |\n",
      "|https://bluebutton.cms.gov/resources/variables/line_prvdr_pmt_amt      |Line Provider Payment Amount             |\n",
      "|https://bluebutton.cms.gov/resources/variables/line_sbmtd_chrg_amt     |Line Submitted Charge Amount             |\n",
      "|https://bluebutton.cms.gov/resources/variables/line_alowd_chrg_amt     |Line Allowed Charge Amount               |\n",
      "|https://bluebutton.cms.gov/resources/variables/line_bene_ptb_ddctbl_amt|Line Beneficiary Part B Deductible Amount|\n",
      "|https://bluebutton.cms.gov/resources/variables/line_prcsg_ind_cd       |Line Processing Indicator Code           |\n",
      "|https://bluebutton.cms.gov/resources/variables/line_coinsrnc_amt       |Line Beneficiary Coinsurance Amount      |\n",
      "|https://bluebutton.cms.gov/resources/variables/line_prvdr_pmt_amt      |Line Provider Payment Amount             |\n",
      "|https://bluebutton.cms.gov/resources/variables/line_sbmtd_chrg_amt     |Line Submitted Charge Amount             |\n",
      "|https://bluebutton.cms.gov/resources/variables/line_alowd_chrg_amt     |Line Allowed Charge Amount               |\n",
      "|https://bluebutton.cms.gov/resources/variables/line_bene_ptb_ddctbl_amt|Line Beneficiary Part B Deductible Amount|\n",
      "|https://bluebutton.cms.gov/resources/variables/line_prcsg_ind_cd       |Line Processing Indicator Code           |\n",
      "|https://bluebutton.cms.gov/resources/variables/line_coinsrnc_amt       |Line Beneficiary Coinsurance Amount      |\n",
      "|https://bluebutton.cms.gov/resources/variables/line_prvdr_pmt_amt      |Line Provider Payment Amount             |\n",
      "+-----------------------------------------------------------------------+-----------------------------------------+\n",
      "only showing top 20 rows\n",
      "\n"
     ]
    }
   ],
   "source": [
    "# Extract the first element of the 'coding' array and its fields\n",
    "adjudication_details_df = adjudication_details_df.withColumn(\n",
    "    \"category_code\",\n",
    "    col(\"coding\").getItem(0).getField(\"code\")  \n",
    ").withColumn(\n",
    "    \"category_display\",\n",
    "    col(\"coding\").getItem(0).getField(\"display\")  \n",
    ")\n",
    "\n",
    "\n",
    "adjudication_details_df.select(\"category_code\", \"category_display\").show(truncate=False)\n"
   ]
  },
  {
   "cell_type": "markdown",
   "id": "1556c715-32de-43d4-8b58-67ccc5948d27",
   "metadata": {},
   "source": [
    "We join our new extracted adjudicated columns df with the original adjudicated df  "
   ]
  },
  {
   "cell_type": "code",
   "execution_count": 99,
   "id": "284eb7c4-4a1f-44a6-900c-bedda16270e2",
   "metadata": {},
   "outputs": [
    {
     "name": "stdout",
     "output_type": "stream",
     "text": [
      "+------------------------------------+---------------------------------------------+------------------+--------+------------------------------------------------------------------------------------------------------------------------------------------------------------------------------------+-----------------------------------------------------------------------+-----------------------------------------+--------------------------+-------------------------+\n",
      "|eob_id                              |patient_reference                            |value             |currency|coding                                                                                                                                                                              |category_code                                                          |category_display                         |insurance_coverage_display|billable_period_start    |\n",
      "+------------------------------------+---------------------------------------------+------------------+--------+------------------------------------------------------------------------------------------------------------------------------------------------------------------------------------+-----------------------------------------------------------------------+-----------------------------------------+--------------------------+-------------------------+\n",
      "|03a8d3d0-079f-1ab2-eb4a-3961b3d71854|urn:uuid:7ca297d1-94e0-8069-4cdb-50f313de9a5f|27.200000000000003|USD     |[{https://bluebutton.cms.gov/resources/variables/line_coinsrnc_amt, Line Beneficiary Coinsurance Amount, https://bluebutton.cms.gov/resources/codesystem/adjudication}]             |https://bluebutton.cms.gov/resources/variables/line_coinsrnc_amt       |Line Beneficiary Coinsurance Amount      |NO_INSURANCE              |2005-05-02T03:59:33-04:00|\n",
      "|03a8d3d0-079f-1ab2-eb4a-3961b3d71854|urn:uuid:7ca297d1-94e0-8069-4cdb-50f313de9a5f|27.200000000000003|USD     |[{https://bluebutton.cms.gov/resources/variables/line_coinsrnc_amt, Line Beneficiary Coinsurance Amount, https://bluebutton.cms.gov/resources/codesystem/adjudication}]             |https://bluebutton.cms.gov/resources/variables/line_coinsrnc_amt       |Line Beneficiary Coinsurance Amount      |NO_INSURANCE              |2005-05-02T03:59:33-04:00|\n",
      "|03a8d3d0-079f-1ab2-eb4a-3961b3d71854|urn:uuid:7ca297d1-94e0-8069-4cdb-50f313de9a5f|27.200000000000003|USD     |[{https://bluebutton.cms.gov/resources/variables/line_coinsrnc_amt, Line Beneficiary Coinsurance Amount, https://bluebutton.cms.gov/resources/codesystem/adjudication}]             |https://bluebutton.cms.gov/resources/variables/line_coinsrnc_amt       |Line Beneficiary Coinsurance Amount      |NO_INSURANCE              |2005-05-02T03:59:33-04:00|\n",
      "|03a8d3d0-079f-1ab2-eb4a-3961b3d71854|urn:uuid:7ca297d1-94e0-8069-4cdb-50f313de9a5f|27.200000000000003|USD     |[{https://bluebutton.cms.gov/resources/variables/line_coinsrnc_amt, Line Beneficiary Coinsurance Amount, https://bluebutton.cms.gov/resources/codesystem/adjudication}]             |https://bluebutton.cms.gov/resources/variables/line_coinsrnc_amt       |Line Beneficiary Coinsurance Amount      |NO_INSURANCE              |2005-05-02T03:59:33-04:00|\n",
      "|03a8d3d0-079f-1ab2-eb4a-3961b3d71854|urn:uuid:7ca297d1-94e0-8069-4cdb-50f313de9a5f|108.80000000000001|USD     |[{https://bluebutton.cms.gov/resources/variables/line_prvdr_pmt_amt, Line Provider Payment Amount, https://bluebutton.cms.gov/resources/codesystem/adjudication}]                   |https://bluebutton.cms.gov/resources/variables/line_prvdr_pmt_amt      |Line Provider Payment Amount             |NO_INSURANCE              |2005-05-02T03:59:33-04:00|\n",
      "|03a8d3d0-079f-1ab2-eb4a-3961b3d71854|urn:uuid:7ca297d1-94e0-8069-4cdb-50f313de9a5f|108.80000000000001|USD     |[{https://bluebutton.cms.gov/resources/variables/line_prvdr_pmt_amt, Line Provider Payment Amount, https://bluebutton.cms.gov/resources/codesystem/adjudication}]                   |https://bluebutton.cms.gov/resources/variables/line_prvdr_pmt_amt      |Line Provider Payment Amount             |NO_INSURANCE              |2005-05-02T03:59:33-04:00|\n",
      "|03a8d3d0-079f-1ab2-eb4a-3961b3d71854|urn:uuid:7ca297d1-94e0-8069-4cdb-50f313de9a5f|108.80000000000001|USD     |[{https://bluebutton.cms.gov/resources/variables/line_prvdr_pmt_amt, Line Provider Payment Amount, https://bluebutton.cms.gov/resources/codesystem/adjudication}]                   |https://bluebutton.cms.gov/resources/variables/line_prvdr_pmt_amt      |Line Provider Payment Amount             |NO_INSURANCE              |2005-05-02T03:59:33-04:00|\n",
      "|03a8d3d0-079f-1ab2-eb4a-3961b3d71854|urn:uuid:7ca297d1-94e0-8069-4cdb-50f313de9a5f|108.80000000000001|USD     |[{https://bluebutton.cms.gov/resources/variables/line_prvdr_pmt_amt, Line Provider Payment Amount, https://bluebutton.cms.gov/resources/codesystem/adjudication}]                   |https://bluebutton.cms.gov/resources/variables/line_prvdr_pmt_amt      |Line Provider Payment Amount             |NO_INSURANCE              |2005-05-02T03:59:33-04:00|\n",
      "|03a8d3d0-079f-1ab2-eb4a-3961b3d71854|urn:uuid:7ca297d1-94e0-8069-4cdb-50f313de9a5f|136.0             |USD     |[{https://bluebutton.cms.gov/resources/variables/line_sbmtd_chrg_amt, Line Submitted Charge Amount, https://bluebutton.cms.gov/resources/codesystem/adjudication}]                  |https://bluebutton.cms.gov/resources/variables/line_sbmtd_chrg_amt     |Line Submitted Charge Amount             |NO_INSURANCE              |2005-05-02T03:59:33-04:00|\n",
      "|03a8d3d0-079f-1ab2-eb4a-3961b3d71854|urn:uuid:7ca297d1-94e0-8069-4cdb-50f313de9a5f|136.0             |USD     |[{https://bluebutton.cms.gov/resources/variables/line_sbmtd_chrg_amt, Line Submitted Charge Amount, https://bluebutton.cms.gov/resources/codesystem/adjudication}]                  |https://bluebutton.cms.gov/resources/variables/line_sbmtd_chrg_amt     |Line Submitted Charge Amount             |NO_INSURANCE              |2005-05-02T03:59:33-04:00|\n",
      "|03a8d3d0-079f-1ab2-eb4a-3961b3d71854|urn:uuid:7ca297d1-94e0-8069-4cdb-50f313de9a5f|136.0             |USD     |[{https://bluebutton.cms.gov/resources/variables/line_sbmtd_chrg_amt, Line Submitted Charge Amount, https://bluebutton.cms.gov/resources/codesystem/adjudication}]                  |https://bluebutton.cms.gov/resources/variables/line_sbmtd_chrg_amt     |Line Submitted Charge Amount             |NO_INSURANCE              |2005-05-02T03:59:33-04:00|\n",
      "|03a8d3d0-079f-1ab2-eb4a-3961b3d71854|urn:uuid:7ca297d1-94e0-8069-4cdb-50f313de9a5f|136.0             |USD     |[{https://bluebutton.cms.gov/resources/variables/line_sbmtd_chrg_amt, Line Submitted Charge Amount, https://bluebutton.cms.gov/resources/codesystem/adjudication}]                  |https://bluebutton.cms.gov/resources/variables/line_sbmtd_chrg_amt     |Line Submitted Charge Amount             |NO_INSURANCE              |2005-05-02T03:59:33-04:00|\n",
      "|03a8d3d0-079f-1ab2-eb4a-3961b3d71854|urn:uuid:7ca297d1-94e0-8069-4cdb-50f313de9a5f|136.0             |USD     |[{https://bluebutton.cms.gov/resources/variables/line_alowd_chrg_amt, Line Allowed Charge Amount, https://bluebutton.cms.gov/resources/codesystem/adjudication}]                    |https://bluebutton.cms.gov/resources/variables/line_alowd_chrg_amt     |Line Allowed Charge Amount               |NO_INSURANCE              |2005-05-02T03:59:33-04:00|\n",
      "|03a8d3d0-079f-1ab2-eb4a-3961b3d71854|urn:uuid:7ca297d1-94e0-8069-4cdb-50f313de9a5f|136.0             |USD     |[{https://bluebutton.cms.gov/resources/variables/line_alowd_chrg_amt, Line Allowed Charge Amount, https://bluebutton.cms.gov/resources/codesystem/adjudication}]                    |https://bluebutton.cms.gov/resources/variables/line_alowd_chrg_amt     |Line Allowed Charge Amount               |NO_INSURANCE              |2005-05-02T03:59:33-04:00|\n",
      "|03a8d3d0-079f-1ab2-eb4a-3961b3d71854|urn:uuid:7ca297d1-94e0-8069-4cdb-50f313de9a5f|136.0             |USD     |[{https://bluebutton.cms.gov/resources/variables/line_alowd_chrg_amt, Line Allowed Charge Amount, https://bluebutton.cms.gov/resources/codesystem/adjudication}]                    |https://bluebutton.cms.gov/resources/variables/line_alowd_chrg_amt     |Line Allowed Charge Amount               |NO_INSURANCE              |2005-05-02T03:59:33-04:00|\n",
      "|03a8d3d0-079f-1ab2-eb4a-3961b3d71854|urn:uuid:7ca297d1-94e0-8069-4cdb-50f313de9a5f|136.0             |USD     |[{https://bluebutton.cms.gov/resources/variables/line_alowd_chrg_amt, Line Allowed Charge Amount, https://bluebutton.cms.gov/resources/codesystem/adjudication}]                    |https://bluebutton.cms.gov/resources/variables/line_alowd_chrg_amt     |Line Allowed Charge Amount               |NO_INSURANCE              |2005-05-02T03:59:33-04:00|\n",
      "|03a8d3d0-079f-1ab2-eb4a-3961b3d71854|urn:uuid:7ca297d1-94e0-8069-4cdb-50f313de9a5f|0.0               |USD     |[{https://bluebutton.cms.gov/resources/variables/line_bene_ptb_ddctbl_amt, Line Beneficiary Part B Deductible Amount, https://bluebutton.cms.gov/resources/codesystem/adjudication}]|https://bluebutton.cms.gov/resources/variables/line_bene_ptb_ddctbl_amt|Line Beneficiary Part B Deductible Amount|NO_INSURANCE              |2005-05-02T03:59:33-04:00|\n",
      "|03a8d3d0-079f-1ab2-eb4a-3961b3d71854|urn:uuid:7ca297d1-94e0-8069-4cdb-50f313de9a5f|0.0               |USD     |[{https://bluebutton.cms.gov/resources/variables/line_bene_ptb_ddctbl_amt, Line Beneficiary Part B Deductible Amount, https://bluebutton.cms.gov/resources/codesystem/adjudication}]|https://bluebutton.cms.gov/resources/variables/line_bene_ptb_ddctbl_amt|Line Beneficiary Part B Deductible Amount|NO_INSURANCE              |2005-05-02T03:59:33-04:00|\n",
      "|03a8d3d0-079f-1ab2-eb4a-3961b3d71854|urn:uuid:7ca297d1-94e0-8069-4cdb-50f313de9a5f|0.0               |USD     |[{https://bluebutton.cms.gov/resources/variables/line_bene_ptb_ddctbl_amt, Line Beneficiary Part B Deductible Amount, https://bluebutton.cms.gov/resources/codesystem/adjudication}]|https://bluebutton.cms.gov/resources/variables/line_bene_ptb_ddctbl_amt|Line Beneficiary Part B Deductible Amount|NO_INSURANCE              |2005-05-02T03:59:33-04:00|\n",
      "|03a8d3d0-079f-1ab2-eb4a-3961b3d71854|urn:uuid:7ca297d1-94e0-8069-4cdb-50f313de9a5f|0.0               |USD     |[{https://bluebutton.cms.gov/resources/variables/line_bene_ptb_ddctbl_amt, Line Beneficiary Part B Deductible Amount, https://bluebutton.cms.gov/resources/codesystem/adjudication}]|https://bluebutton.cms.gov/resources/variables/line_bene_ptb_ddctbl_amt|Line Beneficiary Part B Deductible Amount|NO_INSURANCE              |2005-05-02T03:59:33-04:00|\n",
      "+------------------------------------+---------------------------------------------+------------------+--------+------------------------------------------------------------------------------------------------------------------------------------------------------------------------------------+-----------------------------------------------------------------------+-----------------------------------------+--------------------------+-------------------------+\n",
      "only showing top 20 rows\n",
      "\n"
     ]
    }
   ],
   "source": [
    "adjudication_with_claims_df = adjudication_details_df.join(\n",
    "    explanation_of_benefit_df.select(\"eob_id\", \"insurance_coverage_display\", \"billable_period_start\"),\n",
    "    [\"eob_id\"],\n",
    "    how=\"inner\"\n",
    ")\n",
    "\n",
    "adjudication_with_claims_df.show(truncate=False)"
   ]
  },
  {
   "cell_type": "code",
   "execution_count": 100,
   "id": "420d9d26-b6c4-4518-97df-c0e62b0a29ad",
   "metadata": {},
   "outputs": [
    {
     "name": "stdout",
     "output_type": "stream",
     "text": [
      "+------------------------------------+---------------------------------------------+------------------+--------+-----------------------------------------+-------------------------+\n",
      "|eob_id                              |patient_reference                            |value             |currency|category_display                         |billable_period_start    |\n",
      "+------------------------------------+---------------------------------------------+------------------+--------+-----------------------------------------+-------------------------+\n",
      "|03a8d3d0-079f-1ab2-eb4a-3961b3d71854|urn:uuid:7ca297d1-94e0-8069-4cdb-50f313de9a5f|27.200000000000003|USD     |Line Beneficiary Coinsurance Amount      |2005-05-02T03:59:33-04:00|\n",
      "|03a8d3d0-079f-1ab2-eb4a-3961b3d71854|urn:uuid:7ca297d1-94e0-8069-4cdb-50f313de9a5f|27.200000000000003|USD     |Line Beneficiary Coinsurance Amount      |2005-05-02T03:59:33-04:00|\n",
      "|03a8d3d0-079f-1ab2-eb4a-3961b3d71854|urn:uuid:7ca297d1-94e0-8069-4cdb-50f313de9a5f|27.200000000000003|USD     |Line Beneficiary Coinsurance Amount      |2005-05-02T03:59:33-04:00|\n",
      "|03a8d3d0-079f-1ab2-eb4a-3961b3d71854|urn:uuid:7ca297d1-94e0-8069-4cdb-50f313de9a5f|27.200000000000003|USD     |Line Beneficiary Coinsurance Amount      |2005-05-02T03:59:33-04:00|\n",
      "|03a8d3d0-079f-1ab2-eb4a-3961b3d71854|urn:uuid:7ca297d1-94e0-8069-4cdb-50f313de9a5f|108.80000000000001|USD     |Line Provider Payment Amount             |2005-05-02T03:59:33-04:00|\n",
      "|03a8d3d0-079f-1ab2-eb4a-3961b3d71854|urn:uuid:7ca297d1-94e0-8069-4cdb-50f313de9a5f|108.80000000000001|USD     |Line Provider Payment Amount             |2005-05-02T03:59:33-04:00|\n",
      "|03a8d3d0-079f-1ab2-eb4a-3961b3d71854|urn:uuid:7ca297d1-94e0-8069-4cdb-50f313de9a5f|108.80000000000001|USD     |Line Provider Payment Amount             |2005-05-02T03:59:33-04:00|\n",
      "|03a8d3d0-079f-1ab2-eb4a-3961b3d71854|urn:uuid:7ca297d1-94e0-8069-4cdb-50f313de9a5f|108.80000000000001|USD     |Line Provider Payment Amount             |2005-05-02T03:59:33-04:00|\n",
      "|03a8d3d0-079f-1ab2-eb4a-3961b3d71854|urn:uuid:7ca297d1-94e0-8069-4cdb-50f313de9a5f|136.0             |USD     |Line Submitted Charge Amount             |2005-05-02T03:59:33-04:00|\n",
      "|03a8d3d0-079f-1ab2-eb4a-3961b3d71854|urn:uuid:7ca297d1-94e0-8069-4cdb-50f313de9a5f|136.0             |USD     |Line Submitted Charge Amount             |2005-05-02T03:59:33-04:00|\n",
      "|03a8d3d0-079f-1ab2-eb4a-3961b3d71854|urn:uuid:7ca297d1-94e0-8069-4cdb-50f313de9a5f|136.0             |USD     |Line Submitted Charge Amount             |2005-05-02T03:59:33-04:00|\n",
      "|03a8d3d0-079f-1ab2-eb4a-3961b3d71854|urn:uuid:7ca297d1-94e0-8069-4cdb-50f313de9a5f|136.0             |USD     |Line Submitted Charge Amount             |2005-05-02T03:59:33-04:00|\n",
      "|03a8d3d0-079f-1ab2-eb4a-3961b3d71854|urn:uuid:7ca297d1-94e0-8069-4cdb-50f313de9a5f|136.0             |USD     |Line Allowed Charge Amount               |2005-05-02T03:59:33-04:00|\n",
      "|03a8d3d0-079f-1ab2-eb4a-3961b3d71854|urn:uuid:7ca297d1-94e0-8069-4cdb-50f313de9a5f|136.0             |USD     |Line Allowed Charge Amount               |2005-05-02T03:59:33-04:00|\n",
      "|03a8d3d0-079f-1ab2-eb4a-3961b3d71854|urn:uuid:7ca297d1-94e0-8069-4cdb-50f313de9a5f|136.0             |USD     |Line Allowed Charge Amount               |2005-05-02T03:59:33-04:00|\n",
      "|03a8d3d0-079f-1ab2-eb4a-3961b3d71854|urn:uuid:7ca297d1-94e0-8069-4cdb-50f313de9a5f|136.0             |USD     |Line Allowed Charge Amount               |2005-05-02T03:59:33-04:00|\n",
      "|03a8d3d0-079f-1ab2-eb4a-3961b3d71854|urn:uuid:7ca297d1-94e0-8069-4cdb-50f313de9a5f|0.0               |USD     |Line Beneficiary Part B Deductible Amount|2005-05-02T03:59:33-04:00|\n",
      "|03a8d3d0-079f-1ab2-eb4a-3961b3d71854|urn:uuid:7ca297d1-94e0-8069-4cdb-50f313de9a5f|0.0               |USD     |Line Beneficiary Part B Deductible Amount|2005-05-02T03:59:33-04:00|\n",
      "|03a8d3d0-079f-1ab2-eb4a-3961b3d71854|urn:uuid:7ca297d1-94e0-8069-4cdb-50f313de9a5f|0.0               |USD     |Line Beneficiary Part B Deductible Amount|2005-05-02T03:59:33-04:00|\n",
      "|03a8d3d0-079f-1ab2-eb4a-3961b3d71854|urn:uuid:7ca297d1-94e0-8069-4cdb-50f313de9a5f|0.0               |USD     |Line Beneficiary Part B Deductible Amount|2005-05-02T03:59:33-04:00|\n",
      "+------------------------------------+---------------------------------------------+------------------+--------+-----------------------------------------+-------------------------+\n",
      "only showing top 20 rows\n",
      "\n",
      "root\n",
      " |-- eob_id: string (nullable = true)\n",
      " |-- patient_reference: string (nullable = true)\n",
      " |-- value: double (nullable = true)\n",
      " |-- currency: string (nullable = true)\n",
      " |-- category_display: string (nullable = true)\n",
      " |-- billable_period_start: string (nullable = true)\n",
      "\n"
     ]
    }
   ],
   "source": [
    "adjudication_with_claims_cleaned_df = adjudication_with_claims_df.drop(\"coding\", \"category_code\", \"insurance_coverage_display\")\n",
    "adjudication_with_claims_cleaned_df.show(truncate=False)\n",
    "adjudication_with_claims_cleaned_df.printSchema()"
   ]
  },
  {
   "cell_type": "markdown",
   "id": "ba2f2e9b-6216-402a-82b3-0a2f46e3038e",
   "metadata": {},
   "source": [
    "Creating our cleaned and final df for claims also cleaning the patient reference so we can match that with the encounter_patient df."
   ]
  },
  {
   "cell_type": "code",
   "execution_count": 102,
   "id": "add437af-d4dd-49ef-aa8b-4fce93a08c82",
   "metadata": {},
   "outputs": [
    {
     "name": "stdout",
     "output_type": "stream",
     "text": [
      "+------------------------------------+\n",
      "|patient_reference                   |\n",
      "+------------------------------------+\n",
      "|7ca297d1-94e0-8069-4cdb-50f313de9a5f|\n",
      "|b4b67625-c44c-a832-7aba-3a2ae02a4ef1|\n",
      "|0ff36c90-7124-3569-9591-75c6386f45f5|\n",
      "|c8af2e36-e7d2-fc26-de8c-8936c9e4705e|\n",
      "|43dceade-79e7-fc0f-8245-59ec5feb4174|\n",
      "|3ed96c8a-2671-2959-57cd-b3aeb8b16af0|\n",
      "|37b0788d-2389-b706-52e0-7938f80f3f23|\n",
      "|8fc4d8c6-1ae5-2736-1158-ef55c405db8d|\n",
      "|5bbda3f6-ee30-6a51-ebbd-19cd0a6b119d|\n",
      "|33c6c178-b195-c16c-0045-02f5f4b53073|\n",
      "|d59c9ad1-8a83-f0f0-a080-635ff42b43fa|\n",
      "|fb47aa81-57a0-edc1-185d-891ad133034b|\n",
      "|fbcfe59a-ee76-74ed-240c-a0f3c9d46c04|\n",
      "|000002d9-3788-19b0-0631-c4cad43fe513|\n",
      "|047c5aaf-d8cb-a31b-189a-f28e0efb78e0|\n",
      "+------------------------------------+\n",
      "\n",
      "+------------------------------------+------------------------------------+------------------+--------+-----------------------------------+-------------------------+\n",
      "|eob_id                              |patient_reference                   |value             |currency|category_display                   |billable_period_start    |\n",
      "+------------------------------------+------------------------------------+------------------+--------+-----------------------------------+-------------------------+\n",
      "|03a8d3d0-079f-1ab2-eb4a-3961b3d71854|7ca297d1-94e0-8069-4cdb-50f313de9a5f|27.200000000000003|USD     |Line Beneficiary Coinsurance Amount|2005-05-02T03:59:33-04:00|\n",
      "|03a8d3d0-079f-1ab2-eb4a-3961b3d71854|7ca297d1-94e0-8069-4cdb-50f313de9a5f|27.200000000000003|USD     |Line Beneficiary Coinsurance Amount|2005-05-02T03:59:33-04:00|\n",
      "|03a8d3d0-079f-1ab2-eb4a-3961b3d71854|7ca297d1-94e0-8069-4cdb-50f313de9a5f|27.200000000000003|USD     |Line Beneficiary Coinsurance Amount|2005-05-02T03:59:33-04:00|\n",
      "|03a8d3d0-079f-1ab2-eb4a-3961b3d71854|7ca297d1-94e0-8069-4cdb-50f313de9a5f|27.200000000000003|USD     |Line Beneficiary Coinsurance Amount|2005-05-02T03:59:33-04:00|\n",
      "|03a8d3d0-079f-1ab2-eb4a-3961b3d71854|7ca297d1-94e0-8069-4cdb-50f313de9a5f|108.80000000000001|USD     |Line Provider Payment Amount       |2005-05-02T03:59:33-04:00|\n",
      "|03a8d3d0-079f-1ab2-eb4a-3961b3d71854|7ca297d1-94e0-8069-4cdb-50f313de9a5f|108.80000000000001|USD     |Line Provider Payment Amount       |2005-05-02T03:59:33-04:00|\n",
      "|03a8d3d0-079f-1ab2-eb4a-3961b3d71854|7ca297d1-94e0-8069-4cdb-50f313de9a5f|108.80000000000001|USD     |Line Provider Payment Amount       |2005-05-02T03:59:33-04:00|\n",
      "|03a8d3d0-079f-1ab2-eb4a-3961b3d71854|7ca297d1-94e0-8069-4cdb-50f313de9a5f|108.80000000000001|USD     |Line Provider Payment Amount       |2005-05-02T03:59:33-04:00|\n",
      "|03a8d3d0-079f-1ab2-eb4a-3961b3d71854|7ca297d1-94e0-8069-4cdb-50f313de9a5f|136.0             |USD     |Line Submitted Charge Amount       |2005-05-02T03:59:33-04:00|\n",
      "|03a8d3d0-079f-1ab2-eb4a-3961b3d71854|7ca297d1-94e0-8069-4cdb-50f313de9a5f|136.0             |USD     |Line Submitted Charge Amount       |2005-05-02T03:59:33-04:00|\n",
      "+------------------------------------+------------------------------------+------------------+--------+-----------------------------------+-------------------------+\n",
      "only showing top 10 rows\n",
      "\n"
     ]
    }
   ],
   "source": [
    "eob_final_df_cleaned = adjudication_with_claims_cleaned_df.withColumn(\n",
    "    \"patient_reference\",\n",
    "    regexp_replace(\"patient_reference\", \"urn:uuid:\", \"\")\n",
    ")\n",
    "\n",
    "eob_final_df_cleaned.select(\"patient_reference\").distinct().show(truncate=False)\n",
    "eob_final_df_cleaned.show(10, truncate=False)"
   ]
  },
  {
   "cell_type": "markdown",
   "id": "dab8642a-476b-41ac-8860-2bce48d749a9",
   "metadata": {},
   "source": [
    "Joining this df with our patient and encounter df to get an explanation of benefits with demographics and encounter information"
   ]
  },
  {
   "cell_type": "code",
   "execution_count": 114,
   "id": "ef3ff4ff-6400-4b26-a8a5-ea6e808bf66a",
   "metadata": {},
   "outputs": [
    {
     "name": "stdout",
     "output_type": "stream",
     "text": [
      "root\n",
      " |-- patient_reference: string (nullable = true)\n",
      " |-- eob_id: string (nullable = true)\n",
      " |-- value: double (nullable = true)\n",
      " |-- currency: string (nullable = true)\n",
      " |-- category_display: string (nullable = true)\n",
      " |-- billable_period_start: string (nullable = true)\n",
      " |-- gender: string (nullable = true)\n",
      " |-- age: integer (nullable = true)\n",
      " |-- marital_status: string (nullable = false)\n",
      " |-- age_group: string (nullable = false)\n",
      "\n",
      "+------------------------------------+------------------------------------+------------------+--------+-----------------------------------+-------------------------+------+---+--------------+---------+\n",
      "|patient_reference                   |eob_id                              |value             |currency|category_display                   |billable_period_start    |gender|age|marital_status|age_group|\n",
      "+------------------------------------+------------------------------------+------------------+--------+-----------------------------------+-------------------------+------+---+--------------+---------+\n",
      "|000002d9-3788-19b0-0631-c4cad43fe513|e5e6764b-81c8-93bc-28d7-497d0796f5c5|27.200000000000003|USD     |Line Beneficiary Coinsurance Amount|2019-05-13T04:53:22-04:00|female|5  |Never Married |Child    |\n",
      "|000002d9-3788-19b0-0631-c4cad43fe513|e5e6764b-81c8-93bc-28d7-497d0796f5c5|27.200000000000003|USD     |Line Beneficiary Coinsurance Amount|2019-05-13T04:53:22-04:00|female|5  |Never Married |Child    |\n",
      "|000002d9-3788-19b0-0631-c4cad43fe513|e5e6764b-81c8-93bc-28d7-497d0796f5c5|27.200000000000003|USD     |Line Beneficiary Coinsurance Amount|2019-05-13T04:53:22-04:00|female|5  |Never Married |Child    |\n",
      "|000002d9-3788-19b0-0631-c4cad43fe513|e5e6764b-81c8-93bc-28d7-497d0796f5c5|27.200000000000003|USD     |Line Beneficiary Coinsurance Amount|2019-05-13T04:53:22-04:00|female|5  |Never Married |Child    |\n",
      "|000002d9-3788-19b0-0631-c4cad43fe513|e5e6764b-81c8-93bc-28d7-497d0796f5c5|27.200000000000003|USD     |Line Beneficiary Coinsurance Amount|2019-05-13T04:53:22-04:00|female|5  |Never Married |Child    |\n",
      "|000002d9-3788-19b0-0631-c4cad43fe513|e5e6764b-81c8-93bc-28d7-497d0796f5c5|27.200000000000003|USD     |Line Beneficiary Coinsurance Amount|2019-05-13T04:53:22-04:00|female|5  |Never Married |Child    |\n",
      "|000002d9-3788-19b0-0631-c4cad43fe513|e5e6764b-81c8-93bc-28d7-497d0796f5c5|27.200000000000003|USD     |Line Beneficiary Coinsurance Amount|2019-05-13T04:53:22-04:00|female|5  |Never Married |Child    |\n",
      "|000002d9-3788-19b0-0631-c4cad43fe513|e5e6764b-81c8-93bc-28d7-497d0796f5c5|27.200000000000003|USD     |Line Beneficiary Coinsurance Amount|2019-05-13T04:53:22-04:00|female|5  |Never Married |Child    |\n",
      "|000002d9-3788-19b0-0631-c4cad43fe513|e5e6764b-81c8-93bc-28d7-497d0796f5c5|27.200000000000003|USD     |Line Beneficiary Coinsurance Amount|2019-05-13T04:53:22-04:00|female|5  |Never Married |Child    |\n",
      "|000002d9-3788-19b0-0631-c4cad43fe513|e5e6764b-81c8-93bc-28d7-497d0796f5c5|27.200000000000003|USD     |Line Beneficiary Coinsurance Amount|2019-05-13T04:53:22-04:00|female|5  |Never Married |Child    |\n",
      "|000002d9-3788-19b0-0631-c4cad43fe513|e5e6764b-81c8-93bc-28d7-497d0796f5c5|27.200000000000003|USD     |Line Beneficiary Coinsurance Amount|2019-05-13T04:53:22-04:00|female|5  |Never Married |Child    |\n",
      "|000002d9-3788-19b0-0631-c4cad43fe513|e5e6764b-81c8-93bc-28d7-497d0796f5c5|27.200000000000003|USD     |Line Beneficiary Coinsurance Amount|2019-05-13T04:53:22-04:00|female|5  |Never Married |Child    |\n",
      "|000002d9-3788-19b0-0631-c4cad43fe513|e5e6764b-81c8-93bc-28d7-497d0796f5c5|27.200000000000003|USD     |Line Beneficiary Coinsurance Amount|2019-05-13T04:53:22-04:00|female|5  |Never Married |Child    |\n",
      "|000002d9-3788-19b0-0631-c4cad43fe513|e5e6764b-81c8-93bc-28d7-497d0796f5c5|27.200000000000003|USD     |Line Beneficiary Coinsurance Amount|2019-05-13T04:53:22-04:00|female|5  |Never Married |Child    |\n",
      "|000002d9-3788-19b0-0631-c4cad43fe513|e5e6764b-81c8-93bc-28d7-497d0796f5c5|27.200000000000003|USD     |Line Beneficiary Coinsurance Amount|2019-05-13T04:53:22-04:00|female|5  |Never Married |Child    |\n",
      "|000002d9-3788-19b0-0631-c4cad43fe513|e5e6764b-81c8-93bc-28d7-497d0796f5c5|27.200000000000003|USD     |Line Beneficiary Coinsurance Amount|2019-05-13T04:53:22-04:00|female|5  |Never Married |Child    |\n",
      "|000002d9-3788-19b0-0631-c4cad43fe513|e5e6764b-81c8-93bc-28d7-497d0796f5c5|27.200000000000003|USD     |Line Beneficiary Coinsurance Amount|2019-05-13T04:53:22-04:00|female|5  |Never Married |Child    |\n",
      "|000002d9-3788-19b0-0631-c4cad43fe513|e5e6764b-81c8-93bc-28d7-497d0796f5c5|27.200000000000003|USD     |Line Beneficiary Coinsurance Amount|2019-05-13T04:53:22-04:00|female|5  |Never Married |Child    |\n",
      "|000002d9-3788-19b0-0631-c4cad43fe513|e5e6764b-81c8-93bc-28d7-497d0796f5c5|27.200000000000003|USD     |Line Beneficiary Coinsurance Amount|2019-05-13T04:53:22-04:00|female|5  |Never Married |Child    |\n",
      "|000002d9-3788-19b0-0631-c4cad43fe513|e5e6764b-81c8-93bc-28d7-497d0796f5c5|27.200000000000003|USD     |Line Beneficiary Coinsurance Amount|2019-05-13T04:53:22-04:00|female|5  |Never Married |Child    |\n",
      "+------------------------------------+------------------------------------+------------------+--------+-----------------------------------+-------------------------+------+---+--------------+---------+\n",
      "only showing top 20 rows\n",
      "\n"
     ]
    }
   ],
   "source": [
    "eob_with_demographics_df = eob_final_df_cleaned.join(\n",
    "    filtered_encounter_patient_df.select(\"patient_reference\", \"gender\", \"age\", \"marital_status\", \"age_group\"),\n",
    "    [\"patient_reference\"],\n",
    "    how=\"inner\"\n",
    ")\n",
    "\n",
    "eob_with_demographics_df.printSchema()\n",
    "eob_with_demographics_df.show(truncate=False)\n"
   ]
  },
  {
   "cell_type": "code",
   "execution_count": 115,
   "id": "b2aaf8fe-9bac-4c56-b8bb-81b2e05ff7bc",
   "metadata": {},
   "outputs": [
    {
     "name": "stdout",
     "output_type": "stream",
     "text": [
      "+-----------------------------------------+\n",
      "|category_display                         |\n",
      "+-----------------------------------------+\n",
      "|Line Submitted Charge Amount             |\n",
      "|Line Beneficiary Coinsurance Amount      |\n",
      "|Line Allowed Charge Amount               |\n",
      "|Line Provider Payment Amount             |\n",
      "|Line Beneficiary Part B Deductible Amount|\n",
      "|Line Processing Indicator Code           |\n",
      "+-----------------------------------------+\n",
      "\n"
     ]
    }
   ],
   "source": [
    "eob_with_demographics_df.select(\"category_display\").distinct().show(truncate=False)\n"
   ]
  },
  {
   "cell_type": "markdown",
   "id": "616355bd-27e5-435c-9128-f5cf89385a05",
   "metadata": {},
   "source": [
    "Standardizing the categories "
   ]
  },
  {
   "cell_type": "code",
   "execution_count": 116,
   "id": "b4ce2715-a95f-410a-8029-38a4d036ab15",
   "metadata": {},
   "outputs": [],
   "source": [
    "eob_with_demographics_df = eob_with_demographics_df.withColumn(\n",
    "    \"category_display_normalized\",\n",
    "    trim(lower(col(\"category_display\")))\n",
    ")"
   ]
  },
  {
   "cell_type": "code",
   "execution_count": 117,
   "id": "9252198b-fcfe-4c35-8687-f3f5962d93d9",
   "metadata": {},
   "outputs": [
    {
     "name": "stdout",
     "output_type": "stream",
     "text": [
      "+-----------------------------------------+-----------------------------------------+\n",
      "|category_display                         |category_display_normalized              |\n",
      "+-----------------------------------------+-----------------------------------------+\n",
      "|Line Provider Payment Amount             |line provider payment amount             |\n",
      "|Line Processing Indicator Code           |line processing indicator code           |\n",
      "|Line Submitted Charge Amount             |line submitted charge amount             |\n",
      "|Line Beneficiary Part B Deductible Amount|line beneficiary part b deductible amount|\n",
      "|Line Allowed Charge Amount               |line allowed charge amount               |\n",
      "|Line Beneficiary Coinsurance Amount      |line beneficiary coinsurance amount      |\n",
      "+-----------------------------------------+-----------------------------------------+\n",
      "\n"
     ]
    }
   ],
   "source": [
    "eob_with_demographics_df.select(\"category_display\", \"category_display_normalized\").distinct().show(truncate=False)"
   ]
  },
  {
   "cell_type": "code",
   "execution_count": 118,
   "id": "ba75d761-152c-4a62-b8dc-ba259579d245",
   "metadata": {},
   "outputs": [
    {
     "name": "stdout",
     "output_type": "stream",
     "text": [
      "+------------------+\n",
      "|category_display  |\n",
      "+------------------+\n",
      "|Part B Deductible |\n",
      "|Unknown           |\n",
      "|Provider Payment  |\n",
      "|Submitted Charge  |\n",
      "|Allowed Charge    |\n",
      "|Coinsurance Amount|\n",
      "+------------------+\n",
      "\n"
     ]
    }
   ],
   "source": [
    "eob_with_demographics_df = eob_with_demographics_df.withColumn(\n",
    "    \"category_display\",\n",
    "    trim(lower(col(\"category_display\")))\n",
    ")\n",
    "\n",
    "eob_with_demographics_df = eob_with_demographics_df.withColumn(\n",
    "    \"category_display\",\n",
    "    when(col(\"category_display\") == \"line submitted charge amount\", \"Submitted Charge\")\n",
    "    .when(col(\"category_display\") == \"line beneficiary coinsurance amount\", \"Coinsurance Amount\")\n",
    "    .when(col(\"category_display\") == \"line allowed charge amount\", \"Allowed Charge\")\n",
    "    .when(col(\"category_display\") == \"line provider payment amount\", \"Provider Payment\")\n",
    "    .when(col(\"category_display\") == \"line beneficiary part b deductible amount\", \"Part B Deductible\")\n",
    "    .when(col(\"category_display\") == \"line processing indicator Code\", \"Processing Indicator\")\n",
    "    .otherwise(\"Unknown\")  # if I have any unexpected values just in case\n",
    ")\n",
    "\n",
    "eob_with_demographics_df.select(\"category_display\").distinct().show(truncate=False)"
   ]
  },
  {
   "cell_type": "markdown",
   "id": "1f13c2d9-3008-4bc6-a1e9-fd70938ebc14",
   "metadata": {},
   "source": [
    "Removed the unknown and part b deductible from my categories since unknown categories have no values and part b deductible is always 0"
   ]
  },
  {
   "cell_type": "code",
   "execution_count": 149,
   "id": "4e2f8658-085f-4ac0-a8cb-dfb5637e2581",
   "metadata": {},
   "outputs": [
    {
     "name": "stdout",
     "output_type": "stream",
     "text": [
      "+------------------+------------------+\n",
      "|category_display  |avg_value         |\n",
      "+------------------+------------------+\n",
      "|Provider Payment  |2316.1156098525403|\n",
      "|Submitted Charge  |2895.1445123169983|\n",
      "|Allowed Charge    |2895.1445123169983|\n",
      "|Coinsurance Amount|579.0289024631351 |\n",
      "+------------------+------------------+\n",
      "\n"
     ]
    }
   ],
   "source": [
    "eob_with_demographics_filtered_df = eob_with_demographics_df.filter(\n",
    "    (col(\"category_display\") != \"Unknown\") & \n",
    "    (col(\"category_display\") != \"Part B Deductible\")\n",
    ")\n",
    "eob_with_demographics_filtered_df.groupBy(\"category_display\").agg(\n",
    "    mean(\"value\").alias(\"avg_value\")\n",
    ").show(truncate=False)"
   ]
  },
  {
   "cell_type": "markdown",
   "id": "a8f92988-c6e1-4831-a621-a5ae94ae9c27",
   "metadata": {},
   "source": [
    "#### Average Value by Category"
   ]
  },
  {
   "cell_type": "code",
   "execution_count": null,
   "id": "bf065a39-ee94-44cb-be36-080075b61c6b",
   "metadata": {},
   "outputs": [],
   "source": [
    "category_display_avg_value = eob_with_demographics_filtered_df.groupBy(\"category_display\").agg(\n",
    "    mean(\"value\").alias(\"avg_value\")\n",
    ").toPandas()\n",
    "\n",
    "plt.figure(figsize=(10, 6))\n",
    "sns.barplot(data=category_display_avg_value, x=\"category_display\", y=\"avg_value\", palette=\"Set2\")\n",
    "plt.title(\"Average Value by Category Display\")\n",
    "plt.xlabel(\"Category Display\")\n",
    "plt.ylabel(\"Average Value\")\n",
    "plt.xticks(rotation=45)\n",
    "plt.tight_layout()\n",
    "plt.show()\n",
    "\n",
    "upload_plot_to_s3(plt, \"AverageValuebyCategory\")"
   ]
  },
  {
   "cell_type": "code",
   "execution_count": 133,
   "id": "5cb45773-0449-4dfa-9a4b-e2490778a742",
   "metadata": {},
   "outputs": [
    {
     "name": "stdout",
     "output_type": "stream",
     "text": [
      "+------------------+------+------------------+\n",
      "|category_display  |gender|avg_value         |\n",
      "+------------------+------+------------------+\n",
      "|Allowed Charge    |female|2782.4680875002423|\n",
      "|Allowed Charge    |male  |3215.473803239008 |\n",
      "|Coinsurance Amount|female|556.4936174997423 |\n",
      "|Coinsurance Amount|male  |643.0947606466993 |\n",
      "|Part B Deductible |female|0.0               |\n",
      "|Part B Deductible |male  |0.0               |\n",
      "|Provider Payment  |female|2225.974469998969 |\n",
      "|Provider Payment  |male  |2572.3790425867974|\n",
      "|Submitted Charge  |female|2782.4680875002423|\n",
      "|Submitted Charge  |male  |3215.473803239008 |\n",
      "+------------------+------+------------------+\n",
      "\n"
     ]
    }
   ],
   "source": [
    "eob_with_demographics_filtered_df.groupBy(\"category_display\", \"gender\").agg(\n",
    "    mean(\"value\").alias(\"avg_value\")\n",
    ").orderBy(\"category_display\", \"gender\").show(truncate=False)"
   ]
  },
  {
   "cell_type": "markdown",
   "id": "0634ce02-0cb0-4670-89ae-f07a565a3390",
   "metadata": {},
   "source": [
    "#### Average Value by Category Display and Gender"
   ]
  },
  {
   "cell_type": "code",
   "execution_count": 152,
   "id": "7ead537b-7c26-4a1a-98cd-4a6b53c7ff8c",
   "metadata": {},
   "outputs": [
    {
     "ename": "NameError",
     "evalue": "name 'category_gender_avg_value' is not defined",
     "output_type": "error",
     "traceback": [
      "\u001b[1;31m---------------------------------------------------------------------------\u001b[0m",
      "\u001b[1;31mNameError\u001b[0m                                 Traceback (most recent call last)",
      "Cell \u001b[1;32mIn[152], line 2\u001b[0m\n\u001b[0;32m      1\u001b[0m plt\u001b[38;5;241m.\u001b[39mfigure(figsize\u001b[38;5;241m=\u001b[39m(\u001b[38;5;241m12\u001b[39m, \u001b[38;5;241m8\u001b[39m))\n\u001b[1;32m----> 2\u001b[0m sns\u001b[38;5;241m.\u001b[39mcatplot(data\u001b[38;5;241m=\u001b[39m\u001b[43mcategory_gender_avg_value\u001b[49m, x\u001b[38;5;241m=\u001b[39m\u001b[38;5;124m\"\u001b[39m\u001b[38;5;124mcategory_display\u001b[39m\u001b[38;5;124m\"\u001b[39m, y\u001b[38;5;241m=\u001b[39m\u001b[38;5;124m\"\u001b[39m\u001b[38;5;124mavg_value\u001b[39m\u001b[38;5;124m\"\u001b[39m, hue\u001b[38;5;241m=\u001b[39m\u001b[38;5;124m\"\u001b[39m\u001b[38;5;124mgender\u001b[39m\u001b[38;5;124m\"\u001b[39m, kind\u001b[38;5;241m=\u001b[39m\u001b[38;5;124m\"\u001b[39m\u001b[38;5;124mbar\u001b[39m\u001b[38;5;124m\"\u001b[39m, height\u001b[38;5;241m=\u001b[39m\u001b[38;5;241m6\u001b[39m, aspect\u001b[38;5;241m=\u001b[39m\u001b[38;5;241m2\u001b[39m)\n\u001b[0;32m      3\u001b[0m plt\u001b[38;5;241m.\u001b[39mtitle(\u001b[38;5;124m\"\u001b[39m\u001b[38;5;124mAverage Value by Category Display and Gender\u001b[39m\u001b[38;5;124m\"\u001b[39m)\n\u001b[0;32m      4\u001b[0m plt\u001b[38;5;241m.\u001b[39mxlabel(\u001b[38;5;124m\"\u001b[39m\u001b[38;5;124mCategory Display\u001b[39m\u001b[38;5;124m\"\u001b[39m)\n",
      "\u001b[1;31mNameError\u001b[0m: name 'category_gender_avg_value' is not defined"
     ]
    },
    {
     "data": {
      "text/plain": [
       "<Figure size 1200x800 with 0 Axes>"
      ]
     },
     "metadata": {},
     "output_type": "display_data"
    }
   ],
   "source": [
    "category_gender_avg_value = eob_with_demographics_filtered_df.groupBy(\"category_display\", \"gender\").agg(\n",
    "    mean(\"value\").alias(\"avg_value\")\n",
    ").orderBy(\"category_display\", \"gender\").toPandas()\n",
    "\n",
    "plt.figure(figsize=(12, 8))\n",
    "sns.catplot(data=category_gender_avg_value, x=\"category_display\", y=\"avg_value\", hue=\"gender\", kind=\"bar\", height=6, aspect=2)\n",
    "plt.title(\"Average Value by Category Display and Gender\")\n",
    "plt.xlabel(\"Category Display\")\n",
    "plt.ylabel(\"Average Value\")\n",
    "plt.xticks(rotation=45)\n",
    "plt.tight_layout()\n",
    "plt.show()\n",
    "upload_plot_to_s3(plt, \"AverageValuebyCategoryDisplayandGender\")"
   ]
  },
  {
   "cell_type": "code",
   "execution_count": 134,
   "id": "e900f408-99d9-4c47-97b1-c858061d8a78",
   "metadata": {},
   "outputs": [
    {
     "name": "stdout",
     "output_type": "stream",
     "text": [
      "+------------------+-----------+------------------+\n",
      "|category_display  |age_group  |avg_value         |\n",
      "+------------------+-----------+------------------+\n",
      "|Allowed Charge    |Child      |168.5460000000002 |\n",
      "|Allowed Charge    |Middle Aged|5557.485991732535 |\n",
      "|Allowed Charge    |Senior     |2572.248099286143 |\n",
      "|Allowed Charge    |Young Adult|2154.4368514531943|\n",
      "|Coinsurance Amount|Child      |33.70920000000194 |\n",
      "|Coinsurance Amount|Middle Aged|1111.4971983471346|\n",
      "|Coinsurance Amount|Senior     |514.4496198569227 |\n",
      "|Coinsurance Amount|Young Adult|430.88737029048247|\n",
      "|Part B Deductible |Child      |0.0               |\n",
      "|Part B Deductible |Middle Aged|0.0               |\n",
      "|Part B Deductible |Senior     |0.0               |\n",
      "|Part B Deductible |Young Adult|0.0               |\n",
      "|Provider Payment  |Child      |134.83680000000777|\n",
      "|Provider Payment  |Middle Aged|4445.988793388538 |\n",
      "|Provider Payment  |Senior     |2057.798479427691 |\n",
      "|Provider Payment  |Young Adult|1723.5494811619299|\n",
      "|Submitted Charge  |Child      |168.5460000000002 |\n",
      "|Submitted Charge  |Middle Aged|5557.485991732535 |\n",
      "|Submitted Charge  |Senior     |2572.248099286143 |\n",
      "|Submitted Charge  |Young Adult|2154.4368514531943|\n",
      "+------------------+-----------+------------------+\n",
      "\n"
     ]
    }
   ],
   "source": [
    "eob_with_demographics_filtered_df.groupBy(\"category_display\", \"age_group\").agg(\n",
    "    mean(\"value\").alias(\"avg_value\")\n",
    ").orderBy(\"category_display\", \"age_group\").show(truncate=False)\n"
   ]
  },
  {
   "cell_type": "markdown",
   "id": "35edf502-c762-45d1-bcfd-a71dd2816778",
   "metadata": {},
   "source": [
    "#### Avg Value by Category and Age Group"
   ]
  },
  {
   "cell_type": "code",
   "execution_count": null,
   "id": "19a74e98-0e6e-4570-9ca0-92ccb607e8a4",
   "metadata": {},
   "outputs": [],
   "source": [
    "category_age_group_avg_value = eob_with_demographics_filtered_df.groupBy(\"category_display\", \"age_group\").agg(\n",
    "    mean(\"value\").alias(\"avg_value\")\n",
    ").orderBy(\"category_display\", \"age_group\").toPandas()\n",
    "\n",
    "plt.figure(figsize=(12, 8))\n",
    "sns.catplot(data=category_age_group_avg_value, x=\"category_display\", y=\"avg_value\", hue=\"age_group\", kind=\"bar\", height=6, aspect=2)\n",
    "plt.title(\"Average Value by Category Display and Gender\")\n",
    "plt.xlabel(\"Category Display\")\n",
    "plt.ylabel(\"Average Value\")\n",
    "plt.xticks(rotation=45)\n",
    "plt.tight_layout()\n",
    "plt.show()\n",
    "upload_plot_to_s3(plt, \"AvgValuebyCategoryandAgeGroup\")"
   ]
  },
  {
   "cell_type": "markdown",
   "id": "5c6587a6-b34a-4d1b-b195-1cd5bef8af1c",
   "metadata": {},
   "source": [
    "#### Average Value by Category Display and Age Group"
   ]
  },
  {
   "cell_type": "code",
   "execution_count": null,
   "id": "4469b4f1-6b18-4ce5-be1d-9543c28fce32",
   "metadata": {},
   "outputs": [],
   "source": [
    "plt.figure(figsize=(12, 8))\n",
    "sns.catplot(data=category_age_group_avg_value, x=\"category_display\", y=\"avg_value\", hue=\"age_group\", kind=\"bar\", height=6, aspect=2)\n",
    "plt.title(\"Average Value by Category Display and Age Group\")\n",
    "plt.xlabel(\"Category Display\")\n",
    "plt.ylabel(\"Average Value\")\n",
    "plt.xticks(rotation=45)\n",
    "plt.tight_layout()\n",
    "plt.show()\n",
    "upload_plot_to_s3(plt, \"AverageValuebyCategoryDisplayandAgeGroup\")"
   ]
  },
  {
   "cell_type": "code",
   "execution_count": 137,
   "id": "8ff8b5b8-ee1e-4bdf-9c10-48c8ce485244",
   "metadata": {},
   "outputs": [
    {
     "name": "stdout",
     "output_type": "stream",
     "text": [
      "+------------------+------+-----------+--------------+------------------+\n",
      "|category_display  |gender|age_group  |marital_status|avg_value         |\n",
      "+------------------+------+-----------+--------------+------------------+\n",
      "|Allowed Charge    |female|Child      |Never Married |168.5460000000002 |\n",
      "|Allowed Charge    |female|Middle Aged|Single        |2060.843488372074 |\n",
      "|Allowed Charge    |female|Senior     |Married       |3275.954480280915 |\n",
      "|Allowed Charge    |female|Senior     |Single        |1915.7266570612328|\n",
      "|Allowed Charge    |female|Young Adult|Never Married |2770.2783545350862|\n",
      "|Allowed Charge    |male  |Middle Aged|Married       |2910.8244898815797|\n",
      "|Allowed Charge    |male  |Middle Aged|Single        |8194.897974682872 |\n",
      "|Allowed Charge    |male  |Senior     |Single        |1253.1209677639945|\n",
      "|Allowed Charge    |male  |Young Adult|Never Married |409.2140056550415 |\n",
      "|Coinsurance Amount|female|Child      |Never Married |33.70920000000194 |\n",
      "|Coinsurance Amount|female|Middle Aged|Single        |412.16869767442086|\n",
      "|Coinsurance Amount|female|Senior     |Married       |655.190896056278  |\n",
      "|Coinsurance Amount|female|Senior     |Single        |383.14533141235376|\n",
      "|Coinsurance Amount|female|Young Adult|Never Married |554.0556709069723 |\n",
      "|Coinsurance Amount|male  |Middle Aged|Married       |582.164897976176  |\n",
      "|Coinsurance Amount|male  |Middle Aged|Single        |1638.9795949372171|\n",
      "|Coinsurance Amount|male  |Senior     |Single        |250.62419355271092|\n",
      "|Coinsurance Amount|male  |Young Adult|Never Married |81.84280113097292 |\n",
      "|Part B Deductible |female|Child      |Never Married |0.0               |\n",
      "|Part B Deductible |female|Middle Aged|Single        |0.0               |\n",
      "+------------------+------+-----------+--------------+------------------+\n",
      "only showing top 20 rows\n",
      "\n"
     ]
    }
   ],
   "source": [
    "eob_with_demographics_filtered_df.groupBy(\"category_display\", \"gender\", \"age_group\", \"marital_status\").agg(\n",
    "    mean(\"value\").alias(\"avg_value\")\n",
    ").orderBy(\"category_display\", \"gender\", \"age_group\", \"marital_status\").show(truncate=False)\n",
    "\n",
    "category_gender_age_group_marital_avg_value = eob_with_demographics_filtered_df.groupBy(\n",
    "    \"category_display\", \"gender\", \"age_group\", \"marital_status\"\n",
    ").agg(\n",
    "    mean(\"value\").alias(\"avg_value\")\n",
    ").orderBy(\"category_display\", \"gender\", \"age_group\", \"marital_status\").toPandas()\n"
   ]
  },
  {
   "cell_type": "code",
   "execution_count": null,
   "id": "f15299ed-9f99-482b-a866-69b60d315f9b",
   "metadata": {},
   "outputs": [],
   "source": [
    "plt.figure(figsize=(16, 12))\n",
    "sns.catplot(\n",
    "    data=category_gender_age_group_marital_avg_value, \n",
    "    x=\"category_display\", \n",
    "    y=\"avg_value\", \n",
    "    hue=\"gender\", \n",
    "    col=\"age_group\", \n",
    "    row=\"marital_status\", \n",
    "    kind=\"bar\", \n",
    "    height=5, \n",
    "    aspect=1.5\n",
    ")\n",
    "plt.suptitle(\"Average Value by Category Display, Gender, Age Group, and Marital Status\", size=16)\n",
    "plt.tight_layout()\n",
    "plt.subplots_adjust(top=0.9)  \n",
    "plt.show()\n",
    "upload_plot_to_s3(plt, \"AverageValuebyCategoryDisplayandAgeGroupCatplot\")"
   ]
  },
  {
   "cell_type": "code",
   "execution_count": null,
   "id": "438c2635-3590-43c2-ad3a-6224ecac597a",
   "metadata": {},
   "outputs": [],
   "source": [
    "pivoted_data = category_gender_age_group_marital_avg_value.pivot_table(\n",
    "    values=\"avg_value\", \n",
    "    index=[\"gender\", \"age_group\", \"marital_status\"], \n",
    "    columns=\"category_display\"\n",
    ")\n",
    "\n",
    "plt.figure(figsize=(14, 10))\n",
    "sns.heatmap(pivoted_data, annot=True, cmap=\"YlGnBu\", fmt=\".2f\", linewidths=0.5)\n",
    "plt.title(\"Heatmap of Average Value by Gender, Age Group, Marital Status, and Category Display\")\n",
    "plt.xlabel(\"Category Display\")\n",
    "plt.ylabel(\"Gender, Age Group, Marital Status\")\n",
    "plt.tight_layout()\n",
    "plt.show()\n",
    "upload_plot_to_s3(plt, \"AverageValuebyCategoryDisplayandAgeGroupHeatmap\")"
   ]
  }
 ],
 "metadata": {
  "kernelspec": {
   "display_name": "Python 3 (ipykernel)",
   "language": "python",
   "name": "python3"
  },
  "language_info": {
   "codemirror_mode": {
    "name": "ipython",
    "version": 3
   },
   "file_extension": ".py",
   "mimetype": "text/x-python",
   "name": "python",
   "nbconvert_exporter": "python",
   "pygments_lexer": "ipython3",
   "version": "3.11.0"
  }
 },
 "nbformat": 4,
 "nbformat_minor": 5
}
