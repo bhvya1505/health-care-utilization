{
 "cells": [
  {
   "cell_type": "code",
   "id": "initial_id",
   "metadata": {
    "collapsed": true,
    "ExecuteTime": {
     "end_time": "2024-11-30T01:26:55.708263Z",
     "start_time": "2024-11-30T01:26:53.287493Z"
    }
   },
   "source": [
    "from pyspark.sql import SparkSession\n",
    "from pyspark.sql.functions import col, explode, expr\n",
    "\n",
    "# Initialize Spark session\n",
    "spark = SparkSession.builder \\\n",
    "    .appName(\"FHIR Data Pipeline\") \\\n",
    "    .getOrCreate()\n"
   ],
   "outputs": [
    {
     "name": "stderr",
     "output_type": "stream",
     "text": [
      "Setting default log level to \"WARN\".\n",
      "To adjust logging level use sc.setLogLevel(newLevel). For SparkR, use setLogLevel(newLevel).\n",
      "24/11/29 17:26:55 WARN NativeCodeLoader: Unable to load native-hadoop library for your platform... using builtin-java classes where applicable\n",
      "24/11/29 17:26:55 WARN Utils: Service 'SparkUI' could not bind on port 4040. Attempting port 4041.\n"
     ]
    }
   ],
   "execution_count": 1
  },
  {
   "metadata": {
    "ExecuteTime": {
     "end_time": "2024-11-30T01:26:57.918625Z",
     "start_time": "2024-11-30T01:26:55.711680Z"
    }
   },
   "cell_type": "code",
   "source": [
    "\n",
    "# File path\n",
    "file_path = \"data/fhir/samples\"\n",
    "\n",
    "#Output path\n",
    "output_path = \"etl\"\n",
    "\n",
    "# Read the JSON file\n",
    "data = spark.read.json(file_path, multiLine=True)\n",
    "\n",
    "# Explode the entry array\n",
    "entries = data.select(explode(col(\"entry\")).alias(\"entry\"))\n",
    "\n",
    "# Cache entries because it is used to derive all subsequent dataframes\n",
    "entries.cache()\n"
   ],
   "id": "6b638a009f7fb92b",
   "outputs": [
    {
     "name": "stderr",
     "output_type": "stream",
     "text": [
      "24/11/29 17:26:57 WARN SparkStringUtils: Truncated the string representation of a plan since it was too large. This behavior can be adjusted by setting 'spark.sql.debug.maxToStringFields'.\n"
     ]
    },
    {
     "data": {
      "text/plain": [
       "DataFrame[entry: struct<fullUrl:string,request:struct<method:string,url:string>,resource:struct<abatementDateTime:string,activity:array<struct<detail:struct<code:struct<coding:array<struct<code:string,display:string,system:string>>,text:string>,location:struct<display:string>,status:string>>>,address:array<struct<city:string,country:string,extension:array<struct<extension:array<struct<url:string,valueDecimal:double>>,url:string>>,line:array<string>,postalCode:string,state:string>>,addresses:array<struct<reference:string>>,authoredOn:string,billablePeriod:struct<end:string,start:string>,birthDate:string,careTeam:array<struct<provider:struct<reference:string>,reference:string,role:struct<coding:array<struct<code:string,display:string,system:string>>>,sequence:bigint>>,category:array<string>,claim:struct<reference:string>,class:struct<code:string,system:string>,clinicalStatus:struct<coding:array<struct<code:string,system:string>>>,code:struct<coding:array<struct<code:string,display:string,system:string>>,text:string>,communication:array<struct<language:struct<coding:array<struct<code:string,display:string,system:string>>,text:string>>>,component:array<struct<code:struct<coding:array<struct<code:string,display:string,system:string>>,text:string>,valueQuantity:struct<code:string,system:string,unit:string,value:double>>>,contained:array<struct<beneficiary:struct<reference:string>,id:string,intent:string,payor:array<struct<display:string>>,performer:array<struct<reference:string>>,requester:struct<reference:string>,resourceType:string,status:string,subject:struct<reference:string>,type:struct<text:string>>>,context:struct<reference:string>,created:string,criticality:string,deceasedDateTime:string,deviceName:array<struct<name:string,type:string>>,diagnosis:array<struct<diagnosisReference:struct<reference:string>,sequence:bigint,type:array<struct<coding:array<struct<code:string,system:string>>>>>>,distinctIdentifier:string,dosage:struct<dose:struct<value:double>,rateQuantity:struct<value:bigint>>,dosageInstruction:array<struct<additionalInstruction:array<struct<coding:array<struct<code:string,display:string,system:string>>,text:string>>,asNeededBoolean:boolean,doseAndRate:array<struct<doseQuantity:struct<value:double>,type:struct<coding:array<struct<code:string,display:string,system:string>>>>>,sequence:bigint,text:string,timing:struct<repeat:struct<frequency:bigint,period:double,periodUnit:string>>>>,effectiveDateTime:string,encounter:struct<reference:string>,expirationDate:string,extension:array<struct<url:string,valueAddress:struct<city:string,country:string,state:string>,valueDecimal:double,valueString:string>>,gender:string,hospitalization:struct<dischargeDisposition:struct<coding:array<struct<code:string,display:string,system:string>>,text:string>>,id:string,identifier:array<struct<system:string,type:struct<coding:array<struct<code:string,display:string,system:string>>,text:string>,use:string,value:string>>,insurance:array<struct<coverage:struct<display:string,reference:string>,focal:boolean,sequence:bigint>>,insurer:struct<display:string>,intent:string,issued:string,item:array<struct<adjudication:array<struct<amount:struct<currency:string,value:double>,category:struct<coding:array<struct<code:string,display:string,system:string>>>>>,category:struct<coding:array<struct<code:string,display:string,system:string>>>,diagnosisSequence:array<bigint>,encounter:array<struct<reference:string>>,informationSequence:array<bigint>,locationCodeableConcept:struct<coding:array<struct<code:string,display:string,system:string>>>,net:struct<currency:string,value:double>,procedureSequence:array<bigint>,productOrService:struct<coding:array<struct<code:string,display:string,system:string>>,text:string>,sequence:bigint,servicedPeriod:struct<end:string,start:string>>>,lotNumber:string,managingOrganization:array<struct<display:string,reference:string>>,manufactureDate:string,maritalStatus:struct<coding:array<struct<code:string,display:string,system:string>>,text:string>,medicationCodeableConcept:struct<coding:array<struct<code:string,display:string,system:string>>,text:string>,multipleBirthBoolean:boolean,name:array<struct<family:string,given:array<string>,prefix:array<string>,use:string>>,numberOfInstances:bigint,numberOfSeries:bigint,occurrenceDateTime:string,onsetDateTime:string,outcome:string,participant:array<struct<individual:struct<display:string,reference:string>,member:struct<display:string,reference:string>,period:struct<end:string,start:string>,role:array<struct<coding:array<struct<code:string,display:string,system:string>>,text:string>>,type:array<struct<coding:array<struct<code:string,display:string,system:string>>,text:string>>>>,patient:struct<display:string,reference:string>,payment:struct<amount:struct<currency:string,value:double>>,performedPeriod:struct<end:string,start:string>,period:struct<end:string,start:string>,prescription:struct<reference:string>,primarySource:boolean,priority:struct<coding:array<struct<code:string,system:string>>>,procedure:array<struct<procedureReference:struct<reference:string>,sequence:bigint>>,procedureCode:array<struct<coding:array<struct<code:string,display:string,system:string>>,text:string>>,provider:struct<display:string,reference:string>,reasonCode:array<struct<coding:array<struct<code:string,display:string,system:string>>,text:string>>,reasonReference:array<struct<display:string,reference:string>>,recordedDate:string,referral:struct<reference:string>,requester:struct<display:string,reference:string>,resourceType:string,result:array<struct<display:string,reference:string>>,serialNumber:string,series:array<struct<bodySite:struct<code:string,display:string,system:string>,instance:array<struct<number:bigint,sopClass:struct<code:string,system:string>,title:string,uid:string>>,modality:struct<code:string,display:string,system:string>,number:bigint,numberOfInstances:bigint,started:string,uid:string>>,serviceProvider:struct<display:string,reference:string>,started:string,status:string,subject:struct<display:string,reference:string>,suppliedItem:struct<itemCodeableConcept:struct<coding:array<struct<code:string,display:string,system:string>>,text:string>,quantity:struct<value:bigint>>,supportingInfo:array<struct<category:struct<coding:array<struct<code:string,system:string>>>,sequence:bigint,valueReference:struct<reference:string>>>,telecom:array<struct<system:string,use:string,value:string>>,text:struct<div:string,status:string>,total:string,type:string,udiCarrier:array<struct<carrierHRF:string,deviceIdentifier:string>>,use:string,vaccineCode:struct<coding:array<struct<code:string,display:string,system:string>>,text:string>,valueCodeableConcept:struct<coding:array<struct<code:string,display:string,system:string>>,text:string>,valueQuantity:struct<code:string,system:string,unit:string,value:double>,valueString:string,verificationStatus:struct<coding:array<struct<code:string,system:string>>>>>]"
      ]
     },
     "execution_count": 2,
     "metadata": {},
     "output_type": "execute_result"
    }
   ],
   "execution_count": 2
  },
  {
   "metadata": {},
   "cell_type": "markdown",
   "source": "### Patient",
   "id": "a3c0e6f019112637"
  },
  {
   "metadata": {
    "ExecuteTime": {
     "end_time": "2024-11-30T01:26:59.942210Z",
     "start_time": "2024-11-30T01:26:57.956235Z"
    }
   },
   "cell_type": "code",
   "source": [
    "\n",
    "# Filter patient resources\n",
    "patients = entries.filter(col(\"entry.resource.resourceType\") == \"Patient\") \\\n",
    "                  .select(col(\"entry.resource.*\"))\n",
    "\n",
    "# Extract the \"official\" name\n",
    "official_name = expr(\"\"\"\n",
    "    filter(name, x -> x.use = 'official')[0]\n",
    "\"\"\")\n",
    "\n",
    "# Extract geolocation fields\n",
    "geolocation = expr(\"\"\"\n",
    "    filter(address[0].extension, x -> x.url = 'http://hl7.org/fhir/StructureDefinition/geolocation')[0].extension\n",
    "\"\"\")\n",
    "\n",
    "# Extract all languages from communication as a list\n",
    "communication_languages = expr(\"\"\"\n",
    "    transform(communication, x -> x.language.text)\n",
    "\"\"\")\n",
    "\n",
    "# Extract identifier types\n",
    "identifier_types = expr(\"\"\"\n",
    "    transform(identifier, x -> x.type.coding[0].display)\n",
    "\"\"\")\n",
    "\n",
    "# Create the enhanced patient DataFrame\n",
    "patient_df = patients.select(\n",
    "    col(\"id\").alias(\"patient_id\"),\n",
    "    identifier_types.alias(\"identifier_types\"),\n",
    "    official_name.getField(\"family\").alias(\"last_name\"),\n",
    "    official_name.getField(\"given\").getItem(0).alias(\"first_name\"),\n",
    "    col(\"gender\").alias(\"gender\"),\n",
    "    col(\"birthDate\").alias(\"birth_date\"),\n",
    "    col(\"address\").getItem(0).getField(\"city\").alias(\"city\"),\n",
    "    col(\"address\").getItem(0).getField(\"state\").alias(\"state\"),\n",
    "    col(\"address\").getItem(0).getField(\"country\").alias(\"country\"),\n",
    "    col(\"address\").getItem(0).getField(\"postalCode\").alias(\"postal_code\"),\n",
    "    geolocation.getItem(0).getField(\"valueDecimal\").alias(\"latitude\"),\n",
    "    geolocation.getItem(1).getField(\"valueDecimal\").alias(\"longitude\"),\n",
    "    col(\"telecom\").getItem(0).getField(\"value\").alias(\"phone\"),\n",
    "    col(\"maritalStatus.text\").alias(\"marital_status\"),\n",
    "    col(\"extension\").getItem(0).getField(\"valueString\").alias(\"mothers_maiden_name\"),\n",
    "    col(\"extension\").getItem(1).getField(\"valueAddress\").getField(\"city\").alias(\"birthplace_city\"),\n",
    "    col(\"extension\").getItem(1).getField(\"valueAddress\").getField(\"state\").alias(\"birthplace_state\"),\n",
    "    col(\"extension\").getItem(1).getField(\"valueAddress\").getField(\"country\").alias(\"birthplace_country\"),\n",
    "    col(\"extension\").getItem(2).getField(\"valueDecimal\").alias(\"disability_adjusted_life_years\"),\n",
    "    col(\"extension\").getItem(3).getField(\"valueDecimal\").alias(\"quality_adjusted_life_years\"),\n",
    "    col(\"multipleBirthBoolean\").alias(\"multiple_birth\"),\n",
    "    communication_languages.alias(\"languages\")\n",
    ")\n",
    "\n",
    "# Show the resulting DataFrame\n",
    "patient_df.show(truncate=False)\n"
   ],
   "id": "10b83f7c66e3efed",
   "outputs": [
    {
     "name": "stderr",
     "output_type": "stream",
     "text": [
      "                                                                                \r"
     ]
    },
    {
     "name": "stdout",
     "output_type": "stream",
     "text": [
      "+------------------------------------+----------------------------------------------------------------------------------------+-------------+------------+------+----------+-----------------------+-------------------------+-------+-----------+------------------+-------------------+------------+--------------+-------------------------+---------------+-------------------------+------------------+------------------------------+---------------------------+--------------+---------+\n",
      "|patient_id                          |identifier_types                                                                        |last_name    |first_name  |gender|birth_date|city                   |state                    |country|postal_code|latitude          |longitude          |phone       |marital_status|mothers_maiden_name      |birthplace_city|birthplace_state         |birthplace_country|disability_adjusted_life_years|quality_adjusted_life_years|multiple_birth|languages|\n",
      "+------------------------------------+----------------------------------------------------------------------------------------+-------------+------------+------+----------+-----------------------+-------------------------+-------+-----------+------------------+-------------------+------------+--------------+-------------------------+---------------+-------------------------+------------------+------------------------------+---------------------------+--------------+---------+\n",
      "|7ca297d1-94e0-8069-4cdb-50f313de9a5f|[NULL, Medical Record Number, Social Security Number, Driver's License, Passport Number]|Murphy561    |Zenaida56   |female|1955-05-02|Clarenville            |Newfoundland and Labrador|CA     |A5A        |48.12501389713399 |-53.92252843475256 |555-305-5898|S             |Lavon272 Christiansen251 |Bay Bulls      |Newfoundland and Labrador|CA                |2.7338625827639547            |54.266137417236045         |false         |[English]|\n",
      "|c8af2e36-e7d2-fc26-de8c-8936c9e4705e|[NULL, Medical Record Number, Social Security Number, Driver's License, Passport Number]|Schmeler639  |Zenia843    |female|1932-01-30|Clyde River            |Prince Edward Island     |CA     |C1A        |46.41758999887787 |-63.25585052176373 |555-267-8817|M             |Ryan260 Lowe577          |Lot 41         |Prince Edward Island     |CA                |17.88266610855829             |69.11733389144172          |false         |[English]|\n",
      "|0ff36c90-7124-3569-9591-75c6386f45f5|[NULL, Medical Record Number, Social Security Number, Driver's License, Passport Number]|Feest103     |Zack583     |male  |1976-10-24|Hay River Dene 1       |Northwest Territories    |CA     |X1A        |62.739726053610326|-118.91433182864165|555-459-3391|S             |Dolly486 Boyer713        |Hay River      |Northwest Territories    |CA                |13.305182020937078            |30.694817979062922         |false         |[English]|\n",
      "|b4b67625-c44c-a832-7aba-3a2ae02a4ef1|[NULL, Medical Record Number, Social Security Number, Driver's License, Passport Number]|Hagenes547   |Zita788     |female|1921-09-16|Dieppe                 |New Brunswick            |CA     |E1A        |46.13854678684814 |-64.74598466358349 |555-764-5676|M             |Cristine925 Krajcik437   |Dieppe         |New Brunswick            |CA                |26.14170585712538             |71.85829414287463          |false         |[English]|\n",
      "|3ed96c8a-2671-2959-57cd-b3aeb8b16af0|[NULL, Medical Record Number, Social Security Number, Driver's License, Passport Number]|Gusikowski974|Zane918     |male  |1944-03-07|Dawson                 |Yukon                    |CA     |Y0B        |64.0730842673304  |-139.43134924611675|555-861-5473|S             |Kyoko885 Braun514        |Whitehorse     |Yukon                    |CA                |12.760364834252417            |62.239635165747586         |false         |[English]|\n",
      "|5bbda3f6-ee30-6a51-ebbd-19cd0a6b119d|[NULL, Medical Record Number, Social Security Number, Driver's License, Passport Number]|Morissette863|Zachariah133|male  |1967-05-28|Chambly                |Quebec                   |CA     |J3L        |45.43568543727035 |-73.33662889480526 |555-889-7346|M             |Deonna907 Steuber698     |Montréal       |Quebec                   |CA                |1.1335464915548155            |51.86645350844518          |false         |[English]|\n",
      "|8fc4d8c6-1ae5-2736-1158-ef55c405db8d|[NULL, Medical Record Number, Social Security Number, Driver's License, Passport Number]|Collier206   |Zulema784   |female|1948-05-10|Prince Albert          |Saskatchewan             |CA     |S6X        |53.23190505935035 |-105.70555320939029|555-522-6510|M             |Jannie509 Gaylord332     |North Grove    |Saskatchewan             |CA                |4.534778979359391             |66.46522102064061          |false         |[English]|\n",
      "|43dceade-79e7-fc0f-8245-59ec5feb4174|[NULL, Medical Record Number, Social Security Number, Driver's License, Passport Number]|Feest103     |Zandra428   |female|1998-02-28|North Cowichan         |British Columbia         |CA     |V0R        |48.85197586305505 |-123.7064674358977 |555-870-8290|Never Married |Arielle168 MacGyver246   |Kamloops       |British Columbia         |CA                |0.2352648564246976            |21.7647351435753           |false         |[English]|\n",
      "|37b0788d-2389-b706-52e0-7938f80f3f23|[NULL, Medical Record Number, Social Security Number, Driver's License, Passport Number]|Harber290    |Zachary28   |male  |1977-02-03|Division No. 4, Subd. B|Newfoundland and Labrador|CA     |A1A        |48.52235473195535 |-55.367993741065376|555-999-9943|M             |Sharika71 Bailey598      |Paradise       |Newfoundland and Labrador|CA                |20.28075539923084             |17.71924460076916          |false         |[English]|\n",
      "|fbcfe59a-ee76-74ed-240c-a0f3c9d46c04|[NULL, Medical Record Number, Social Security Number]                                   |Eichmann909  |Zachary28   |male  |1994-03-31|Toronto                |Ontario                  |CA     |M5T        |43.77829275458251 |-79.36014636017556 |555-971-7361|Never Married |Lashandra868 Considine820|Markham        |Ontario                  |CA                |0.0                           |6.0                        |false         |[English]|\n",
      "|fb47aa81-57a0-edc1-185d-891ad133034b|[NULL, Medical Record Number, Social Security Number]                                   |Koepp521     |Zita788     |female|2006-01-21|Toronto                |Ontario                  |CA     |M5T        |43.76017927942715 |-79.33393338925657 |555-412-4566|Never Married |Cary869 Cassin499        |Kingston       |Ontario                  |CA                |0.002142737663232659          |13.997857262336767         |false         |[English]|\n",
      "|33c6c178-b195-c16c-0045-02f5f4b53073|[NULL, Medical Record Number, Social Security Number, Driver's License, Passport Number]|Doyle959     |Zachary28   |male  |1997-04-13|Powell River           |British Columbia         |CA     |V8A        |49.875567621600275|-124.5682193519181 |555-801-2894|Never Married |Cherly215 McKenzie376    |Saanich        |British Columbia         |CA                |0.10556535972610256           |22.894434640273897         |false         |[English]|\n",
      "|d59c9ad1-8a83-f0f0-a080-635ff42b43fa|[NULL, Medical Record Number, Social Security Number, Driver's License, Passport Number]|Hermann103   |Zackary401  |male  |1950-02-18|Montréal               |Quebec                   |CA     |H1X        |45.54242699911329 |-73.539351988652   |555-113-2781|S             |Mardell937 Prosacco716   |Saint-Pie      |Quebec                   |CA                |0.0013755505092018219         |69.9986244494908           |false         |[English]|\n",
      "|000002d9-3788-19b0-0631-c4cad43fe513|[NULL, Medical Record Number, Social Security Number]                                   |Schmeler639  |Zetta950    |female|2019-05-13|Wallace Hills 14A      |Nova Scotia              |CA     |B3K        |44.90638228831787 |-63.963210909879436|555-850-6821|Never Married |Gaynell126 Beahan375     |Cape Breton    |Nova Scotia              |CA                |0.0                           |1.0                        |false         |[English]|\n",
      "|047c5aaf-d8cb-a31b-189a-f28e0efb78e0|[NULL, Medical Record Number, Social Security Number, Driver's License, Passport Number]|Volkman526   |Zulma701    |female|1965-08-20|Woodstock              |Newfoundland and Labrador|CA     |A1A        |48.53819876689299 |-55.41441339349075 |555-292-7037|S             |Mazie442 Jaskolski867    |St. John's     |Newfoundland and Labrador|CA                |0.11930722915184863           |46.88069277084815          |false         |[English]|\n",
      "+------------------------------------+----------------------------------------------------------------------------------------+-------------+------------+------+----------+-----------------------+-------------------------+-------+-----------+------------------+-------------------+------------+--------------+-------------------------+---------------+-------------------------+------------------+------------------------------+---------------------------+--------------+---------+\n",
      "\n"
     ]
    }
   ],
   "execution_count": 3
  },
  {
   "metadata": {
    "ExecuteTime": {
     "end_time": "2024-11-30T01:27:00.979030Z",
     "start_time": "2024-11-30T01:26:59.960625Z"
    }
   },
   "cell_type": "code",
   "source": [
    "# Save the DataFrame to Parquet format in the \"patients\" folder\n",
    "patient_df.write.mode(\"overwrite\").parquet(f\"{output_path}/patient\")\n",
    "\n",
    "print(\"Patient DataFrame has been successfully saved in Parquet format in the 'patient' folder.\")"
   ],
   "id": "c6454c0f8a1f0bd9",
   "outputs": [
    {
     "name": "stderr",
     "output_type": "stream",
     "text": [
      "24/11/29 17:27:00 WARN MemoryManager: Total allocation exceeds 95.00% (1,020,054,720 bytes) of heap memory\n",
      "Scaling row group sizes to 95.00% for 8 writers\n",
      "24/11/29 17:27:00 WARN MemoryManager: Total allocation exceeds 95.00% (1,020,054,720 bytes) of heap memory\n",
      "Scaling row group sizes to 84.44% for 9 writers\n",
      "24/11/29 17:27:00 WARN MemoryManager: Total allocation exceeds 95.00% (1,020,054,720 bytes) of heap memory\n",
      "Scaling row group sizes to 76.00% for 10 writers\n",
      "[Stage 5:>                                                        (0 + 10) / 10]\r"
     ]
    },
    {
     "name": "stdout",
     "output_type": "stream",
     "text": [
      "Patient DataFrame has been successfully saved in Parquet format in the 'patients' folder.\n"
     ]
    },
    {
     "name": "stderr",
     "output_type": "stream",
     "text": [
      "24/11/29 17:27:00 WARN MemoryManager: Total allocation exceeds 95.00% (1,020,054,720 bytes) of heap memory\n",
      "Scaling row group sizes to 84.44% for 9 writers\n",
      "24/11/29 17:27:00 WARN MemoryManager: Total allocation exceeds 95.00% (1,020,054,720 bytes) of heap memory\n",
      "Scaling row group sizes to 95.00% for 8 writers\n",
      "                                                                                \r"
     ]
    }
   ],
   "execution_count": 4
  },
  {
   "metadata": {},
   "cell_type": "markdown",
   "source": "### Encounter",
   "id": "d38ae6bbdd86b9dc"
  },
  {
   "metadata": {
    "ExecuteTime": {
     "end_time": "2024-11-30T01:27:01.206887Z",
     "start_time": "2024-11-30T01:27:00.988327Z"
    }
   },
   "cell_type": "code",
   "source": [
    "from pyspark.sql.functions import from_json\n",
    "from pyspark.sql.types import ArrayType, StructType, StructField, StringType\n",
    "\n",
    "# Define the schema for the 'type' field\n",
    "type_schema = ArrayType(\n",
    "    StructType([\n",
    "        StructField(\"coding\", ArrayType(\n",
    "            StructType([\n",
    "                StructField(\"system\", StringType(), True),\n",
    "                StructField(\"code\", StringType(), True),\n",
    "                StructField(\"display\", StringType(), True)\n",
    "            ])\n",
    "        ), True),\n",
    "        StructField(\"text\", StringType(), True)\n",
    "    ])\n",
    ")\n",
    "\n",
    "\n",
    "# Filter encounter resources\n",
    "encounters = entries.filter(col(\"entry.resource.resourceType\") == \"Encounter\") \\\n",
    "                    .select(col(\"entry.resource.*\"))\n",
    "\n",
    "# Parse the 'type' field from JSON string to structured format\n",
    "encounters = encounters.withColumn(\"type_parsed\", from_json(col(\"type\"), type_schema))\n",
    "\n",
    "# Explode the participant array to create one row per participant\n",
    "encounters_with_participants = encounters.select(\n",
    "    col(\"id\").alias(\"encounter_id\"),\n",
    "    col(\"status\").alias(\"status\"),\n",
    "    col(\"class.code\").alias(\"class_code\"),  #todo - find a better column name\n",
    "    col(\"type_parsed\").getItem(0).getField(\"text\").alias(\"type_text\"),  #todo - find a better column name\n",
    "    col(\"subject.reference\").alias(\"patient_reference\"),\n",
    "    col(\"period.start\").alias(\"start_time\"),\n",
    "    col(\"period.end\").alias(\"end_time\"),\n",
    "    col(\"serviceProvider.reference\").alias(\"service_provider_id\"),\n",
    "    col(\"serviceProvider.display\").alias(\"service_provider_display\"),\n",
    "    explode(col(\"participant\")).alias(\"participant\")\n",
    ")\n",
    "\n",
    "# Extract participant details\n",
    "encounter_with_participant_df = encounters_with_participants.select(\n",
    "    col(\"encounter_id\"),\n",
    "    col(\"status\"),\n",
    "    col(\"class_code\"),\n",
    "    col(\"type_text\"),\n",
    "    col(\"start_time\"),\n",
    "    col(\"end_time\"),\n",
    "    col(\"patient_reference\"),\n",
    "    col(\"service_provider_id\"),\n",
    "    col(\"service_provider_display\"),\n",
    "    col(\"participant.individual.display\").alias(\"participant_individual_display\"),\n",
    "    col(\"participant.individual.reference\").alias(\"participant_individual_reference\"),\n",
    "    col(\"participant.period.start\").alias(\"participant_period_start\"),\n",
    "    col(\"participant.period.end\").alias(\"participant_period_end\"),\n",
    "    col(\"participant.type\").getItem(0).getField(\"coding\").getItem(0).getField(\"code\").alias(\"participant_type_code\"),\n",
    "    col(\"participant.type\").getItem(0).getField(\"coding\").getItem(0).getField(\"display\").alias(\"participant_type_display\")\n",
    ")\n",
    "\n",
    "# Show the resulting DataFrame\n",
    "encounter_with_participant_df.show(truncate=False)\n"
   ],
   "id": "3810fb21f83a9d94",
   "outputs": [
    {
     "name": "stdout",
     "output_type": "stream",
     "text": [
      "+------------------------------------+--------+----------+------------------------------------------+-------------------------+-------------------------+---------------------------------------------+-------------------------------------------------------------------------------------------------------+--------------------------------+------------------------------+-----------------------------------------------------------------+-------------------------+-------------------------+---------------------+------------------------+\n",
      "|encounter_id                        |status  |class_code|type_text                                 |start_time               |end_time                 |patient_reference                            |service_provider_id                                                                                    |service_provider_display        |participant_individual_display|participant_individual_reference                                 |participant_period_start |participant_period_end   |participant_type_code|participant_type_display|\n",
      "+------------------------------------+--------+----------+------------------------------------------+-------------------------+-------------------------+---------------------------------------------+-------------------------------------------------------------------------------------------------------+--------------------------------+------------------------------+-----------------------------------------------------------------+-------------------------+-------------------------+---------------------+------------------------+\n",
      "|67994a7b-c816-6aa6-a5b2-2751672432e9|finished|AMB       |Encounter for symptom                     |1956-09-06T22:44:33-04:00|1956-09-06T22:59:33-04:00|urn:uuid:7ca297d1-94e0-8069-4cdb-50f313de9a5f|Organization?identifier=https://github.com/synthetichealth/synthea|066f5330-cbcc-335e-8c77-624a43292376|Dr. g.b. Cross Memorial Hospital|Dr. Almeta56 Carter549        |Practitioner?identifier=http://hl7.org/fhir/sid/us-npi|9999999939|1956-09-06T22:44:33-04:00|1956-09-06T22:59:33-04:00|PPRF                 |primary performer       |\n",
      "|bcd7f8fa-4ac1-196a-8d58-1d45d0962f05|finished|AMB       |Well child visit (procedure)              |1972-06-19T03:44:33-04:00|1972-06-19T03:59:33-04:00|urn:uuid:7ca297d1-94e0-8069-4cdb-50f313de9a5f|Organization?identifier=https://github.com/synthetichealth/synthea|ee4a206a-492f-3d2f-ba3e-63ac22b63ba6|Eastport Community Health Centre|Dr. Elfrieda676 Wintheiser220 |Practitioner?identifier=http://hl7.org/fhir/sid/us-npi|9999999359|1972-06-19T03:44:33-04:00|1972-06-19T03:59:33-04:00|PPRF                 |primary performer       |\n",
      "|6dd581fa-09c7-dc5e-69aa-55adad0bd6e2|finished|AMB       |Prenatal initial visit                    |1988-10-10T03:44:33-04:00|1988-10-10T03:59:33-04:00|urn:uuid:7ca297d1-94e0-8069-4cdb-50f313de9a5f|Organization?identifier=https://github.com/synthetichealth/synthea|066f5330-cbcc-335e-8c77-624a43292376|Dr. g.b. Cross Memorial Hospital|Dr. Almeta56 Carter549        |Practitioner?identifier=http://hl7.org/fhir/sid/us-npi|9999999939|1988-10-10T03:44:33-04:00|1988-10-10T03:59:33-04:00|PPRF                 |primary performer       |\n",
      "|1f0e1d43-e7c5-7064-f9a9-625601bd6cc9|finished|AMB       |Consultation for treatment                |2002-08-22T03:44:33-04:00|2002-08-22T04:24:22-04:00|urn:uuid:7ca297d1-94e0-8069-4cdb-50f313de9a5f|Organization?identifier=https://github.com/synthetichealth/synthea|066f5330-cbcc-335e-8c77-624a43292376|Dr. g.b. Cross Memorial Hospital|Dr. Almeta56 Carter549        |Practitioner?identifier=http://hl7.org/fhir/sid/us-npi|9999999939|2002-08-22T03:44:33-04:00|2002-08-22T04:24:22-04:00|PPRF                 |primary performer       |\n",
      "|9f03d2d1-4ec2-3373-4d4c-63d2bb091233|finished|AMB       |Encounter for symptom                     |2004-03-25T20:44:33-05:00|2004-03-25T20:59:33-05:00|urn:uuid:7ca297d1-94e0-8069-4cdb-50f313de9a5f|Organization?identifier=https://github.com/synthetichealth/synthea|066f5330-cbcc-335e-8c77-624a43292376|Dr. g.b. Cross Memorial Hospital|Dr. Almeta56 Carter549        |Practitioner?identifier=http://hl7.org/fhir/sid/us-npi|9999999939|2004-03-25T20:44:33-05:00|2004-03-25T20:59:33-05:00|PPRF                 |primary performer       |\n",
      "|7dea3a29-6f9c-b011-2d6c-b5ff8ef276de|finished|AMB       |General examination of patient (procedure)|2005-05-02T03:44:33-04:00|2005-05-02T03:59:33-04:00|urn:uuid:7ca297d1-94e0-8069-4cdb-50f313de9a5f|Organization?identifier=https://github.com/synthetichealth/synthea|ee4a206a-492f-3d2f-ba3e-63ac22b63ba6|Eastport Community Health Centre|Dr. Elfrieda676 Wintheiser220 |Practitioner?identifier=http://hl7.org/fhir/sid/us-npi|9999999359|2005-05-02T03:44:33-04:00|2005-05-02T03:59:33-04:00|PPRF                 |primary performer       |\n",
      "|b77709fa-8940-1d0e-1c51-7d1a7e85a005|finished|AMB       |Encounter for 'check-up'                  |2005-05-02T03:44:33-04:00|2005-05-02T03:59:33-04:00|urn:uuid:7ca297d1-94e0-8069-4cdb-50f313de9a5f|Organization?identifier=https://github.com/synthetichealth/synthea|066f5330-cbcc-335e-8c77-624a43292376|Dr. g.b. Cross Memorial Hospital|Dr. Almeta56 Carter549        |Practitioner?identifier=http://hl7.org/fhir/sid/us-npi|9999999939|2005-05-02T03:44:33-04:00|2005-05-02T03:59:33-04:00|PPRF                 |primary performer       |\n",
      "|678ef28a-670a-96b1-aaac-d445f00c1a57|finished|AMB       |Patient encounter procedure               |2005-08-22T03:44:33-04:00|2005-08-22T04:14:33-04:00|urn:uuid:7ca297d1-94e0-8069-4cdb-50f313de9a5f|Organization?identifier=https://github.com/synthetichealth/synthea|066f5330-cbcc-335e-8c77-624a43292376|Dr. g.b. Cross Memorial Hospital|Dr. Almeta56 Carter549        |Practitioner?identifier=http://hl7.org/fhir/sid/us-npi|9999999939|2005-08-22T03:44:33-04:00|2005-08-22T04:14:33-04:00|PPRF                 |primary performer       |\n",
      "|249c90d5-e858-2862-a20c-f755f85b2922|finished|AMB       |Encounter for problem                     |2006-01-19T02:44:33-05:00|2006-01-19T03:07:43-05:00|urn:uuid:7ca297d1-94e0-8069-4cdb-50f313de9a5f|Organization?identifier=https://github.com/synthetichealth/synthea|066f5330-cbcc-335e-8c77-624a43292376|Dr. g.b. Cross Memorial Hospital|Dr. Almeta56 Carter549        |Practitioner?identifier=http://hl7.org/fhir/sid/us-npi|9999999939|2006-01-19T02:44:33-05:00|2006-01-19T03:07:43-05:00|PPRF                 |primary performer       |\n",
      "|f2e9b264-652b-2e37-5d7b-ead701bfe233|finished|AMB       |Encounter for problem                     |2006-02-04T03:07:43-05:00|2006-02-04T03:22:43-05:00|urn:uuid:7ca297d1-94e0-8069-4cdb-50f313de9a5f|Organization?identifier=https://github.com/synthetichealth/synthea|066f5330-cbcc-335e-8c77-624a43292376|Dr. g.b. Cross Memorial Hospital|Dr. Almeta56 Carter549        |Practitioner?identifier=http://hl7.org/fhir/sid/us-npi|9999999939|2006-02-04T03:07:43-05:00|2006-02-04T03:22:43-05:00|PPRF                 |primary performer       |\n",
      "|4a10efb7-c0c6-bd4c-314e-f06e6b4c4e5a|finished|AMB       |General examination of patient (procedure)|2006-05-08T03:44:33-04:00|2006-05-08T03:59:33-04:00|urn:uuid:7ca297d1-94e0-8069-4cdb-50f313de9a5f|Organization?identifier=https://github.com/synthetichealth/synthea|ee4a206a-492f-3d2f-ba3e-63ac22b63ba6|Eastport Community Health Centre|Dr. Elfrieda676 Wintheiser220 |Practitioner?identifier=http://hl7.org/fhir/sid/us-npi|9999999359|2006-05-08T03:44:33-04:00|2006-05-08T03:59:33-04:00|PPRF                 |primary performer       |\n",
      "|a9de4f90-9775-4c66-7489-2b5415521d01|finished|AMB       |Encounter for problem                     |2006-08-03T04:07:43-04:00|2006-08-03T04:22:43-04:00|urn:uuid:7ca297d1-94e0-8069-4cdb-50f313de9a5f|Organization?identifier=https://github.com/synthetichealth/synthea|066f5330-cbcc-335e-8c77-624a43292376|Dr. g.b. Cross Memorial Hospital|Dr. Almeta56 Carter549        |Practitioner?identifier=http://hl7.org/fhir/sid/us-npi|9999999939|2006-08-03T04:07:43-04:00|2006-08-03T04:22:43-04:00|PPRF                 |primary performer       |\n",
      "|c0f3ade5-f367-b9e5-f20f-3e687278e7ba|finished|AMB       |Encounter for 'check-up'                  |2006-08-19T04:21:55-04:00|2006-08-19T04:54:00-04:00|urn:uuid:7ca297d1-94e0-8069-4cdb-50f313de9a5f|Organization?identifier=https://github.com/synthetichealth/synthea|066f5330-cbcc-335e-8c77-624a43292376|Dr. g.b. Cross Memorial Hospital|Dr. Almeta56 Carter549        |Practitioner?identifier=http://hl7.org/fhir/sid/us-npi|9999999939|2006-08-19T04:21:55-04:00|2006-08-19T04:54:00-04:00|PPRF                 |primary performer       |\n",
      "|098ce585-8122-bf57-8d95-c7a377283706|finished|AMB       |Encounter for problem                     |2007-01-30T03:07:43-05:00|2007-01-30T03:22:43-05:00|urn:uuid:7ca297d1-94e0-8069-4cdb-50f313de9a5f|Organization?identifier=https://github.com/synthetichealth/synthea|066f5330-cbcc-335e-8c77-624a43292376|Dr. g.b. Cross Memorial Hospital|Dr. Almeta56 Carter549        |Practitioner?identifier=http://hl7.org/fhir/sid/us-npi|9999999939|2007-01-30T03:07:43-05:00|2007-01-30T03:22:43-05:00|PPRF                 |primary performer       |\n",
      "|0201f188-b7e1-eac2-34bf-7e81f0f0d102|finished|AMB       |General examination of patient (procedure)|2007-05-14T03:44:33-04:00|2007-05-14T03:59:33-04:00|urn:uuid:7ca297d1-94e0-8069-4cdb-50f313de9a5f|Organization?identifier=https://github.com/synthetichealth/synthea|ee4a206a-492f-3d2f-ba3e-63ac22b63ba6|Eastport Community Health Centre|Dr. Elfrieda676 Wintheiser220 |Practitioner?identifier=http://hl7.org/fhir/sid/us-npi|9999999359|2007-05-14T03:44:33-04:00|2007-05-14T03:59:33-04:00|PPRF                 |primary performer       |\n",
      "|84d808f3-c337-4fa0-32fc-07e2cbed6077|finished|AMB       |Encounter for problem                     |2007-07-29T04:07:43-04:00|2007-07-29T04:22:43-04:00|urn:uuid:7ca297d1-94e0-8069-4cdb-50f313de9a5f|Organization?identifier=https://github.com/synthetichealth/synthea|066f5330-cbcc-335e-8c77-624a43292376|Dr. g.b. Cross Memorial Hospital|Dr. Almeta56 Carter549        |Practitioner?identifier=http://hl7.org/fhir/sid/us-npi|9999999939|2007-07-29T04:07:43-04:00|2007-07-29T04:22:43-04:00|PPRF                 |primary performer       |\n",
      "|3bad0961-2d7e-08de-96a3-bfeb22bb8b99|finished|AMB       |Encounter for problem                     |2008-01-25T03:07:43-05:00|2008-01-25T03:22:43-05:00|urn:uuid:7ca297d1-94e0-8069-4cdb-50f313de9a5f|Organization?identifier=https://github.com/synthetichealth/synthea|066f5330-cbcc-335e-8c77-624a43292376|Dr. g.b. Cross Memorial Hospital|Dr. Almeta56 Carter549        |Practitioner?identifier=http://hl7.org/fhir/sid/us-npi|9999999939|2008-01-25T03:07:43-05:00|2008-01-25T03:22:43-05:00|PPRF                 |primary performer       |\n",
      "|4b8acd81-fc9e-fe0c-1e20-f08b3b837e67|finished|AMB       |General examination of patient (procedure)|2008-05-19T03:44:33-04:00|2008-05-19T03:59:33-04:00|urn:uuid:7ca297d1-94e0-8069-4cdb-50f313de9a5f|Organization?identifier=https://github.com/synthetichealth/synthea|ee4a206a-492f-3d2f-ba3e-63ac22b63ba6|Eastport Community Health Centre|Dr. Elfrieda676 Wintheiser220 |Practitioner?identifier=http://hl7.org/fhir/sid/us-npi|9999999359|2008-05-19T03:44:33-04:00|2008-05-19T03:59:33-04:00|PPRF                 |primary performer       |\n",
      "|5f4f6d51-7b0f-08a3-b85a-c5f3691ab22d|finished|AMB       |Encounter for problem                     |2008-07-23T04:07:43-04:00|2008-07-23T04:22:43-04:00|urn:uuid:7ca297d1-94e0-8069-4cdb-50f313de9a5f|Organization?identifier=https://github.com/synthetichealth/synthea|066f5330-cbcc-335e-8c77-624a43292376|Dr. g.b. Cross Memorial Hospital|Dr. Almeta56 Carter549        |Practitioner?identifier=http://hl7.org/fhir/sid/us-npi|9999999939|2008-07-23T04:07:43-04:00|2008-07-23T04:22:43-04:00|PPRF                 |primary performer       |\n",
      "|7a544f3c-ba7a-a8e4-865c-3c01886ecb70|finished|AMB       |Encounter for check up (procedure)        |2008-10-13T03:44:33-04:00|2008-10-13T03:59:33-04:00|urn:uuid:7ca297d1-94e0-8069-4cdb-50f313de9a5f|Organization?identifier=https://github.com/synthetichealth/synthea|066f5330-cbcc-335e-8c77-624a43292376|Dr. g.b. Cross Memorial Hospital|Dr. Almeta56 Carter549        |Practitioner?identifier=http://hl7.org/fhir/sid/us-npi|9999999939|2008-10-13T03:44:33-04:00|2008-10-13T03:59:33-04:00|PPRF                 |primary performer       |\n",
      "+------------------------------------+--------+----------+------------------------------------------+-------------------------+-------------------------+---------------------------------------------+-------------------------------------------------------------------------------------------------------+--------------------------------+------------------------------+-----------------------------------------------------------------+-------------------------+-------------------------+---------------------+------------------------+\n",
      "only showing top 20 rows\n",
      "\n"
     ]
    }
   ],
   "execution_count": 5
  },
  {
   "metadata": {
    "ExecuteTime": {
     "end_time": "2024-11-30T01:27:01.545707Z",
     "start_time": "2024-11-30T01:27:01.219989Z"
    }
   },
   "cell_type": "code",
   "source": [
    "# Save the DataFrame to Parquet\n",
    "encounter_with_participant_df.write.mode(\"overwrite\").parquet(f\"{output_path}/encounter\")\n",
    "\n",
    "print(\"Participant details have been successfully extracted and saved in the 'encounter' folder.\")\n"
   ],
   "id": "fc087e2619556ac8",
   "outputs": [
    {
     "name": "stdout",
     "output_type": "stream",
     "text": [
      "Participant details have been successfully extracted and saved in the 'encounter' folder.\n"
     ]
    },
    {
     "name": "stderr",
     "output_type": "stream",
     "text": [
      "24/11/29 17:27:01 WARN MemoryManager: Total allocation exceeds 95.00% (1,020,054,720 bytes) of heap memory\n",
      "Scaling row group sizes to 95.00% for 8 writers\n",
      "24/11/29 17:27:01 WARN MemoryManager: Total allocation exceeds 95.00% (1,020,054,720 bytes) of heap memory\n",
      "Scaling row group sizes to 84.44% for 9 writers\n",
      "24/11/29 17:27:01 WARN MemoryManager: Total allocation exceeds 95.00% (1,020,054,720 bytes) of heap memory\n",
      "Scaling row group sizes to 95.00% for 8 writers\n",
      "24/11/29 17:27:01 WARN MemoryManager: Total allocation exceeds 95.00% (1,020,054,720 bytes) of heap memory\n",
      "Scaling row group sizes to 95.00% for 8 writers\n"
     ]
    }
   ],
   "execution_count": 6
  },
  {
   "metadata": {},
   "cell_type": "markdown",
   "source": "### Condition",
   "id": "5a9485645aaea756"
  },
  {
   "metadata": {
    "ExecuteTime": {
     "end_time": "2024-11-30T01:27:01.691454Z",
     "start_time": "2024-11-30T01:27:01.572321Z"
    }
   },
   "cell_type": "code",
   "source": [
    "# Filter for Condition resources\n",
    "conditions = entries.filter(col(\"entry.resource.resourceType\") == \"Condition\") \\\n",
    "                    .select(col(\"entry.resource.*\"))\n",
    "\n",
    "# Extract relevant fields from Condition\n",
    "condition_df = conditions.select(\n",
    "    col(\"id\").alias(\"condition_id\"),\n",
    "    col(\"clinicalStatus.coding\").getItem(0).getField(\"code\").alias(\"clinical_status\"),\n",
    "    col(\"verificationStatus.coding\").getItem(0).getField(\"code\").alias(\"verification_status\"),\n",
    "    col(\"code.text\").alias(\"condition_code_display\"),\n",
    "    col(\"subject.reference\").alias(\"patient_reference\"),\n",
    "    col(\"encounter.reference\").alias(\"encounter_reference\"),\n",
    "    col(\"onsetDateTime\").alias(\"onset_datetime\"),\n",
    "    col(\"abatementDateTime\").alias(\"abatement_datetime\"),\n",
    "    col(\"recordedDate\").alias(\"recorded_date\")\n",
    ")\n",
    "\n",
    "# Show the resulting DataFrame\n",
    "condition_df.show(truncate=False)"
   ],
   "id": "81028e4e434829ba",
   "outputs": [
    {
     "name": "stdout",
     "output_type": "stream",
     "text": [
      "+------------------------------------+---------------+-------------------+-------------------------------------------+---------------------------------------------+---------------------------------------------+-------------------------+-------------------------+-------------------------+\n",
      "|condition_id                        |clinical_status|verification_status|condition_code_display                     |patient_reference                            |encounter_reference                          |onset_datetime           |abatement_datetime       |recorded_date            |\n",
      "+------------------------------------+---------------+-------------------+-------------------------------------------+---------------------------------------------+---------------------------------------------+-------------------------+-------------------------+-------------------------+\n",
      "|ef7aaf17-7b06-76be-254d-04b736547a25|active         |confirmed          |Chronic sinusitis (disorder)               |urn:uuid:7ca297d1-94e0-8069-4cdb-50f313de9a5f|urn:uuid:67994a7b-c816-6aa6-a5b2-2751672432e9|1956-09-06T22:44:33-04:00|NULL                     |1956-09-06T22:44:33-04:00|\n",
      "|a3fed4f7-635c-09ee-10d4-a4c5132ec3cb|active         |confirmed          |Body mass index 30+ - obesity (finding)    |urn:uuid:7ca297d1-94e0-8069-4cdb-50f313de9a5f|urn:uuid:bcd7f8fa-4ac1-196a-8d58-1d45d0962f05|1972-06-19T03:44:33-04:00|NULL                     |1972-06-19T03:44:33-04:00|\n",
      "|68ca359d-3c1a-1971-b2f2-a35ada0cc5bf|active         |confirmed          |Miscarriage in first trimester             |urn:uuid:7ca297d1-94e0-8069-4cdb-50f313de9a5f|urn:uuid:6dd581fa-09c7-dc5e-69aa-55adad0bd6e2|1988-10-10T03:44:33-04:00|NULL                     |1988-10-10T03:44:33-04:00|\n",
      "|0e5c0577-d6a8-6763-004a-f803e3c8799b|resolved       |confirmed          |Acute viral pharyngitis (disorder)         |urn:uuid:7ca297d1-94e0-8069-4cdb-50f313de9a5f|urn:uuid:9f03d2d1-4ec2-3373-4d4c-63d2bb091233|2004-03-25T20:44:33-05:00|2004-04-05T04:44:33-04:00|2004-03-25T20:44:33-05:00|\n",
      "|7fac8356-248a-5cc7-d09d-67a2c5edcba5|resolved       |confirmed          |Polyp of colon                             |urn:uuid:7ca297d1-94e0-8069-4cdb-50f313de9a5f|urn:uuid:b77709fa-8940-1d0e-1c51-7d1a7e85a005|2005-05-02T04:21:55-04:00|2006-08-19T04:54:00-04:00|2005-05-02T04:21:55-04:00|\n",
      "|78172f1f-b075-68bb-1863-a1602c1c7fc2|active         |confirmed          |Chronic congestive heart failure (disorder)|urn:uuid:7ca297d1-94e0-8069-4cdb-50f313de9a5f|urn:uuid:249c90d5-e858-2862-a20c-f755f85b2922|2006-01-19T02:44:33-05:00|NULL                     |2006-01-19T02:44:33-05:00|\n",
      "|8e5ecf57-3b90-d368-0c6b-6dce8db9a601|resolved       |confirmed          |Viral sinusitis (disorder)                 |urn:uuid:7ca297d1-94e0-8069-4cdb-50f313de9a5f|urn:uuid:25f8dda6-0468-6f19-2232-e6eed1e8d797|2008-10-12T20:44:33-04:00|2008-10-27T20:44:33-04:00|2008-10-12T20:44:33-04:00|\n",
      "|801f9a58-bfe5-8125-6541-76ec2e1a2d07|resolved       |confirmed          |Sprain of ankle                            |urn:uuid:7ca297d1-94e0-8069-4cdb-50f313de9a5f|urn:uuid:cfd0e7b0-bc15-5a1c-a7ac-4a8c7c1a91d3|2009-07-18T04:08:55-04:00|2009-08-08T04:08:55-04:00|2009-07-18T04:08:55-04:00|\n",
      "|89ec043c-8260-8c33-e2d5-b246679179a7|resolved       |confirmed          |Acute bronchitis (disorder)                |urn:uuid:7ca297d1-94e0-8069-4cdb-50f313de9a5f|urn:uuid:00336118-a170-38de-1a6d-eb3dec651c9e|2009-10-12T07:44:33-04:00|2009-10-20T08:04:31-04:00|2009-10-12T07:44:33-04:00|\n",
      "|b089cc0f-c4e6-6f6e-d24e-26d6dc8e47da|active         |confirmed          |Shock (disorder)                           |urn:uuid:7ca297d1-94e0-8069-4cdb-50f313de9a5f|urn:uuid:ee685ef9-c7a4-53c2-77e2-7c9a440b4aab|2010-01-16T03:55:16-05:00|NULL                     |2010-01-16T03:55:16-05:00|\n",
      "|de8ee0a1-dbb6-2e43-a3c2-b108c3446a5c|resolved       |confirmed          |Concussion injury of brain                 |urn:uuid:7ca297d1-94e0-8069-4cdb-50f313de9a5f|urn:uuid:f2905642-80e7-61b0-ff10-87034008f022|2010-06-26T04:08:55-04:00|2010-08-27T04:08:55-04:00|2010-06-26T04:08:55-04:00|\n",
      "|cb8ae5b9-eb99-d12b-6ec6-1ac842323a7f|resolved       |confirmed          |Viral sinusitis (disorder)                 |urn:uuid:7ca297d1-94e0-8069-4cdb-50f313de9a5f|urn:uuid:383991af-11b4-bc2b-eff5-52784de8c0ce|2011-08-22T08:44:33-04:00|2011-09-04T08:44:33-04:00|2011-08-22T08:44:33-04:00|\n",
      "|d4306236-2f47-a663-1748-c6cc666598f2|resolved       |confirmed          |Viral sinusitis (disorder)                 |urn:uuid:7ca297d1-94e0-8069-4cdb-50f313de9a5f|urn:uuid:ca7564d5-69c3-3a6f-5419-b98c1003f670|2012-06-08T19:44:33-04:00|2012-07-02T19:44:33-04:00|2012-06-08T19:44:33-04:00|\n",
      "|be3b8daf-b130-3ed5-b403-e8d0bfcb33b5|active         |confirmed          |Appendicitis                               |urn:uuid:c8af2e36-e7d2-fc26-de8c-8936c9e4705e|urn:uuid:a3792922-c832-319d-8aaa-4c1e475df8c4|1947-07-31T07:48:18-04:00|NULL                     |1947-07-31T07:48:18-04:00|\n",
      "|d6b821ef-ced0-1d72-47ea-8fe53cbf4209|active         |confirmed          |History of appendectomy                    |urn:uuid:c8af2e36-e7d2-fc26-de8c-8936c9e4705e|urn:uuid:caf87e99-66ba-18e9-8654-ec06e5369479|1947-07-31T07:48:18-04:00|NULL                     |1947-07-31T07:48:18-04:00|\n",
      "|55d7cc0d-1b46-198b-1311-4b932fcfc256|active         |confirmed          |Chronic sinusitis (disorder)               |urn:uuid:c8af2e36-e7d2-fc26-de8c-8936c9e4705e|urn:uuid:a44bceea-c9ec-6517-2c27-8af054ced9fa|1955-11-10T17:48:18-05:00|NULL                     |1955-11-10T17:48:18-05:00|\n",
      "|cbf78c2f-501c-1a95-d0fe-c6ad25773599|active         |confirmed          |Body mass index 30+ - obesity (finding)    |urn:uuid:c8af2e36-e7d2-fc26-de8c-8936c9e4705e|urn:uuid:19b659b2-6a9a-a04b-9f93-3899255de474|1963-04-13T19:48:18-05:00|NULL                     |1963-04-13T19:48:18-05:00|\n",
      "|0d48bec0-5e28-cf46-f2ee-02421076560f|active         |confirmed          |Atrial Fibrillation                        |urn:uuid:c8af2e36-e7d2-fc26-de8c-8936c9e4705e|urn:uuid:5e1e76c8-11d1-27e9-45e0-7705527bf455|2006-06-17T20:48:18-04:00|NULL                     |2006-06-17T20:48:18-04:00|\n",
      "|cabd509c-fa1c-c2d2-0535-111f760d5771|resolved       |confirmed          |Viral sinusitis (disorder)                 |urn:uuid:c8af2e36-e7d2-fc26-de8c-8936c9e4705e|urn:uuid:31277f11-e357-293d-62f6-00b525d0f2be|2010-12-08T21:48:18-05:00|2010-12-27T21:48:18-05:00|2010-12-08T21:48:18-05:00|\n",
      "|90b859a3-1e3b-22a1-9d1f-b6330a373b0f|active         |confirmed          |Stroke                                     |urn:uuid:c8af2e36-e7d2-fc26-de8c-8936c9e4705e|urn:uuid:1c31c9c5-68e0-6000-b823-f4c657e6a795|2010-12-25T19:48:18-05:00|NULL                     |2010-12-25T19:48:18-05:00|\n",
      "+------------------------------------+---------------+-------------------+-------------------------------------------+---------------------------------------------+---------------------------------------------+-------------------------+-------------------------+-------------------------+\n",
      "only showing top 20 rows\n",
      "\n"
     ]
    }
   ],
   "execution_count": 7
  },
  {
   "metadata": {
    "ExecuteTime": {
     "end_time": "2024-11-30T01:27:01.978999Z",
     "start_time": "2024-11-30T01:27:01.710772Z"
    }
   },
   "cell_type": "code",
   "source": [
    "# Save the DataFrame to Parquet\n",
    "condition_df.write.mode(\"overwrite\").parquet(f\"{output_path}/condition\")\n",
    "\n",
    "print(\"Condition DataFrame has been successfully saved in Parquet format in the 'condition' folder.\")"
   ],
   "id": "ef2f9cdf2cddade1",
   "outputs": [
    {
     "name": "stdout",
     "output_type": "stream",
     "text": [
      "Condition DataFrame has been successfully saved in Parquet format in the 'conditions' folder.\n"
     ]
    }
   ],
   "execution_count": 8
  },
  {
   "metadata": {},
   "cell_type": "markdown",
   "source": "### Medication Request",
   "id": "e5fe59f48162bd65"
  },
  {
   "metadata": {
    "ExecuteTime": {
     "end_time": "2024-11-30T01:27:02.198712Z",
     "start_time": "2024-11-30T01:27:01.999677Z"
    }
   },
   "cell_type": "code",
   "source": [
    "# Filter for MedicationRequest resources\n",
    "medication_requests = entries.filter(col(\"entry.resource.resourceType\") == \"MedicationRequest\") \\\n",
    "                             .select(col(\"entry.resource.*\"))\n",
    "\n",
    "# Explode the dosageInstruction array to handle multiple dosage instructions\n",
    "medication_requests_exploded = medication_requests.withColumn(\"dosageInstruction\", explode(col(\"dosageInstruction\")))\n",
    "\n",
    "# Extract relevant fields from MedicationRequest\n",
    "medication_request_df = medication_requests_exploded.select(\n",
    "    col(\"id\").alias(\"medication_request_id\"),\n",
    "    col(\"status\").alias(\"status\"),\n",
    "    col(\"intent\").alias(\"intent\"),\n",
    "    col(\"medicationCodeableConcept.coding\").getItem(0).getField(\"display\").alias(\"medication_display\"),\n",
    "    col(\"subject.reference\").alias(\"patient_reference\"),\n",
    "    col(\"requester.reference\").alias(\"requester_reference\"),\n",
    "    col(\"requester.display\").alias(\"requester_display\"),\n",
    "    col(\"encounter.reference\").alias(\"encounter_reference\"),\n",
    "    col(\"authoredOn\").alias(\"authored_on\"),\n",
    "    col(\"dosageInstruction.text\").alias(\"dosage_text\"),\n",
    "    col(\"dosageInstruction.timing.repeat.frequency\").alias(\"dosage_frequency\"),\n",
    "    col(\"dosageInstruction.timing.repeat.period\").alias(\"dosage_period\"),\n",
    "    col(\"dosageInstruction.timing.repeat.periodUnit\").alias(\"dosage_period_unit\")\n",
    ")\n",
    "\n",
    "# Show the resulting DataFrame\n",
    "medication_request_df.show(truncate=False)"
   ],
   "id": "23432961eecddb14",
   "outputs": [
    {
     "name": "stdout",
     "output_type": "stream",
     "text": [
      "+------------------------------------+-------+------+--------------------------------------------------------------+---------------------------------------------+-----------------------------------------------------------------+-----------------------------+---------------------------------------------+-------------------------+-------------------------------------------+----------------+-------------+------------------+\n",
      "|medication_request_id               |status |intent|medication_display                                            |patient_reference                            |requester_reference                                              |requester_display            |encounter_reference                          |authored_on              |dosage_text                                |dosage_frequency|dosage_period|dosage_period_unit|\n",
      "+------------------------------------+-------+------+--------------------------------------------------------------+---------------------------------------------+-----------------------------------------------------------------+-----------------------------+---------------------------------------------+-------------------------+-------------------------------------------+----------------+-------------+------------------+\n",
      "|b915ff30-ab9a-2f7c-d363-a286a994c77b|stopped|order |Furosemide 40 MG Oral Tablet                                  |urn:uuid:7ca297d1-94e0-8069-4cdb-50f313de9a5f|Practitioner?identifier=http://hl7.org/fhir/sid/us-npi|9999999939|Dr. Almeta56 Carter549       |urn:uuid:f2e9b264-652b-2e37-5d7b-ead701bfe233|2006-02-04T03:07:43-05:00|Take as needed.                            |NULL            |NULL         |NULL              |\n",
      "|c2cd8f53-8040-90ef-38ed-889fe29d1a15|stopped|order |Furosemide 40 MG Oral Tablet                                  |urn:uuid:7ca297d1-94e0-8069-4cdb-50f313de9a5f|Practitioner?identifier=http://hl7.org/fhir/sid/us-npi|9999999359|Dr. Elfrieda676 Wintheiser220|urn:uuid:4a10efb7-c0c6-bd4c-314e-f06e6b4c4e5a|2006-05-08T03:44:33-04:00|Take as needed.                            |NULL            |NULL         |NULL              |\n",
      "|a2e95ed1-46aa-c0f8-b938-76f11cbf6aab|stopped|order |Furosemide 40 MG Oral Tablet                                  |urn:uuid:7ca297d1-94e0-8069-4cdb-50f313de9a5f|Practitioner?identifier=http://hl7.org/fhir/sid/us-npi|9999999359|Dr. Elfrieda676 Wintheiser220|urn:uuid:0201f188-b7e1-eac2-34bf-7e81f0f0d102|2007-05-14T03:44:33-04:00|Take as needed.                            |NULL            |NULL         |NULL              |\n",
      "|2a894002-eb90-b162-72ff-1a6127f6db15|stopped|order |Furosemide 40 MG Oral Tablet                                  |urn:uuid:7ca297d1-94e0-8069-4cdb-50f313de9a5f|Practitioner?identifier=http://hl7.org/fhir/sid/us-npi|9999999359|Dr. Elfrieda676 Wintheiser220|urn:uuid:4b8acd81-fc9e-fe0c-1e20-f08b3b837e67|2008-05-19T03:44:33-04:00|Take as needed.                            |NULL            |NULL         |NULL              |\n",
      "|175f7243-f76c-b141-8978-b47aa3bc57fc|stopped|order |Furosemide 40 MG Oral Tablet                                  |urn:uuid:7ca297d1-94e0-8069-4cdb-50f313de9a5f|Practitioner?identifier=http://hl7.org/fhir/sid/us-npi|9999999939|Dr. Almeta56 Carter549       |urn:uuid:25f8dda6-0468-6f19-2232-e6eed1e8d797|2008-10-13T03:44:33-04:00|Take as needed.                            |NULL            |NULL         |NULL              |\n",
      "|ab69589f-52b7-da93-f456-383d2f3a0bdd|stopped|order |Furosemide 40 MG Oral Tablet                                  |urn:uuid:7ca297d1-94e0-8069-4cdb-50f313de9a5f|Practitioner?identifier=http://hl7.org/fhir/sid/us-npi|9999999359|Dr. Elfrieda676 Wintheiser220|urn:uuid:86dafc3f-c047-0afb-99ba-6ed03e853962|2009-05-25T03:44:33-04:00|Take as needed.                            |NULL            |NULL         |NULL              |\n",
      "|33a47467-54b7-0f24-ae44-c3468a953b34|stopped|order |Acetaminophen 325 MG Oral Tablet                              |urn:uuid:7ca297d1-94e0-8069-4cdb-50f313de9a5f|Practitioner?identifier=http://hl7.org/fhir/sid/us-npi|9999999939|Dr. Almeta56 Carter549       |urn:uuid:cfd0e7b0-bc15-5a1c-a7ac-4a8c7c1a91d3|2009-07-18T04:08:55-04:00|Take as needed.                            |NULL            |NULL         |NULL              |\n",
      "|a047e9af-eefd-dede-903d-d647e1c9f20f|stopped|order |Furosemide 40 MG Oral Tablet                                  |urn:uuid:7ca297d1-94e0-8069-4cdb-50f313de9a5f|Practitioner?identifier=http://hl7.org/fhir/sid/us-npi|9999999939|Dr. Almeta56 Carter549       |urn:uuid:0f87562d-5d77-358c-c76e-494a7bd4d89e|2009-10-26T03:44:33-04:00|Take as needed.                            |NULL            |NULL         |NULL              |\n",
      "|5dbf936a-ab29-51d9-4612-43dd48500cef|stopped|order |Furosemide 40 MG Oral Tablet                                  |urn:uuid:7ca297d1-94e0-8069-4cdb-50f313de9a5f|Practitioner?identifier=http://hl7.org/fhir/sid/us-npi|9999999359|Dr. Elfrieda676 Wintheiser220|urn:uuid:fdccf48f-ce2d-2018-6732-bab5c533d84a|2010-05-31T03:44:33-04:00|Take as needed.                            |NULL            |NULL         |NULL              |\n",
      "|d51d2067-7b4b-79fe-cf60-b48c2e051c41|stopped|order |Furosemide 40 MG Oral Tablet                                  |urn:uuid:7ca297d1-94e0-8069-4cdb-50f313de9a5f|Practitioner?identifier=http://hl7.org/fhir/sid/us-npi|9999999359|Dr. Elfrieda676 Wintheiser220|urn:uuid:b5afd9b8-bdc7-930e-2be7-957cc4b61fd8|2011-06-06T03:44:33-04:00|Take as needed.                            |NULL            |NULL         |NULL              |\n",
      "|410df176-f2ae-7b90-830e-b68cd51a7c76|stopped|order |Furosemide 40 MG Oral Tablet                                  |urn:uuid:7ca297d1-94e0-8069-4cdb-50f313de9a5f|Practitioner?identifier=http://hl7.org/fhir/sid/us-npi|9999999939|Dr. Almeta56 Carter549       |urn:uuid:ca7564d5-69c3-3a6f-5419-b98c1003f670|2012-06-11T03:44:33-04:00|Take as needed.                            |NULL            |NULL         |NULL              |\n",
      "|c3703403-18dc-9465-3535-45375193564d|active |order |Furosemide 40 MG Oral Tablet                                  |urn:uuid:7ca297d1-94e0-8069-4cdb-50f313de9a5f|Practitioner?identifier=http://hl7.org/fhir/sid/us-npi|9999999359|Dr. Elfrieda676 Wintheiser220|urn:uuid:f96bd9ac-4eaf-e99e-4ef8-6562489688ec|2013-06-17T03:44:33-04:00|Take as needed.                            |NULL            |NULL         |NULL              |\n",
      "|97746d2b-12f1-db0d-4f53-4c3c102e1b44|stopped|order |Acetaminophen 325 MG Oral Tablet                              |urn:uuid:c8af2e36-e7d2-fc26-de8c-8936c9e4705e|Practitioner?identifier=http://hl7.org/fhir/sid/us-npi|9999999969|Dr. Whitney250 Wyman904      |urn:uuid:c841db73-939a-6870-8fb6-6c2de2c0560d|2011-06-01T23:19:25-04:00|Take as needed.                            |NULL            |NULL         |NULL              |\n",
      "|398b0e58-ebcd-7e5f-8fd2-7e3094294aef|active |order |Acetaminophen 300 MG / Hydrocodone Bitartrate 5 MG Oral Tablet|urn:uuid:c8af2e36-e7d2-fc26-de8c-8936c9e4705e|Practitioner?identifier=http://hl7.org/fhir/sid/us-npi|9999999969|Dr. Whitney250 Wyman904      |urn:uuid:f98279b5-b0fb-274a-300c-7e8c1407f7e2|2014-03-30T03:00:31-04:00|Every four to six hours (qualifier value)\\n|4               |1.0          |d                 |\n",
      "|1e7353f4-be27-9604-6c69-9151fb64acf8|stopped|order |Ibuprofen 400 MG Oral Tablet [Ibu]                            |urn:uuid:c8af2e36-e7d2-fc26-de8c-8936c9e4705e|Practitioner?identifier=http://hl7.org/fhir/sid/us-npi|9999999969|Dr. Whitney250 Wyman904      |urn:uuid:ea531122-2604-90c4-4c0e-4485aa549bfa|2014-05-29T03:00:31-04:00|Every four to six hours (qualifier value)\\n|4               |1.0          |d                 |\n",
      "|125ece1a-93c1-330c-b785-d74a14ad6731|stopped|order |Ibuprofen 400 MG Oral Tablet [Ibu]                            |urn:uuid:c8af2e36-e7d2-fc26-de8c-8936c9e4705e|Practitioner?identifier=http://hl7.org/fhir/sid/us-npi|9999999409|Dr. Shirl54 Ankunding277     |urn:uuid:02269af7-0279-e42a-b09f-27b00e5ea6be|2014-08-02T20:48:18-04:00|Every four to six hours (qualifier value)\\n|4               |1.0          |d                 |\n",
      "|2b6ee72f-5bd1-b2df-e2c6-5d509c1ba4fc|stopped|order |Ibuprofen 400 MG Oral Tablet [Ibu]                            |urn:uuid:c8af2e36-e7d2-fc26-de8c-8936c9e4705e|Practitioner?identifier=http://hl7.org/fhir/sid/us-npi|9999999409|Dr. Shirl54 Ankunding277     |urn:uuid:0e935229-d9c8-9647-f62b-723a92a4c9ca|2015-08-08T20:48:18-04:00|Every four to six hours (qualifier value)\\n|4               |1.0          |d                 |\n",
      "|9e15bf44-7e01-4470-dab8-8af12649aadd|stopped|order |Furosemide 40 MG Oral Tablet                                  |urn:uuid:c8af2e36-e7d2-fc26-de8c-8936c9e4705e|Practitioner?identifier=http://hl7.org/fhir/sid/us-npi|9999999969|Dr. Whitney250 Wyman904      |urn:uuid:82a97de4-2f30-e110-662a-0feb93f71d0c|2015-12-09T20:19:55-05:00|Take as needed.                            |NULL            |NULL         |NULL              |\n",
      "|9224cc82-18ee-b20c-9852-8a7d30a997fe|stopped|order |carvedilol 25 MG Oral Tablet                                  |urn:uuid:c8af2e36-e7d2-fc26-de8c-8936c9e4705e|Practitioner?identifier=http://hl7.org/fhir/sid/us-npi|9999999969|Dr. Whitney250 Wyman904      |urn:uuid:82a97de4-2f30-e110-662a-0feb93f71d0c|2015-12-09T20:19:55-05:00|Take as needed.                            |NULL            |NULL         |NULL              |\n",
      "|37dda0fe-f89a-8864-4f39-1dcb516fb7a3|stopped|order |lisinopril 20 MG Oral Tablet                                  |urn:uuid:c8af2e36-e7d2-fc26-de8c-8936c9e4705e|Practitioner?identifier=http://hl7.org/fhir/sid/us-npi|9999999969|Dr. Whitney250 Wyman904      |urn:uuid:82a97de4-2f30-e110-662a-0feb93f71d0c|2015-12-09T20:19:55-05:00|Take as needed.                            |NULL            |NULL         |NULL              |\n",
      "+------------------------------------+-------+------+--------------------------------------------------------------+---------------------------------------------+-----------------------------------------------------------------+-----------------------------+---------------------------------------------+-------------------------+-------------------------------------------+----------------+-------------+------------------+\n",
      "only showing top 20 rows\n",
      "\n"
     ]
    }
   ],
   "execution_count": 9
  },
  {
   "metadata": {
    "ExecuteTime": {
     "end_time": "2024-11-30T01:27:02.522392Z",
     "start_time": "2024-11-30T01:27:02.260717Z"
    }
   },
   "cell_type": "code",
   "source": [
    "# Save the DataFrame to Parquet\n",
    "medication_request_df.write.mode(\"overwrite\").parquet(f\"{output_path}/medication_request\")\n",
    "\n",
    "print(\"MedicationRequest DataFrame with multiple dosage instructions has been successfully saved in the 'medication_request' folder.\")"
   ],
   "id": "c9de5264a512b323",
   "outputs": [
    {
     "name": "stdout",
     "output_type": "stream",
     "text": [
      "MedicationRequest DataFrame with multiple dosage instructions has been successfully saved in the 'medication_requests' folder.\n"
     ]
    },
    {
     "name": "stderr",
     "output_type": "stream",
     "text": [
      "24/11/29 17:27:02 WARN MemoryManager: Total allocation exceeds 95.00% (1,020,054,720 bytes) of heap memory\n",
      "Scaling row group sizes to 95.00% for 8 writers\n"
     ]
    }
   ],
   "execution_count": 10
  },
  {
   "metadata": {},
   "cell_type": "markdown",
   "source": "### Claim",
   "id": "2469ce478c4e0399"
  },
  {
   "metadata": {
    "ExecuteTime": {
     "end_time": "2024-11-30T01:27:03.109995Z",
     "start_time": "2024-11-30T01:27:02.540917Z"
    }
   },
   "cell_type": "code",
   "source": [
    "from pyspark.sql.types import DoubleType\n",
    "\n",
    "# Filter for Claim resources\n",
    "claims = entries.filter(col(\"entry.resource.resourceType\") == \"Claim\") \\\n",
    "                .select(col(\"entry.resource.*\"))\n",
    "\n",
    "# Define the schema for the 'type' field\n",
    "type_schema = ArrayType(\n",
    "    StructType([\n",
    "        StructField(\"coding\", ArrayType(\n",
    "            StructType([\n",
    "                StructField(\"system\", StringType(), True),\n",
    "                StructField(\"code\", StringType(), True)\n",
    "            ])\n",
    "        ), True)\n",
    "    ])\n",
    ")\n",
    "\n",
    "# Define the schema for the 'total' field\n",
    "total_schema = StructType([\n",
    "    StructField(\"value\", DoubleType(), True),      \n",
    "    StructField(\"currency\", StringType(), True)  \n",
    "])\n",
    "\n",
    "\n",
    "claims = (claims\n",
    "          .withColumn(\"type_parsed\", from_json(col(\"type\"), type_schema))\n",
    "          .withColumn(\"total_parsed\", from_json(col(\"total\"), total_schema))\n",
    "          .withColumn(\"supportingInfo\", explode(col(\"supportingInfo\")))\n",
    "          .withColumn(\"insurance\", explode(col(\"insurance\")))\n",
    "          .withColumn(\"claim_item\", explode(col(\"item\")))\n",
    "          .withColumn(\"diagnosis\", explode(col(\"diagnosis\")))\n",
    "          )  \n",
    "\n",
    "# Extract relevant fields from Claim\n",
    "claim_df = claims.select(\n",
    "    col(\"id\").alias(\"claim_id\"),\n",
    "    col(\"status\").alias(\"status\"),\n",
    "    col(\"type_parsed\").getItem(0).getField(\"coding\").getItem(0).getField(\"code\").alias(\"type_code\"),\n",
    "    col(\"use\").alias(\"use\"),\n",
    "    col(\"patient.reference\").alias(\"patient_reference\"),\n",
    "    col(\"patient.display\").alias(\"patient_display\"),\n",
    "    col(\"created\").alias(\"created_date\"),\n",
    "    col(\"billablePeriod.start\").alias(\"billable_period_start\"),\n",
    "    col(\"billablePeriod.end\").alias(\"billable_period_end\"),\n",
    "    col(\"provider.reference\").alias(\"provider_reference\"),\n",
    "    col(\"priority.coding\").getItem(0).getField(\"code\").alias(\"priority\"),\n",
    "    col(\"supportingInfo.category.coding\").getItem(0).getField(\"code\").alias(\"supporting_info_code\"),\n",
    "    col(\"supportingInfo.valueReference.reference\").alias(\"supporting_info_value_reference\"),\n",
    "    col(\"insurance.coverage.display\").alias(\"insurance_coverage_display\"),\n",
    "    col(\"insurance.focal\").alias(\"insurance_focal\"),\n",
    "    col(\"total_parsed\").getField(\"value\").alias(\"total_amount\"), \n",
    "    col(\"total_parsed\").getField(\"currency\").alias(\"currency\"),\n",
    "    col(\"diagnosis.diagnosisReference.reference\").alias(\"diagnosis_reference\"), \n",
    "    col(\"claim_item.productOrService.coding\").getItem(0).getField(\"code\").alias(\"item_code\"),\n",
    "    col(\"claim_item.productOrService.coding\").getItem(0).getField(\"display\").alias(\"item_description\"),\n",
    "    col(\"claim_item.category.coding\").getItem(0).getField(\"display\").alias(\"item_category\"),\n",
    "    col(\"claim_item.net.value\").alias(\"item_net_value\"),\n",
    "    col(\"claim_item.net.currency\").alias(\"item_net_currency\"),\n",
    "    col(\"claim_item.encounter\").getItem(0).getField(\"reference\").alias(\"encounter_reference\"),\n",
    "    col(\"claim_item.locationCodeableConcept.coding\").getItem(0).getField(\"display\").alias(\"location_description\"),\n",
    "    col(\"claim_item.servicedPeriod.start\").alias(\"service_period_start\"),\n",
    "    col(\"claim_item.servicedPeriod.end\").alias(\"service_period_end\"),\n",
    "    col(\"claim_item.adjudication\").alias(\"adjudication\")\n",
    ")\n",
    "\n",
    "claim_df.show(truncate=False)\n"
   ],
   "id": "42f601ef082c695f",
   "outputs": [
    {
     "name": "stdout",
     "output_type": "stream",
     "text": [
      "+------------------------------------+------+-------------+-----+---------------------------------------------+------------------+-------------------------+-------------------------+-------------------------+-------------------------------------------------------------------------------------------------------+--------+--------------------+---------------------------------------------+--------------------------+---------------+------------+--------+---------------------------------------------+---------+--------------------------------------------------+-------------+--------------+-----------------+---------------------------------------------+--------------------+--------------------+------------------+------------+\n",
      "|claim_id                            |status|type_code    |use  |patient_reference                            |patient_display   |created_date             |billable_period_start    |billable_period_end      |provider_reference                                                                                     |priority|supporting_info_code|supporting_info_value_reference              |insurance_coverage_display|insurance_focal|total_amount|currency|diagnosis_reference                          |item_code|item_description                                  |item_category|item_net_value|item_net_currency|encounter_reference                          |location_description|service_period_start|service_period_end|adjudication|\n",
      "+------------------------------------+------+-------------+-----+---------------------------------------------+------------------+-------------------------+-------------------------+-------------------------+-------------------------------------------------------------------------------------------------------+--------+--------------------+---------------------------------------------+--------------------------+---------------+------------+--------+---------------------------------------------+---------+--------------------------------------------------+-------------+--------------+-----------------+---------------------------------------------+--------------------+--------------------+------------------+------------+\n",
      "|c114b3e4-54c4-d728-3527-fbadf5179364|active|institutional|claim|urn:uuid:b4b67625-c44c-a832-7aba-3a2ae02a4ef1|Zita788 Hagenes547|2012-05-04T23:43:00-04:00|2012-05-04T23:28:00-04:00|2012-05-04T23:43:00-04:00|Organization?identifier=https://github.com/synthetichealth/synthea|9d568031-5a53-3647-945c-bc8786c3adcd|normal  |info                |urn:uuid:cecf5bc4-f05e-6375-62c5-cfc9b1e7eb74|NO_INSURANCE              |true           |125.0       |USD     |urn:uuid:3496908c-dc8d-f4b7-6f5f-8a4ee1d01eb6|162673000|General examination of patient (procedure)        |NULL         |NULL          |NULL             |urn:uuid:d711373a-7ae0-e9a7-27c7-8772c2256011|NULL                |NULL                |NULL              |NULL        |\n",
      "|c114b3e4-54c4-d728-3527-fbadf5179364|active|institutional|claim|urn:uuid:b4b67625-c44c-a832-7aba-3a2ae02a4ef1|Zita788 Hagenes547|2012-05-04T23:43:00-04:00|2012-05-04T23:28:00-04:00|2012-05-04T23:43:00-04:00|Organization?identifier=https://github.com/synthetichealth/synthea|9d568031-5a53-3647-945c-bc8786c3adcd|normal  |info                |urn:uuid:cecf5bc4-f05e-6375-62c5-cfc9b1e7eb74|NO_INSURANCE              |true           |125.0       |USD     |urn:uuid:7e506daa-9ef0-7a37-a02b-d6f2741be056|162673000|General examination of patient (procedure)        |NULL         |NULL          |NULL             |urn:uuid:d711373a-7ae0-e9a7-27c7-8772c2256011|NULL                |NULL                |NULL              |NULL        |\n",
      "|c114b3e4-54c4-d728-3527-fbadf5179364|active|institutional|claim|urn:uuid:b4b67625-c44c-a832-7aba-3a2ae02a4ef1|Zita788 Hagenes547|2012-05-04T23:43:00-04:00|2012-05-04T23:28:00-04:00|2012-05-04T23:43:00-04:00|Organization?identifier=https://github.com/synthetichealth/synthea|9d568031-5a53-3647-945c-bc8786c3adcd|normal  |info                |urn:uuid:cecf5bc4-f05e-6375-62c5-cfc9b1e7eb74|NO_INSURANCE              |true           |125.0       |USD     |urn:uuid:3496908c-dc8d-f4b7-6f5f-8a4ee1d01eb6|49436004 |Atrial Fibrillation                               |NULL         |NULL          |NULL             |NULL                                         |NULL                |NULL                |NULL              |NULL        |\n",
      "|c114b3e4-54c4-d728-3527-fbadf5179364|active|institutional|claim|urn:uuid:b4b67625-c44c-a832-7aba-3a2ae02a4ef1|Zita788 Hagenes547|2012-05-04T23:43:00-04:00|2012-05-04T23:28:00-04:00|2012-05-04T23:43:00-04:00|Organization?identifier=https://github.com/synthetichealth/synthea|9d568031-5a53-3647-945c-bc8786c3adcd|normal  |info                |urn:uuid:cecf5bc4-f05e-6375-62c5-cfc9b1e7eb74|NO_INSURANCE              |true           |125.0       |USD     |urn:uuid:7e506daa-9ef0-7a37-a02b-d6f2741be056|49436004 |Atrial Fibrillation                               |NULL         |NULL          |NULL             |NULL                                         |NULL                |NULL                |NULL              |NULL        |\n",
      "|c114b3e4-54c4-d728-3527-fbadf5179364|active|institutional|claim|urn:uuid:b4b67625-c44c-a832-7aba-3a2ae02a4ef1|Zita788 Hagenes547|2012-05-04T23:43:00-04:00|2012-05-04T23:28:00-04:00|2012-05-04T23:43:00-04:00|Organization?identifier=https://github.com/synthetichealth/synthea|9d568031-5a53-3647-945c-bc8786c3adcd|normal  |info                |urn:uuid:cecf5bc4-f05e-6375-62c5-cfc9b1e7eb74|NO_INSURANCE              |true           |125.0       |USD     |urn:uuid:3496908c-dc8d-f4b7-6f5f-8a4ee1d01eb6|18286008 |Catheter ablation of tissue of heart              |NULL         |7813.84       |USD              |NULL                                         |NULL                |NULL                |NULL              |NULL        |\n",
      "|c114b3e4-54c4-d728-3527-fbadf5179364|active|institutional|claim|urn:uuid:b4b67625-c44c-a832-7aba-3a2ae02a4ef1|Zita788 Hagenes547|2012-05-04T23:43:00-04:00|2012-05-04T23:28:00-04:00|2012-05-04T23:43:00-04:00|Organization?identifier=https://github.com/synthetichealth/synthea|9d568031-5a53-3647-945c-bc8786c3adcd|normal  |info                |urn:uuid:cecf5bc4-f05e-6375-62c5-cfc9b1e7eb74|NO_INSURANCE              |true           |125.0       |USD     |urn:uuid:7e506daa-9ef0-7a37-a02b-d6f2741be056|18286008 |Catheter ablation of tissue of heart              |NULL         |7813.84       |USD              |NULL                                         |NULL                |NULL                |NULL              |NULL        |\n",
      "|c114b3e4-54c4-d728-3527-fbadf5179364|active|institutional|claim|urn:uuid:b4b67625-c44c-a832-7aba-3a2ae02a4ef1|Zita788 Hagenes547|2012-05-04T23:43:00-04:00|2012-05-04T23:28:00-04:00|2012-05-04T23:43:00-04:00|Organization?identifier=https://github.com/synthetichealth/synthea|9d568031-5a53-3647-945c-bc8786c3adcd|normal  |info                |urn:uuid:cecf5bc4-f05e-6375-62c5-cfc9b1e7eb74|NO_INSURANCE              |true           |125.0       |USD     |urn:uuid:3496908c-dc8d-f4b7-6f5f-8a4ee1d01eb6|140      |Influenza, seasonal, injectable, preservative free|NULL         |136.0         |USD              |NULL                                         |NULL                |NULL                |NULL              |NULL        |\n",
      "|c114b3e4-54c4-d728-3527-fbadf5179364|active|institutional|claim|urn:uuid:b4b67625-c44c-a832-7aba-3a2ae02a4ef1|Zita788 Hagenes547|2012-05-04T23:43:00-04:00|2012-05-04T23:28:00-04:00|2012-05-04T23:43:00-04:00|Organization?identifier=https://github.com/synthetichealth/synthea|9d568031-5a53-3647-945c-bc8786c3adcd|normal  |info                |urn:uuid:cecf5bc4-f05e-6375-62c5-cfc9b1e7eb74|NO_INSURANCE              |true           |125.0       |USD     |urn:uuid:7e506daa-9ef0-7a37-a02b-d6f2741be056|140      |Influenza, seasonal, injectable, preservative free|NULL         |136.0         |USD              |NULL                                         |NULL                |NULL                |NULL              |NULL        |\n",
      "|c114b3e4-54c4-d728-3527-fbadf5179364|active|institutional|claim|urn:uuid:b4b67625-c44c-a832-7aba-3a2ae02a4ef1|Zita788 Hagenes547|2012-05-04T23:43:00-04:00|2012-05-04T23:28:00-04:00|2012-05-04T23:43:00-04:00|Organization?identifier=https://github.com/synthetichealth/synthea|9d568031-5a53-3647-945c-bc8786c3adcd|normal  |info                |urn:uuid:cecf5bc4-f05e-6375-62c5-cfc9b1e7eb74|NO_INSURANCE              |true           |125.0       |USD     |urn:uuid:3496908c-dc8d-f4b7-6f5f-8a4ee1d01eb6|430193006|Medication Reconciliation (procedure)             |NULL         |386.74        |USD              |NULL                                         |NULL                |NULL                |NULL              |NULL        |\n",
      "|c114b3e4-54c4-d728-3527-fbadf5179364|active|institutional|claim|urn:uuid:b4b67625-c44c-a832-7aba-3a2ae02a4ef1|Zita788 Hagenes547|2012-05-04T23:43:00-04:00|2012-05-04T23:28:00-04:00|2012-05-04T23:43:00-04:00|Organization?identifier=https://github.com/synthetichealth/synthea|9d568031-5a53-3647-945c-bc8786c3adcd|normal  |info                |urn:uuid:cecf5bc4-f05e-6375-62c5-cfc9b1e7eb74|NO_INSURANCE              |true           |125.0       |USD     |urn:uuid:7e506daa-9ef0-7a37-a02b-d6f2741be056|430193006|Medication Reconciliation (procedure)             |NULL         |386.74        |USD              |NULL                                         |NULL                |NULL                |NULL              |NULL        |\n",
      "|c114b3e4-54c4-d728-3527-fbadf5179364|active|institutional|claim|urn:uuid:b4b67625-c44c-a832-7aba-3a2ae02a4ef1|Zita788 Hagenes547|2012-05-04T23:43:00-04:00|2012-05-04T23:28:00-04:00|2012-05-04T23:43:00-04:00|Organization?identifier=https://github.com/synthetichealth/synthea|9d568031-5a53-3647-945c-bc8786c3adcd|normal  |info                |urn:uuid:cecf5bc4-f05e-6375-62c5-cfc9b1e7eb74|NO_INSURANCE              |true           |125.0       |USD     |urn:uuid:3496908c-dc8d-f4b7-6f5f-8a4ee1d01eb6|312681000|Bone density scan (procedure)                     |NULL         |9751.96       |USD              |NULL                                         |NULL                |NULL                |NULL              |NULL        |\n",
      "|c114b3e4-54c4-d728-3527-fbadf5179364|active|institutional|claim|urn:uuid:b4b67625-c44c-a832-7aba-3a2ae02a4ef1|Zita788 Hagenes547|2012-05-04T23:43:00-04:00|2012-05-04T23:28:00-04:00|2012-05-04T23:43:00-04:00|Organization?identifier=https://github.com/synthetichealth/synthea|9d568031-5a53-3647-945c-bc8786c3adcd|normal  |info                |urn:uuid:cecf5bc4-f05e-6375-62c5-cfc9b1e7eb74|NO_INSURANCE              |true           |125.0       |USD     |urn:uuid:7e506daa-9ef0-7a37-a02b-d6f2741be056|312681000|Bone density scan (procedure)                     |NULL         |9751.96       |USD              |NULL                                         |NULL                |NULL                |NULL              |NULL        |\n",
      "|c114b3e4-54c4-d728-3527-fbadf5179364|active|institutional|claim|urn:uuid:b4b67625-c44c-a832-7aba-3a2ae02a4ef1|Zita788 Hagenes547|2012-05-04T23:43:00-04:00|2012-05-04T23:28:00-04:00|2012-05-04T23:43:00-04:00|Organization?identifier=https://github.com/synthetichealth/synthea|9d568031-5a53-3647-945c-bc8786c3adcd|normal  |info                |urn:uuid:cecf5bc4-f05e-6375-62c5-cfc9b1e7eb74|NO_INSURANCE              |true           |125.0       |USD     |urn:uuid:3496908c-dc8d-f4b7-6f5f-8a4ee1d01eb6|64859006 |Osteoporosis (disorder)                           |NULL         |NULL          |NULL             |NULL                                         |NULL                |NULL                |NULL              |NULL        |\n",
      "|c114b3e4-54c4-d728-3527-fbadf5179364|active|institutional|claim|urn:uuid:b4b67625-c44c-a832-7aba-3a2ae02a4ef1|Zita788 Hagenes547|2012-05-04T23:43:00-04:00|2012-05-04T23:28:00-04:00|2012-05-04T23:43:00-04:00|Organization?identifier=https://github.com/synthetichealth/synthea|9d568031-5a53-3647-945c-bc8786c3adcd|normal  |info                |urn:uuid:cecf5bc4-f05e-6375-62c5-cfc9b1e7eb74|NO_INSURANCE              |true           |125.0       |USD     |urn:uuid:7e506daa-9ef0-7a37-a02b-d6f2741be056|64859006 |Osteoporosis (disorder)                           |NULL         |NULL          |NULL             |NULL                                         |NULL                |NULL                |NULL              |NULL        |\n",
      "|df5fc112-d330-169d-d3b0-da21fb78f7d1|active|institutional|claim|urn:uuid:fb47aa81-57a0-edc1-185d-891ad133034b|Zita788 Koepp521  |2018-02-10T07:32:26-05:00|2018-02-10T07:17:26-05:00|2018-02-10T07:32:26-05:00|Organization?identifier=https://github.com/synthetichealth/synthea|06961497-625a-3aaa-8733-9c546deab348|normal  |info                |urn:uuid:8996d66e-cb93-a228-4e53-f90a88a37f78|NO_INSURANCE              |true           |125.0       |USD     |urn:uuid:c6f0494a-4c10-fc2a-4663-1c4229b4ff9e|410620009|Well child visit (procedure)                      |NULL         |NULL          |NULL             |urn:uuid:38908ae4-7a20-734f-c967-4055dd878b89|NULL                |NULL                |NULL              |NULL        |\n",
      "|df5fc112-d330-169d-d3b0-da21fb78f7d1|active|institutional|claim|urn:uuid:fb47aa81-57a0-edc1-185d-891ad133034b|Zita788 Koepp521  |2018-02-10T07:32:26-05:00|2018-02-10T07:17:26-05:00|2018-02-10T07:32:26-05:00|Organization?identifier=https://github.com/synthetichealth/synthea|06961497-625a-3aaa-8733-9c546deab348|normal  |info                |urn:uuid:8996d66e-cb93-a228-4e53-f90a88a37f78|NO_INSURANCE              |true           |125.0       |USD     |urn:uuid:c6f0494a-4c10-fc2a-4663-1c4229b4ff9e|140      |Influenza, seasonal, injectable, preservative free|NULL         |136.0         |USD              |NULL                                         |NULL                |NULL                |NULL              |NULL        |\n",
      "|df5fc112-d330-169d-d3b0-da21fb78f7d1|active|institutional|claim|urn:uuid:fb47aa81-57a0-edc1-185d-891ad133034b|Zita788 Koepp521  |2018-02-10T07:32:26-05:00|2018-02-10T07:17:26-05:00|2018-02-10T07:32:26-05:00|Organization?identifier=https://github.com/synthetichealth/synthea|06961497-625a-3aaa-8733-9c546deab348|normal  |info                |urn:uuid:8996d66e-cb93-a228-4e53-f90a88a37f78|NO_INSURANCE              |true           |125.0       |USD     |urn:uuid:c6f0494a-4c10-fc2a-4663-1c4229b4ff9e|62       |HPV, quadrivalent                                 |NULL         |136.0         |USD              |NULL                                         |NULL                |NULL                |NULL              |NULL        |\n",
      "|df5fc112-d330-169d-d3b0-da21fb78f7d1|active|institutional|claim|urn:uuid:fb47aa81-57a0-edc1-185d-891ad133034b|Zita788 Koepp521  |2018-02-10T07:32:26-05:00|2018-02-10T07:17:26-05:00|2018-02-10T07:32:26-05:00|Organization?identifier=https://github.com/synthetichealth/synthea|06961497-625a-3aaa-8733-9c546deab348|normal  |info                |urn:uuid:8996d66e-cb93-a228-4e53-f90a88a37f78|NO_INSURANCE              |true           |125.0       |USD     |urn:uuid:c6f0494a-4c10-fc2a-4663-1c4229b4ff9e|162864005|Body mass index 30+ - obesity (finding)           |NULL         |NULL          |NULL             |NULL                                         |NULL                |NULL                |NULL              |NULL        |\n",
      "|df5fc112-d330-169d-d3b0-da21fb78f7d1|active|institutional|claim|urn:uuid:fb47aa81-57a0-edc1-185d-891ad133034b|Zita788 Koepp521  |2018-02-10T07:32:26-05:00|2018-02-10T07:17:26-05:00|2018-02-10T07:32:26-05:00|Organization?identifier=https://github.com/synthetichealth/synthea|06961497-625a-3aaa-8733-9c546deab348|normal  |info                |urn:uuid:e989279f-5d9e-4d4b-b04e-766ae49dc335|NO_INSURANCE              |true           |125.0       |USD     |urn:uuid:c6f0494a-4c10-fc2a-4663-1c4229b4ff9e|410620009|Well child visit (procedure)                      |NULL         |NULL          |NULL             |urn:uuid:38908ae4-7a20-734f-c967-4055dd878b89|NULL                |NULL                |NULL              |NULL        |\n",
      "|df5fc112-d330-169d-d3b0-da21fb78f7d1|active|institutional|claim|urn:uuid:fb47aa81-57a0-edc1-185d-891ad133034b|Zita788 Koepp521  |2018-02-10T07:32:26-05:00|2018-02-10T07:17:26-05:00|2018-02-10T07:32:26-05:00|Organization?identifier=https://github.com/synthetichealth/synthea|06961497-625a-3aaa-8733-9c546deab348|normal  |info                |urn:uuid:e989279f-5d9e-4d4b-b04e-766ae49dc335|NO_INSURANCE              |true           |125.0       |USD     |urn:uuid:c6f0494a-4c10-fc2a-4663-1c4229b4ff9e|140      |Influenza, seasonal, injectable, preservative free|NULL         |136.0         |USD              |NULL                                         |NULL                |NULL                |NULL              |NULL        |\n",
      "+------------------------------------+------+-------------+-----+---------------------------------------------+------------------+-------------------------+-------------------------+-------------------------+-------------------------------------------------------------------------------------------------------+--------+--------------------+---------------------------------------------+--------------------------+---------------+------------+--------+---------------------------------------------+---------+--------------------------------------------------+-------------+--------------+-----------------+---------------------------------------------+--------------------+--------------------+------------------+------------+\n",
      "only showing top 20 rows\n",
      "\n"
     ]
    }
   ],
   "execution_count": 11
  },
  {
   "metadata": {
    "ExecuteTime": {
     "end_time": "2024-11-30T01:27:03.134239Z",
     "start_time": "2024-11-30T01:27:03.123859Z"
    }
   },
   "cell_type": "code",
   "source": [
    "adjudication_df = claim_df.withColumn(\"adjudication\", explode(col(\"adjudication\")))\n",
    "\n",
    "#todo unable to read adjudication from the files\n",
    "#todo uploading claims without adjudication details for now\n"
   ],
   "id": "1869710109c8dd21",
   "outputs": [],
   "execution_count": 12
  },
  {
   "metadata": {
    "ExecuteTime": {
     "end_time": "2024-11-30T01:27:03.535389Z",
     "start_time": "2024-11-30T01:27:03.145745Z"
    }
   },
   "cell_type": "code",
   "source": [
    "# Save the DataFrame to Parquet\n",
    "claim_df.write.mode(\"overwrite\").parquet(f\"{output_path}/claim\")\n",
    "\n",
    "print(\"Claims DataFrame has been successfully saved in the 'claim' folder.\")"
   ],
   "id": "f346e4a73d83df7e",
   "outputs": [
    {
     "name": "stdout",
     "output_type": "stream",
     "text": [
      "Claims DataFrame has been successfully saved in the 'claims' folder.\n"
     ]
    }
   ],
   "execution_count": 13
  },
  {
   "metadata": {},
   "cell_type": "markdown",
   "source": "### Explanation of Benefit",
   "id": "e723393e6fb5aec5"
  },
  {
   "metadata": {
    "ExecuteTime": {
     "end_time": "2024-11-30T01:27:04.011356Z",
     "start_time": "2024-11-30T01:27:03.546649Z"
    }
   },
   "cell_type": "code",
   "source": [
    "# Filter for ExplanationOfBenefit resources\n",
    "eobs = entries.filter(col(\"entry.resource.resourceType\") == \"ExplanationOfBenefit\") \\\n",
    "              .select(col(\"entry.resource.*\"))\n",
    "\n",
    "eobs = (eobs.withColumn(\"type_parsed\", from_json(col(\"type\"), type_schema))\n",
    "        .withColumn(\"total_parsed\", from_json(col(\"total\"), total_schema))\n",
    "        .withColumn(\"contained\", explode(col(\"contained\")))\n",
    "        .withColumn(\"careTeam\", explode(col(\"careTeam\")))\n",
    "        .withColumn(\"insurance\", explode(col(\"insurance\")))\n",
    "        .withColumn(\"item\", explode(col(\"item\")))\n",
    "        )\n",
    "# Extract relevant fields from ExplanationOfBenefit\n",
    "eob_df = eobs.select(\n",
    "    col(\"id\").alias(\"eob_id\"),\n",
    "    col(\"identifier\").getItem(0).getField(\"value\").alias(\"identifier_claim_id\"),  \n",
    "    col(\"identifier\").getItem(1).getField(\"value\").alias(\"identifier_claim_group\"),  \n",
    "    col(\"status\").alias(\"status\"),\n",
    "    col(\"type_parsed.coding\").getItem(0).getField(\"code\").alias(\"code\"),\n",
    "    col(\"use\").alias(\"use\"),\n",
    "    col(\"patient.reference\").alias(\"patient_reference\"),\n",
    "    col(\"billablePeriod.start\").alias(\"billable_period_start\"),\n",
    "    col(\"billablePeriod.end\").alias(\"billable_period_end\"),\n",
    "    col(\"insurer.display\").alias(\"insurer_display\"),\n",
    "    col(\"provider.reference\").alias(\"provider_reference\"),\n",
    "    col(\"referral.reference\").alias(\"referral_reference\"),\n",
    "    col(\"claim.reference\").alias(\"claim_reference\"),\n",
    "    col(\"outcome\").alias(\"outcome\"),\n",
    "    col(\"careTeam.provider.reference\").alias(\"care_team_provider_reference\"),\n",
    "    col(\"careTeam.role.coding\").getItem(0).getField(\"display\").alias(\"care_team_role\"), \n",
    "    col(\"insurance.coverage.reference\").alias(\"insurance_coverage_reference\"),\n",
    "    col(\"insurance.coverage.display\").alias(\"insurance_coverage_display\"),\n",
    "    col(\"insurance.focal\").alias(\"insurance_focal\"),\n",
    "    col(\"item.category.coding\").getItem(0).getField(\"display\").alias(\"item_category_display\"),\n",
    "    col(\"item.productOrService.coding\").getItem(0).getField(\"code\").alias(\"item_service_code\"),\n",
    "    col(\"item.productOrService.coding\").getItem(0).getField(\"display\").alias(\"item_service_description\"),\n",
    "    col(\"item.net.value\").alias(\"item_net_value\"),\n",
    "    col(\"item.net.currency\").alias(\"item_net_currency\"),\n",
    "    col(\"item.locationCodeableConcept.coding\").getItem(0).getField(\"display\").alias(\"location_description\"),\n",
    "    col(\"item.servicedPeriod.start\").alias(\"service_period_start\"),\n",
    "    col(\"item.servicedPeriod.end\").alias(\"service_period_end\"),\n",
    "    col(\"item.adjudication\").alias(\"adjudication\"),\n",
    "    col(\"total_parsed.value\").alias(\"total_amount\"),\n",
    "    col(\"total_parsed.currency\").alias(\"total_currency\"),\n",
    "    col(\"payment.amount.value\").alias(\"payment_amount\"),\n",
    "    col(\"payment.amount.currency\").alias(\"payment_currency\"),\n",
    "    col(\"created\").alias(\"created_date\")  \n",
    ")\n",
    "\n",
    "# Show the resulting DataFrame\n",
    "eob_df.show(truncate=False)"
   ],
   "id": "f64476607474b243",
   "outputs": [
    {
     "name": "stdout",
     "output_type": "stream",
     "text": [
      "+------------------------------------+------------------------------------+----------------------+------+---------------+-----+---------------------------------------------+-------------------------+-------------------------+---------------+-----------------------------------------------------------------+------------------+---------------------------------------------+--------+-----------------------------------------------------------------+-------------------------+----------------------------+--------------------------+---------------+---------------------+-----------------+--------------------------------------------------+--------------+-----------------+------------------------------+-------------------------+-------------------------+------------------------------------------------------------------------------------------------------------------------------------------------------------------------------------------------------------------------------------------------------------------------------------------------------------------------------------------------------------------------------------------------------------------------------------------------------------------------------------------------------------------------------------------------------------------------------------------------------------------------------------------------------------------------------------------------------------------------------------------------------------------------------------------------------------------------------------------------------------------------------------------------------------------------------------------------------------------------------------------------------------------------------------------------------------------------------------------------------------------------------------------------------------------------+------------+--------------+------------------+----------------+-------------------------+\n",
      "|eob_id                              |identifier_claim_id                 |identifier_claim_group|status|code           |use  |patient_reference                            |billable_period_start    |billable_period_end      |insurer_display|provider_reference                                               |referral_reference|claim_reference                              |outcome |care_team_provider_reference                                     |care_team_role           |insurance_coverage_reference|insurance_coverage_display|insurance_focal|item_category_display|item_service_code|item_service_description                          |item_net_value|item_net_currency|location_description          |service_period_start     |service_period_end       |adjudication                                                                                                                                                                                                                                                                                                                                                                                                                                                                                                                                                                                                                                                                                                                                                                                                                                                                                                                                                                                                                                                                                                                                                            |total_amount|total_currency|payment_amount    |payment_currency|created_date             |\n",
      "+------------------------------------+------------------------------------+----------------------+------+---------------+-----+---------------------------------------------+-------------------------+-------------------------+---------------+-----------------------------------------------------------------+------------------+---------------------------------------------+--------+-----------------------------------------------------------------+-------------------------+----------------------------+--------------------------+---------------+---------------------+-----------------+--------------------------------------------------+--------------+-----------------+------------------------------+-------------------------+-------------------------+------------------------------------------------------------------------------------------------------------------------------------------------------------------------------------------------------------------------------------------------------------------------------------------------------------------------------------------------------------------------------------------------------------------------------------------------------------------------------------------------------------------------------------------------------------------------------------------------------------------------------------------------------------------------------------------------------------------------------------------------------------------------------------------------------------------------------------------------------------------------------------------------------------------------------------------------------------------------------------------------------------------------------------------------------------------------------------------------------------------------------------------------------------------------+------------+--------------+------------------+----------------+-------------------------+\n",
      "|009ea376-8aff-d92c-e5f0-3b6980a2fd29|ea1baf46-35ce-a1fa-c8ff-b244e831ca29|99999999999           |active|[institutional]|claim|urn:uuid:7ca297d1-94e0-8069-4cdb-50f313de9a5f|1956-09-06T22:59:33-04:00|1957-09-06T22:59:33-04:00|NO_INSURANCE   |Practitioner?identifier=http://hl7.org/fhir/sid/us-npi|9999999939|#referral         |urn:uuid:ea1baf46-35ce-a1fa-c8ff-b244e831ca29|complete|Practitioner?identifier=http://hl7.org/fhir/sid/us-npi|9999999939|Primary Care Practitioner|#coverage                   |NO_INSURANCE              |true           |Medical care         |185345009        |Encounter for symptom                             |NULL          |NULL             |Inpatient Hospital            |1956-09-06T22:44:33-04:00|1956-09-06T22:59:33-04:00|NULL                                                                                                                                                                                                                                                                                                                                                                                                                                                                                                                                                                                                                                                                                                                                                                                                                                                                                                                                                                                                                                                                                                                                                                    |NULL        |NULL          |0.0               |USD             |1956-09-06T22:59:33-04:00|\n",
      "|009ea376-8aff-d92c-e5f0-3b6980a2fd29|ea1baf46-35ce-a1fa-c8ff-b244e831ca29|99999999999           |active|[institutional]|claim|urn:uuid:7ca297d1-94e0-8069-4cdb-50f313de9a5f|1956-09-06T22:59:33-04:00|1957-09-06T22:59:33-04:00|NO_INSURANCE   |Practitioner?identifier=http://hl7.org/fhir/sid/us-npi|9999999939|#referral         |urn:uuid:ea1baf46-35ce-a1fa-c8ff-b244e831ca29|complete|Practitioner?identifier=http://hl7.org/fhir/sid/us-npi|9999999939|Primary Care Practitioner|#coverage                   |NO_INSURANCE              |true           |Medical care         |40055000         |Chronic sinusitis (disorder)                      |NULL          |NULL             |Inpatient Hospital            |1956-09-06T22:44:33-04:00|1956-09-06T22:59:33-04:00|NULL                                                                                                                                                                                                                                                                                                                                                                                                                                                                                                                                                                                                                                                                                                                                                                                                                                                                                                                                                                                                                                                                                                                                                                    |NULL        |NULL          |0.0               |USD             |1956-09-06T22:59:33-04:00|\n",
      "|009ea376-8aff-d92c-e5f0-3b6980a2fd29|ea1baf46-35ce-a1fa-c8ff-b244e831ca29|99999999999           |active|[institutional]|claim|urn:uuid:7ca297d1-94e0-8069-4cdb-50f313de9a5f|1956-09-06T22:59:33-04:00|1957-09-06T22:59:33-04:00|NO_INSURANCE   |Practitioner?identifier=http://hl7.org/fhir/sid/us-npi|9999999939|#referral         |urn:uuid:ea1baf46-35ce-a1fa-c8ff-b244e831ca29|complete|Practitioner?identifier=http://hl7.org/fhir/sid/us-npi|9999999939|Primary Care Practitioner|#coverage                   |NO_INSURANCE              |true           |Medical care         |185345009        |Encounter for symptom                             |NULL          |NULL             |Inpatient Hospital            |1956-09-06T22:44:33-04:00|1956-09-06T22:59:33-04:00|NULL                                                                                                                                                                                                                                                                                                                                                                                                                                                                                                                                                                                                                                                                                                                                                                                                                                                                                                                                                                                                                                                                                                                                                                    |NULL        |NULL          |0.0               |USD             |1956-09-06T22:59:33-04:00|\n",
      "|009ea376-8aff-d92c-e5f0-3b6980a2fd29|ea1baf46-35ce-a1fa-c8ff-b244e831ca29|99999999999           |active|[institutional]|claim|urn:uuid:7ca297d1-94e0-8069-4cdb-50f313de9a5f|1956-09-06T22:59:33-04:00|1957-09-06T22:59:33-04:00|NO_INSURANCE   |Practitioner?identifier=http://hl7.org/fhir/sid/us-npi|9999999939|#referral         |urn:uuid:ea1baf46-35ce-a1fa-c8ff-b244e831ca29|complete|Practitioner?identifier=http://hl7.org/fhir/sid/us-npi|9999999939|Primary Care Practitioner|#coverage                   |NO_INSURANCE              |true           |Medical care         |40055000         |Chronic sinusitis (disorder)                      |NULL          |NULL             |Inpatient Hospital            |1956-09-06T22:44:33-04:00|1956-09-06T22:59:33-04:00|NULL                                                                                                                                                                                                                                                                                                                                                                                                                                                                                                                                                                                                                                                                                                                                                                                                                                                                                                                                                                                                                                                                                                                                                                    |NULL        |NULL          |0.0               |USD             |1956-09-06T22:59:33-04:00|\n",
      "|f0ceb0aa-aac4-828c-9490-cc7d31c5f820|f6d072a1-66de-d03e-1616-99eeeceed280|99999999999           |active|[institutional]|claim|urn:uuid:7ca297d1-94e0-8069-4cdb-50f313de9a5f|1972-06-19T03:59:33-04:00|1973-06-19T03:59:33-04:00|NO_INSURANCE   |Practitioner?identifier=http://hl7.org/fhir/sid/us-npi|9999999359|#referral         |urn:uuid:f6d072a1-66de-d03e-1616-99eeeceed280|complete|Practitioner?identifier=http://hl7.org/fhir/sid/us-npi|9999999359|Primary Care Practitioner|#coverage                   |NO_INSURANCE              |true           |Medical care         |410620009        |Well child visit (procedure)                      |NULL          |NULL             |Off Campus-Outpatient Hospital|1972-06-19T03:44:33-04:00|1972-06-19T03:59:33-04:00|NULL                                                                                                                                                                                                                                                                                                                                                                                                                                                                                                                                                                                                                                                                                                                                                                                                                                                                                                                                                                                                                                                                                                                                                                    |NULL        |NULL          |0.0               |USD             |1972-06-19T03:59:33-04:00|\n",
      "|f0ceb0aa-aac4-828c-9490-cc7d31c5f820|f6d072a1-66de-d03e-1616-99eeeceed280|99999999999           |active|[institutional]|claim|urn:uuid:7ca297d1-94e0-8069-4cdb-50f313de9a5f|1972-06-19T03:59:33-04:00|1973-06-19T03:59:33-04:00|NO_INSURANCE   |Practitioner?identifier=http://hl7.org/fhir/sid/us-npi|9999999359|#referral         |urn:uuid:f6d072a1-66de-d03e-1616-99eeeceed280|complete|Practitioner?identifier=http://hl7.org/fhir/sid/us-npi|9999999359|Primary Care Practitioner|#coverage                   |NO_INSURANCE              |true           |Medical care         |162864005        |Body mass index 30+ - obesity (finding)           |NULL          |NULL             |Off Campus-Outpatient Hospital|1972-06-19T03:44:33-04:00|1972-06-19T03:59:33-04:00|NULL                                                                                                                                                                                                                                                                                                                                                                                                                                                                                                                                                                                                                                                                                                                                                                                                                                                                                                                                                                                                                                                                                                                                                                    |NULL        |NULL          |0.0               |USD             |1972-06-19T03:59:33-04:00|\n",
      "|f0ceb0aa-aac4-828c-9490-cc7d31c5f820|f6d072a1-66de-d03e-1616-99eeeceed280|99999999999           |active|[institutional]|claim|urn:uuid:7ca297d1-94e0-8069-4cdb-50f313de9a5f|1972-06-19T03:59:33-04:00|1973-06-19T03:59:33-04:00|NO_INSURANCE   |Practitioner?identifier=http://hl7.org/fhir/sid/us-npi|9999999359|#referral         |urn:uuid:f6d072a1-66de-d03e-1616-99eeeceed280|complete|Practitioner?identifier=http://hl7.org/fhir/sid/us-npi|9999999359|Primary Care Practitioner|#coverage                   |NO_INSURANCE              |true           |Medical care         |410620009        |Well child visit (procedure)                      |NULL          |NULL             |Off Campus-Outpatient Hospital|1972-06-19T03:44:33-04:00|1972-06-19T03:59:33-04:00|NULL                                                                                                                                                                                                                                                                                                                                                                                                                                                                                                                                                                                                                                                                                                                                                                                                                                                                                                                                                                                                                                                                                                                                                                    |NULL        |NULL          |0.0               |USD             |1972-06-19T03:59:33-04:00|\n",
      "|f0ceb0aa-aac4-828c-9490-cc7d31c5f820|f6d072a1-66de-d03e-1616-99eeeceed280|99999999999           |active|[institutional]|claim|urn:uuid:7ca297d1-94e0-8069-4cdb-50f313de9a5f|1972-06-19T03:59:33-04:00|1973-06-19T03:59:33-04:00|NO_INSURANCE   |Practitioner?identifier=http://hl7.org/fhir/sid/us-npi|9999999359|#referral         |urn:uuid:f6d072a1-66de-d03e-1616-99eeeceed280|complete|Practitioner?identifier=http://hl7.org/fhir/sid/us-npi|9999999359|Primary Care Practitioner|#coverage                   |NO_INSURANCE              |true           |Medical care         |162864005        |Body mass index 30+ - obesity (finding)           |NULL          |NULL             |Off Campus-Outpatient Hospital|1972-06-19T03:44:33-04:00|1972-06-19T03:59:33-04:00|NULL                                                                                                                                                                                                                                                                                                                                                                                                                                                                                                                                                                                                                                                                                                                                                                                                                                                                                                                                                                                                                                                                                                                                                                    |NULL        |NULL          |0.0               |USD             |1972-06-19T03:59:33-04:00|\n",
      "|c032bf48-1906-3a6f-d797-8dbe1d428648|3ae2c9f8-a972-1ada-4f22-a048e1337435|99999999999           |active|[institutional]|claim|urn:uuid:7ca297d1-94e0-8069-4cdb-50f313de9a5f|1988-10-10T03:59:33-04:00|1989-10-10T03:59:33-04:00|NO_INSURANCE   |Practitioner?identifier=http://hl7.org/fhir/sid/us-npi|9999999939|#referral         |urn:uuid:3ae2c9f8-a972-1ada-4f22-a048e1337435|complete|Practitioner?identifier=http://hl7.org/fhir/sid/us-npi|9999999939|Primary Care Practitioner|#coverage                   |NO_INSURANCE              |true           |Medical care         |424441002        |Prenatal initial visit                            |NULL          |NULL             |Inpatient Hospital            |1988-10-10T03:44:33-04:00|1988-10-10T03:59:33-04:00|NULL                                                                                                                                                                                                                                                                                                                                                                                                                                                                                                                                                                                                                                                                                                                                                                                                                                                                                                                                                                                                                                                                                                                                                                    |NULL        |NULL          |0.0               |USD             |1988-10-10T03:59:33-04:00|\n",
      "|c032bf48-1906-3a6f-d797-8dbe1d428648|3ae2c9f8-a972-1ada-4f22-a048e1337435|99999999999           |active|[institutional]|claim|urn:uuid:7ca297d1-94e0-8069-4cdb-50f313de9a5f|1988-10-10T03:59:33-04:00|1989-10-10T03:59:33-04:00|NO_INSURANCE   |Practitioner?identifier=http://hl7.org/fhir/sid/us-npi|9999999939|#referral         |urn:uuid:3ae2c9f8-a972-1ada-4f22-a048e1337435|complete|Practitioner?identifier=http://hl7.org/fhir/sid/us-npi|9999999939|Primary Care Practitioner|#coverage                   |NO_INSURANCE              |true           |Medical care         |19169002         |Miscarriage in first trimester                    |NULL          |NULL             |Inpatient Hospital            |1988-10-10T03:44:33-04:00|1988-10-10T03:59:33-04:00|NULL                                                                                                                                                                                                                                                                                                                                                                                                                                                                                                                                                                                                                                                                                                                                                                                                                                                                                                                                                                                                                                                                                                                                                                    |NULL        |NULL          |0.0               |USD             |1988-10-10T03:59:33-04:00|\n",
      "|c032bf48-1906-3a6f-d797-8dbe1d428648|3ae2c9f8-a972-1ada-4f22-a048e1337435|99999999999           |active|[institutional]|claim|urn:uuid:7ca297d1-94e0-8069-4cdb-50f313de9a5f|1988-10-10T03:59:33-04:00|1989-10-10T03:59:33-04:00|NO_INSURANCE   |Practitioner?identifier=http://hl7.org/fhir/sid/us-npi|9999999939|#referral         |urn:uuid:3ae2c9f8-a972-1ada-4f22-a048e1337435|complete|Practitioner?identifier=http://hl7.org/fhir/sid/us-npi|9999999939|Primary Care Practitioner|#coverage                   |NO_INSURANCE              |true           |Medical care         |424441002        |Prenatal initial visit                            |NULL          |NULL             |Inpatient Hospital            |1988-10-10T03:44:33-04:00|1988-10-10T03:59:33-04:00|NULL                                                                                                                                                                                                                                                                                                                                                                                                                                                                                                                                                                                                                                                                                                                                                                                                                                                                                                                                                                                                                                                                                                                                                                    |NULL        |NULL          |0.0               |USD             |1988-10-10T03:59:33-04:00|\n",
      "|c032bf48-1906-3a6f-d797-8dbe1d428648|3ae2c9f8-a972-1ada-4f22-a048e1337435|99999999999           |active|[institutional]|claim|urn:uuid:7ca297d1-94e0-8069-4cdb-50f313de9a5f|1988-10-10T03:59:33-04:00|1989-10-10T03:59:33-04:00|NO_INSURANCE   |Practitioner?identifier=http://hl7.org/fhir/sid/us-npi|9999999939|#referral         |urn:uuid:3ae2c9f8-a972-1ada-4f22-a048e1337435|complete|Practitioner?identifier=http://hl7.org/fhir/sid/us-npi|9999999939|Primary Care Practitioner|#coverage                   |NO_INSURANCE              |true           |Medical care         |19169002         |Miscarriage in first trimester                    |NULL          |NULL             |Inpatient Hospital            |1988-10-10T03:44:33-04:00|1988-10-10T03:59:33-04:00|NULL                                                                                                                                                                                                                                                                                                                                                                                                                                                                                                                                                                                                                                                                                                                                                                                                                                                                                                                                                                                                                                                                                                                                                                    |NULL        |NULL          |0.0               |USD             |1988-10-10T03:59:33-04:00|\n",
      "|b1bf7dda-9971-8c9c-ae81-e249fb8c5742|22f98c04-7811-f7e6-716e-f76a70b0a79a|99999999999           |active|[institutional]|claim|urn:uuid:7ca297d1-94e0-8069-4cdb-50f313de9a5f|2002-08-22T04:24:22-04:00|2003-08-22T04:24:22-04:00|NO_INSURANCE   |Practitioner?identifier=http://hl7.org/fhir/sid/us-npi|9999999939|#referral         |urn:uuid:22f98c04-7811-f7e6-716e-f76a70b0a79a|complete|Practitioner?identifier=http://hl7.org/fhir/sid/us-npi|9999999939|Primary Care Practitioner|#coverage                   |NO_INSURANCE              |true           |Medical care         |698314001        |Consultation for treatment                        |NULL          |NULL             |Inpatient Hospital            |2002-08-22T03:44:33-04:00|2002-08-22T04:24:22-04:00|NULL                                                                                                                                                                                                                                                                                                                                                                                                                                                                                                                                                                                                                                                                                                                                                                                                                                                                                                                                                                                                                                                                                                                                                                    |NULL        |NULL          |0.0               |USD             |2002-08-22T04:24:22-04:00|\n",
      "|b1bf7dda-9971-8c9c-ae81-e249fb8c5742|22f98c04-7811-f7e6-716e-f76a70b0a79a|99999999999           |active|[institutional]|claim|urn:uuid:7ca297d1-94e0-8069-4cdb-50f313de9a5f|2002-08-22T04:24:22-04:00|2003-08-22T04:24:22-04:00|NO_INSURANCE   |Practitioner?identifier=http://hl7.org/fhir/sid/us-npi|9999999939|#referral         |urn:uuid:22f98c04-7811-f7e6-716e-f76a70b0a79a|complete|Practitioner?identifier=http://hl7.org/fhir/sid/us-npi|9999999939|Primary Care Practitioner|#coverage                   |NO_INSURANCE              |true           |Medical care         |698314001        |Consultation for treatment                        |NULL          |NULL             |Inpatient Hospital            |2002-08-22T03:44:33-04:00|2002-08-22T04:24:22-04:00|NULL                                                                                                                                                                                                                                                                                                                                                                                                                                                                                                                                                                                                                                                                                                                                                                                                                                                                                                                                                                                                                                                                                                                                                                    |NULL        |NULL          |0.0               |USD             |2002-08-22T04:24:22-04:00|\n",
      "|7429cb49-3873-7c94-58fb-5caf1b126125|d03e2203-cbd3-f268-8faa-51d79894b118|99999999999           |active|[institutional]|claim|urn:uuid:7ca297d1-94e0-8069-4cdb-50f313de9a5f|2004-03-25T20:59:33-05:00|2005-03-25T20:59:33-05:00|NO_INSURANCE   |Practitioner?identifier=http://hl7.org/fhir/sid/us-npi|9999999939|#referral         |urn:uuid:d03e2203-cbd3-f268-8faa-51d79894b118|complete|Practitioner?identifier=http://hl7.org/fhir/sid/us-npi|9999999939|Primary Care Practitioner|#coverage                   |NO_INSURANCE              |true           |Medical care         |185345009        |Encounter for symptom                             |NULL          |NULL             |Inpatient Hospital            |2004-03-25T20:44:33-05:00|2004-03-25T20:59:33-05:00|NULL                                                                                                                                                                                                                                                                                                                                                                                                                                                                                                                                                                                                                                                                                                                                                                                                                                                                                                                                                                                                                                                                                                                                                                    |NULL        |NULL          |0.0               |USD             |2004-03-25T20:59:33-05:00|\n",
      "|7429cb49-3873-7c94-58fb-5caf1b126125|d03e2203-cbd3-f268-8faa-51d79894b118|99999999999           |active|[institutional]|claim|urn:uuid:7ca297d1-94e0-8069-4cdb-50f313de9a5f|2004-03-25T20:59:33-05:00|2005-03-25T20:59:33-05:00|NO_INSURANCE   |Practitioner?identifier=http://hl7.org/fhir/sid/us-npi|9999999939|#referral         |urn:uuid:d03e2203-cbd3-f268-8faa-51d79894b118|complete|Practitioner?identifier=http://hl7.org/fhir/sid/us-npi|9999999939|Primary Care Practitioner|#coverage                   |NO_INSURANCE              |true           |Medical care         |195662009        |Acute viral pharyngitis (disorder)                |NULL          |NULL             |Inpatient Hospital            |2004-03-25T20:44:33-05:00|2004-03-25T20:59:33-05:00|NULL                                                                                                                                                                                                                                                                                                                                                                                                                                                                                                                                                                                                                                                                                                                                                                                                                                                                                                                                                                                                                                                                                                                                                                    |NULL        |NULL          |0.0               |USD             |2004-03-25T20:59:33-05:00|\n",
      "|7429cb49-3873-7c94-58fb-5caf1b126125|d03e2203-cbd3-f268-8faa-51d79894b118|99999999999           |active|[institutional]|claim|urn:uuid:7ca297d1-94e0-8069-4cdb-50f313de9a5f|2004-03-25T20:59:33-05:00|2005-03-25T20:59:33-05:00|NO_INSURANCE   |Practitioner?identifier=http://hl7.org/fhir/sid/us-npi|9999999939|#referral         |urn:uuid:d03e2203-cbd3-f268-8faa-51d79894b118|complete|Practitioner?identifier=http://hl7.org/fhir/sid/us-npi|9999999939|Primary Care Practitioner|#coverage                   |NO_INSURANCE              |true           |Medical care         |185345009        |Encounter for symptom                             |NULL          |NULL             |Inpatient Hospital            |2004-03-25T20:44:33-05:00|2004-03-25T20:59:33-05:00|NULL                                                                                                                                                                                                                                                                                                                                                                                                                                                                                                                                                                                                                                                                                                                                                                                                                                                                                                                                                                                                                                                                                                                                                                    |NULL        |NULL          |0.0               |USD             |2004-03-25T20:59:33-05:00|\n",
      "|7429cb49-3873-7c94-58fb-5caf1b126125|d03e2203-cbd3-f268-8faa-51d79894b118|99999999999           |active|[institutional]|claim|urn:uuid:7ca297d1-94e0-8069-4cdb-50f313de9a5f|2004-03-25T20:59:33-05:00|2005-03-25T20:59:33-05:00|NO_INSURANCE   |Practitioner?identifier=http://hl7.org/fhir/sid/us-npi|9999999939|#referral         |urn:uuid:d03e2203-cbd3-f268-8faa-51d79894b118|complete|Practitioner?identifier=http://hl7.org/fhir/sid/us-npi|9999999939|Primary Care Practitioner|#coverage                   |NO_INSURANCE              |true           |Medical care         |195662009        |Acute viral pharyngitis (disorder)                |NULL          |NULL             |Inpatient Hospital            |2004-03-25T20:44:33-05:00|2004-03-25T20:59:33-05:00|NULL                                                                                                                                                                                                                                                                                                                                                                                                                                                                                                                                                                                                                                                                                                                                                                                                                                                                                                                                                                                                                                                                                                                                                                    |NULL        |NULL          |0.0               |USD             |2004-03-25T20:59:33-05:00|\n",
      "|03a8d3d0-079f-1ab2-eb4a-3961b3d71854|74fb5c46-cacf-a5a5-80ba-3554901cf692|99999999999           |active|[institutional]|claim|urn:uuid:7ca297d1-94e0-8069-4cdb-50f313de9a5f|2005-05-02T03:59:33-04:00|2006-05-02T03:59:33-04:00|NO_INSURANCE   |Practitioner?identifier=http://hl7.org/fhir/sid/us-npi|9999999359|#referral         |urn:uuid:74fb5c46-cacf-a5a5-80ba-3554901cf692|complete|Practitioner?identifier=http://hl7.org/fhir/sid/us-npi|9999999359|Primary Care Practitioner|#coverage                   |NO_INSURANCE              |true           |Medical care         |162673000        |General examination of patient (procedure)        |NULL          |NULL             |Off Campus-Outpatient Hospital|2005-05-02T03:44:33-04:00|2005-05-02T03:59:33-04:00|NULL                                                                                                                                                                                                                                                                                                                                                                                                                                                                                                                                                                                                                                                                                                                                                                                                                                                                                                                                                                                                                                                                                                                                                                    |NULL        |NULL          |108.80000000000001|USD             |2005-05-02T03:59:33-04:00|\n",
      "|03a8d3d0-079f-1ab2-eb4a-3961b3d71854|74fb5c46-cacf-a5a5-80ba-3554901cf692|99999999999           |active|[institutional]|claim|urn:uuid:7ca297d1-94e0-8069-4cdb-50f313de9a5f|2005-05-02T03:59:33-04:00|2006-05-02T03:59:33-04:00|NO_INSURANCE   |Practitioner?identifier=http://hl7.org/fhir/sid/us-npi|9999999359|#referral         |urn:uuid:74fb5c46-cacf-a5a5-80ba-3554901cf692|complete|Practitioner?identifier=http://hl7.org/fhir/sid/us-npi|9999999359|Primary Care Practitioner|#coverage                   |NO_INSURANCE              |true           |Medical care         |140              |Influenza, seasonal, injectable, preservative free|136.0         |USD              |Off Campus-Outpatient Hospital|2005-05-02T03:44:33-04:00|2005-05-02T03:59:33-04:00|[{{USD, 27.200000000000003}, {[{https://bluebutton.cms.gov/resources/variables/line_coinsrnc_amt, Line Beneficiary Coinsurance Amount, https://bluebutton.cms.gov/resources/codesystem/adjudication}]}}, {{USD, 108.80000000000001}, {[{https://bluebutton.cms.gov/resources/variables/line_prvdr_pmt_amt, Line Provider Payment Amount, https://bluebutton.cms.gov/resources/codesystem/adjudication}]}}, {{USD, 136.0}, {[{https://bluebutton.cms.gov/resources/variables/line_sbmtd_chrg_amt, Line Submitted Charge Amount, https://bluebutton.cms.gov/resources/codesystem/adjudication}]}}, {{USD, 136.0}, {[{https://bluebutton.cms.gov/resources/variables/line_alowd_chrg_amt, Line Allowed Charge Amount, https://bluebutton.cms.gov/resources/codesystem/adjudication}]}}, {{USD, 0.0}, {[{https://bluebutton.cms.gov/resources/variables/line_bene_ptb_ddctbl_amt, Line Beneficiary Part B Deductible Amount, https://bluebutton.cms.gov/resources/codesystem/adjudication}]}}, {NULL, {[{https://bluebutton.cms.gov/resources/variables/line_prcsg_ind_cd, Line Processing Indicator Code, https://bluebutton.cms.gov/resources/codesystem/adjudication}]}}]|NULL        |NULL          |108.80000000000001|USD             |2005-05-02T03:59:33-04:00|\n",
      "+------------------------------------+------------------------------------+----------------------+------+---------------+-----+---------------------------------------------+-------------------------+-------------------------+---------------+-----------------------------------------------------------------+------------------+---------------------------------------------+--------+-----------------------------------------------------------------+-------------------------+----------------------------+--------------------------+---------------+---------------------+-----------------+--------------------------------------------------+--------------+-----------------+------------------------------+-------------------------+-------------------------+------------------------------------------------------------------------------------------------------------------------------------------------------------------------------------------------------------------------------------------------------------------------------------------------------------------------------------------------------------------------------------------------------------------------------------------------------------------------------------------------------------------------------------------------------------------------------------------------------------------------------------------------------------------------------------------------------------------------------------------------------------------------------------------------------------------------------------------------------------------------------------------------------------------------------------------------------------------------------------------------------------------------------------------------------------------------------------------------------------------------------------------------------------------------+------------+--------------+------------------+----------------+-------------------------+\n",
      "only showing top 20 rows\n",
      "\n"
     ]
    }
   ],
   "execution_count": 14
  },
  {
   "metadata": {
    "ExecuteTime": {
     "end_time": "2024-11-30T01:27:04.028104Z",
     "start_time": "2024-11-30T01:27:04.026381Z"
    }
   },
   "cell_type": "code",
   "source": [
    "#todo explode adjudication \n",
    "\n"
   ],
   "id": "aedce1f2bde30337",
   "outputs": [],
   "execution_count": 15
  },
  {
   "metadata": {
    "ExecuteTime": {
     "end_time": "2024-11-30T01:27:04.615010Z",
     "start_time": "2024-11-30T01:27:04.067600Z"
    }
   },
   "cell_type": "code",
   "source": [
    "# Save the DataFrame to Parquet\n",
    "eob_df.write.mode(\"overwrite\").parquet(f\"{output_path}/explanation_of_benefit\")\n",
    "\n",
    "print(\"Explanation of Benefit DataFrame has been successfully saved in the 'explanation_of_benefit' folder.\")"
   ],
   "id": "ea614d76c1b41f4c",
   "outputs": [
    {
     "name": "stdout",
     "output_type": "stream",
     "text": [
      "Explanation of Benefit DataFrame has been successfully saved in the 'explanation_of_benefit' folder.\n"
     ]
    },
    {
     "name": "stderr",
     "output_type": "stream",
     "text": [
      "24/11/29 17:27:04 WARN MemoryManager: Total allocation exceeds 95.00% (1,020,054,720 bytes) of heap memory\n",
      "Scaling row group sizes to 95.00% for 8 writers\n",
      "24/11/29 17:27:04 WARN MemoryManager: Total allocation exceeds 95.00% (1,020,054,720 bytes) of heap memory\n",
      "Scaling row group sizes to 84.44% for 9 writers\n",
      "24/11/29 17:27:04 WARN MemoryManager: Total allocation exceeds 95.00% (1,020,054,720 bytes) of heap memory\n",
      "Scaling row group sizes to 95.00% for 8 writers\n"
     ]
    }
   ],
   "execution_count": 16
  },
  {
   "metadata": {},
   "cell_type": "markdown",
   "source": "### Care Plan",
   "id": "4b0c63afffd60707"
  },
  {
   "metadata": {
    "ExecuteTime": {
     "end_time": "2024-11-30T01:27:04.797338Z",
     "start_time": "2024-11-30T01:27:04.627703Z"
    }
   },
   "cell_type": "code",
   "source": [
    "# Filter for CarePlan resources\n",
    "careplans = entries.filter(col(\"entry.resource.resourceType\") == \"CarePlan\") \\\n",
    "                   .select(col(\"entry.resource.*\"))\n",
    "\n",
    "# Define schema for the 'category' field\n",
    "category_schema = StructType([\n",
    "        StructField(\"coding\", ArrayType(\n",
    "            StructType([\n",
    "                StructField(\"system\", StringType(), True),\n",
    "                StructField(\"code\", StringType(), True),\n",
    "                StructField(\"display\", StringType(), True),\n",
    "            ])\n",
    "        ), True),\n",
    "        StructField(\"text\", StringType(), True)\n",
    "    ])\n",
    "\n",
    "\n",
    "careplans = (careplans\n",
    "             .withColumn(\"careTeam\", explode(col(\"careTeam\")))\n",
    "             .withColumn(\"activity\", explode(col(\"activity\")))\n",
    "             )\n",
    "\n",
    "# Extract relevant fields from CarePlan\n",
    "careplan_df = careplans.select(\n",
    "    col(\"id\").alias(\"careplan_id\"),\n",
    "    col(\"status\").alias(\"status\"),\n",
    "    col(\"intent\").alias(\"intent\"),\n",
    "    col(\"category\").getItem(0).alias(\"category\"),  \n",
    "    col(\"subject.reference\").alias(\"patient_reference\"),\n",
    "    col(\"encounter.reference\").alias(\"encounter_reference\"),\n",
    "    col(\"period.start\").alias(\"period_start\"),\n",
    "    col(\"period.end\").alias(\"period_end\"),\n",
    "    col(\"created\").alias(\"created_date\"),\n",
    "    col(\"careTeam.reference\").alias(\"care_team_reference\"), \n",
    "    col(\"activity.detail.code.coding\").getItem(0).getField(\"display\").alias(\"activity_display\"),\n",
    "    col(\"activity.detail.code.coding\").getItem(0).getField(\"code\").alias(\"activity_code\"),\n",
    "    col(\"activity.detail.status\").alias(\"activity_status\"),\n",
    "    col(\"activity.detail.location.display\").alias(\"activity_location\"),\n",
    "    col(\"addresses.reference\").alias(\"addresses\")\n",
    ")\n",
    "\n",
    "# Since category is an array of string, separately process the column\n",
    "careplan_df = careplan_df.withColumn(\"category_parsed\", from_json(col(\"category\"), category_schema)).withColumn(\"category_text\", col(\"category_parsed.text\"))\n",
    "\n",
    "# Dropping the redundant columns\n",
    "careplan_df = careplan_df.select(\n",
    "    [column for column in careplan_df.columns if column not in [\"category\", \"category_parsed\"]]\n",
    ")\n",
    "\n",
    "# Show the resulting DataFrame\n",
    "careplan_df.show(truncate=False)\n"
   ],
   "id": "bf33c31e33f679a6",
   "outputs": [
    {
     "name": "stdout",
     "output_type": "stream",
     "text": [
      "+------------------------------------+---------+------+---------------------------------------------+---------------------------------------------+-------------------------+-------------------------+------------+---------------------------------------------+--------------------------------------------------------+-------------+---------------+--------------------------------+-----------------------------------------------+-------------------------------------+\n",
      "|careplan_id                         |status   |intent|patient_reference                            |encounter_reference                          |period_start             |period_end               |created_date|care_team_reference                          |activity_display                                        |activity_code|activity_status|activity_location               |addresses                                      |category_text                        |\n",
      "+------------------------------------+---------+------+---------------------------------------------+---------------------------------------------+-------------------------+-------------------------+------------+---------------------------------------------+--------------------------------------------------------+-------------+---------------+--------------------------------+-----------------------------------------------+-------------------------------------+\n",
      "|351b1eae-3e1c-fa97-717a-ab614d84a2bc|active   |order |urn:uuid:7ca297d1-94e0-8069-4cdb-50f313de9a5f|urn:uuid:f2e9b264-652b-2e37-5d7b-ead701bfe233|2006-02-04T03:07:43-05:00|NULL                     |NULL        |urn:uuid:a2cd2181-4dc2-7815-a0ad-945edfa66a9e|low salt diet education                                 |183063000    |in-progress    |Dr. g.b. Cross Memorial Hospital|[urn:uuid:78172f1f-b075-68bb-1863-a1602c1c7fc2]|Heart failure self management plan   |\n",
      "|351b1eae-3e1c-fa97-717a-ab614d84a2bc|active   |order |urn:uuid:7ca297d1-94e0-8069-4cdb-50f313de9a5f|urn:uuid:f2e9b264-652b-2e37-5d7b-ead701bfe233|2006-02-04T03:07:43-05:00|NULL                     |NULL        |urn:uuid:a2cd2181-4dc2-7815-a0ad-945edfa66a9e|physical exercise                                       |183301007    |in-progress    |Dr. g.b. Cross Memorial Hospital|[urn:uuid:78172f1f-b075-68bb-1863-a1602c1c7fc2]|Heart failure self management plan   |\n",
      "|c8710294-e6b9-098e-0d84-8fef4d47181e|completed|order |urn:uuid:7ca297d1-94e0-8069-4cdb-50f313de9a5f|urn:uuid:583133c2-99d2-caae-ed78-b11999c129da|2009-01-19T03:07:43-05:00|2009-01-20T03:55:16-05:00|NULL        |urn:uuid:ee20c56d-d24d-05be-4bf8-7db7e6708614|Cardiac care (regime/therapy)                           |385715006    |completed      |Dr. g.b. Cross Memorial Hospital|[urn:uuid:78172f1f-b075-68bb-1863-a1602c1c7fc2]|Inpatient care plan (record artifact)|\n",
      "|c8710294-e6b9-098e-0d84-8fef4d47181e|completed|order |urn:uuid:7ca297d1-94e0-8069-4cdb-50f313de9a5f|urn:uuid:583133c2-99d2-caae-ed78-b11999c129da|2009-01-19T03:07:43-05:00|2009-01-20T03:55:16-05:00|NULL        |urn:uuid:ee20c56d-d24d-05be-4bf8-7db7e6708614|Low sodium diet (finding)                               |386619000    |completed      |Dr. g.b. Cross Memorial Hospital|[urn:uuid:78172f1f-b075-68bb-1863-a1602c1c7fc2]|Inpatient care plan (record artifact)|\n",
      "|e7aa7521-4af0-65fd-af3d-13c134e8716e|completed|order |urn:uuid:7ca297d1-94e0-8069-4cdb-50f313de9a5f|urn:uuid:cfd0e7b0-bc15-5a1c-a7ac-4a8c7c1a91d3|2009-07-18T04:08:55-04:00|2009-08-08T04:08:55-04:00|NULL        |urn:uuid:f5d0e7da-3a5c-378a-c1a5-1f1fb76440e1|Rest, ice, compression and elevation treatment programme|229586001    |completed      |Dr. g.b. Cross Memorial Hospital|[urn:uuid:801f9a58-bfe5-8125-6541-76ec2e1a2d07]|Physical therapy procedure           |\n",
      "|e7aa7521-4af0-65fd-af3d-13c134e8716e|completed|order |urn:uuid:7ca297d1-94e0-8069-4cdb-50f313de9a5f|urn:uuid:cfd0e7b0-bc15-5a1c-a7ac-4a8c7c1a91d3|2009-07-18T04:08:55-04:00|2009-08-08T04:08:55-04:00|NULL        |urn:uuid:f5d0e7da-3a5c-378a-c1a5-1f1fb76440e1|Stretching exercises                                    |229070002    |completed      |Dr. g.b. Cross Memorial Hospital|[urn:uuid:801f9a58-bfe5-8125-6541-76ec2e1a2d07]|Physical therapy procedure           |\n",
      "|d447041f-439a-66be-ab98-584952e4d952|completed|order |urn:uuid:7ca297d1-94e0-8069-4cdb-50f313de9a5f|urn:uuid:00336118-a170-38de-1a6d-eb3dec651c9e|2009-10-12T08:04:31-04:00|2009-10-20T08:04:31-04:00|NULL        |urn:uuid:5256b461-8cde-b8d6-6931-f22244389cdb|Recommendation to avoid exercise                        |304510005    |completed      |Dr. g.b. Cross Memorial Hospital|[urn:uuid:89ec043c-8260-8c33-e2d5-b246679179a7]|Respiratory therapy                  |\n",
      "|d447041f-439a-66be-ab98-584952e4d952|completed|order |urn:uuid:7ca297d1-94e0-8069-4cdb-50f313de9a5f|urn:uuid:00336118-a170-38de-1a6d-eb3dec651c9e|2009-10-12T08:04:31-04:00|2009-10-20T08:04:31-04:00|NULL        |urn:uuid:5256b461-8cde-b8d6-6931-f22244389cdb|Deep breathing and coughing exercises                   |371605008    |completed      |Dr. g.b. Cross Memorial Hospital|[urn:uuid:89ec043c-8260-8c33-e2d5-b246679179a7]|Respiratory therapy                  |\n",
      "|a1152dc0-dee6-a3f2-b679-510b10351f03|completed|order |urn:uuid:7ca297d1-94e0-8069-4cdb-50f313de9a5f|urn:uuid:98e03bab-9a5b-fd11-814f-623d22a04871|2010-01-16T03:55:16-05:00|2010-01-17T04:56:19-05:00|NULL        |urn:uuid:afdd3f0c-0ffe-8cd2-4dd9-764904caefa6|Cardiac care (regime/therapy)                           |385715006    |completed      |Dr. g.b. Cross Memorial Hospital|[urn:uuid:78172f1f-b075-68bb-1863-a1602c1c7fc2]|Inpatient care plan (record artifact)|\n",
      "|a1152dc0-dee6-a3f2-b679-510b10351f03|completed|order |urn:uuid:7ca297d1-94e0-8069-4cdb-50f313de9a5f|urn:uuid:98e03bab-9a5b-fd11-814f-623d22a04871|2010-01-16T03:55:16-05:00|2010-01-17T04:56:19-05:00|NULL        |urn:uuid:afdd3f0c-0ffe-8cd2-4dd9-764904caefa6|Low sodium diet (finding)                               |386619000    |completed      |Dr. g.b. Cross Memorial Hospital|[urn:uuid:78172f1f-b075-68bb-1863-a1602c1c7fc2]|Inpatient care plan (record artifact)|\n",
      "|5b16a7cd-e889-3746-973e-bee24491f4a5|completed|order |urn:uuid:7ca297d1-94e0-8069-4cdb-50f313de9a5f|urn:uuid:f2905642-80e7-61b0-ff10-87034008f022|2010-06-26T04:08:55-04:00|2010-08-27T04:08:55-04:00|NULL        |urn:uuid:b30144ce-2473-1bdf-e14b-7556676daa85|Recommendation to rest                                  |183051005    |completed      |Dr. g.b. Cross Memorial Hospital|[urn:uuid:de8ee0a1-dbb6-2e43-a3c2-b108c3446a5c]|Head injury rehabilitation           |\n",
      "|5b16a7cd-e889-3746-973e-bee24491f4a5|completed|order |urn:uuid:7ca297d1-94e0-8069-4cdb-50f313de9a5f|urn:uuid:f2905642-80e7-61b0-ff10-87034008f022|2010-06-26T04:08:55-04:00|2010-08-27T04:08:55-04:00|NULL        |urn:uuid:b30144ce-2473-1bdf-e14b-7556676daa85|Alcohol-free diet                                       |226138001    |completed      |Dr. g.b. Cross Memorial Hospital|[urn:uuid:de8ee0a1-dbb6-2e43-a3c2-b108c3446a5c]|Head injury rehabilitation           |\n",
      "|a9d90709-e43e-0e5f-92a7-a6c6c799bba7|completed|order |urn:uuid:7ca297d1-94e0-8069-4cdb-50f313de9a5f|urn:uuid:cde2af48-e4cb-3992-aae5-f88e79071420|2011-09-19T05:56:19-04:00|2011-09-20T06:48:15-04:00|NULL        |urn:uuid:a9f3247c-ca17-10ed-3c4a-4095c2a9f2fc|Cardiac care (regime/therapy)                           |385715006    |completed      |Dr. g.b. Cross Memorial Hospital|[urn:uuid:78172f1f-b075-68bb-1863-a1602c1c7fc2]|Inpatient care plan (record artifact)|\n",
      "|a9d90709-e43e-0e5f-92a7-a6c6c799bba7|completed|order |urn:uuid:7ca297d1-94e0-8069-4cdb-50f313de9a5f|urn:uuid:cde2af48-e4cb-3992-aae5-f88e79071420|2011-09-19T05:56:19-04:00|2011-09-20T06:48:15-04:00|NULL        |urn:uuid:a9f3247c-ca17-10ed-3c4a-4095c2a9f2fc|Low sodium diet (finding)                               |386619000    |completed      |Dr. g.b. Cross Memorial Hospital|[urn:uuid:78172f1f-b075-68bb-1863-a1602c1c7fc2]|Inpatient care plan (record artifact)|\n",
      "|10b777e0-6fe3-96c7-430e-62bbcf1a5a9f|active   |order |urn:uuid:7ca297d1-94e0-8069-4cdb-50f313de9a5f|urn:uuid:54fdb2f4-3e48-26d2-1a66-f5bc7e692f18|2013-07-05T06:48:15-04:00|NULL                     |NULL        |urn:uuid:35b83061-ccd7-3769-d1e4-c0cb1a5c30f5|Cardiac care (regime/therapy)                           |385715006    |in-progress    |Dr. g.b. Cross Memorial Hospital|[urn:uuid:78172f1f-b075-68bb-1863-a1602c1c7fc2]|Inpatient care plan (record artifact)|\n",
      "|10b777e0-6fe3-96c7-430e-62bbcf1a5a9f|active   |order |urn:uuid:7ca297d1-94e0-8069-4cdb-50f313de9a5f|urn:uuid:54fdb2f4-3e48-26d2-1a66-f5bc7e692f18|2013-07-05T06:48:15-04:00|NULL                     |NULL        |urn:uuid:35b83061-ccd7-3769-d1e4-c0cb1a5c30f5|Low sodium diet (finding)                               |386619000    |in-progress    |Dr. g.b. Cross Memorial Hospital|[urn:uuid:78172f1f-b075-68bb-1863-a1602c1c7fc2]|Inpatient care plan (record artifact)|\n",
      "|de3a7507-e533-21ec-2490-2260c4a368af|completed|order |urn:uuid:c8af2e36-e7d2-fc26-de8c-8936c9e4705e|urn:uuid:c841db73-939a-6870-8fb6-6c2de2c0560d|2011-06-01T23:19:25-04:00|2011-07-24T23:19:25-04:00|NULL        |urn:uuid:30215393-7cd3-5191-0488-9a81251c7f01|Recommendation to rest                                  |183051005    |completed      |Queen Elizabeth Hospital        |[urn:uuid:9effaafb-b7cb-33e5-7ab7-5c51c8f57fb0]|Fracture care                        |\n",
      "|de3a7507-e533-21ec-2490-2260c4a368af|completed|order |urn:uuid:c8af2e36-e7d2-fc26-de8c-8936c9e4705e|urn:uuid:c841db73-939a-6870-8fb6-6c2de2c0560d|2011-06-01T23:19:25-04:00|2011-07-24T23:19:25-04:00|NULL        |urn:uuid:30215393-7cd3-5191-0488-9a81251c7f01|Physical activity target light exercise                 |408580007    |completed      |Queen Elizabeth Hospital        |[urn:uuid:9effaafb-b7cb-33e5-7ab7-5c51c8f57fb0]|Fracture care                        |\n",
      "|819d8d40-7fe2-e2f2-09fd-b9d4360b4111|completed|order |urn:uuid:c8af2e36-e7d2-fc26-de8c-8936c9e4705e|urn:uuid:10bb7c70-2726-6bcb-3c12-52b4a15f360f|2014-02-03T19:48:18-05:00|2014-02-28T02:00:31-05:00|NULL        |urn:uuid:9202bcec-2ced-4342-a84e-57158c62b1de|Physical therapy procedure (regime/therapy)             |91251008     |completed      |Queen Elizabeth Hospital        |NULL                                           |Therapy (regime/therapy)             |\n",
      "|819d8d40-7fe2-e2f2-09fd-b9d4360b4111|completed|order |urn:uuid:c8af2e36-e7d2-fc26-de8c-8936c9e4705e|urn:uuid:10bb7c70-2726-6bcb-3c12-52b4a15f360f|2014-02-03T19:48:18-05:00|2014-02-28T02:00:31-05:00|NULL        |urn:uuid:9202bcec-2ced-4342-a84e-57158c62b1de|Cognitive and behavior therapy                          |228557008    |completed      |Queen Elizabeth Hospital        |NULL                                           |Therapy (regime/therapy)             |\n",
      "+------------------------------------+---------+------+---------------------------------------------+---------------------------------------------+-------------------------+-------------------------+------------+---------------------------------------------+--------------------------------------------------------+-------------+---------------+--------------------------------+-----------------------------------------------+-------------------------------------+\n",
      "only showing top 20 rows\n",
      "\n"
     ]
    }
   ],
   "execution_count": 17
  },
  {
   "metadata": {
    "ExecuteTime": {
     "end_time": "2024-11-30T01:27:05.025896Z",
     "start_time": "2024-11-30T01:27:04.811948Z"
    }
   },
   "cell_type": "code",
   "source": [
    "# Save the DataFrame to Parquet\n",
    "careplan_df.write.mode(\"overwrite\").parquet(f\"{output_path}/careplan\")\n",
    "\n",
    "print(\" CarePlan DataFrame has been successfully saved in the 'careplan' folder.\")"
   ],
   "id": "f10b5df92075fada",
   "outputs": [
    {
     "name": "stdout",
     "output_type": "stream",
     "text": [
      " CarePlan DataFrame has been successfully saved in the 'careplan' folder.\n"
     ]
    }
   ],
   "execution_count": 18
  },
  {
   "metadata": {},
   "cell_type": "markdown",
   "source": "### Care Team",
   "id": "e0849cfb4e51be5c"
  },
  {
   "metadata": {
    "ExecuteTime": {
     "end_time": "2024-11-30T01:27:05.167912Z",
     "start_time": "2024-11-30T01:27:05.037923Z"
    }
   },
   "cell_type": "code",
   "source": [
    "# Filter for CareTeam resources\n",
    "care_team_resources = entries.filter(col(\"entry.resource.resourceType\") == \"CareTeam\") \\\n",
    "                             .select(col(\"entry.resource.*\"))\n",
    "\n",
    "# Explode the participants array if it exists\n",
    "care_team_resources = (care_team_resources.withColumn(\"participant\", explode(col(\"participant\")))\n",
    "                       .withColumn(\"managingOrganization\", explode(col(\"managingOrganization\"))))\n",
    "\n",
    "# Extract relevant fields\n",
    "care_team_df = care_team_resources.select(\n",
    "    col(\"id\").alias(\"care_team_id\"),\n",
    "    col(\"status\").alias(\"status\"),\n",
    "    col(\"subject.reference\").alias(\"subject_reference\"),\n",
    "    col(\"encounter.reference\").alias(\"encounter_reference\"),\n",
    "    col(\"period.start\").alias(\"period_start\"),\n",
    "    col(\"period.end\").alias(\"period_end\"),\n",
    "    col(\"managingOrganization.display\").alias(\"managing_organization\"),\n",
    "    col(\"participant.role.text\").getItem(0).alias(\"participant_role\"),\n",
    "    col(\"participant.member.reference\").alias(\"participant_reference\"),\n",
    "    col(\"participant.member.display\").alias(\"participant_display\"),\n",
    ")\n",
    "\n",
    "# Show the resulting DataFrame\n",
    "care_team_df.show(truncate=False)\n"
   ],
   "id": "bb6acedff4bfa0f0",
   "outputs": [
    {
     "name": "stdout",
     "output_type": "stream",
     "text": [
      "+------------------------------------+--------+---------------------------------------------+---------------------------------------------+-------------------------+-------------------------+--------------------------------+-------------------------------------+-------------------------------------------------------------------------------------------------------+--------------------------------+\n",
      "|care_team_id                        |status  |subject_reference                            |encounter_reference                          |period_start             |period_end               |managing_organization           |participant_role                     |participant_reference                                                                                  |participant_display             |\n",
      "+------------------------------------+--------+---------------------------------------------+---------------------------------------------+-------------------------+-------------------------+--------------------------------+-------------------------------------+-------------------------------------------------------------------------------------------------------+--------------------------------+\n",
      "|a2cd2181-4dc2-7815-a0ad-945edfa66a9e|active  |urn:uuid:7ca297d1-94e0-8069-4cdb-50f313de9a5f|urn:uuid:f2e9b264-652b-2e37-5d7b-ead701bfe233|2006-02-04T03:07:43-05:00|NULL                     |Dr. g.b. Cross Memorial Hospital|Patient                              |urn:uuid:7ca297d1-94e0-8069-4cdb-50f313de9a5f                                                          |Ms. Zenaida56 Murphy561         |\n",
      "|a2cd2181-4dc2-7815-a0ad-945edfa66a9e|active  |urn:uuid:7ca297d1-94e0-8069-4cdb-50f313de9a5f|urn:uuid:f2e9b264-652b-2e37-5d7b-ead701bfe233|2006-02-04T03:07:43-05:00|NULL                     |Dr. g.b. Cross Memorial Hospital|Healthcare professional (occupation) |Practitioner?identifier=http://hl7.org/fhir/sid/us-npi|9999999939                                      |Dr. Almeta56 Carter549          |\n",
      "|a2cd2181-4dc2-7815-a0ad-945edfa66a9e|active  |urn:uuid:7ca297d1-94e0-8069-4cdb-50f313de9a5f|urn:uuid:f2e9b264-652b-2e37-5d7b-ead701bfe233|2006-02-04T03:07:43-05:00|NULL                     |Dr. g.b. Cross Memorial Hospital|Healthcare services (qualifier value)|Organization?identifier=https://github.com/synthetichealth/synthea|066f5330-cbcc-335e-8c77-624a43292376|Dr. g.b. Cross Memorial Hospital|\n",
      "|ee20c56d-d24d-05be-4bf8-7db7e6708614|inactive|urn:uuid:7ca297d1-94e0-8069-4cdb-50f313de9a5f|urn:uuid:583133c2-99d2-caae-ed78-b11999c129da|2009-01-19T03:07:43-05:00|2009-01-20T03:55:16-05:00|Dr. g.b. Cross Memorial Hospital|Patient                              |urn:uuid:7ca297d1-94e0-8069-4cdb-50f313de9a5f                                                          |Ms. Zenaida56 Murphy561         |\n",
      "|ee20c56d-d24d-05be-4bf8-7db7e6708614|inactive|urn:uuid:7ca297d1-94e0-8069-4cdb-50f313de9a5f|urn:uuid:583133c2-99d2-caae-ed78-b11999c129da|2009-01-19T03:07:43-05:00|2009-01-20T03:55:16-05:00|Dr. g.b. Cross Memorial Hospital|Healthcare professional (occupation) |Practitioner?identifier=http://hl7.org/fhir/sid/us-npi|9999999939                                      |Dr. Almeta56 Carter549          |\n",
      "|ee20c56d-d24d-05be-4bf8-7db7e6708614|inactive|urn:uuid:7ca297d1-94e0-8069-4cdb-50f313de9a5f|urn:uuid:583133c2-99d2-caae-ed78-b11999c129da|2009-01-19T03:07:43-05:00|2009-01-20T03:55:16-05:00|Dr. g.b. Cross Memorial Hospital|Healthcare services (qualifier value)|Organization?identifier=https://github.com/synthetichealth/synthea|066f5330-cbcc-335e-8c77-624a43292376|Dr. g.b. Cross Memorial Hospital|\n",
      "|f5d0e7da-3a5c-378a-c1a5-1f1fb76440e1|inactive|urn:uuid:7ca297d1-94e0-8069-4cdb-50f313de9a5f|urn:uuid:cfd0e7b0-bc15-5a1c-a7ac-4a8c7c1a91d3|2009-07-18T04:08:55-04:00|2009-08-08T04:08:55-04:00|Dr. g.b. Cross Memorial Hospital|Patient                              |urn:uuid:7ca297d1-94e0-8069-4cdb-50f313de9a5f                                                          |Ms. Zenaida56 Murphy561         |\n",
      "|f5d0e7da-3a5c-378a-c1a5-1f1fb76440e1|inactive|urn:uuid:7ca297d1-94e0-8069-4cdb-50f313de9a5f|urn:uuid:cfd0e7b0-bc15-5a1c-a7ac-4a8c7c1a91d3|2009-07-18T04:08:55-04:00|2009-08-08T04:08:55-04:00|Dr. g.b. Cross Memorial Hospital|Healthcare professional (occupation) |Practitioner?identifier=http://hl7.org/fhir/sid/us-npi|9999999939                                      |Dr. Almeta56 Carter549          |\n",
      "|f5d0e7da-3a5c-378a-c1a5-1f1fb76440e1|inactive|urn:uuid:7ca297d1-94e0-8069-4cdb-50f313de9a5f|urn:uuid:cfd0e7b0-bc15-5a1c-a7ac-4a8c7c1a91d3|2009-07-18T04:08:55-04:00|2009-08-08T04:08:55-04:00|Dr. g.b. Cross Memorial Hospital|Healthcare services (qualifier value)|Organization?identifier=https://github.com/synthetichealth/synthea|066f5330-cbcc-335e-8c77-624a43292376|Dr. g.b. Cross Memorial Hospital|\n",
      "|5256b461-8cde-b8d6-6931-f22244389cdb|inactive|urn:uuid:7ca297d1-94e0-8069-4cdb-50f313de9a5f|urn:uuid:00336118-a170-38de-1a6d-eb3dec651c9e|2009-10-12T08:04:31-04:00|2009-10-20T08:04:31-04:00|Dr. g.b. Cross Memorial Hospital|Patient                              |urn:uuid:7ca297d1-94e0-8069-4cdb-50f313de9a5f                                                          |Ms. Zenaida56 Murphy561         |\n",
      "|5256b461-8cde-b8d6-6931-f22244389cdb|inactive|urn:uuid:7ca297d1-94e0-8069-4cdb-50f313de9a5f|urn:uuid:00336118-a170-38de-1a6d-eb3dec651c9e|2009-10-12T08:04:31-04:00|2009-10-20T08:04:31-04:00|Dr. g.b. Cross Memorial Hospital|Healthcare professional (occupation) |Practitioner?identifier=http://hl7.org/fhir/sid/us-npi|9999999939                                      |Dr. Almeta56 Carter549          |\n",
      "|5256b461-8cde-b8d6-6931-f22244389cdb|inactive|urn:uuid:7ca297d1-94e0-8069-4cdb-50f313de9a5f|urn:uuid:00336118-a170-38de-1a6d-eb3dec651c9e|2009-10-12T08:04:31-04:00|2009-10-20T08:04:31-04:00|Dr. g.b. Cross Memorial Hospital|Healthcare services (qualifier value)|Organization?identifier=https://github.com/synthetichealth/synthea|066f5330-cbcc-335e-8c77-624a43292376|Dr. g.b. Cross Memorial Hospital|\n",
      "|afdd3f0c-0ffe-8cd2-4dd9-764904caefa6|inactive|urn:uuid:7ca297d1-94e0-8069-4cdb-50f313de9a5f|urn:uuid:98e03bab-9a5b-fd11-814f-623d22a04871|2010-01-16T03:55:16-05:00|2010-01-17T04:56:19-05:00|Dr. g.b. Cross Memorial Hospital|Patient                              |urn:uuid:7ca297d1-94e0-8069-4cdb-50f313de9a5f                                                          |Ms. Zenaida56 Murphy561         |\n",
      "|afdd3f0c-0ffe-8cd2-4dd9-764904caefa6|inactive|urn:uuid:7ca297d1-94e0-8069-4cdb-50f313de9a5f|urn:uuid:98e03bab-9a5b-fd11-814f-623d22a04871|2010-01-16T03:55:16-05:00|2010-01-17T04:56:19-05:00|Dr. g.b. Cross Memorial Hospital|Healthcare professional (occupation) |Practitioner?identifier=http://hl7.org/fhir/sid/us-npi|9999999939                                      |Dr. Almeta56 Carter549          |\n",
      "|afdd3f0c-0ffe-8cd2-4dd9-764904caefa6|inactive|urn:uuid:7ca297d1-94e0-8069-4cdb-50f313de9a5f|urn:uuid:98e03bab-9a5b-fd11-814f-623d22a04871|2010-01-16T03:55:16-05:00|2010-01-17T04:56:19-05:00|Dr. g.b. Cross Memorial Hospital|Healthcare services (qualifier value)|Organization?identifier=https://github.com/synthetichealth/synthea|066f5330-cbcc-335e-8c77-624a43292376|Dr. g.b. Cross Memorial Hospital|\n",
      "|b30144ce-2473-1bdf-e14b-7556676daa85|inactive|urn:uuid:7ca297d1-94e0-8069-4cdb-50f313de9a5f|urn:uuid:f2905642-80e7-61b0-ff10-87034008f022|2010-06-26T04:08:55-04:00|2010-08-27T04:08:55-04:00|Dr. g.b. Cross Memorial Hospital|Patient                              |urn:uuid:7ca297d1-94e0-8069-4cdb-50f313de9a5f                                                          |Ms. Zenaida56 Murphy561         |\n",
      "|b30144ce-2473-1bdf-e14b-7556676daa85|inactive|urn:uuid:7ca297d1-94e0-8069-4cdb-50f313de9a5f|urn:uuid:f2905642-80e7-61b0-ff10-87034008f022|2010-06-26T04:08:55-04:00|2010-08-27T04:08:55-04:00|Dr. g.b. Cross Memorial Hospital|Healthcare professional (occupation) |Practitioner?identifier=http://hl7.org/fhir/sid/us-npi|9999999939                                      |Dr. Almeta56 Carter549          |\n",
      "|b30144ce-2473-1bdf-e14b-7556676daa85|inactive|urn:uuid:7ca297d1-94e0-8069-4cdb-50f313de9a5f|urn:uuid:f2905642-80e7-61b0-ff10-87034008f022|2010-06-26T04:08:55-04:00|2010-08-27T04:08:55-04:00|Dr. g.b. Cross Memorial Hospital|Healthcare services (qualifier value)|Organization?identifier=https://github.com/synthetichealth/synthea|066f5330-cbcc-335e-8c77-624a43292376|Dr. g.b. Cross Memorial Hospital|\n",
      "|a9f3247c-ca17-10ed-3c4a-4095c2a9f2fc|inactive|urn:uuid:7ca297d1-94e0-8069-4cdb-50f313de9a5f|urn:uuid:cde2af48-e4cb-3992-aae5-f88e79071420|2011-09-19T05:56:19-04:00|2011-09-20T06:48:15-04:00|Dr. g.b. Cross Memorial Hospital|Patient                              |urn:uuid:7ca297d1-94e0-8069-4cdb-50f313de9a5f                                                          |Ms. Zenaida56 Murphy561         |\n",
      "|a9f3247c-ca17-10ed-3c4a-4095c2a9f2fc|inactive|urn:uuid:7ca297d1-94e0-8069-4cdb-50f313de9a5f|urn:uuid:cde2af48-e4cb-3992-aae5-f88e79071420|2011-09-19T05:56:19-04:00|2011-09-20T06:48:15-04:00|Dr. g.b. Cross Memorial Hospital|Healthcare professional (occupation) |Practitioner?identifier=http://hl7.org/fhir/sid/us-npi|9999999939                                      |Dr. Almeta56 Carter549          |\n",
      "+------------------------------------+--------+---------------------------------------------+---------------------------------------------+-------------------------+-------------------------+--------------------------------+-------------------------------------+-------------------------------------------------------------------------------------------------------+--------------------------------+\n",
      "only showing top 20 rows\n",
      "\n"
     ]
    }
   ],
   "execution_count": 19
  },
  {
   "metadata": {
    "ExecuteTime": {
     "end_time": "2024-11-30T01:27:05.389053Z",
     "start_time": "2024-11-30T01:27:05.183138Z"
    }
   },
   "cell_type": "code",
   "source": [
    "# Save the DataFrame to Parquet\n",
    "care_team_df.write.mode(\"overwrite\").parquet(f\"{output_path}/careteam\")\n",
    "\n",
    "print(\" CareTeam DataFrame has been successfully saved in the 'careteam' folder.\")"
   ],
   "id": "242cf4117a11e70e",
   "outputs": [
    {
     "name": "stdout",
     "output_type": "stream",
     "text": [
      " CareTeam DataFrame has been successfully saved in the 'careteam' folder.\n"
     ]
    }
   ],
   "execution_count": 20
  },
  {
   "metadata": {},
   "cell_type": "markdown",
   "source": "### Procedure",
   "id": "e9458d2ba9ca48ea"
  },
  {
   "metadata": {
    "ExecuteTime": {
     "end_time": "2024-11-30T01:27:05.506385Z",
     "start_time": "2024-11-30T01:27:05.403675Z"
    }
   },
   "cell_type": "code",
   "source": [
    "# Filter for Procedure resources\n",
    "procedures = entries.filter(col(\"entry.resource.resourceType\") == \"Procedure\") \\\n",
    "                    .select(col(\"entry.resource.*\"))\n",
    "\n",
    "procedures = procedures.withColumn(\"reasonReference\", explode(col(\"reasonReference\")))\n",
    "\n",
    "# Extract relevant fields\n",
    "procedure_df = procedures.select(\n",
    "    col(\"id\").alias(\"procedure_id\"),\n",
    "    col(\"status\").alias(\"status\"),\n",
    "    col(\"code.coding\").getItem(0).getField(\"display\").alias(\"procedure_code_display\"),\n",
    "    col(\"code.coding\").getItem(0).getField(\"code\").alias(\"procedure_code\"),\n",
    "    col(\"subject.reference\").alias(\"subject_reference\"),\n",
    "    col(\"performedPeriod.start\").alias(\"performed_period_start\"),\n",
    "    col(\"performedPeriod.end\").alias(\"performed_period_end\"),\n",
    "    col(\"encounter.reference\").alias(\"encounter_reference\"),\n",
    "    col(\"reasonReference.reference\").alias(\"reason_reference\"),\n",
    "    col(\"reasonReference.display\").alias(\"reason_reference_display\")\n",
    ")\n",
    "\n",
    "# Show the resulting DataFrame\n",
    "procedure_df.show(truncate=False)"
   ],
   "id": "d96e0bad945f86bf",
   "outputs": [
    {
     "name": "stdout",
     "output_type": "stream",
     "text": [
      "+------------------------------------+---------+-------------------------------------------------------------------------------+--------------+---------------------------------------------+-------------------------+-------------------------+---------------------------------------------+---------------------------------------------+-------------------------------------------+\n",
      "|procedure_id                        |status   |procedure_code_display                                                         |procedure_code|subject_reference                            |performed_period_start   |performed_period_end     |encounter_reference                          |reason_reference                             |reason_reference_display                   |\n",
      "+------------------------------------+---------+-------------------------------------------------------------------------------+--------------+---------------------------------------------+-------------------------+-------------------------+---------------------------------------------+---------------------------------------------+-------------------------------------------+\n",
      "|38373169-cd29-4669-f09d-3b339b4a1c45|completed|Screening for occult blood in feces (procedure)                                |104435004     |urn:uuid:7ca297d1-94e0-8069-4cdb-50f313de9a5f|2005-05-02T04:21:55-04:00|2005-05-02T04:36:55-04:00|urn:uuid:b77709fa-8940-1d0e-1c51-7d1a7e85a005|urn:uuid:7fac8356-248a-5cc7-d09d-67a2c5edcba5|Polyp of colon                             |\n",
      "|f27e8852-fc3f-f524-e19b-5f560a98712c|completed|Rectal polypectomy                                                             |274031008     |urn:uuid:7ca297d1-94e0-8069-4cdb-50f313de9a5f|2005-05-02T04:21:55-04:00|2005-05-02T04:36:55-04:00|urn:uuid:b77709fa-8940-1d0e-1c51-7d1a7e85a005|urn:uuid:7fac8356-248a-5cc7-d09d-67a2c5edcba5|Polyp of colon                             |\n",
      "|b29b33ee-1cca-bf0e-0a68-10564e14da14|completed|Electrocardiographic procedure                                                 |29303009      |urn:uuid:7ca297d1-94e0-8069-4cdb-50f313de9a5f|2006-01-19T02:44:33-05:00|2006-01-19T02:50:06-05:00|urn:uuid:249c90d5-e858-2862-a20c-f755f85b2922|urn:uuid:78172f1f-b075-68bb-1863-a1602c1c7fc2|Chronic congestive heart failure (disorder)|\n",
      "|5325ff82-1369-586e-41b9-551193e91922|completed|Assessment using New York Heart Association Classification (procedure)         |762998009     |urn:uuid:7ca297d1-94e0-8069-4cdb-50f313de9a5f|2006-01-19T02:50:06-05:00|2006-01-19T03:07:43-05:00|urn:uuid:249c90d5-e858-2862-a20c-f755f85b2922|urn:uuid:78172f1f-b075-68bb-1863-a1602c1c7fc2|Chronic congestive heart failure (disorder)|\n",
      "|26c6da43-eec3-e2bb-d707-b85208a1cd81|completed|Electrocardiographic procedure                                                 |29303009      |urn:uuid:7ca297d1-94e0-8069-4cdb-50f313de9a5f|2009-01-19T03:07:43-05:00|2009-01-19T03:15:27-05:00|urn:uuid:583133c2-99d2-caae-ed78-b11999c129da|urn:uuid:78172f1f-b075-68bb-1863-a1602c1c7fc2|Chronic congestive heart failure (disorder)|\n",
      "|c96ed356-a076-8163-23f7-9983c5677f83|completed|Heart failure education (procedure)                                            |423475008     |urn:uuid:7ca297d1-94e0-8069-4cdb-50f313de9a5f|2009-01-20T03:15:27-05:00|2009-01-20T03:55:16-05:00|urn:uuid:583133c2-99d2-caae-ed78-b11999c129da|urn:uuid:78172f1f-b075-68bb-1863-a1602c1c7fc2|Chronic congestive heart failure (disorder)|\n",
      "|5db3fcac-4d78-86fd-c30c-5af40cc8b319|completed|Plain chest X-ray (procedure)                                                  |399208008     |urn:uuid:7ca297d1-94e0-8069-4cdb-50f313de9a5f|2009-10-12T07:44:33-04:00|2009-10-12T08:04:31-04:00|urn:uuid:00336118-a170-38de-1a6d-eb3dec651c9e|urn:uuid:89ec043c-8260-8c33-e2d5-b246679179a7|Acute bronchitis (disorder)                |\n",
      "|9c51e5b2-3b7f-d487-1f6d-c353b8333a41|completed|Electrocardiographic procedure                                                 |29303009      |urn:uuid:7ca297d1-94e0-8069-4cdb-50f313de9a5f|2010-01-16T03:55:16-05:00|2010-01-16T04:02:37-05:00|urn:uuid:98e03bab-9a5b-fd11-814f-623d22a04871|urn:uuid:78172f1f-b075-68bb-1863-a1602c1c7fc2|Chronic congestive heart failure (disorder)|\n",
      "|43339ea1-2c2b-d0db-39a7-a03e5b9f9a5c|completed|Heart failure education (procedure)                                            |423475008     |urn:uuid:7ca297d1-94e0-8069-4cdb-50f313de9a5f|2010-01-17T04:02:37-05:00|2010-01-17T04:56:19-05:00|urn:uuid:98e03bab-9a5b-fd11-814f-623d22a04871|urn:uuid:78172f1f-b075-68bb-1863-a1602c1c7fc2|Chronic congestive heart failure (disorder)|\n",
      "|66f3b443-7abe-b236-63db-8b891760cf4f|completed|Electrocardiographic procedure                                                 |29303009      |urn:uuid:7ca297d1-94e0-8069-4cdb-50f313de9a5f|2011-09-19T05:56:19-04:00|2011-09-19T06:01:24-04:00|urn:uuid:cde2af48-e4cb-3992-aae5-f88e79071420|urn:uuid:78172f1f-b075-68bb-1863-a1602c1c7fc2|Chronic congestive heart failure (disorder)|\n",
      "|90931ab8-3688-cee4-9b07-e8e9bfdf811b|completed|Heart failure education (procedure)                                            |423475008     |urn:uuid:7ca297d1-94e0-8069-4cdb-50f313de9a5f|2011-09-20T06:01:24-04:00|2011-09-20T06:48:15-04:00|urn:uuid:cde2af48-e4cb-3992-aae5-f88e79071420|urn:uuid:78172f1f-b075-68bb-1863-a1602c1c7fc2|Chronic congestive heart failure (disorder)|\n",
      "|4cf54c37-cce2-87ab-55ae-dfffe5326245|completed|Electrocardiographic procedure                                                 |29303009      |urn:uuid:7ca297d1-94e0-8069-4cdb-50f313de9a5f|2013-07-05T06:48:15-04:00|2013-07-05T06:56:08-04:00|urn:uuid:54fdb2f4-3e48-26d2-1a66-f5bc7e692f18|urn:uuid:78172f1f-b075-68bb-1863-a1602c1c7fc2|Chronic congestive heart failure (disorder)|\n",
      "|286300ec-d4a7-f86c-3eff-82b558088eae|completed|Electrical cardioversion                                                       |180325003     |urn:uuid:c8af2e36-e7d2-fc26-de8c-8936c9e4705e|2010-07-10T20:48:18-04:00|2010-07-10T21:03:18-04:00|urn:uuid:2aa34135-ee4e-cde0-5d88-a86cd0ae7653|urn:uuid:0d48bec0-5e28-cf46-f2ee-02421076560f|Atrial Fibrillation                        |\n",
      "|444b1f28-2a98-bef9-3775-907659d7f649|completed|Echocardiography (procedure)                                                   |40701008      |urn:uuid:c8af2e36-e7d2-fc26-de8c-8936c9e4705e|2010-12-25T19:48:18-05:00|2010-12-25T20:03:18-05:00|urn:uuid:1c31c9c5-68e0-6000-b823-f4c657e6a795|urn:uuid:90b859a3-1e3b-22a1-9d1f-b6330a373b0f|Stroke                                     |\n",
      "|6bcfcbf3-d6ba-a365-dfad-2df717f24185|completed|Percutaneous mechanical thrombectomy of portal vein using fluoroscopic guidance|433112001     |urn:uuid:c8af2e36-e7d2-fc26-de8c-8936c9e4705e|2010-12-25T19:48:18-05:00|2010-12-25T20:03:18-05:00|urn:uuid:1c31c9c5-68e0-6000-b823-f4c657e6a795|urn:uuid:90b859a3-1e3b-22a1-9d1f-b6330a373b0f|Stroke                                     |\n",
      "|64e4b0ec-745b-2ae9-d48a-49547ba3b03b|completed|Bone immobilization                                                            |274474001     |urn:uuid:c8af2e36-e7d2-fc26-de8c-8936c9e4705e|2011-06-01T22:57:05-04:00|2011-06-01T23:19:25-04:00|urn:uuid:c841db73-939a-6870-8fb6-6c2de2c0560d|urn:uuid:9effaafb-b7cb-33e5-7ab7-5c51c8f57fb0|Fracture subluxation of wrist              |\n",
      "|ff0d5e3c-a562-056d-1aed-622b264b81c6|completed|Bone density scan (procedure)                                                  |312681000     |urn:uuid:c8af2e36-e7d2-fc26-de8c-8936c9e4705e|2011-06-01T23:19:25-04:00|2011-06-01T23:34:25-04:00|urn:uuid:c841db73-939a-6870-8fb6-6c2de2c0560d|urn:uuid:9effaafb-b7cb-33e5-7ab7-5c51c8f57fb0|Fracture subluxation of wrist              |\n",
      "|baea3c38-baa1-163e-8f4c-1e34cde2bde9|completed|Electrical cardioversion                                                       |180325003     |urn:uuid:c8af2e36-e7d2-fc26-de8c-8936c9e4705e|2011-07-16T20:48:18-04:00|2011-07-16T21:03:18-04:00|urn:uuid:bf4db675-f5cd-c508-3c4e-403586f11d16|urn:uuid:0d48bec0-5e28-cf46-f2ee-02421076560f|Atrial Fibrillation                        |\n",
      "|6bebe06a-13ec-2fd2-a557-b2ea1a833793|completed|Electrical cardioversion                                                       |180325003     |urn:uuid:c8af2e36-e7d2-fc26-de8c-8936c9e4705e|2012-07-21T20:48:18-04:00|2012-07-21T21:03:18-04:00|urn:uuid:0eef9061-7283-37c9-3ea2-16986fca5c8d|urn:uuid:0d48bec0-5e28-cf46-f2ee-02421076560f|Atrial Fibrillation                        |\n",
      "|8d909023-7d1e-9d62-d723-7295f7369e07|completed|Electrical cardioversion                                                       |180325003     |urn:uuid:c8af2e36-e7d2-fc26-de8c-8936c9e4705e|2013-07-27T20:48:18-04:00|2013-07-27T21:03:18-04:00|urn:uuid:9cdb20e0-9e7b-b69f-60a3-1ee8048f353f|urn:uuid:0d48bec0-5e28-cf46-f2ee-02421076560f|Atrial Fibrillation                        |\n",
      "+------------------------------------+---------+-------------------------------------------------------------------------------+--------------+---------------------------------------------+-------------------------+-------------------------+---------------------------------------------+---------------------------------------------+-------------------------------------------+\n",
      "only showing top 20 rows\n",
      "\n"
     ]
    }
   ],
   "execution_count": 21
  },
  {
   "metadata": {
    "ExecuteTime": {
     "end_time": "2024-11-30T01:27:05.717875Z",
     "start_time": "2024-11-30T01:27:05.523229Z"
    }
   },
   "cell_type": "code",
   "source": [
    "# Save the DataFrame to Parquet\n",
    "procedure_df.write.mode(\"overwrite\").parquet(f\"{output_path}/procedure\")\n",
    "\n",
    "print(\"Procedure DataFrame has been successfully saved in the 'procedure' folder.\")"
   ],
   "id": "fd06b9ad4dfb9874",
   "outputs": [
    {
     "name": "stdout",
     "output_type": "stream",
     "text": [
      "Procedure DataFrame has been successfully saved in the 'procedures' folder.\n"
     ]
    }
   ],
   "execution_count": 22
  },
  {
   "metadata": {},
   "cell_type": "markdown",
   "source": "### Diagnostic Report",
   "id": "4cf21b428e8bc96"
  },
  {
   "metadata": {
    "ExecuteTime": {
     "end_time": "2024-11-30T01:27:05.841390Z",
     "start_time": "2024-11-30T01:27:05.731807Z"
    }
   },
   "cell_type": "code",
   "source": [
    "# Filter for DiagnosticReport resources\n",
    "diagnostic_reports = entries.filter(col(\"entry.resource.resourceType\") == \"DiagnosticReport\") \\\n",
    "                            .select(col(\"entry.resource.*\"))\n",
    "\n",
    "# Explode results array if present\n",
    "diagnostic_reports = diagnostic_reports.withColumn(\"result\", explode(col(\"result\")))\n",
    "\n",
    "# Extract relevant fields\n",
    "diagnostic_report_df = diagnostic_reports.select(\n",
    "    col(\"id\").alias(\"diagnostic_report_id\"),\n",
    "    col(\"status\").alias(\"status\"),\n",
    "    col(\"category\").getItem(0).alias(\"category\"),\n",
    "    col(\"code.coding\").getItem(0).getField(\"display\").alias(\"code\"),\n",
    "    col(\"code.coding\").getItem(0).getField(\"code\").alias(\"code_system\"),\n",
    "    col(\"subject.reference\").alias(\"subject_reference\"),\n",
    "    col(\"encounter.reference\").alias(\"encounter_reference\"),\n",
    "    col(\"effectiveDateTime\").alias(\"effective_date_time\"),\n",
    "    col(\"issued\").alias(\"issued_date\"),\n",
    "    col(\"result.display\").alias(\"result_display\")\n",
    ")\n",
    "\n",
    "diagnostic_report_df = diagnostic_report_df.withColumn(\"category_parsed\", from_json(col(\"category\"), category_schema)).withColumn(\"category_display\", col(\"category_parsed.coding\").getItem(0).getField(\"display\"))\n",
    "\n",
    "diagnostic_report_df = diagnostic_report_df.select(\n",
    "    [column for column in diagnostic_report_df.columns if column not in [\"category\", \"category_parsed\"]]\n",
    ")\n",
    "# Show the resulting DataFrame\n",
    "diagnostic_report_df.show(truncate=False)"
   ],
   "id": "2069db5c15fd2078",
   "outputs": [
    {
     "name": "stdout",
     "output_type": "stream",
     "text": [
      "+------------------------------------+------+----------------------------------------------------------------+-----------+---------------------------------------------+---------------------------------------------+-------------------------+-----------------------------+---------------------------------------------------------+----------------+\n",
      "|diagnostic_report_id                |status|code                                                            |code_system|subject_reference                            |encounter_reference                          |effective_date_time      |issued_date                  |result_display                                           |category_display|\n",
      "+------------------------------------+------+----------------------------------------------------------------+-----------+---------------------------------------------+---------------------------------------------+-------------------------+-----------------------------+---------------------------------------------------------+----------------+\n",
      "|afae7d85-8604-6bac-6ddb-e1d27554ae7c|final |Lipid Panel                                                     |57698-3    |urn:uuid:7ca297d1-94e0-8069-4cdb-50f313de9a5f|urn:uuid:7dea3a29-6f9c-b011-2d6c-b5ff8ef276de|2005-05-02T03:44:33-04:00|2005-05-02T03:44:33.246-04:00|Total Cholesterol                                        |Laboratory      |\n",
      "|afae7d85-8604-6bac-6ddb-e1d27554ae7c|final |Lipid Panel                                                     |57698-3    |urn:uuid:7ca297d1-94e0-8069-4cdb-50f313de9a5f|urn:uuid:7dea3a29-6f9c-b011-2d6c-b5ff8ef276de|2005-05-02T03:44:33-04:00|2005-05-02T03:44:33.246-04:00|Triglycerides                                            |Laboratory      |\n",
      "|afae7d85-8604-6bac-6ddb-e1d27554ae7c|final |Lipid Panel                                                     |57698-3    |urn:uuid:7ca297d1-94e0-8069-4cdb-50f313de9a5f|urn:uuid:7dea3a29-6f9c-b011-2d6c-b5ff8ef276de|2005-05-02T03:44:33-04:00|2005-05-02T03:44:33.246-04:00|Low Density Lipoprotein Cholesterol                      |Laboratory      |\n",
      "|afae7d85-8604-6bac-6ddb-e1d27554ae7c|final |Lipid Panel                                                     |57698-3    |urn:uuid:7ca297d1-94e0-8069-4cdb-50f313de9a5f|urn:uuid:7dea3a29-6f9c-b011-2d6c-b5ff8ef276de|2005-05-02T03:44:33-04:00|2005-05-02T03:44:33.246-04:00|High Density Lipoprotein Cholesterol                     |Laboratory      |\n",
      "|7324b063-ef61-8ea4-cab6-4f3b8c7240ae|final |Complete blood count (hemogram) panel - Blood by Automated count|58410-2    |urn:uuid:7ca297d1-94e0-8069-4cdb-50f313de9a5f|urn:uuid:249c90d5-e858-2862-a20c-f755f85b2922|2006-01-19T02:44:33-05:00|2006-01-19T02:44:33.246-05:00|Leukocytes [#/volume] in Blood by Automated count        |Laboratory      |\n",
      "|7324b063-ef61-8ea4-cab6-4f3b8c7240ae|final |Complete blood count (hemogram) panel - Blood by Automated count|58410-2    |urn:uuid:7ca297d1-94e0-8069-4cdb-50f313de9a5f|urn:uuid:249c90d5-e858-2862-a20c-f755f85b2922|2006-01-19T02:44:33-05:00|2006-01-19T02:44:33.246-05:00|Erythrocytes [#/volume] in Blood by Automated count      |Laboratory      |\n",
      "|7324b063-ef61-8ea4-cab6-4f3b8c7240ae|final |Complete blood count (hemogram) panel - Blood by Automated count|58410-2    |urn:uuid:7ca297d1-94e0-8069-4cdb-50f313de9a5f|urn:uuid:249c90d5-e858-2862-a20c-f755f85b2922|2006-01-19T02:44:33-05:00|2006-01-19T02:44:33.246-05:00|Hemoglobin [Mass/volume] in Blood                        |Laboratory      |\n",
      "|7324b063-ef61-8ea4-cab6-4f3b8c7240ae|final |Complete blood count (hemogram) panel - Blood by Automated count|58410-2    |urn:uuid:7ca297d1-94e0-8069-4cdb-50f313de9a5f|urn:uuid:249c90d5-e858-2862-a20c-f755f85b2922|2006-01-19T02:44:33-05:00|2006-01-19T02:44:33.246-05:00|Hematocrit [Volume Fraction] of Blood by Automated count |Laboratory      |\n",
      "|7324b063-ef61-8ea4-cab6-4f3b8c7240ae|final |Complete blood count (hemogram) panel - Blood by Automated count|58410-2    |urn:uuid:7ca297d1-94e0-8069-4cdb-50f313de9a5f|urn:uuid:249c90d5-e858-2862-a20c-f755f85b2922|2006-01-19T02:44:33-05:00|2006-01-19T02:44:33.246-05:00|MCV [Entitic volume] by Automated count                  |Laboratory      |\n",
      "|7324b063-ef61-8ea4-cab6-4f3b8c7240ae|final |Complete blood count (hemogram) panel - Blood by Automated count|58410-2    |urn:uuid:7ca297d1-94e0-8069-4cdb-50f313de9a5f|urn:uuid:249c90d5-e858-2862-a20c-f755f85b2922|2006-01-19T02:44:33-05:00|2006-01-19T02:44:33.246-05:00|MCH [Entitic mass] by Automated count                    |Laboratory      |\n",
      "|7324b063-ef61-8ea4-cab6-4f3b8c7240ae|final |Complete blood count (hemogram) panel - Blood by Automated count|58410-2    |urn:uuid:7ca297d1-94e0-8069-4cdb-50f313de9a5f|urn:uuid:249c90d5-e858-2862-a20c-f755f85b2922|2006-01-19T02:44:33-05:00|2006-01-19T02:44:33.246-05:00|MCHC [Mass/volume] by Automated count                    |Laboratory      |\n",
      "|7324b063-ef61-8ea4-cab6-4f3b8c7240ae|final |Complete blood count (hemogram) panel - Blood by Automated count|58410-2    |urn:uuid:7ca297d1-94e0-8069-4cdb-50f313de9a5f|urn:uuid:249c90d5-e858-2862-a20c-f755f85b2922|2006-01-19T02:44:33-05:00|2006-01-19T02:44:33.246-05:00|Erythrocyte distribution width [Ratio] by Automated count|Laboratory      |\n",
      "|7324b063-ef61-8ea4-cab6-4f3b8c7240ae|final |Complete blood count (hemogram) panel - Blood by Automated count|58410-2    |urn:uuid:7ca297d1-94e0-8069-4cdb-50f313de9a5f|urn:uuid:249c90d5-e858-2862-a20c-f755f85b2922|2006-01-19T02:44:33-05:00|2006-01-19T02:44:33.246-05:00|Platelets [#/volume] in Blood by Automated count         |Laboratory      |\n",
      "|a31166d1-0085-83bc-e620-aaa3e570dc92|final |Comprehensive metabolic 2000 panel - Serum or Plasma            |24323-8    |urn:uuid:7ca297d1-94e0-8069-4cdb-50f313de9a5f|urn:uuid:249c90d5-e858-2862-a20c-f755f85b2922|2006-01-19T02:44:33-05:00|2006-01-19T02:44:33.246-05:00|Glucose [Mass/volume] in Serum or Plasma                 |Laboratory      |\n",
      "|a31166d1-0085-83bc-e620-aaa3e570dc92|final |Comprehensive metabolic 2000 panel - Serum or Plasma            |24323-8    |urn:uuid:7ca297d1-94e0-8069-4cdb-50f313de9a5f|urn:uuid:249c90d5-e858-2862-a20c-f755f85b2922|2006-01-19T02:44:33-05:00|2006-01-19T02:44:33.246-05:00|Urea nitrogen [Mass/volume] in Serum or Plasma           |Laboratory      |\n",
      "|a31166d1-0085-83bc-e620-aaa3e570dc92|final |Comprehensive metabolic 2000 panel - Serum or Plasma            |24323-8    |urn:uuid:7ca297d1-94e0-8069-4cdb-50f313de9a5f|urn:uuid:249c90d5-e858-2862-a20c-f755f85b2922|2006-01-19T02:44:33-05:00|2006-01-19T02:44:33.246-05:00|Creatinine [Mass/volume] in Serum or Plasma              |Laboratory      |\n",
      "|a31166d1-0085-83bc-e620-aaa3e570dc92|final |Comprehensive metabolic 2000 panel - Serum or Plasma            |24323-8    |urn:uuid:7ca297d1-94e0-8069-4cdb-50f313de9a5f|urn:uuid:249c90d5-e858-2862-a20c-f755f85b2922|2006-01-19T02:44:33-05:00|2006-01-19T02:44:33.246-05:00|Calcium [Mass/volume] in Serum or Plasma                 |Laboratory      |\n",
      "|a31166d1-0085-83bc-e620-aaa3e570dc92|final |Comprehensive metabolic 2000 panel - Serum or Plasma            |24323-8    |urn:uuid:7ca297d1-94e0-8069-4cdb-50f313de9a5f|urn:uuid:249c90d5-e858-2862-a20c-f755f85b2922|2006-01-19T02:44:33-05:00|2006-01-19T02:44:33.246-05:00|Sodium [Moles/volume] in Serum or Plasma                 |Laboratory      |\n",
      "|a31166d1-0085-83bc-e620-aaa3e570dc92|final |Comprehensive metabolic 2000 panel - Serum or Plasma            |24323-8    |urn:uuid:7ca297d1-94e0-8069-4cdb-50f313de9a5f|urn:uuid:249c90d5-e858-2862-a20c-f755f85b2922|2006-01-19T02:44:33-05:00|2006-01-19T02:44:33.246-05:00|Potassium [Moles/volume] in Serum or Plasma              |Laboratory      |\n",
      "|a31166d1-0085-83bc-e620-aaa3e570dc92|final |Comprehensive metabolic 2000 panel - Serum or Plasma            |24323-8    |urn:uuid:7ca297d1-94e0-8069-4cdb-50f313de9a5f|urn:uuid:249c90d5-e858-2862-a20c-f755f85b2922|2006-01-19T02:44:33-05:00|2006-01-19T02:44:33.246-05:00|Chloride [Moles/volume] in Serum or Plasma               |Laboratory      |\n",
      "+------------------------------------+------+----------------------------------------------------------------+-----------+---------------------------------------------+---------------------------------------------+-------------------------+-----------------------------+---------------------------------------------------------+----------------+\n",
      "only showing top 20 rows\n",
      "\n"
     ]
    }
   ],
   "execution_count": 23
  },
  {
   "metadata": {
    "ExecuteTime": {
     "end_time": "2024-11-30T01:27:06.049887Z",
     "start_time": "2024-11-30T01:27:05.857655Z"
    }
   },
   "cell_type": "code",
   "source": [
    "# Save the Dataframe to Parquet\n",
    "diagnostic_report_df.write.mode(\"overwrite\").parquet(f\"{output_path}/diagnostic_report\")\n",
    "\n",
    "print(\"Diagnostic report DataFrame has been successfully saved in the 'diagnostic_report' folder.\")"
   ],
   "id": "d9ba1837e666d071",
   "outputs": [
    {
     "name": "stdout",
     "output_type": "stream",
     "text": [
      "Diagnostic report DataFrame has been successfully saved in the 'diagnostic_reports' folder.\n"
     ]
    }
   ],
   "execution_count": 24
  },
  {
   "metadata": {},
   "cell_type": "markdown",
   "source": "### Immunization",
   "id": "fcb43fafcaf76510"
  },
  {
   "metadata": {
    "ExecuteTime": {
     "end_time": "2024-11-30T01:27:06.183839Z",
     "start_time": "2024-11-30T01:27:06.064598Z"
    }
   },
   "cell_type": "code",
   "source": [
    "# Filter for Immunization resources\n",
    "immunizations = entries.filter(col(\"entry.resource.resourceType\") == \"Immunization\") \\\n",
    "                       .select(col(\"entry.resource.*\"))\n",
    "\n",
    "# Extract relevant fields\n",
    "immunization_df = immunizations.select(\n",
    "    col(\"id\").alias(\"immunization_id\"),\n",
    "    col(\"status\").alias(\"status\"),\n",
    "    col(\"vaccineCode.coding\").getItem(0).getField(\"display\").alias(\"vaccine_display\"),\n",
    "    col(\"vaccineCode.coding\").getItem(0).getField(\"code\").alias(\"vaccine_code\"),\n",
    "    col(\"patient.reference\").alias(\"patient_reference\"),\n",
    "    col(\"encounter.reference\").alias(\"encounter_reference\"),\n",
    "    col(\"primarySource\").alias(\"primary_source\"),\n",
    "    col(\"occurrenceDateTime\").alias(\"occurrence_date_time\"),\n",
    ")\n",
    "\n",
    "# Show the resulting DataFrame\n",
    "immunization_df.show(truncate=False)"
   ],
   "id": "8efeec7118b4cad4",
   "outputs": [
    {
     "name": "stdout",
     "output_type": "stream",
     "text": [
      "+------------------------------------+---------+--------------------------------------------------+------------+---------------------------------------------+---------------------------------------------+--------------+-------------------------+\n",
      "|immunization_id                     |status   |vaccine_display                                   |vaccine_code|patient_reference                            |encounter_reference                          |primary_source|occurrence_date_time     |\n",
      "+------------------------------------+---------+--------------------------------------------------+------------+---------------------------------------------+---------------------------------------------+--------------+-------------------------+\n",
      "|765b57b1-2e25-3bb9-ebfb-5de7c26a1e44|completed|Influenza, seasonal, injectable, preservative free|140         |urn:uuid:7ca297d1-94e0-8069-4cdb-50f313de9a5f|urn:uuid:7dea3a29-6f9c-b011-2d6c-b5ff8ef276de|true          |2005-05-02T03:44:33-04:00|\n",
      "|959f992c-d560-1a70-9cf7-59282af42d52|completed|zoster                                            |121         |urn:uuid:7ca297d1-94e0-8069-4cdb-50f313de9a5f|urn:uuid:4a10efb7-c0c6-bd4c-314e-f06e6b4c4e5a|true          |2006-05-08T03:44:33-04:00|\n",
      "|36136523-17c9-33bf-7d01-a0a05203b745|completed|Influenza, seasonal, injectable, preservative free|140         |urn:uuid:7ca297d1-94e0-8069-4cdb-50f313de9a5f|urn:uuid:4a10efb7-c0c6-bd4c-314e-f06e6b4c4e5a|true          |2006-05-08T03:44:33-04:00|\n",
      "|6f9a8c1c-52bb-1937-351e-822f939475fc|completed|Td (adult) preservative free                      |113         |urn:uuid:7ca297d1-94e0-8069-4cdb-50f313de9a5f|urn:uuid:4a10efb7-c0c6-bd4c-314e-f06e6b4c4e5a|true          |2006-05-08T03:44:33-04:00|\n",
      "|8bd42e99-e978-12b4-b2e8-c36de46317e5|completed|zoster                                            |121         |urn:uuid:7ca297d1-94e0-8069-4cdb-50f313de9a5f|urn:uuid:0201f188-b7e1-eac2-34bf-7e81f0f0d102|true          |2007-05-14T03:44:33-04:00|\n",
      "|7b5cc454-f7f7-5b35-fd6d-b43af375cff3|completed|Influenza, seasonal, injectable, preservative free|140         |urn:uuid:7ca297d1-94e0-8069-4cdb-50f313de9a5f|urn:uuid:0201f188-b7e1-eac2-34bf-7e81f0f0d102|true          |2007-05-14T03:44:33-04:00|\n",
      "|74759937-c0ea-3b13-0d11-955657a45df1|completed|Influenza, seasonal, injectable, preservative free|140         |urn:uuid:7ca297d1-94e0-8069-4cdb-50f313de9a5f|urn:uuid:4b8acd81-fc9e-fe0c-1e20-f08b3b837e67|true          |2008-05-19T03:44:33-04:00|\n",
      "|75a1354e-51c8-ba98-e23b-0f3c1a2ec626|completed|Influenza, seasonal, injectable, preservative free|140         |urn:uuid:7ca297d1-94e0-8069-4cdb-50f313de9a5f|urn:uuid:86dafc3f-c047-0afb-99ba-6ed03e853962|true          |2009-05-25T03:44:33-04:00|\n",
      "|fcdd8306-3136-0b6e-c482-9f8dbe2a8f80|completed|Influenza, seasonal, injectable, preservative free|140         |urn:uuid:7ca297d1-94e0-8069-4cdb-50f313de9a5f|urn:uuid:fdccf48f-ce2d-2018-6732-bab5c533d84a|true          |2010-05-31T03:44:33-04:00|\n",
      "|c1c57c55-0ddf-f6c9-2169-d158754770cf|completed|Influenza, seasonal, injectable, preservative free|140         |urn:uuid:7ca297d1-94e0-8069-4cdb-50f313de9a5f|urn:uuid:b5afd9b8-bdc7-930e-2be7-957cc4b61fd8|true          |2011-06-06T03:44:33-04:00|\n",
      "|808040ef-7ab6-25c7-deee-ed6b438be999|completed|Influenza, seasonal, injectable, preservative free|140         |urn:uuid:7ca297d1-94e0-8069-4cdb-50f313de9a5f|urn:uuid:eed07ad5-b221-6663-ee7d-3f2d19470ddd|true          |2012-06-11T03:44:33-04:00|\n",
      "|a83af1b3-c121-930c-92a8-dcf22d3ea67f|completed|Influenza, seasonal, injectable, preservative free|140         |urn:uuid:7ca297d1-94e0-8069-4cdb-50f313de9a5f|urn:uuid:f96bd9ac-4eaf-e99e-4ef8-6562489688ec|true          |2013-06-17T03:44:33-04:00|\n",
      "|db48b544-ebce-ce30-8b3b-af93bbb36af0|completed|Influenza, seasonal, injectable, preservative free|140         |urn:uuid:c8af2e36-e7d2-fc26-de8c-8936c9e4705e|urn:uuid:bf4db675-f5cd-c508-3c4e-403586f11d16|true          |2011-07-16T20:48:18-04:00|\n",
      "|b3be21c7-f712-5121-9082-d0505e98253a|completed|Influenza, seasonal, injectable, preservative free|140         |urn:uuid:c8af2e36-e7d2-fc26-de8c-8936c9e4705e|urn:uuid:0eef9061-7283-37c9-3ea2-16986fca5c8d|true          |2012-07-21T20:48:18-04:00|\n",
      "|2a44e6fd-7edb-dd96-f794-56fd32edca37|completed|Influenza, seasonal, injectable, preservative free|140         |urn:uuid:c8af2e36-e7d2-fc26-de8c-8936c9e4705e|urn:uuid:9cdb20e0-9e7b-b69f-60a3-1ee8048f353f|true          |2013-07-27T20:48:18-04:00|\n",
      "|17d0be60-6457-7a0d-8cb3-704046cf076c|completed|Td (adult) preservative free                      |113         |urn:uuid:c8af2e36-e7d2-fc26-de8c-8936c9e4705e|urn:uuid:9cdb20e0-9e7b-b69f-60a3-1ee8048f353f|true          |2013-07-27T20:48:18-04:00|\n",
      "|207bac9d-bb81-71a6-5f5d-496994693225|completed|Influenza, seasonal, injectable, preservative free|140         |urn:uuid:c8af2e36-e7d2-fc26-de8c-8936c9e4705e|urn:uuid:02269af7-0279-e42a-b09f-27b00e5ea6be|true          |2014-08-02T20:48:18-04:00|\n",
      "|fabacb73-74f9-89a5-3274-f53371a5d9b6|completed|Influenza, seasonal, injectable, preservative free|140         |urn:uuid:c8af2e36-e7d2-fc26-de8c-8936c9e4705e|urn:uuid:0e935229-d9c8-9647-f62b-723a92a4c9ca|true          |2015-08-08T20:48:18-04:00|\n",
      "|85a0d4ad-27d2-ec45-c281-f416e1411762|completed|Influenza, seasonal, injectable, preservative free|140         |urn:uuid:c8af2e36-e7d2-fc26-de8c-8936c9e4705e|urn:uuid:f1834537-bd75-7f4b-e00d-76c62487bbc5|true          |2016-08-13T20:48:18-04:00|\n",
      "|defb7541-cb85-f0e8-d89a-bf6ee184a0bc|completed|Influenza, seasonal, injectable, preservative free|140         |urn:uuid:c8af2e36-e7d2-fc26-de8c-8936c9e4705e|urn:uuid:bf14563b-dd7f-7035-a68f-c027b3fd9aa0|true          |2017-08-19T20:48:18-04:00|\n",
      "+------------------------------------+---------+--------------------------------------------------+------------+---------------------------------------------+---------------------------------------------+--------------+-------------------------+\n",
      "only showing top 20 rows\n",
      "\n"
     ]
    }
   ],
   "execution_count": 25
  },
  {
   "metadata": {
    "ExecuteTime": {
     "end_time": "2024-11-30T01:27:06.431308Z",
     "start_time": "2024-11-30T01:27:06.211736Z"
    }
   },
   "cell_type": "code",
   "source": [
    "# Save the Dataframe to Parquet\n",
    "immunization_df.write.mode(\"overwrite\").parquet(f\"{output_path}/immunization\")\n",
    "\n",
    "print(\"Immunization DataFrame has been successfully saved in the 'immunization' folder.\")"
   ],
   "id": "2c87eac11d4e4094",
   "outputs": [
    {
     "name": "stdout",
     "output_type": "stream",
     "text": [
      "Immunization DataFrame has been successfully saved in the 'immunizations' folder.\n"
     ]
    }
   ],
   "execution_count": 26
  },
  {
   "metadata": {},
   "cell_type": "markdown",
   "source": "### Observation",
   "id": "7d729f1f31e01f04"
  },
  {
   "metadata": {
    "ExecuteTime": {
     "end_time": "2024-11-30T01:27:06.569087Z",
     "start_time": "2024-11-30T01:27:06.488001Z"
    }
   },
   "cell_type": "code",
   "source": [
    "# Filter for Observation resources\n",
    "observations = entries.filter(col(\"entry.resource.resourceType\") == \"Observation\") \\\n",
    "                      .select(col(\"entry.resource.*\"))\n",
    "\n",
    "\n",
    "# Extract relevant fields\n",
    "observation_df = observations.select(\n",
    "    col(\"id\").alias(\"observation_id\"),\n",
    "    col(\"status\").alias(\"status\"),\n",
    "    col(\"category\").getItem(0).alias(\"category\"),\n",
    "    col(\"code.coding\").getItem(0).getField(\"display\").alias(\"observation_code_display\"),\n",
    "    col(\"code.coding\").getItem(0).getField(\"code\").alias(\"observation_code\"),\n",
    "    col(\"subject.reference\").alias(\"subject_reference\"),\n",
    "    col(\"encounter.reference\").alias(\"encounter_reference\"),\n",
    "    col(\"effectiveDateTime\").alias(\"effective_date_time\"),\n",
    "    col(\"issued\").alias(\"issued_date\"),\n",
    "    col(\"valueQuantity.value\").alias(\"value_quantity_value\"),\n",
    "    col(\"valueQuantity.unit\").alias(\"value_quantity_unit\"),\n",
    "    col(\"valueString\").alias(\"value_string\")\n",
    "    \n",
    ")\n",
    "\n",
    "observation_df = observation_df.withColumn(\"category_parsed\", from_json(col(\"category\"), category_schema)).withColumn(\"category_display\", col(\"category_parsed.coding\").getItem(0).getField(\"display\"))\n",
    "\n",
    "observation_df = observation_df.select(\n",
    "    [column for column in observation_df.columns if column not in [\"category\", \"category_parsed\"]]\n",
    ")\n",
    "# Show the resulting DataFrame\n",
    "observation_df.show(truncate=False)\n"
   ],
   "id": "668f9d49f48cb5ec",
   "outputs": [
    {
     "name": "stdout",
     "output_type": "stream",
     "text": [
      "+------------------------------------+------+---------------------------------------------------------------------+----------------+---------------------------------------------+---------------------------------------------+-------------------------+-----------------------------+--------------------+-------------------+------------+----------------+\n",
      "|observation_id                      |status|observation_code_display                                             |observation_code|subject_reference                            |encounter_reference                          |effective_date_time      |issued_date                  |value_quantity_value|value_quantity_unit|value_string|category_display|\n",
      "+------------------------------------+------+---------------------------------------------------------------------+----------------+---------------------------------------------+---------------------------------------------+-------------------------+-----------------------------+--------------------+-------------------+------------+----------------+\n",
      "|987e6ad1-eb14-9842-efb4-0aff4c7c4c51|final |Body temperature                                                     |8310-5          |urn:uuid:7ca297d1-94e0-8069-4cdb-50f313de9a5f|urn:uuid:9f03d2d1-4ec2-3373-4d4c-63d2bb091233|2004-03-25T20:44:33-05:00|2004-03-25T20:44:33.246-05:00|37.96               |Cel                |NULL        |vital-signs     |\n",
      "|189d96e9-62e0-ef14-0deb-2337fdc1e4e4|final |Body Height                                                          |8302-2          |urn:uuid:7ca297d1-94e0-8069-4cdb-50f313de9a5f|urn:uuid:7dea3a29-6f9c-b011-2d6c-b5ff8ef276de|2005-05-02T03:44:33-04:00|2005-05-02T03:44:33.246-04:00|160.7               |cm                 |NULL        |vital-signs     |\n",
      "|7a3ea345-7d5b-7d68-a214-da8c1942d953|final |Pain severity - 0-10 verbal numeric rating [Score] - Reported        |72514-3         |urn:uuid:7ca297d1-94e0-8069-4cdb-50f313de9a5f|urn:uuid:7dea3a29-6f9c-b011-2d6c-b5ff8ef276de|2005-05-02T03:44:33-04:00|2005-05-02T03:44:33.246-04:00|0.0                 |{score}            |NULL        |vital-signs     |\n",
      "|20ef165b-e7e7-df4c-4ed0-c2063aee9148|final |Body Weight                                                          |29463-7         |urn:uuid:7ca297d1-94e0-8069-4cdb-50f313de9a5f|urn:uuid:7dea3a29-6f9c-b011-2d6c-b5ff8ef276de|2005-05-02T03:44:33-04:00|2005-05-02T03:44:33.246-04:00|71.8                |kg                 |NULL        |vital-signs     |\n",
      "|b6f743ea-8924-c29b-fa32-0be03fc260a3|final |Body Mass Index                                                      |39156-5         |urn:uuid:7ca297d1-94e0-8069-4cdb-50f313de9a5f|urn:uuid:7dea3a29-6f9c-b011-2d6c-b5ff8ef276de|2005-05-02T03:44:33-04:00|2005-05-02T03:44:33.246-04:00|27.8                |kg/m2              |NULL        |vital-signs     |\n",
      "|febc82bc-e859-d62d-6f08-c414a86ef20d|final |Blood Pressure                                                       |85354-9         |urn:uuid:7ca297d1-94e0-8069-4cdb-50f313de9a5f|urn:uuid:7dea3a29-6f9c-b011-2d6c-b5ff8ef276de|2005-05-02T03:44:33-04:00|2005-05-02T03:44:33.246-04:00|NULL                |NULL               |NULL        |vital-signs     |\n",
      "|76130662-0ad9-337d-bf75-233421ed033c|final |Heart rate                                                           |8867-4          |urn:uuid:7ca297d1-94e0-8069-4cdb-50f313de9a5f|urn:uuid:7dea3a29-6f9c-b011-2d6c-b5ff8ef276de|2005-05-02T03:44:33-04:00|2005-05-02T03:44:33.246-04:00|71.0                |/min               |NULL        |vital-signs     |\n",
      "|a567201d-b1db-3e8b-44dc-ba75c0eb2175|final |Respiratory rate                                                     |9279-1          |urn:uuid:7ca297d1-94e0-8069-4cdb-50f313de9a5f|urn:uuid:7dea3a29-6f9c-b011-2d6c-b5ff8ef276de|2005-05-02T03:44:33-04:00|2005-05-02T03:44:33.246-04:00|14.0                |/min               |NULL        |vital-signs     |\n",
      "|46851b23-855e-2004-79fd-cd136fbc2a52|final |Total Cholesterol                                                    |2093-3          |urn:uuid:7ca297d1-94e0-8069-4cdb-50f313de9a5f|urn:uuid:7dea3a29-6f9c-b011-2d6c-b5ff8ef276de|2005-05-02T03:44:33-04:00|2005-05-02T03:44:33.246-04:00|199.09              |mg/dL              |NULL        |laboratory      |\n",
      "|07862803-9580-3d9f-0ace-6acffaa694c5|final |Triglycerides                                                        |2571-8          |urn:uuid:7ca297d1-94e0-8069-4cdb-50f313de9a5f|urn:uuid:7dea3a29-6f9c-b011-2d6c-b5ff8ef276de|2005-05-02T03:44:33-04:00|2005-05-02T03:44:33.246-04:00|121.1               |mg/dL              |NULL        |laboratory      |\n",
      "|cbdc0b5f-b15f-54c9-0a9a-1fdbb5f0c65c|final |Low Density Lipoprotein Cholesterol                                  |18262-6         |urn:uuid:7ca297d1-94e0-8069-4cdb-50f313de9a5f|urn:uuid:7dea3a29-6f9c-b011-2d6c-b5ff8ef276de|2005-05-02T03:44:33-04:00|2005-05-02T03:44:33.246-04:00|96.25               |mg/dL              |NULL        |laboratory      |\n",
      "|06dc83e5-c6fc-1b83-54aa-4ddc5c06f8c6|final |High Density Lipoprotein Cholesterol                                 |2085-9          |urn:uuid:7ca297d1-94e0-8069-4cdb-50f313de9a5f|urn:uuid:7dea3a29-6f9c-b011-2d6c-b5ff8ef276de|2005-05-02T03:44:33-04:00|2005-05-02T03:44:33.246-04:00|78.63               |mg/dL              |NULL        |laboratory      |\n",
      "|6bc89b79-5d3c-8b8b-0bf2-8243acdb7395|final |Tobacco smoking status NHIS                                          |72166-2         |urn:uuid:7ca297d1-94e0-8069-4cdb-50f313de9a5f|urn:uuid:7dea3a29-6f9c-b011-2d6c-b5ff8ef276de|2005-05-02T03:44:33-04:00|2005-05-02T03:44:33.246-04:00|NULL                |NULL               |NULL        |survey          |\n",
      "|4e2f9316-2bb9-caa1-2e51-ab3e21d28275|final |Polyp size greatest dimension by CAP cancer protocols                |33756-8         |urn:uuid:7ca297d1-94e0-8069-4cdb-50f313de9a5f|urn:uuid:b77709fa-8940-1d0e-1c51-7d1a7e85a005|2005-05-02T04:21:55-04:00|2005-05-02T04:21:55.246-04:00|6.435               |mm                 |NULL        |procedure       |\n",
      "|92b2564c-0fc9-453a-c542-5598e268c0b9|final |Hemoglobin.gastrointestinal [Presence] in Stool by Immunologic method|57905-2         |urn:uuid:7ca297d1-94e0-8069-4cdb-50f313de9a5f|urn:uuid:b77709fa-8940-1d0e-1c51-7d1a7e85a005|2005-05-02T04:21:55-04:00|2005-05-02T04:21:55.246-04:00|17.978              |ng/mL              |NULL        |laboratory      |\n",
      "|cd705b6f-0559-5abd-21d0-f83373cf2817|final |Symptom                                                              |75325-1         |urn:uuid:7ca297d1-94e0-8069-4cdb-50f313de9a5f|urn:uuid:249c90d5-e858-2862-a20c-f755f85b2922|2006-01-19T02:44:33-05:00|2006-01-19T02:44:33.246-05:00|NULL                |NULL               |NULL        |exam            |\n",
      "|f02f390b-881a-7fb1-870e-ce444a007786|final |Symptom                                                              |75325-1         |urn:uuid:7ca297d1-94e0-8069-4cdb-50f313de9a5f|urn:uuid:249c90d5-e858-2862-a20c-f755f85b2922|2006-01-19T02:44:33-05:00|2006-01-19T02:44:33.246-05:00|NULL                |NULL               |NULL        |exam            |\n",
      "|805b225c-3488-4af7-0ecc-a0b2d76616b7|final |Symptom                                                              |75325-1         |urn:uuid:7ca297d1-94e0-8069-4cdb-50f313de9a5f|urn:uuid:249c90d5-e858-2862-a20c-f755f85b2922|2006-01-19T02:44:33-05:00|2006-01-19T02:44:33.246-05:00|NULL                |NULL               |NULL        |exam            |\n",
      "|b2613751-3ed5-0171-25e7-8ce295c4899d|final |Symptom                                                              |75325-1         |urn:uuid:7ca297d1-94e0-8069-4cdb-50f313de9a5f|urn:uuid:249c90d5-e858-2862-a20c-f755f85b2922|2006-01-19T02:44:33-05:00|2006-01-19T02:44:33.246-05:00|NULL                |NULL               |NULL        |exam            |\n",
      "|a51fdf22-b6f3-ab22-d0b3-8b4bea67b3b4|final |Symptom                                                              |75325-1         |urn:uuid:7ca297d1-94e0-8069-4cdb-50f313de9a5f|urn:uuid:249c90d5-e858-2862-a20c-f755f85b2922|2006-01-19T02:44:33-05:00|2006-01-19T02:44:33.246-05:00|NULL                |NULL               |NULL        |exam            |\n",
      "+------------------------------------+------+---------------------------------------------------------------------+----------------+---------------------------------------------+---------------------------------------------+-------------------------+-----------------------------+--------------------+-------------------+------------+----------------+\n",
      "only showing top 20 rows\n",
      "\n"
     ]
    }
   ],
   "execution_count": 27
  },
  {
   "metadata": {
    "ExecuteTime": {
     "end_time": "2024-11-30T01:27:06.843310Z",
     "start_time": "2024-11-30T01:27:06.585193Z"
    }
   },
   "cell_type": "code",
   "source": [
    "# Save the Dataframe to Parquet\n",
    "observation_df.write.mode(\"overwrite\").parquet(f\"{output_path}/observation\")\n",
    "\n",
    "print(\"Observation DataFrame has been successfully saved in the 'observation' folder.\")"
   ],
   "id": "9fd599fa103d83a5",
   "outputs": [
    {
     "name": "stdout",
     "output_type": "stream",
     "text": [
      "Observation DataFrame has been successfully saved in the 'observations' folder.\n"
     ]
    }
   ],
   "execution_count": 28
  },
  {
   "metadata": {
    "ExecuteTime": {
     "end_time": "2024-11-30T01:27:06.877686Z",
     "start_time": "2024-11-30T01:27:06.876157Z"
    }
   },
   "cell_type": "code",
   "source": "",
   "id": "f0a481c5f35d22b8",
   "outputs": [],
   "execution_count": null
  }
 ],
 "metadata": {
  "kernelspec": {
   "display_name": "Python 3",
   "language": "python",
   "name": "python3"
  },
  "language_info": {
   "codemirror_mode": {
    "name": "ipython",
    "version": 2
   },
   "file_extension": ".py",
   "mimetype": "text/x-python",
   "name": "python",
   "nbconvert_exporter": "python",
   "pygments_lexer": "ipython2",
   "version": "2.7.6"
  }
 },
 "nbformat": 4,
 "nbformat_minor": 5
}
