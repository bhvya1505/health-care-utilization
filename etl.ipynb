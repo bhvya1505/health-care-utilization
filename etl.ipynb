{
 "cells": [
  {
   "cell_type": "code",
   "id": "initial_id",
   "metadata": {
    "collapsed": true,
    "ExecuteTime": {
     "end_time": "2024-11-29T21:26:51.606973Z",
     "start_time": "2024-11-29T21:26:51.599863Z"
    }
   },
   "source": [
    "from pyspark.sql import SparkSession\n",
    "from pyspark.sql.functions import col, explode, expr\n",
    "\n",
    "# Initialize Spark session\n",
    "spark = SparkSession.builder \\\n",
    "    .appName(\"FHIR Data Pipeline\") \\\n",
    "    .getOrCreate()\n"
   ],
   "outputs": [],
   "execution_count": 21
  },
  {
   "metadata": {
    "ExecuteTime": {
     "end_time": "2024-11-29T21:26:51.783771Z",
     "start_time": "2024-11-29T21:26:51.611526Z"
    }
   },
   "cell_type": "code",
   "source": [
    "\n",
    "# File path\n",
    "file_path = \"data/fhir/samples\"\n",
    "\n",
    "# Read the JSON file\n",
    "data = spark.read.json(file_path, multiLine=True)\n",
    "\n",
    "# Explode the entry array\n",
    "entries = data.select(explode(col(\"entry\")).alias(\"entry\"))\n"
   ],
   "id": "6b638a009f7fb92b",
   "outputs": [],
   "execution_count": 22
  },
  {
   "metadata": {},
   "cell_type": "markdown",
   "source": "### Patients",
   "id": "a3c0e6f019112637"
  },
  {
   "metadata": {
    "ExecuteTime": {
     "end_time": "2024-11-29T21:26:52.227520Z",
     "start_time": "2024-11-29T21:26:51.806378Z"
    }
   },
   "cell_type": "code",
   "source": [
    "\n",
    "# Filter patient resources\n",
    "patients = entries.filter(col(\"entry.resource.resourceType\") == \"Patient\") \\\n",
    "                  .select(col(\"entry.resource.*\"))\n",
    "\n",
    "# Extract the \"official\" name\n",
    "official_name = expr(\"\"\"\n",
    "    filter(name, x -> x.use = 'official')[0]\n",
    "\"\"\")\n",
    "\n",
    "# Extract geolocation fields\n",
    "geolocation = expr(\"\"\"\n",
    "    filter(address[0].extension, x -> x.url = 'http://hl7.org/fhir/StructureDefinition/geolocation')[0].extension\n",
    "\"\"\")\n",
    "\n",
    "# Extract all languages from communication as a list\n",
    "communication_languages = expr(\"\"\"\n",
    "    transform(communication, x -> x.language.text)\n",
    "\"\"\")\n",
    "\n",
    "# Extract identifier types\n",
    "identifier_types = expr(\"\"\"\n",
    "    transform(identifier, x -> x.type.coding[0].display)\n",
    "\"\"\")\n",
    "\n",
    "# Create the enhanced patient DataFrame\n",
    "patient_df = patients.select(\n",
    "    col(\"id\").alias(\"patient_id\"),\n",
    "    identifier_types.alias(\"identifier_types\"),\n",
    "    official_name.getField(\"family\").alias(\"last_name\"),\n",
    "    official_name.getField(\"given\").getItem(0).alias(\"first_name\"),\n",
    "    col(\"gender\").alias(\"gender\"),\n",
    "    col(\"birthDate\").alias(\"birth_date\"),\n",
    "    col(\"address\").getItem(0).getField(\"city\").alias(\"city\"),\n",
    "    col(\"address\").getItem(0).getField(\"state\").alias(\"state\"),\n",
    "    col(\"address\").getItem(0).getField(\"country\").alias(\"country\"),\n",
    "    col(\"address\").getItem(0).getField(\"postalCode\").alias(\"postal_code\"),\n",
    "    geolocation.getItem(0).getField(\"valueDecimal\").alias(\"latitude\"),\n",
    "    geolocation.getItem(1).getField(\"valueDecimal\").alias(\"longitude\"),\n",
    "    col(\"telecom\").getItem(0).getField(\"value\").alias(\"phone\"),\n",
    "    col(\"maritalStatus.text\").alias(\"marital_status\"),\n",
    "    col(\"extension\").getItem(0).getField(\"valueString\").alias(\"mothers_maiden_name\"),\n",
    "    col(\"extension\").getItem(1).getField(\"valueAddress\").getField(\"city\").alias(\"birthplace_city\"),\n",
    "    col(\"extension\").getItem(1).getField(\"valueAddress\").getField(\"state\").alias(\"birthplace_state\"),\n",
    "    col(\"extension\").getItem(1).getField(\"valueAddress\").getField(\"country\").alias(\"birthplace_country\"),\n",
    "    col(\"extension\").getItem(2).getField(\"valueDecimal\").alias(\"disability_adjusted_life_years\"),\n",
    "    col(\"extension\").getItem(3).getField(\"valueDecimal\").alias(\"quality_adjusted_life_years\"),\n",
    "    col(\"multipleBirthBoolean\").alias(\"multiple_birth\"),\n",
    "    communication_languages.alias(\"languages\")\n",
    ")\n",
    "\n",
    "# Show the resulting DataFrame\n",
    "patient_df.show(truncate=False)\n"
   ],
   "id": "10b83f7c66e3efed",
   "outputs": [
    {
     "name": "stdout",
     "output_type": "stream",
     "text": [
      "+------------------------------------+----------------------------------------------------------------------------------------+-------------+------------+------+----------+-----------------------+-------------------------+-------+-----------+------------------+-------------------+------------+--------------+-------------------------+---------------+-------------------------+------------------+------------------------------+---------------------------+--------------+---------+\n",
      "|patient_id                          |identifier_types                                                                        |last_name    |first_name  |gender|birth_date|city                   |state                    |country|postal_code|latitude          |longitude          |phone       |marital_status|mothers_maiden_name      |birthplace_city|birthplace_state         |birthplace_country|disability_adjusted_life_years|quality_adjusted_life_years|multiple_birth|languages|\n",
      "+------------------------------------+----------------------------------------------------------------------------------------+-------------+------------+------+----------+-----------------------+-------------------------+-------+-----------+------------------+-------------------+------------+--------------+-------------------------+---------------+-------------------------+------------------+------------------------------+---------------------------+--------------+---------+\n",
      "|7ca297d1-94e0-8069-4cdb-50f313de9a5f|[NULL, Medical Record Number, Social Security Number, Driver's License, Passport Number]|Murphy561    |Zenaida56   |female|1955-05-02|Clarenville            |Newfoundland and Labrador|CA     |A5A        |48.12501389713399 |-53.92252843475256 |555-305-5898|S             |Lavon272 Christiansen251 |Bay Bulls      |Newfoundland and Labrador|CA                |2.7338625827639547            |54.266137417236045         |false         |[English]|\n",
      "|c8af2e36-e7d2-fc26-de8c-8936c9e4705e|[NULL, Medical Record Number, Social Security Number, Driver's License, Passport Number]|Schmeler639  |Zenia843    |female|1932-01-30|Clyde River            |Prince Edward Island     |CA     |C1A        |46.41758999887787 |-63.25585052176373 |555-267-8817|M             |Ryan260 Lowe577          |Lot 41         |Prince Edward Island     |CA                |17.88266610855829             |69.11733389144172          |false         |[English]|\n",
      "|0ff36c90-7124-3569-9591-75c6386f45f5|[NULL, Medical Record Number, Social Security Number, Driver's License, Passport Number]|Feest103     |Zack583     |male  |1976-10-24|Hay River Dene 1       |Northwest Territories    |CA     |X1A        |62.739726053610326|-118.91433182864165|555-459-3391|S             |Dolly486 Boyer713        |Hay River      |Northwest Territories    |CA                |13.305182020937078            |30.694817979062922         |false         |[English]|\n",
      "|b4b67625-c44c-a832-7aba-3a2ae02a4ef1|[NULL, Medical Record Number, Social Security Number, Driver's License, Passport Number]|Hagenes547   |Zita788     |female|1921-09-16|Dieppe                 |New Brunswick            |CA     |E1A        |46.13854678684814 |-64.74598466358349 |555-764-5676|M             |Cristine925 Krajcik437   |Dieppe         |New Brunswick            |CA                |26.14170585712538             |71.85829414287463          |false         |[English]|\n",
      "|3ed96c8a-2671-2959-57cd-b3aeb8b16af0|[NULL, Medical Record Number, Social Security Number, Driver's License, Passport Number]|Gusikowski974|Zane918     |male  |1944-03-07|Dawson                 |Yukon                    |CA     |Y0B        |64.0730842673304  |-139.43134924611675|555-861-5473|S             |Kyoko885 Braun514        |Whitehorse     |Yukon                    |CA                |12.760364834252417            |62.239635165747586         |false         |[English]|\n",
      "|5bbda3f6-ee30-6a51-ebbd-19cd0a6b119d|[NULL, Medical Record Number, Social Security Number, Driver's License, Passport Number]|Morissette863|Zachariah133|male  |1967-05-28|Chambly                |Quebec                   |CA     |J3L        |45.43568543727035 |-73.33662889480526 |555-889-7346|M             |Deonna907 Steuber698     |Montréal       |Quebec                   |CA                |1.1335464915548155            |51.86645350844518          |false         |[English]|\n",
      "|8fc4d8c6-1ae5-2736-1158-ef55c405db8d|[NULL, Medical Record Number, Social Security Number, Driver's License, Passport Number]|Collier206   |Zulema784   |female|1948-05-10|Prince Albert          |Saskatchewan             |CA     |S6X        |53.23190505935035 |-105.70555320939029|555-522-6510|M             |Jannie509 Gaylord332     |North Grove    |Saskatchewan             |CA                |4.534778979359391             |66.46522102064061          |false         |[English]|\n",
      "|43dceade-79e7-fc0f-8245-59ec5feb4174|[NULL, Medical Record Number, Social Security Number, Driver's License, Passport Number]|Feest103     |Zandra428   |female|1998-02-28|North Cowichan         |British Columbia         |CA     |V0R        |48.85197586305505 |-123.7064674358977 |555-870-8290|Never Married |Arielle168 MacGyver246   |Kamloops       |British Columbia         |CA                |0.2352648564246976            |21.7647351435753           |false         |[English]|\n",
      "|37b0788d-2389-b706-52e0-7938f80f3f23|[NULL, Medical Record Number, Social Security Number, Driver's License, Passport Number]|Harber290    |Zachary28   |male  |1977-02-03|Division No. 4, Subd. B|Newfoundland and Labrador|CA     |A1A        |48.52235473195535 |-55.367993741065376|555-999-9943|M             |Sharika71 Bailey598      |Paradise       |Newfoundland and Labrador|CA                |20.28075539923084             |17.71924460076916          |false         |[English]|\n",
      "|fbcfe59a-ee76-74ed-240c-a0f3c9d46c04|[NULL, Medical Record Number, Social Security Number]                                   |Eichmann909  |Zachary28   |male  |1994-03-31|Toronto                |Ontario                  |CA     |M5T        |43.77829275458251 |-79.36014636017556 |555-971-7361|Never Married |Lashandra868 Considine820|Markham        |Ontario                  |CA                |0.0                           |6.0                        |false         |[English]|\n",
      "|fb47aa81-57a0-edc1-185d-891ad133034b|[NULL, Medical Record Number, Social Security Number]                                   |Koepp521     |Zita788     |female|2006-01-21|Toronto                |Ontario                  |CA     |M5T        |43.76017927942715 |-79.33393338925657 |555-412-4566|Never Married |Cary869 Cassin499        |Kingston       |Ontario                  |CA                |0.002142737663232659          |13.997857262336767         |false         |[English]|\n",
      "|33c6c178-b195-c16c-0045-02f5f4b53073|[NULL, Medical Record Number, Social Security Number, Driver's License, Passport Number]|Doyle959     |Zachary28   |male  |1997-04-13|Powell River           |British Columbia         |CA     |V8A        |49.875567621600275|-124.5682193519181 |555-801-2894|Never Married |Cherly215 McKenzie376    |Saanich        |British Columbia         |CA                |0.10556535972610256           |22.894434640273897         |false         |[English]|\n",
      "|d59c9ad1-8a83-f0f0-a080-635ff42b43fa|[NULL, Medical Record Number, Social Security Number, Driver's License, Passport Number]|Hermann103   |Zackary401  |male  |1950-02-18|Montréal               |Quebec                   |CA     |H1X        |45.54242699911329 |-73.539351988652   |555-113-2781|S             |Mardell937 Prosacco716   |Saint-Pie      |Quebec                   |CA                |0.0013755505092018219         |69.9986244494908           |false         |[English]|\n",
      "|000002d9-3788-19b0-0631-c4cad43fe513|[NULL, Medical Record Number, Social Security Number]                                   |Schmeler639  |Zetta950    |female|2019-05-13|Wallace Hills 14A      |Nova Scotia              |CA     |B3K        |44.90638228831787 |-63.963210909879436|555-850-6821|Never Married |Gaynell126 Beahan375     |Cape Breton    |Nova Scotia              |CA                |0.0                           |1.0                        |false         |[English]|\n",
      "|047c5aaf-d8cb-a31b-189a-f28e0efb78e0|[NULL, Medical Record Number, Social Security Number, Driver's License, Passport Number]|Volkman526   |Zulma701    |female|1965-08-20|Woodstock              |Newfoundland and Labrador|CA     |A1A        |48.53819876689299 |-55.41441339349075 |555-292-7037|S             |Mazie442 Jaskolski867    |St. John's     |Newfoundland and Labrador|CA                |0.11930722915184863           |46.88069277084815          |false         |[English]|\n",
      "+------------------------------------+----------------------------------------------------------------------------------------+-------------+------------+------+----------+-----------------------+-------------------------+-------+-----------+------------------+-------------------+------------+--------------+-------------------------+---------------+-------------------------+------------------+------------------------------+---------------------------+--------------+---------+\n",
      "\n"
     ]
    }
   ],
   "execution_count": 23
  },
  {
   "metadata": {
    "ExecuteTime": {
     "end_time": "2024-11-29T21:26:52.714287Z",
     "start_time": "2024-11-29T21:26:52.253597Z"
    }
   },
   "cell_type": "code",
   "source": [
    "# Save the DataFrame to Parquet format in the \"patients\" folder\n",
    "patient_df.write.mode(\"overwrite\").parquet(\"patients\")\n",
    "\n",
    "print(\"Patient DataFrame has been successfully saved in Parquet format in the 'patients' folder.\")"
   ],
   "id": "c6454c0f8a1f0bd9",
   "outputs": [
    {
     "name": "stdout",
     "output_type": "stream",
     "text": [
      "Patient DataFrame has been successfully saved in Parquet format in the 'patients' folder.\n"
     ]
    }
   ],
   "execution_count": 24
  },
  {
   "metadata": {},
   "cell_type": "markdown",
   "source": "### Encounters",
   "id": "d38ae6bbdd86b9dc"
  },
  {
   "metadata": {
    "ExecuteTime": {
     "end_time": "2024-11-29T21:26:52.964751Z",
     "start_time": "2024-11-29T21:26:52.730659Z"
    }
   },
   "cell_type": "code",
   "source": [
    "from pyspark.sql.functions import from_json\n",
    "from pyspark.sql.types import ArrayType, StructType, StructField, StringType\n",
    "\n",
    "# Define the schema for the 'type' field\n",
    "type_schema = ArrayType(\n",
    "    StructType([\n",
    "        StructField(\"coding\", ArrayType(\n",
    "            StructType([\n",
    "                StructField(\"system\", StringType(), True),\n",
    "                StructField(\"code\", StringType(), True),\n",
    "                StructField(\"display\", StringType(), True)\n",
    "            ])\n",
    "        ), True),\n",
    "        StructField(\"text\", StringType(), True)\n",
    "    ])\n",
    ")\n",
    "\n",
    "\n",
    "# Filter encounter resources\n",
    "encounters = entries.filter(col(\"entry.resource.resourceType\") == \"Encounter\") \\\n",
    "                    .select(col(\"entry.resource.*\"))\n",
    "\n",
    "# Parse the 'type' field from JSON string to structured format\n",
    "encounters = encounters.withColumn(\"type_parsed\", from_json(col(\"type\"), type_schema))\n",
    "\n",
    "# Explode the participant array to create one row per participant\n",
    "encounters_with_participants = encounters.select(\n",
    "    col(\"id\").alias(\"encounter_id\"),\n",
    "    col(\"status\").alias(\"status\"),\n",
    "    col(\"class.code\").alias(\"class_code\"),  #todo - find a better column name\n",
    "    col(\"type_parsed\").getItem(0).getField(\"text\").alias(\"type_text\"),  #todo - find a better column name\n",
    "    col(\"subject.reference\").alias(\"patient_reference\"),\n",
    "    col(\"period.start\").alias(\"start_time\"),\n",
    "    col(\"period.end\").alias(\"end_time\"),\n",
    "    col(\"serviceProvider.reference\").alias(\"service_provider_id\"),\n",
    "    col(\"serviceProvider.display\").alias(\"service_provider_display\"),\n",
    "    explode(col(\"participant\")).alias(\"participant\")\n",
    ")\n",
    "\n",
    "# Extract participant details\n",
    "encounter_with_participant_df = encounters_with_participants.select(\n",
    "    col(\"encounter_id\"),\n",
    "    col(\"status\"),\n",
    "    col(\"class_code\"),\n",
    "    col(\"type_text\"),\n",
    "    col(\"start_time\"),\n",
    "    col(\"end_time\"),\n",
    "    col(\"patient_reference\"),\n",
    "    col(\"service_provider_id\"),\n",
    "    col(\"service_provider_display\"),\n",
    "    col(\"participant.individual.display\").alias(\"participant_individual_display\"),\n",
    "    col(\"participant.individual.reference\").alias(\"participant_individual_reference\"),\n",
    "    # col(\"participant.member.display\").alias(\"participant_member_display\"),\n",
    "    # col(\"participant.member.reference\").alias(\"participant_member_reference\"),\n",
    "    col(\"participant.period.start\").alias(\"participant_period_start\"),\n",
    "    col(\"participant.period.end\").alias(\"participant_period_end\"),\n",
    "    col(\"participant.type\").getItem(0).getField(\"coding\").getItem(0).getField(\"code\").alias(\"participant_type_code\"),\n",
    "    col(\"participant.type\").getItem(0).getField(\"coding\").getItem(0).getField(\"display\").alias(\"participant_type_display\")\n",
    ")\n",
    "\n",
    "# Show the resulting DataFrame\n",
    "encounter_with_participant_df.show(truncate=False)\n"
   ],
   "id": "3810fb21f83a9d94",
   "outputs": [
    {
     "name": "stdout",
     "output_type": "stream",
     "text": [
      "+------------------------------------+--------+----------+------------------------------------------+-------------------------+-------------------------+---------------------------------------------+-------------------------------------------------------------------------------------------------------+--------------------------------+------------------------------+-----------------------------------------------------------------+-------------------------+-------------------------+---------------------+------------------------+\n",
      "|encounter_id                        |status  |class_code|type_text                                 |start_time               |end_time                 |patient_reference                            |service_provider_id                                                                                    |service_provider_display        |participant_individual_display|participant_individual_reference                                 |participant_period_start |participant_period_end   |participant_type_code|participant_type_display|\n",
      "+------------------------------------+--------+----------+------------------------------------------+-------------------------+-------------------------+---------------------------------------------+-------------------------------------------------------------------------------------------------------+--------------------------------+------------------------------+-----------------------------------------------------------------+-------------------------+-------------------------+---------------------+------------------------+\n",
      "|67994a7b-c816-6aa6-a5b2-2751672432e9|finished|AMB       |Encounter for symptom                     |1956-09-06T22:44:33-04:00|1956-09-06T22:59:33-04:00|urn:uuid:7ca297d1-94e0-8069-4cdb-50f313de9a5f|Organization?identifier=https://github.com/synthetichealth/synthea|066f5330-cbcc-335e-8c77-624a43292376|Dr. g.b. Cross Memorial Hospital|Dr. Almeta56 Carter549        |Practitioner?identifier=http://hl7.org/fhir/sid/us-npi|9999999939|1956-09-06T22:44:33-04:00|1956-09-06T22:59:33-04:00|PPRF                 |primary performer       |\n",
      "|bcd7f8fa-4ac1-196a-8d58-1d45d0962f05|finished|AMB       |Well child visit (procedure)              |1972-06-19T03:44:33-04:00|1972-06-19T03:59:33-04:00|urn:uuid:7ca297d1-94e0-8069-4cdb-50f313de9a5f|Organization?identifier=https://github.com/synthetichealth/synthea|ee4a206a-492f-3d2f-ba3e-63ac22b63ba6|Eastport Community Health Centre|Dr. Elfrieda676 Wintheiser220 |Practitioner?identifier=http://hl7.org/fhir/sid/us-npi|9999999359|1972-06-19T03:44:33-04:00|1972-06-19T03:59:33-04:00|PPRF                 |primary performer       |\n",
      "|6dd581fa-09c7-dc5e-69aa-55adad0bd6e2|finished|AMB       |Prenatal initial visit                    |1988-10-10T03:44:33-04:00|1988-10-10T03:59:33-04:00|urn:uuid:7ca297d1-94e0-8069-4cdb-50f313de9a5f|Organization?identifier=https://github.com/synthetichealth/synthea|066f5330-cbcc-335e-8c77-624a43292376|Dr. g.b. Cross Memorial Hospital|Dr. Almeta56 Carter549        |Practitioner?identifier=http://hl7.org/fhir/sid/us-npi|9999999939|1988-10-10T03:44:33-04:00|1988-10-10T03:59:33-04:00|PPRF                 |primary performer       |\n",
      "|1f0e1d43-e7c5-7064-f9a9-625601bd6cc9|finished|AMB       |Consultation for treatment                |2002-08-22T03:44:33-04:00|2002-08-22T04:24:22-04:00|urn:uuid:7ca297d1-94e0-8069-4cdb-50f313de9a5f|Organization?identifier=https://github.com/synthetichealth/synthea|066f5330-cbcc-335e-8c77-624a43292376|Dr. g.b. Cross Memorial Hospital|Dr. Almeta56 Carter549        |Practitioner?identifier=http://hl7.org/fhir/sid/us-npi|9999999939|2002-08-22T03:44:33-04:00|2002-08-22T04:24:22-04:00|PPRF                 |primary performer       |\n",
      "|9f03d2d1-4ec2-3373-4d4c-63d2bb091233|finished|AMB       |Encounter for symptom                     |2004-03-25T20:44:33-05:00|2004-03-25T20:59:33-05:00|urn:uuid:7ca297d1-94e0-8069-4cdb-50f313de9a5f|Organization?identifier=https://github.com/synthetichealth/synthea|066f5330-cbcc-335e-8c77-624a43292376|Dr. g.b. Cross Memorial Hospital|Dr. Almeta56 Carter549        |Practitioner?identifier=http://hl7.org/fhir/sid/us-npi|9999999939|2004-03-25T20:44:33-05:00|2004-03-25T20:59:33-05:00|PPRF                 |primary performer       |\n",
      "|7dea3a29-6f9c-b011-2d6c-b5ff8ef276de|finished|AMB       |General examination of patient (procedure)|2005-05-02T03:44:33-04:00|2005-05-02T03:59:33-04:00|urn:uuid:7ca297d1-94e0-8069-4cdb-50f313de9a5f|Organization?identifier=https://github.com/synthetichealth/synthea|ee4a206a-492f-3d2f-ba3e-63ac22b63ba6|Eastport Community Health Centre|Dr. Elfrieda676 Wintheiser220 |Practitioner?identifier=http://hl7.org/fhir/sid/us-npi|9999999359|2005-05-02T03:44:33-04:00|2005-05-02T03:59:33-04:00|PPRF                 |primary performer       |\n",
      "|b77709fa-8940-1d0e-1c51-7d1a7e85a005|finished|AMB       |Encounter for 'check-up'                  |2005-05-02T03:44:33-04:00|2005-05-02T03:59:33-04:00|urn:uuid:7ca297d1-94e0-8069-4cdb-50f313de9a5f|Organization?identifier=https://github.com/synthetichealth/synthea|066f5330-cbcc-335e-8c77-624a43292376|Dr. g.b. Cross Memorial Hospital|Dr. Almeta56 Carter549        |Practitioner?identifier=http://hl7.org/fhir/sid/us-npi|9999999939|2005-05-02T03:44:33-04:00|2005-05-02T03:59:33-04:00|PPRF                 |primary performer       |\n",
      "|678ef28a-670a-96b1-aaac-d445f00c1a57|finished|AMB       |Patient encounter procedure               |2005-08-22T03:44:33-04:00|2005-08-22T04:14:33-04:00|urn:uuid:7ca297d1-94e0-8069-4cdb-50f313de9a5f|Organization?identifier=https://github.com/synthetichealth/synthea|066f5330-cbcc-335e-8c77-624a43292376|Dr. g.b. Cross Memorial Hospital|Dr. Almeta56 Carter549        |Practitioner?identifier=http://hl7.org/fhir/sid/us-npi|9999999939|2005-08-22T03:44:33-04:00|2005-08-22T04:14:33-04:00|PPRF                 |primary performer       |\n",
      "|249c90d5-e858-2862-a20c-f755f85b2922|finished|AMB       |Encounter for problem                     |2006-01-19T02:44:33-05:00|2006-01-19T03:07:43-05:00|urn:uuid:7ca297d1-94e0-8069-4cdb-50f313de9a5f|Organization?identifier=https://github.com/synthetichealth/synthea|066f5330-cbcc-335e-8c77-624a43292376|Dr. g.b. Cross Memorial Hospital|Dr. Almeta56 Carter549        |Practitioner?identifier=http://hl7.org/fhir/sid/us-npi|9999999939|2006-01-19T02:44:33-05:00|2006-01-19T03:07:43-05:00|PPRF                 |primary performer       |\n",
      "|f2e9b264-652b-2e37-5d7b-ead701bfe233|finished|AMB       |Encounter for problem                     |2006-02-04T03:07:43-05:00|2006-02-04T03:22:43-05:00|urn:uuid:7ca297d1-94e0-8069-4cdb-50f313de9a5f|Organization?identifier=https://github.com/synthetichealth/synthea|066f5330-cbcc-335e-8c77-624a43292376|Dr. g.b. Cross Memorial Hospital|Dr. Almeta56 Carter549        |Practitioner?identifier=http://hl7.org/fhir/sid/us-npi|9999999939|2006-02-04T03:07:43-05:00|2006-02-04T03:22:43-05:00|PPRF                 |primary performer       |\n",
      "|4a10efb7-c0c6-bd4c-314e-f06e6b4c4e5a|finished|AMB       |General examination of patient (procedure)|2006-05-08T03:44:33-04:00|2006-05-08T03:59:33-04:00|urn:uuid:7ca297d1-94e0-8069-4cdb-50f313de9a5f|Organization?identifier=https://github.com/synthetichealth/synthea|ee4a206a-492f-3d2f-ba3e-63ac22b63ba6|Eastport Community Health Centre|Dr. Elfrieda676 Wintheiser220 |Practitioner?identifier=http://hl7.org/fhir/sid/us-npi|9999999359|2006-05-08T03:44:33-04:00|2006-05-08T03:59:33-04:00|PPRF                 |primary performer       |\n",
      "|a9de4f90-9775-4c66-7489-2b5415521d01|finished|AMB       |Encounter for problem                     |2006-08-03T04:07:43-04:00|2006-08-03T04:22:43-04:00|urn:uuid:7ca297d1-94e0-8069-4cdb-50f313de9a5f|Organization?identifier=https://github.com/synthetichealth/synthea|066f5330-cbcc-335e-8c77-624a43292376|Dr. g.b. Cross Memorial Hospital|Dr. Almeta56 Carter549        |Practitioner?identifier=http://hl7.org/fhir/sid/us-npi|9999999939|2006-08-03T04:07:43-04:00|2006-08-03T04:22:43-04:00|PPRF                 |primary performer       |\n",
      "|c0f3ade5-f367-b9e5-f20f-3e687278e7ba|finished|AMB       |Encounter for 'check-up'                  |2006-08-19T04:21:55-04:00|2006-08-19T04:54:00-04:00|urn:uuid:7ca297d1-94e0-8069-4cdb-50f313de9a5f|Organization?identifier=https://github.com/synthetichealth/synthea|066f5330-cbcc-335e-8c77-624a43292376|Dr. g.b. Cross Memorial Hospital|Dr. Almeta56 Carter549        |Practitioner?identifier=http://hl7.org/fhir/sid/us-npi|9999999939|2006-08-19T04:21:55-04:00|2006-08-19T04:54:00-04:00|PPRF                 |primary performer       |\n",
      "|098ce585-8122-bf57-8d95-c7a377283706|finished|AMB       |Encounter for problem                     |2007-01-30T03:07:43-05:00|2007-01-30T03:22:43-05:00|urn:uuid:7ca297d1-94e0-8069-4cdb-50f313de9a5f|Organization?identifier=https://github.com/synthetichealth/synthea|066f5330-cbcc-335e-8c77-624a43292376|Dr. g.b. Cross Memorial Hospital|Dr. Almeta56 Carter549        |Practitioner?identifier=http://hl7.org/fhir/sid/us-npi|9999999939|2007-01-30T03:07:43-05:00|2007-01-30T03:22:43-05:00|PPRF                 |primary performer       |\n",
      "|0201f188-b7e1-eac2-34bf-7e81f0f0d102|finished|AMB       |General examination of patient (procedure)|2007-05-14T03:44:33-04:00|2007-05-14T03:59:33-04:00|urn:uuid:7ca297d1-94e0-8069-4cdb-50f313de9a5f|Organization?identifier=https://github.com/synthetichealth/synthea|ee4a206a-492f-3d2f-ba3e-63ac22b63ba6|Eastport Community Health Centre|Dr. Elfrieda676 Wintheiser220 |Practitioner?identifier=http://hl7.org/fhir/sid/us-npi|9999999359|2007-05-14T03:44:33-04:00|2007-05-14T03:59:33-04:00|PPRF                 |primary performer       |\n",
      "|84d808f3-c337-4fa0-32fc-07e2cbed6077|finished|AMB       |Encounter for problem                     |2007-07-29T04:07:43-04:00|2007-07-29T04:22:43-04:00|urn:uuid:7ca297d1-94e0-8069-4cdb-50f313de9a5f|Organization?identifier=https://github.com/synthetichealth/synthea|066f5330-cbcc-335e-8c77-624a43292376|Dr. g.b. Cross Memorial Hospital|Dr. Almeta56 Carter549        |Practitioner?identifier=http://hl7.org/fhir/sid/us-npi|9999999939|2007-07-29T04:07:43-04:00|2007-07-29T04:22:43-04:00|PPRF                 |primary performer       |\n",
      "|3bad0961-2d7e-08de-96a3-bfeb22bb8b99|finished|AMB       |Encounter for problem                     |2008-01-25T03:07:43-05:00|2008-01-25T03:22:43-05:00|urn:uuid:7ca297d1-94e0-8069-4cdb-50f313de9a5f|Organization?identifier=https://github.com/synthetichealth/synthea|066f5330-cbcc-335e-8c77-624a43292376|Dr. g.b. Cross Memorial Hospital|Dr. Almeta56 Carter549        |Practitioner?identifier=http://hl7.org/fhir/sid/us-npi|9999999939|2008-01-25T03:07:43-05:00|2008-01-25T03:22:43-05:00|PPRF                 |primary performer       |\n",
      "|4b8acd81-fc9e-fe0c-1e20-f08b3b837e67|finished|AMB       |General examination of patient (procedure)|2008-05-19T03:44:33-04:00|2008-05-19T03:59:33-04:00|urn:uuid:7ca297d1-94e0-8069-4cdb-50f313de9a5f|Organization?identifier=https://github.com/synthetichealth/synthea|ee4a206a-492f-3d2f-ba3e-63ac22b63ba6|Eastport Community Health Centre|Dr. Elfrieda676 Wintheiser220 |Practitioner?identifier=http://hl7.org/fhir/sid/us-npi|9999999359|2008-05-19T03:44:33-04:00|2008-05-19T03:59:33-04:00|PPRF                 |primary performer       |\n",
      "|5f4f6d51-7b0f-08a3-b85a-c5f3691ab22d|finished|AMB       |Encounter for problem                     |2008-07-23T04:07:43-04:00|2008-07-23T04:22:43-04:00|urn:uuid:7ca297d1-94e0-8069-4cdb-50f313de9a5f|Organization?identifier=https://github.com/synthetichealth/synthea|066f5330-cbcc-335e-8c77-624a43292376|Dr. g.b. Cross Memorial Hospital|Dr. Almeta56 Carter549        |Practitioner?identifier=http://hl7.org/fhir/sid/us-npi|9999999939|2008-07-23T04:07:43-04:00|2008-07-23T04:22:43-04:00|PPRF                 |primary performer       |\n",
      "|7a544f3c-ba7a-a8e4-865c-3c01886ecb70|finished|AMB       |Encounter for check up (procedure)        |2008-10-13T03:44:33-04:00|2008-10-13T03:59:33-04:00|urn:uuid:7ca297d1-94e0-8069-4cdb-50f313de9a5f|Organization?identifier=https://github.com/synthetichealth/synthea|066f5330-cbcc-335e-8c77-624a43292376|Dr. g.b. Cross Memorial Hospital|Dr. Almeta56 Carter549        |Practitioner?identifier=http://hl7.org/fhir/sid/us-npi|9999999939|2008-10-13T03:44:33-04:00|2008-10-13T03:59:33-04:00|PPRF                 |primary performer       |\n",
      "+------------------------------------+--------+----------+------------------------------------------+-------------------------+-------------------------+---------------------------------------------+-------------------------------------------------------------------------------------------------------+--------------------------------+------------------------------+-----------------------------------------------------------------+-------------------------+-------------------------+---------------------+------------------------+\n",
      "only showing top 20 rows\n",
      "\n"
     ]
    }
   ],
   "execution_count": 25
  },
  {
   "metadata": {
    "ExecuteTime": {
     "end_time": "2024-11-29T21:26:53.319836Z",
     "start_time": "2024-11-29T21:26:52.984270Z"
    }
   },
   "cell_type": "code",
   "source": [
    "# Save the DataFrame to Parquet\n",
    "encounter_with_participant_df.write.mode(\"overwrite\").parquet(\"encounter\")\n",
    "\n",
    "print(\"Participant details have been successfully extracted and saved in the 'encounter' folder.\")\n"
   ],
   "id": "fc087e2619556ac8",
   "outputs": [
    {
     "name": "stdout",
     "output_type": "stream",
     "text": [
      "Participant details have been successfully extracted and saved in the 'encounter' folder.\n"
     ]
    }
   ],
   "execution_count": 26
  },
  {
   "metadata": {},
   "cell_type": "markdown",
   "source": "### Conditions",
   "id": "5a9485645aaea756"
  },
  {
   "metadata": {
    "ExecuteTime": {
     "end_time": "2024-11-29T21:26:53.507441Z",
     "start_time": "2024-11-29T21:26:53.332169Z"
    }
   },
   "cell_type": "code",
   "source": [
    "# Filter for Condition resources\n",
    "conditions = entries.filter(col(\"entry.resource.resourceType\") == \"Condition\") \\\n",
    "                    .select(col(\"entry.resource.*\"))\n",
    "\n",
    "# Extract relevant fields from Condition\n",
    "condition_df = conditions.select(\n",
    "    col(\"id\").alias(\"condition_id\"),\n",
    "    col(\"clinicalStatus.coding\").getItem(0).getField(\"code\").alias(\"clinical_status\"),\n",
    "    col(\"verificationStatus.coding\").getItem(0).getField(\"code\").alias(\"verification_status\"),\n",
    "    col(\"code.text\").alias(\"condition_code_display\"),\n",
    "    col(\"subject.reference\").alias(\"patient_reference\"),\n",
    "    col(\"encounter.reference\").alias(\"encounter_reference\"),\n",
    "    col(\"onsetDateTime\").alias(\"onset_datetime\"),\n",
    "    col(\"abatementDateTime\").alias(\"abatement_datetime\"),\n",
    "    col(\"recordedDate\").alias(\"recorded_date\")\n",
    ")\n",
    "\n",
    "# Show the resulting DataFrame\n",
    "condition_df.show(truncate=False)"
   ],
   "id": "81028e4e434829ba",
   "outputs": [
    {
     "name": "stdout",
     "output_type": "stream",
     "text": [
      "+------------------------------------+---------------+-------------------+-------------------------------------------+---------------------------------------------+---------------------------------------------+-------------------------+-------------------------+-------------------------+\n",
      "|condition_id                        |clinical_status|verification_status|condition_code_display                     |patient_reference                            |encounter_reference                          |onset_datetime           |abatement_datetime       |recorded_date            |\n",
      "+------------------------------------+---------------+-------------------+-------------------------------------------+---------------------------------------------+---------------------------------------------+-------------------------+-------------------------+-------------------------+\n",
      "|ef7aaf17-7b06-76be-254d-04b736547a25|active         |confirmed          |Chronic sinusitis (disorder)               |urn:uuid:7ca297d1-94e0-8069-4cdb-50f313de9a5f|urn:uuid:67994a7b-c816-6aa6-a5b2-2751672432e9|1956-09-06T22:44:33-04:00|NULL                     |1956-09-06T22:44:33-04:00|\n",
      "|a3fed4f7-635c-09ee-10d4-a4c5132ec3cb|active         |confirmed          |Body mass index 30+ - obesity (finding)    |urn:uuid:7ca297d1-94e0-8069-4cdb-50f313de9a5f|urn:uuid:bcd7f8fa-4ac1-196a-8d58-1d45d0962f05|1972-06-19T03:44:33-04:00|NULL                     |1972-06-19T03:44:33-04:00|\n",
      "|68ca359d-3c1a-1971-b2f2-a35ada0cc5bf|active         |confirmed          |Miscarriage in first trimester             |urn:uuid:7ca297d1-94e0-8069-4cdb-50f313de9a5f|urn:uuid:6dd581fa-09c7-dc5e-69aa-55adad0bd6e2|1988-10-10T03:44:33-04:00|NULL                     |1988-10-10T03:44:33-04:00|\n",
      "|0e5c0577-d6a8-6763-004a-f803e3c8799b|resolved       |confirmed          |Acute viral pharyngitis (disorder)         |urn:uuid:7ca297d1-94e0-8069-4cdb-50f313de9a5f|urn:uuid:9f03d2d1-4ec2-3373-4d4c-63d2bb091233|2004-03-25T20:44:33-05:00|2004-04-05T04:44:33-04:00|2004-03-25T20:44:33-05:00|\n",
      "|7fac8356-248a-5cc7-d09d-67a2c5edcba5|resolved       |confirmed          |Polyp of colon                             |urn:uuid:7ca297d1-94e0-8069-4cdb-50f313de9a5f|urn:uuid:b77709fa-8940-1d0e-1c51-7d1a7e85a005|2005-05-02T04:21:55-04:00|2006-08-19T04:54:00-04:00|2005-05-02T04:21:55-04:00|\n",
      "|78172f1f-b075-68bb-1863-a1602c1c7fc2|active         |confirmed          |Chronic congestive heart failure (disorder)|urn:uuid:7ca297d1-94e0-8069-4cdb-50f313de9a5f|urn:uuid:249c90d5-e858-2862-a20c-f755f85b2922|2006-01-19T02:44:33-05:00|NULL                     |2006-01-19T02:44:33-05:00|\n",
      "|8e5ecf57-3b90-d368-0c6b-6dce8db9a601|resolved       |confirmed          |Viral sinusitis (disorder)                 |urn:uuid:7ca297d1-94e0-8069-4cdb-50f313de9a5f|urn:uuid:25f8dda6-0468-6f19-2232-e6eed1e8d797|2008-10-12T20:44:33-04:00|2008-10-27T20:44:33-04:00|2008-10-12T20:44:33-04:00|\n",
      "|801f9a58-bfe5-8125-6541-76ec2e1a2d07|resolved       |confirmed          |Sprain of ankle                            |urn:uuid:7ca297d1-94e0-8069-4cdb-50f313de9a5f|urn:uuid:cfd0e7b0-bc15-5a1c-a7ac-4a8c7c1a91d3|2009-07-18T04:08:55-04:00|2009-08-08T04:08:55-04:00|2009-07-18T04:08:55-04:00|\n",
      "|89ec043c-8260-8c33-e2d5-b246679179a7|resolved       |confirmed          |Acute bronchitis (disorder)                |urn:uuid:7ca297d1-94e0-8069-4cdb-50f313de9a5f|urn:uuid:00336118-a170-38de-1a6d-eb3dec651c9e|2009-10-12T07:44:33-04:00|2009-10-20T08:04:31-04:00|2009-10-12T07:44:33-04:00|\n",
      "|b089cc0f-c4e6-6f6e-d24e-26d6dc8e47da|active         |confirmed          |Shock (disorder)                           |urn:uuid:7ca297d1-94e0-8069-4cdb-50f313de9a5f|urn:uuid:ee685ef9-c7a4-53c2-77e2-7c9a440b4aab|2010-01-16T03:55:16-05:00|NULL                     |2010-01-16T03:55:16-05:00|\n",
      "|de8ee0a1-dbb6-2e43-a3c2-b108c3446a5c|resolved       |confirmed          |Concussion injury of brain                 |urn:uuid:7ca297d1-94e0-8069-4cdb-50f313de9a5f|urn:uuid:f2905642-80e7-61b0-ff10-87034008f022|2010-06-26T04:08:55-04:00|2010-08-27T04:08:55-04:00|2010-06-26T04:08:55-04:00|\n",
      "|cb8ae5b9-eb99-d12b-6ec6-1ac842323a7f|resolved       |confirmed          |Viral sinusitis (disorder)                 |urn:uuid:7ca297d1-94e0-8069-4cdb-50f313de9a5f|urn:uuid:383991af-11b4-bc2b-eff5-52784de8c0ce|2011-08-22T08:44:33-04:00|2011-09-04T08:44:33-04:00|2011-08-22T08:44:33-04:00|\n",
      "|d4306236-2f47-a663-1748-c6cc666598f2|resolved       |confirmed          |Viral sinusitis (disorder)                 |urn:uuid:7ca297d1-94e0-8069-4cdb-50f313de9a5f|urn:uuid:ca7564d5-69c3-3a6f-5419-b98c1003f670|2012-06-08T19:44:33-04:00|2012-07-02T19:44:33-04:00|2012-06-08T19:44:33-04:00|\n",
      "|be3b8daf-b130-3ed5-b403-e8d0bfcb33b5|active         |confirmed          |Appendicitis                               |urn:uuid:c8af2e36-e7d2-fc26-de8c-8936c9e4705e|urn:uuid:a3792922-c832-319d-8aaa-4c1e475df8c4|1947-07-31T07:48:18-04:00|NULL                     |1947-07-31T07:48:18-04:00|\n",
      "|d6b821ef-ced0-1d72-47ea-8fe53cbf4209|active         |confirmed          |History of appendectomy                    |urn:uuid:c8af2e36-e7d2-fc26-de8c-8936c9e4705e|urn:uuid:caf87e99-66ba-18e9-8654-ec06e5369479|1947-07-31T07:48:18-04:00|NULL                     |1947-07-31T07:48:18-04:00|\n",
      "|55d7cc0d-1b46-198b-1311-4b932fcfc256|active         |confirmed          |Chronic sinusitis (disorder)               |urn:uuid:c8af2e36-e7d2-fc26-de8c-8936c9e4705e|urn:uuid:a44bceea-c9ec-6517-2c27-8af054ced9fa|1955-11-10T17:48:18-05:00|NULL                     |1955-11-10T17:48:18-05:00|\n",
      "|cbf78c2f-501c-1a95-d0fe-c6ad25773599|active         |confirmed          |Body mass index 30+ - obesity (finding)    |urn:uuid:c8af2e36-e7d2-fc26-de8c-8936c9e4705e|urn:uuid:19b659b2-6a9a-a04b-9f93-3899255de474|1963-04-13T19:48:18-05:00|NULL                     |1963-04-13T19:48:18-05:00|\n",
      "|0d48bec0-5e28-cf46-f2ee-02421076560f|active         |confirmed          |Atrial Fibrillation                        |urn:uuid:c8af2e36-e7d2-fc26-de8c-8936c9e4705e|urn:uuid:5e1e76c8-11d1-27e9-45e0-7705527bf455|2006-06-17T20:48:18-04:00|NULL                     |2006-06-17T20:48:18-04:00|\n",
      "|cabd509c-fa1c-c2d2-0535-111f760d5771|resolved       |confirmed          |Viral sinusitis (disorder)                 |urn:uuid:c8af2e36-e7d2-fc26-de8c-8936c9e4705e|urn:uuid:31277f11-e357-293d-62f6-00b525d0f2be|2010-12-08T21:48:18-05:00|2010-12-27T21:48:18-05:00|2010-12-08T21:48:18-05:00|\n",
      "|90b859a3-1e3b-22a1-9d1f-b6330a373b0f|active         |confirmed          |Stroke                                     |urn:uuid:c8af2e36-e7d2-fc26-de8c-8936c9e4705e|urn:uuid:1c31c9c5-68e0-6000-b823-f4c657e6a795|2010-12-25T19:48:18-05:00|NULL                     |2010-12-25T19:48:18-05:00|\n",
      "+------------------------------------+---------------+-------------------+-------------------------------------------+---------------------------------------------+---------------------------------------------+-------------------------+-------------------------+-------------------------+\n",
      "only showing top 20 rows\n",
      "\n"
     ]
    }
   ],
   "execution_count": 27
  },
  {
   "metadata": {
    "ExecuteTime": {
     "end_time": "2024-11-29T21:26:53.838784Z",
     "start_time": "2024-11-29T21:26:53.524991Z"
    }
   },
   "cell_type": "code",
   "source": [
    "# Save the DataFrame to Parquet\n",
    "condition_df.write.mode(\"overwrite\").parquet(\"conditions\")\n",
    "\n",
    "print(\"Condition DataFrame has been successfully saved in Parquet format in the 'conditions' folder.\")"
   ],
   "id": "ef2f9cdf2cddade1",
   "outputs": [
    {
     "name": "stdout",
     "output_type": "stream",
     "text": [
      "Condition DataFrame has been successfully saved in Parquet format in the 'conditions' folder.\n"
     ]
    }
   ],
   "execution_count": 28
  },
  {
   "metadata": {},
   "cell_type": "markdown",
   "source": "### Medication Request",
   "id": "e5fe59f48162bd65"
  },
  {
   "metadata": {
    "ExecuteTime": {
     "end_time": "2024-11-29T21:26:54.061668Z",
     "start_time": "2024-11-29T21:26:53.851782Z"
    }
   },
   "cell_type": "code",
   "source": [
    "# Filter for MedicationRequest resources\n",
    "medication_requests = entries.filter(col(\"entry.resource.resourceType\") == \"MedicationRequest\") \\\n",
    "                             .select(col(\"entry.resource.*\"))\n",
    "\n",
    "# Explode the dosageInstruction array to handle multiple dosage instructions\n",
    "medication_requests_exploded = medication_requests.withColumn(\"dosageInstruction\", explode(col(\"dosageInstruction\")))\n",
    "\n",
    "# Extract relevant fields from MedicationRequest\n",
    "medication_request_df = medication_requests_exploded.select(\n",
    "    col(\"id\").alias(\"medication_request_id\"),\n",
    "    col(\"status\").alias(\"status\"),\n",
    "    col(\"intent\").alias(\"intent\"),\n",
    "    col(\"medicationCodeableConcept.coding\").getItem(0).getField(\"display\").alias(\"medication_display\"),\n",
    "    col(\"subject.reference\").alias(\"patient_reference\"),\n",
    "    col(\"requester.reference\").alias(\"requester_reference\"),\n",
    "    col(\"requester.display\").alias(\"requester_display\"),\n",
    "    col(\"encounter.reference\").alias(\"encounter_reference\"),\n",
    "    col(\"authoredOn\").alias(\"authored_on\"),\n",
    "    col(\"dosageInstruction.text\").alias(\"dosage_text\"),\n",
    "    col(\"dosageInstruction.timing.repeat.frequency\").alias(\"dosage_frequency\"),\n",
    "    col(\"dosageInstruction.timing.repeat.period\").alias(\"dosage_period\"),\n",
    "    col(\"dosageInstruction.timing.repeat.periodUnit\").alias(\"dosage_period_unit\")\n",
    ")\n",
    "\n",
    "# Show the resulting DataFrame\n",
    "medication_request_df.show(truncate=False)"
   ],
   "id": "23432961eecddb14",
   "outputs": [
    {
     "name": "stdout",
     "output_type": "stream",
     "text": [
      "+------------------------------------+-------+------+--------------------------------------------------------------+---------------------------------------------+-----------------------------------------------------------------+-----------------------------+---------------------------------------------+-------------------------+-------------------------------------------+----------------+-------------+------------------+\n",
      "|medication_request_id               |status |intent|medication_display                                            |patient_reference                            |requester_reference                                              |requester_display            |encounter_reference                          |authored_on              |dosage_text                                |dosage_frequency|dosage_period|dosage_period_unit|\n",
      "+------------------------------------+-------+------+--------------------------------------------------------------+---------------------------------------------+-----------------------------------------------------------------+-----------------------------+---------------------------------------------+-------------------------+-------------------------------------------+----------------+-------------+------------------+\n",
      "|b915ff30-ab9a-2f7c-d363-a286a994c77b|stopped|order |Furosemide 40 MG Oral Tablet                                  |urn:uuid:7ca297d1-94e0-8069-4cdb-50f313de9a5f|Practitioner?identifier=http://hl7.org/fhir/sid/us-npi|9999999939|Dr. Almeta56 Carter549       |urn:uuid:f2e9b264-652b-2e37-5d7b-ead701bfe233|2006-02-04T03:07:43-05:00|Take as needed.                            |NULL            |NULL         |NULL              |\n",
      "|c2cd8f53-8040-90ef-38ed-889fe29d1a15|stopped|order |Furosemide 40 MG Oral Tablet                                  |urn:uuid:7ca297d1-94e0-8069-4cdb-50f313de9a5f|Practitioner?identifier=http://hl7.org/fhir/sid/us-npi|9999999359|Dr. Elfrieda676 Wintheiser220|urn:uuid:4a10efb7-c0c6-bd4c-314e-f06e6b4c4e5a|2006-05-08T03:44:33-04:00|Take as needed.                            |NULL            |NULL         |NULL              |\n",
      "|a2e95ed1-46aa-c0f8-b938-76f11cbf6aab|stopped|order |Furosemide 40 MG Oral Tablet                                  |urn:uuid:7ca297d1-94e0-8069-4cdb-50f313de9a5f|Practitioner?identifier=http://hl7.org/fhir/sid/us-npi|9999999359|Dr. Elfrieda676 Wintheiser220|urn:uuid:0201f188-b7e1-eac2-34bf-7e81f0f0d102|2007-05-14T03:44:33-04:00|Take as needed.                            |NULL            |NULL         |NULL              |\n",
      "|2a894002-eb90-b162-72ff-1a6127f6db15|stopped|order |Furosemide 40 MG Oral Tablet                                  |urn:uuid:7ca297d1-94e0-8069-4cdb-50f313de9a5f|Practitioner?identifier=http://hl7.org/fhir/sid/us-npi|9999999359|Dr. Elfrieda676 Wintheiser220|urn:uuid:4b8acd81-fc9e-fe0c-1e20-f08b3b837e67|2008-05-19T03:44:33-04:00|Take as needed.                            |NULL            |NULL         |NULL              |\n",
      "|175f7243-f76c-b141-8978-b47aa3bc57fc|stopped|order |Furosemide 40 MG Oral Tablet                                  |urn:uuid:7ca297d1-94e0-8069-4cdb-50f313de9a5f|Practitioner?identifier=http://hl7.org/fhir/sid/us-npi|9999999939|Dr. Almeta56 Carter549       |urn:uuid:25f8dda6-0468-6f19-2232-e6eed1e8d797|2008-10-13T03:44:33-04:00|Take as needed.                            |NULL            |NULL         |NULL              |\n",
      "|ab69589f-52b7-da93-f456-383d2f3a0bdd|stopped|order |Furosemide 40 MG Oral Tablet                                  |urn:uuid:7ca297d1-94e0-8069-4cdb-50f313de9a5f|Practitioner?identifier=http://hl7.org/fhir/sid/us-npi|9999999359|Dr. Elfrieda676 Wintheiser220|urn:uuid:86dafc3f-c047-0afb-99ba-6ed03e853962|2009-05-25T03:44:33-04:00|Take as needed.                            |NULL            |NULL         |NULL              |\n",
      "|33a47467-54b7-0f24-ae44-c3468a953b34|stopped|order |Acetaminophen 325 MG Oral Tablet                              |urn:uuid:7ca297d1-94e0-8069-4cdb-50f313de9a5f|Practitioner?identifier=http://hl7.org/fhir/sid/us-npi|9999999939|Dr. Almeta56 Carter549       |urn:uuid:cfd0e7b0-bc15-5a1c-a7ac-4a8c7c1a91d3|2009-07-18T04:08:55-04:00|Take as needed.                            |NULL            |NULL         |NULL              |\n",
      "|a047e9af-eefd-dede-903d-d647e1c9f20f|stopped|order |Furosemide 40 MG Oral Tablet                                  |urn:uuid:7ca297d1-94e0-8069-4cdb-50f313de9a5f|Practitioner?identifier=http://hl7.org/fhir/sid/us-npi|9999999939|Dr. Almeta56 Carter549       |urn:uuid:0f87562d-5d77-358c-c76e-494a7bd4d89e|2009-10-26T03:44:33-04:00|Take as needed.                            |NULL            |NULL         |NULL              |\n",
      "|5dbf936a-ab29-51d9-4612-43dd48500cef|stopped|order |Furosemide 40 MG Oral Tablet                                  |urn:uuid:7ca297d1-94e0-8069-4cdb-50f313de9a5f|Practitioner?identifier=http://hl7.org/fhir/sid/us-npi|9999999359|Dr. Elfrieda676 Wintheiser220|urn:uuid:fdccf48f-ce2d-2018-6732-bab5c533d84a|2010-05-31T03:44:33-04:00|Take as needed.                            |NULL            |NULL         |NULL              |\n",
      "|d51d2067-7b4b-79fe-cf60-b48c2e051c41|stopped|order |Furosemide 40 MG Oral Tablet                                  |urn:uuid:7ca297d1-94e0-8069-4cdb-50f313de9a5f|Practitioner?identifier=http://hl7.org/fhir/sid/us-npi|9999999359|Dr. Elfrieda676 Wintheiser220|urn:uuid:b5afd9b8-bdc7-930e-2be7-957cc4b61fd8|2011-06-06T03:44:33-04:00|Take as needed.                            |NULL            |NULL         |NULL              |\n",
      "|410df176-f2ae-7b90-830e-b68cd51a7c76|stopped|order |Furosemide 40 MG Oral Tablet                                  |urn:uuid:7ca297d1-94e0-8069-4cdb-50f313de9a5f|Practitioner?identifier=http://hl7.org/fhir/sid/us-npi|9999999939|Dr. Almeta56 Carter549       |urn:uuid:ca7564d5-69c3-3a6f-5419-b98c1003f670|2012-06-11T03:44:33-04:00|Take as needed.                            |NULL            |NULL         |NULL              |\n",
      "|c3703403-18dc-9465-3535-45375193564d|active |order |Furosemide 40 MG Oral Tablet                                  |urn:uuid:7ca297d1-94e0-8069-4cdb-50f313de9a5f|Practitioner?identifier=http://hl7.org/fhir/sid/us-npi|9999999359|Dr. Elfrieda676 Wintheiser220|urn:uuid:f96bd9ac-4eaf-e99e-4ef8-6562489688ec|2013-06-17T03:44:33-04:00|Take as needed.                            |NULL            |NULL         |NULL              |\n",
      "|97746d2b-12f1-db0d-4f53-4c3c102e1b44|stopped|order |Acetaminophen 325 MG Oral Tablet                              |urn:uuid:c8af2e36-e7d2-fc26-de8c-8936c9e4705e|Practitioner?identifier=http://hl7.org/fhir/sid/us-npi|9999999969|Dr. Whitney250 Wyman904      |urn:uuid:c841db73-939a-6870-8fb6-6c2de2c0560d|2011-06-01T23:19:25-04:00|Take as needed.                            |NULL            |NULL         |NULL              |\n",
      "|398b0e58-ebcd-7e5f-8fd2-7e3094294aef|active |order |Acetaminophen 300 MG / Hydrocodone Bitartrate 5 MG Oral Tablet|urn:uuid:c8af2e36-e7d2-fc26-de8c-8936c9e4705e|Practitioner?identifier=http://hl7.org/fhir/sid/us-npi|9999999969|Dr. Whitney250 Wyman904      |urn:uuid:f98279b5-b0fb-274a-300c-7e8c1407f7e2|2014-03-30T03:00:31-04:00|Every four to six hours (qualifier value)\\n|4               |1.0          |d                 |\n",
      "|1e7353f4-be27-9604-6c69-9151fb64acf8|stopped|order |Ibuprofen 400 MG Oral Tablet [Ibu]                            |urn:uuid:c8af2e36-e7d2-fc26-de8c-8936c9e4705e|Practitioner?identifier=http://hl7.org/fhir/sid/us-npi|9999999969|Dr. Whitney250 Wyman904      |urn:uuid:ea531122-2604-90c4-4c0e-4485aa549bfa|2014-05-29T03:00:31-04:00|Every four to six hours (qualifier value)\\n|4               |1.0          |d                 |\n",
      "|125ece1a-93c1-330c-b785-d74a14ad6731|stopped|order |Ibuprofen 400 MG Oral Tablet [Ibu]                            |urn:uuid:c8af2e36-e7d2-fc26-de8c-8936c9e4705e|Practitioner?identifier=http://hl7.org/fhir/sid/us-npi|9999999409|Dr. Shirl54 Ankunding277     |urn:uuid:02269af7-0279-e42a-b09f-27b00e5ea6be|2014-08-02T20:48:18-04:00|Every four to six hours (qualifier value)\\n|4               |1.0          |d                 |\n",
      "|2b6ee72f-5bd1-b2df-e2c6-5d509c1ba4fc|stopped|order |Ibuprofen 400 MG Oral Tablet [Ibu]                            |urn:uuid:c8af2e36-e7d2-fc26-de8c-8936c9e4705e|Practitioner?identifier=http://hl7.org/fhir/sid/us-npi|9999999409|Dr. Shirl54 Ankunding277     |urn:uuid:0e935229-d9c8-9647-f62b-723a92a4c9ca|2015-08-08T20:48:18-04:00|Every four to six hours (qualifier value)\\n|4               |1.0          |d                 |\n",
      "|9e15bf44-7e01-4470-dab8-8af12649aadd|stopped|order |Furosemide 40 MG Oral Tablet                                  |urn:uuid:c8af2e36-e7d2-fc26-de8c-8936c9e4705e|Practitioner?identifier=http://hl7.org/fhir/sid/us-npi|9999999969|Dr. Whitney250 Wyman904      |urn:uuid:82a97de4-2f30-e110-662a-0feb93f71d0c|2015-12-09T20:19:55-05:00|Take as needed.                            |NULL            |NULL         |NULL              |\n",
      "|9224cc82-18ee-b20c-9852-8a7d30a997fe|stopped|order |carvedilol 25 MG Oral Tablet                                  |urn:uuid:c8af2e36-e7d2-fc26-de8c-8936c9e4705e|Practitioner?identifier=http://hl7.org/fhir/sid/us-npi|9999999969|Dr. Whitney250 Wyman904      |urn:uuid:82a97de4-2f30-e110-662a-0feb93f71d0c|2015-12-09T20:19:55-05:00|Take as needed.                            |NULL            |NULL         |NULL              |\n",
      "|37dda0fe-f89a-8864-4f39-1dcb516fb7a3|stopped|order |lisinopril 20 MG Oral Tablet                                  |urn:uuid:c8af2e36-e7d2-fc26-de8c-8936c9e4705e|Practitioner?identifier=http://hl7.org/fhir/sid/us-npi|9999999969|Dr. Whitney250 Wyman904      |urn:uuid:82a97de4-2f30-e110-662a-0feb93f71d0c|2015-12-09T20:19:55-05:00|Take as needed.                            |NULL            |NULL         |NULL              |\n",
      "+------------------------------------+-------+------+--------------------------------------------------------------+---------------------------------------------+-----------------------------------------------------------------+-----------------------------+---------------------------------------------+-------------------------+-------------------------------------------+----------------+-------------+------------------+\n",
      "only showing top 20 rows\n",
      "\n"
     ]
    }
   ],
   "execution_count": 29
  },
  {
   "metadata": {
    "ExecuteTime": {
     "end_time": "2024-11-29T21:26:54.411391Z",
     "start_time": "2024-11-29T21:26:54.077768Z"
    }
   },
   "cell_type": "code",
   "source": [
    "# Save the DataFrame to Parquet\n",
    "medication_request_df.write.mode(\"overwrite\").parquet(\"medication_requests\")\n",
    "\n",
    "print(\"MedicationRequest DataFrame with multiple dosage instructions has been successfully saved in the 'medication_requests' folder.\")"
   ],
   "id": "c9de5264a512b323",
   "outputs": [
    {
     "name": "stdout",
     "output_type": "stream",
     "text": [
      "MedicationRequest DataFrame with multiple dosage instructions has been successfully saved in the 'medication_requests' folder.\n"
     ]
    }
   ],
   "execution_count": 30
  },
  {
   "metadata": {},
   "cell_type": "markdown",
   "source": "### Claims",
   "id": "2469ce478c4e0399"
  },
  {
   "metadata": {
    "ExecuteTime": {
     "end_time": "2024-11-29T21:26:55.010940Z",
     "start_time": "2024-11-29T21:26:54.423481Z"
    }
   },
   "cell_type": "code",
   "source": [
    "from pyspark.sql.types import DoubleType\n",
    "\n",
    "# Filter for Claim resources\n",
    "claims = entries.filter(col(\"entry.resource.resourceType\") == \"Claim\") \\\n",
    "                .select(col(\"entry.resource.*\"))\n",
    "\n",
    "# Define the schema for the 'type' field\n",
    "type_schema = ArrayType(\n",
    "    StructType([\n",
    "        StructField(\"coding\", ArrayType(\n",
    "            StructType([\n",
    "                StructField(\"system\", StringType(), True),\n",
    "                StructField(\"code\", StringType(), True)\n",
    "            ])\n",
    "        ), True)\n",
    "    ])\n",
    ")\n",
    "\n",
    "# Define the schema for the 'total' field\n",
    "total_schema = StructType([\n",
    "    StructField(\"value\", DoubleType(), True),      \n",
    "    StructField(\"currency\", StringType(), True)  \n",
    "])\n",
    "\n",
    "#Extract type\n",
    "claims = (claims\n",
    "          .withColumn(\"type_parsed\", from_json(col(\"type\"), type_schema))\n",
    "          .withColumn(\"total_parsed\", from_json(col(\"total\"), total_schema))\n",
    "          .withColumn(\"supportingInfo\", explode(col(\"supportingInfo\")))\n",
    "          .withColumn(\"insurance\", explode(col(\"insurance\")))\n",
    "          .withColumn(\"claim_item\", explode(col(\"item\")))\n",
    "          .withColumn(\"diagnosis\", explode(col(\"diagnosis\")))\n",
    "          )  \n",
    "\n",
    "# Extract relevant fields from Claim\n",
    "claim_df = claims.select(\n",
    "    col(\"id\").alias(\"claim_id\"),\n",
    "    col(\"status\").alias(\"status\"),\n",
    "    col(\"type_parsed\").getItem(0).getField(\"coding\").getItem(0).getField(\"code\").alias(\"type_code\"),\n",
    "    col(\"use\").alias(\"use\"),\n",
    "    col(\"patient.reference\").alias(\"patient_reference\"),\n",
    "    col(\"patient.display\").alias(\"patient_display\"),\n",
    "    col(\"created\").alias(\"created_date\"),\n",
    "    col(\"billablePeriod.start\").alias(\"billable_period_start\"),\n",
    "    col(\"billablePeriod.end\").alias(\"billable_period_end\"),\n",
    "    col(\"provider.reference\").alias(\"provider_reference\"),\n",
    "    col(\"priority.coding\").getItem(0).getField(\"code\").alias(\"priority\"),\n",
    "    col(\"supportingInfo.category.coding\").getItem(0).getField(\"code\").alias(\"supporting_info_code\"),\n",
    "    col(\"supportingInfo.valueReference.reference\").alias(\"supporting_info_value_reference\"),\n",
    "    col(\"insurance.coverage.display\").alias(\"insurance_coverage_display\"),\n",
    "    col(\"insurance.focal\").alias(\"insurance_focal\"),\n",
    "    col(\"total_parsed\").getField(\"value\").alias(\"total_amount\"), \n",
    "    col(\"total_parsed\").getField(\"currency\").alias(\"currency\"),\n",
    "    col(\"diagnosis.diagnosisReference.reference\").alias(\"diagnosis_reference\"), \n",
    "    col(\"claim_item.productOrService.coding\").getItem(0).getField(\"code\").alias(\"item_code\"),\n",
    "    col(\"claim_item.productOrService.coding\").getItem(0).getField(\"display\").alias(\"item_description\"),\n",
    "    col(\"claim_item.category.coding\").getItem(0).getField(\"display\").alias(\"item_category\"),\n",
    "    col(\"claim_item.net.value\").alias(\"item_net_value\"),\n",
    "    col(\"claim_item.net.currency\").alias(\"item_net_currency\"),\n",
    "    col(\"claim_item.encounter\").getItem(0).getField(\"reference\").alias(\"encounter_reference\"),\n",
    "    col(\"claim_item.locationCodeableConcept.coding\").getItem(0).getField(\"display\").alias(\"location_description\"),\n",
    "    col(\"claim_item.servicedPeriod.start\").alias(\"service_period_start\"),\n",
    "    col(\"claim_item.servicedPeriod.end\").alias(\"service_period_end\"),\n",
    "    col(\"claim_item.adjudication\").alias(\"adjudication\")\n",
    ")\n",
    "\n",
    "claim_df.show(truncate=False)\n"
   ],
   "id": "42f601ef082c695f",
   "outputs": [
    {
     "name": "stdout",
     "output_type": "stream",
     "text": [
      "+------------------------------------+------+-------------+-----+---------------------------------------------+------------------+-------------------------+-------------------------+-------------------------+-------------------------------------------------------------------------------------------------------+--------+--------------------+---------------------------------------------+--------------------------+---------------+------------+--------+---------------------------------------------+---------+--------------------------------------------------+-------------+--------------+-----------------+---------------------------------------------+--------------------+--------------------+------------------+------------+\n",
      "|claim_id                            |status|type_code    |use  |patient_reference                            |patient_display   |created_date             |billable_period_start    |billable_period_end      |provider_reference                                                                                     |priority|supporting_info_code|supporting_info_value_reference              |insurance_coverage_display|insurance_focal|total_amount|currency|diagnosis_reference                          |item_code|item_description                                  |item_category|item_net_value|item_net_currency|encounter_reference                          |location_description|service_period_start|service_period_end|adjudication|\n",
      "+------------------------------------+------+-------------+-----+---------------------------------------------+------------------+-------------------------+-------------------------+-------------------------+-------------------------------------------------------------------------------------------------------+--------+--------------------+---------------------------------------------+--------------------------+---------------+------------+--------+---------------------------------------------+---------+--------------------------------------------------+-------------+--------------+-----------------+---------------------------------------------+--------------------+--------------------+------------------+------------+\n",
      "|c114b3e4-54c4-d728-3527-fbadf5179364|active|institutional|claim|urn:uuid:b4b67625-c44c-a832-7aba-3a2ae02a4ef1|Zita788 Hagenes547|2012-05-04T23:43:00-04:00|2012-05-04T23:28:00-04:00|2012-05-04T23:43:00-04:00|Organization?identifier=https://github.com/synthetichealth/synthea|9d568031-5a53-3647-945c-bc8786c3adcd|normal  |info                |urn:uuid:cecf5bc4-f05e-6375-62c5-cfc9b1e7eb74|NO_INSURANCE              |true           |125.0       |USD     |urn:uuid:3496908c-dc8d-f4b7-6f5f-8a4ee1d01eb6|162673000|General examination of patient (procedure)        |NULL         |NULL          |NULL             |urn:uuid:d711373a-7ae0-e9a7-27c7-8772c2256011|NULL                |NULL                |NULL              |NULL        |\n",
      "|c114b3e4-54c4-d728-3527-fbadf5179364|active|institutional|claim|urn:uuid:b4b67625-c44c-a832-7aba-3a2ae02a4ef1|Zita788 Hagenes547|2012-05-04T23:43:00-04:00|2012-05-04T23:28:00-04:00|2012-05-04T23:43:00-04:00|Organization?identifier=https://github.com/synthetichealth/synthea|9d568031-5a53-3647-945c-bc8786c3adcd|normal  |info                |urn:uuid:cecf5bc4-f05e-6375-62c5-cfc9b1e7eb74|NO_INSURANCE              |true           |125.0       |USD     |urn:uuid:7e506daa-9ef0-7a37-a02b-d6f2741be056|162673000|General examination of patient (procedure)        |NULL         |NULL          |NULL             |urn:uuid:d711373a-7ae0-e9a7-27c7-8772c2256011|NULL                |NULL                |NULL              |NULL        |\n",
      "|c114b3e4-54c4-d728-3527-fbadf5179364|active|institutional|claim|urn:uuid:b4b67625-c44c-a832-7aba-3a2ae02a4ef1|Zita788 Hagenes547|2012-05-04T23:43:00-04:00|2012-05-04T23:28:00-04:00|2012-05-04T23:43:00-04:00|Organization?identifier=https://github.com/synthetichealth/synthea|9d568031-5a53-3647-945c-bc8786c3adcd|normal  |info                |urn:uuid:cecf5bc4-f05e-6375-62c5-cfc9b1e7eb74|NO_INSURANCE              |true           |125.0       |USD     |urn:uuid:3496908c-dc8d-f4b7-6f5f-8a4ee1d01eb6|49436004 |Atrial Fibrillation                               |NULL         |NULL          |NULL             |NULL                                         |NULL                |NULL                |NULL              |NULL        |\n",
      "|c114b3e4-54c4-d728-3527-fbadf5179364|active|institutional|claim|urn:uuid:b4b67625-c44c-a832-7aba-3a2ae02a4ef1|Zita788 Hagenes547|2012-05-04T23:43:00-04:00|2012-05-04T23:28:00-04:00|2012-05-04T23:43:00-04:00|Organization?identifier=https://github.com/synthetichealth/synthea|9d568031-5a53-3647-945c-bc8786c3adcd|normal  |info                |urn:uuid:cecf5bc4-f05e-6375-62c5-cfc9b1e7eb74|NO_INSURANCE              |true           |125.0       |USD     |urn:uuid:7e506daa-9ef0-7a37-a02b-d6f2741be056|49436004 |Atrial Fibrillation                               |NULL         |NULL          |NULL             |NULL                                         |NULL                |NULL                |NULL              |NULL        |\n",
      "|c114b3e4-54c4-d728-3527-fbadf5179364|active|institutional|claim|urn:uuid:b4b67625-c44c-a832-7aba-3a2ae02a4ef1|Zita788 Hagenes547|2012-05-04T23:43:00-04:00|2012-05-04T23:28:00-04:00|2012-05-04T23:43:00-04:00|Organization?identifier=https://github.com/synthetichealth/synthea|9d568031-5a53-3647-945c-bc8786c3adcd|normal  |info                |urn:uuid:cecf5bc4-f05e-6375-62c5-cfc9b1e7eb74|NO_INSURANCE              |true           |125.0       |USD     |urn:uuid:3496908c-dc8d-f4b7-6f5f-8a4ee1d01eb6|18286008 |Catheter ablation of tissue of heart              |NULL         |7813.84       |USD              |NULL                                         |NULL                |NULL                |NULL              |NULL        |\n",
      "|c114b3e4-54c4-d728-3527-fbadf5179364|active|institutional|claim|urn:uuid:b4b67625-c44c-a832-7aba-3a2ae02a4ef1|Zita788 Hagenes547|2012-05-04T23:43:00-04:00|2012-05-04T23:28:00-04:00|2012-05-04T23:43:00-04:00|Organization?identifier=https://github.com/synthetichealth/synthea|9d568031-5a53-3647-945c-bc8786c3adcd|normal  |info                |urn:uuid:cecf5bc4-f05e-6375-62c5-cfc9b1e7eb74|NO_INSURANCE              |true           |125.0       |USD     |urn:uuid:7e506daa-9ef0-7a37-a02b-d6f2741be056|18286008 |Catheter ablation of tissue of heart              |NULL         |7813.84       |USD              |NULL                                         |NULL                |NULL                |NULL              |NULL        |\n",
      "|c114b3e4-54c4-d728-3527-fbadf5179364|active|institutional|claim|urn:uuid:b4b67625-c44c-a832-7aba-3a2ae02a4ef1|Zita788 Hagenes547|2012-05-04T23:43:00-04:00|2012-05-04T23:28:00-04:00|2012-05-04T23:43:00-04:00|Organization?identifier=https://github.com/synthetichealth/synthea|9d568031-5a53-3647-945c-bc8786c3adcd|normal  |info                |urn:uuid:cecf5bc4-f05e-6375-62c5-cfc9b1e7eb74|NO_INSURANCE              |true           |125.0       |USD     |urn:uuid:3496908c-dc8d-f4b7-6f5f-8a4ee1d01eb6|140      |Influenza, seasonal, injectable, preservative free|NULL         |136.0         |USD              |NULL                                         |NULL                |NULL                |NULL              |NULL        |\n",
      "|c114b3e4-54c4-d728-3527-fbadf5179364|active|institutional|claim|urn:uuid:b4b67625-c44c-a832-7aba-3a2ae02a4ef1|Zita788 Hagenes547|2012-05-04T23:43:00-04:00|2012-05-04T23:28:00-04:00|2012-05-04T23:43:00-04:00|Organization?identifier=https://github.com/synthetichealth/synthea|9d568031-5a53-3647-945c-bc8786c3adcd|normal  |info                |urn:uuid:cecf5bc4-f05e-6375-62c5-cfc9b1e7eb74|NO_INSURANCE              |true           |125.0       |USD     |urn:uuid:7e506daa-9ef0-7a37-a02b-d6f2741be056|140      |Influenza, seasonal, injectable, preservative free|NULL         |136.0         |USD              |NULL                                         |NULL                |NULL                |NULL              |NULL        |\n",
      "|c114b3e4-54c4-d728-3527-fbadf5179364|active|institutional|claim|urn:uuid:b4b67625-c44c-a832-7aba-3a2ae02a4ef1|Zita788 Hagenes547|2012-05-04T23:43:00-04:00|2012-05-04T23:28:00-04:00|2012-05-04T23:43:00-04:00|Organization?identifier=https://github.com/synthetichealth/synthea|9d568031-5a53-3647-945c-bc8786c3adcd|normal  |info                |urn:uuid:cecf5bc4-f05e-6375-62c5-cfc9b1e7eb74|NO_INSURANCE              |true           |125.0       |USD     |urn:uuid:3496908c-dc8d-f4b7-6f5f-8a4ee1d01eb6|430193006|Medication Reconciliation (procedure)             |NULL         |386.74        |USD              |NULL                                         |NULL                |NULL                |NULL              |NULL        |\n",
      "|c114b3e4-54c4-d728-3527-fbadf5179364|active|institutional|claim|urn:uuid:b4b67625-c44c-a832-7aba-3a2ae02a4ef1|Zita788 Hagenes547|2012-05-04T23:43:00-04:00|2012-05-04T23:28:00-04:00|2012-05-04T23:43:00-04:00|Organization?identifier=https://github.com/synthetichealth/synthea|9d568031-5a53-3647-945c-bc8786c3adcd|normal  |info                |urn:uuid:cecf5bc4-f05e-6375-62c5-cfc9b1e7eb74|NO_INSURANCE              |true           |125.0       |USD     |urn:uuid:7e506daa-9ef0-7a37-a02b-d6f2741be056|430193006|Medication Reconciliation (procedure)             |NULL         |386.74        |USD              |NULL                                         |NULL                |NULL                |NULL              |NULL        |\n",
      "|c114b3e4-54c4-d728-3527-fbadf5179364|active|institutional|claim|urn:uuid:b4b67625-c44c-a832-7aba-3a2ae02a4ef1|Zita788 Hagenes547|2012-05-04T23:43:00-04:00|2012-05-04T23:28:00-04:00|2012-05-04T23:43:00-04:00|Organization?identifier=https://github.com/synthetichealth/synthea|9d568031-5a53-3647-945c-bc8786c3adcd|normal  |info                |urn:uuid:cecf5bc4-f05e-6375-62c5-cfc9b1e7eb74|NO_INSURANCE              |true           |125.0       |USD     |urn:uuid:3496908c-dc8d-f4b7-6f5f-8a4ee1d01eb6|312681000|Bone density scan (procedure)                     |NULL         |9751.96       |USD              |NULL                                         |NULL                |NULL                |NULL              |NULL        |\n",
      "|c114b3e4-54c4-d728-3527-fbadf5179364|active|institutional|claim|urn:uuid:b4b67625-c44c-a832-7aba-3a2ae02a4ef1|Zita788 Hagenes547|2012-05-04T23:43:00-04:00|2012-05-04T23:28:00-04:00|2012-05-04T23:43:00-04:00|Organization?identifier=https://github.com/synthetichealth/synthea|9d568031-5a53-3647-945c-bc8786c3adcd|normal  |info                |urn:uuid:cecf5bc4-f05e-6375-62c5-cfc9b1e7eb74|NO_INSURANCE              |true           |125.0       |USD     |urn:uuid:7e506daa-9ef0-7a37-a02b-d6f2741be056|312681000|Bone density scan (procedure)                     |NULL         |9751.96       |USD              |NULL                                         |NULL                |NULL                |NULL              |NULL        |\n",
      "|c114b3e4-54c4-d728-3527-fbadf5179364|active|institutional|claim|urn:uuid:b4b67625-c44c-a832-7aba-3a2ae02a4ef1|Zita788 Hagenes547|2012-05-04T23:43:00-04:00|2012-05-04T23:28:00-04:00|2012-05-04T23:43:00-04:00|Organization?identifier=https://github.com/synthetichealth/synthea|9d568031-5a53-3647-945c-bc8786c3adcd|normal  |info                |urn:uuid:cecf5bc4-f05e-6375-62c5-cfc9b1e7eb74|NO_INSURANCE              |true           |125.0       |USD     |urn:uuid:3496908c-dc8d-f4b7-6f5f-8a4ee1d01eb6|64859006 |Osteoporosis (disorder)                           |NULL         |NULL          |NULL             |NULL                                         |NULL                |NULL                |NULL              |NULL        |\n",
      "|c114b3e4-54c4-d728-3527-fbadf5179364|active|institutional|claim|urn:uuid:b4b67625-c44c-a832-7aba-3a2ae02a4ef1|Zita788 Hagenes547|2012-05-04T23:43:00-04:00|2012-05-04T23:28:00-04:00|2012-05-04T23:43:00-04:00|Organization?identifier=https://github.com/synthetichealth/synthea|9d568031-5a53-3647-945c-bc8786c3adcd|normal  |info                |urn:uuid:cecf5bc4-f05e-6375-62c5-cfc9b1e7eb74|NO_INSURANCE              |true           |125.0       |USD     |urn:uuid:7e506daa-9ef0-7a37-a02b-d6f2741be056|64859006 |Osteoporosis (disorder)                           |NULL         |NULL          |NULL             |NULL                                         |NULL                |NULL                |NULL              |NULL        |\n",
      "|df5fc112-d330-169d-d3b0-da21fb78f7d1|active|institutional|claim|urn:uuid:fb47aa81-57a0-edc1-185d-891ad133034b|Zita788 Koepp521  |2018-02-10T07:32:26-05:00|2018-02-10T07:17:26-05:00|2018-02-10T07:32:26-05:00|Organization?identifier=https://github.com/synthetichealth/synthea|06961497-625a-3aaa-8733-9c546deab348|normal  |info                |urn:uuid:8996d66e-cb93-a228-4e53-f90a88a37f78|NO_INSURANCE              |true           |125.0       |USD     |urn:uuid:c6f0494a-4c10-fc2a-4663-1c4229b4ff9e|410620009|Well child visit (procedure)                      |NULL         |NULL          |NULL             |urn:uuid:38908ae4-7a20-734f-c967-4055dd878b89|NULL                |NULL                |NULL              |NULL        |\n",
      "|df5fc112-d330-169d-d3b0-da21fb78f7d1|active|institutional|claim|urn:uuid:fb47aa81-57a0-edc1-185d-891ad133034b|Zita788 Koepp521  |2018-02-10T07:32:26-05:00|2018-02-10T07:17:26-05:00|2018-02-10T07:32:26-05:00|Organization?identifier=https://github.com/synthetichealth/synthea|06961497-625a-3aaa-8733-9c546deab348|normal  |info                |urn:uuid:8996d66e-cb93-a228-4e53-f90a88a37f78|NO_INSURANCE              |true           |125.0       |USD     |urn:uuid:c6f0494a-4c10-fc2a-4663-1c4229b4ff9e|140      |Influenza, seasonal, injectable, preservative free|NULL         |136.0         |USD              |NULL                                         |NULL                |NULL                |NULL              |NULL        |\n",
      "|df5fc112-d330-169d-d3b0-da21fb78f7d1|active|institutional|claim|urn:uuid:fb47aa81-57a0-edc1-185d-891ad133034b|Zita788 Koepp521  |2018-02-10T07:32:26-05:00|2018-02-10T07:17:26-05:00|2018-02-10T07:32:26-05:00|Organization?identifier=https://github.com/synthetichealth/synthea|06961497-625a-3aaa-8733-9c546deab348|normal  |info                |urn:uuid:8996d66e-cb93-a228-4e53-f90a88a37f78|NO_INSURANCE              |true           |125.0       |USD     |urn:uuid:c6f0494a-4c10-fc2a-4663-1c4229b4ff9e|62       |HPV, quadrivalent                                 |NULL         |136.0         |USD              |NULL                                         |NULL                |NULL                |NULL              |NULL        |\n",
      "|df5fc112-d330-169d-d3b0-da21fb78f7d1|active|institutional|claim|urn:uuid:fb47aa81-57a0-edc1-185d-891ad133034b|Zita788 Koepp521  |2018-02-10T07:32:26-05:00|2018-02-10T07:17:26-05:00|2018-02-10T07:32:26-05:00|Organization?identifier=https://github.com/synthetichealth/synthea|06961497-625a-3aaa-8733-9c546deab348|normal  |info                |urn:uuid:8996d66e-cb93-a228-4e53-f90a88a37f78|NO_INSURANCE              |true           |125.0       |USD     |urn:uuid:c6f0494a-4c10-fc2a-4663-1c4229b4ff9e|162864005|Body mass index 30+ - obesity (finding)           |NULL         |NULL          |NULL             |NULL                                         |NULL                |NULL                |NULL              |NULL        |\n",
      "|df5fc112-d330-169d-d3b0-da21fb78f7d1|active|institutional|claim|urn:uuid:fb47aa81-57a0-edc1-185d-891ad133034b|Zita788 Koepp521  |2018-02-10T07:32:26-05:00|2018-02-10T07:17:26-05:00|2018-02-10T07:32:26-05:00|Organization?identifier=https://github.com/synthetichealth/synthea|06961497-625a-3aaa-8733-9c546deab348|normal  |info                |urn:uuid:e989279f-5d9e-4d4b-b04e-766ae49dc335|NO_INSURANCE              |true           |125.0       |USD     |urn:uuid:c6f0494a-4c10-fc2a-4663-1c4229b4ff9e|410620009|Well child visit (procedure)                      |NULL         |NULL          |NULL             |urn:uuid:38908ae4-7a20-734f-c967-4055dd878b89|NULL                |NULL                |NULL              |NULL        |\n",
      "|df5fc112-d330-169d-d3b0-da21fb78f7d1|active|institutional|claim|urn:uuid:fb47aa81-57a0-edc1-185d-891ad133034b|Zita788 Koepp521  |2018-02-10T07:32:26-05:00|2018-02-10T07:17:26-05:00|2018-02-10T07:32:26-05:00|Organization?identifier=https://github.com/synthetichealth/synthea|06961497-625a-3aaa-8733-9c546deab348|normal  |info                |urn:uuid:e989279f-5d9e-4d4b-b04e-766ae49dc335|NO_INSURANCE              |true           |125.0       |USD     |urn:uuid:c6f0494a-4c10-fc2a-4663-1c4229b4ff9e|140      |Influenza, seasonal, injectable, preservative free|NULL         |136.0         |USD              |NULL                                         |NULL                |NULL                |NULL              |NULL        |\n",
      "+------------------------------------+------+-------------+-----+---------------------------------------------+------------------+-------------------------+-------------------------+-------------------------+-------------------------------------------------------------------------------------------------------+--------+--------------------+---------------------------------------------+--------------------------+---------------+------------+--------+---------------------------------------------+---------+--------------------------------------------------+-------------+--------------+-----------------+---------------------------------------------+--------------------+--------------------+------------------+------------+\n",
      "only showing top 20 rows\n",
      "\n"
     ]
    }
   ],
   "execution_count": 31
  },
  {
   "metadata": {
    "ExecuteTime": {
     "end_time": "2024-11-29T21:26:55.043363Z",
     "start_time": "2024-11-29T21:26:55.035160Z"
    }
   },
   "cell_type": "code",
   "source": [
    "adjudication_df = claim_df.withColumn(\"adjudication\", explode(col(\"adjudication\")))\n",
    "\n",
    "#todo unable to read adjudication from the files\n",
    "#todo uploading claims without adjudication details for now\n"
   ],
   "id": "1869710109c8dd21",
   "outputs": [],
   "execution_count": 32
  },
  {
   "metadata": {
    "ExecuteTime": {
     "end_time": "2024-11-29T21:26:55.421898Z",
     "start_time": "2024-11-29T21:26:55.054786Z"
    }
   },
   "cell_type": "code",
   "source": [
    "# Save the DataFrame to Parquet\n",
    "claim_df.write.mode(\"overwrite\").parquet(\"claims\")\n",
    "\n",
    "print(\"Claims DataFrame has been successfully saved in the 'claims' folder.\")"
   ],
   "id": "f346e4a73d83df7e",
   "outputs": [
    {
     "name": "stdout",
     "output_type": "stream",
     "text": [
      "Claims DataFrame has been successfully saved in the 'claims' folder.\n"
     ]
    }
   ],
   "execution_count": 33
  },
  {
   "metadata": {},
   "cell_type": "markdown",
   "source": "### Explanation of benefit",
   "id": "e723393e6fb5aec5"
  },
  {
   "metadata": {
    "ExecuteTime": {
     "end_time": "2024-11-29T21:26:55.700232Z",
     "start_time": "2024-11-29T21:26:55.434116Z"
    }
   },
   "cell_type": "code",
   "source": [
    "# Filter for ExplanationOfBenefit resources\n",
    "eobs = entries.filter(col(\"entry.resource.resourceType\") == \"ExplanationOfBenefit\") \\\n",
    "              .select(col(\"entry.resource.*\"))\n",
    "\n",
    "eobs = (eobs.withColumn(\"type_parsed\", from_json(col(\"type\"), type_schema))\n",
    "        .withColumn(\"total_parsed\", from_json(col(\"total\"), total_schema))\n",
    "        .withColumn(\"contained\", explode(col(\"contained\")))\n",
    "        .withColumn(\"careTeam\", explode(col(\"careTeam\")))\n",
    "        .withColumn(\"insurance\", explode(col(\"insurance\")))\n",
    "        .withColumn(\"item\", explode(col(\"item\")))\n",
    "        )\n",
    "# Extract relevant fields from ExplanationOfBenefit\n",
    "eob_df = eobs.select(\n",
    "    col(\"id\").alias(\"eob_id\"),\n",
    "    col(\"identifier\").getItem(0).getField(\"value\").alias(\"identifier_claim_id\"),  \n",
    "    col(\"identifier\").getItem(1).getField(\"value\").alias(\"identifier_claim_group\"),  \n",
    "    col(\"status\").alias(\"status\"),\n",
    "    col(\"type_parsed.coding\").getItem(0).getField(\"code\").alias(\"code\"),\n",
    "    col(\"use\").alias(\"use\"),\n",
    "    col(\"patient.reference\").alias(\"patient_reference\"),\n",
    "    col(\"billablePeriod.start\").alias(\"billable_period_start\"),\n",
    "    col(\"billablePeriod.end\").alias(\"billable_period_end\"),\n",
    "    col(\"insurer.display\").alias(\"insurer_display\"),\n",
    "    col(\"provider.reference\").alias(\"provider_reference\"),\n",
    "    col(\"referral.reference\").alias(\"referral_reference\"),\n",
    "    col(\"claim.reference\").alias(\"claim_reference\"),\n",
    "    col(\"outcome\").alias(\"outcome\"),\n",
    "    col(\"careTeam.provider.reference\").alias(\"care_team_provider_reference\"),\n",
    "    col(\"careTeam.role.coding\").getItem(0).getField(\"display\").alias(\"care_team_role\"), \n",
    "    col(\"insurance.coverage.reference\").alias(\"insurance_coverage_reference\"),\n",
    "    col(\"insurance.coverage.display\").alias(\"insurance_coverage_display\"),\n",
    "    col(\"insurance.focal\").alias(\"insurance_focal\"),\n",
    "    col(\"item.category.coding\").getItem(0).getField(\"display\").alias(\"item_category_display\"),\n",
    "    col(\"item.productOrService.coding\").getItem(0).getField(\"code\").alias(\"item_service_code\"),\n",
    "    col(\"item.productOrService.coding\").getItem(0).getField(\"display\").alias(\"item_service_description\"),\n",
    "    col(\"item.net.value\").alias(\"item_net_value\"),\n",
    "    col(\"item.net.currency\").alias(\"item_net_currency\"),\n",
    "    col(\"item.locationCodeableConcept.coding\").getItem(0).getField(\"display\").alias(\"location_description\"),\n",
    "    col(\"item.servicedPeriod.start\").alias(\"service_period_start\"),\n",
    "    col(\"item.servicedPeriod.end\").alias(\"service_period_end\"),\n",
    "    col(\"item.adjudication\").alias(\"adjudication\"),\n",
    "    col(\"total_parsed.value\").alias(\"total_amount\"),\n",
    "    col(\"total_parsed.currency\").alias(\"total_currency\"),\n",
    "    col(\"payment.amount.value\").alias(\"payment_amount\"),\n",
    "    col(\"payment.amount.currency\").alias(\"payment_currency\"),\n",
    "    col(\"created\").alias(\"created_date\")  \n",
    ")\n",
    "\n",
    "# Show the resulting DataFrame\n",
    "eob_df.show(truncate=False)"
   ],
   "id": "f64476607474b243",
   "outputs": [
    {
     "name": "stdout",
     "output_type": "stream",
     "text": [
      "+------------------------------------+------------------------------------+----------------------+------+---------------+-----+---------------------------------------------+-------------------------+-------------------------+---------------+-----------------------------------------------------------------+------------------+---------------------------------------------+--------+-----------------------------------------------------------------+-------------------------+----------------------------+--------------------------+---------------+---------------------+-----------------+--------------------------------------------------+--------------+-----------------+------------------------------+-------------------------+-------------------------+------------------------------------------------------------------------------------------------------------------------------------------------------------------------------------------------------------------------------------------------------------------------------------------------------------------------------------------------------------------------------------------------------------------------------------------------------------------------------------------------------------------------------------------------------------------------------------------------------------------------------------------------------------------------------------------------------------------------------------------------------------------------------------------------------------------------------------------------------------------------------------------------------------------------------------------------------------------------------------------------------------------------------------------------------------------------------------------------------------------------------------------------------------------------+------------+--------------+------------------+----------------+-------------------------+\n",
      "|eob_id                              |identifier_claim_id                 |identifier_claim_group|status|code           |use  |patient_reference                            |billable_period_start    |billable_period_end      |insurer_display|provider_reference                                               |referral_reference|claim_reference                              |outcome |care_team_provider_reference                                     |care_team_role           |insurance_coverage_reference|insurance_coverage_display|insurance_focal|item_category_display|item_service_code|item_service_description                          |item_net_value|item_net_currency|location_description          |service_period_start     |service_period_end       |adjudication                                                                                                                                                                                                                                                                                                                                                                                                                                                                                                                                                                                                                                                                                                                                                                                                                                                                                                                                                                                                                                                                                                                                                            |total_amount|total_currency|payment_amount    |payment_currency|created_date             |\n",
      "+------------------------------------+------------------------------------+----------------------+------+---------------+-----+---------------------------------------------+-------------------------+-------------------------+---------------+-----------------------------------------------------------------+------------------+---------------------------------------------+--------+-----------------------------------------------------------------+-------------------------+----------------------------+--------------------------+---------------+---------------------+-----------------+--------------------------------------------------+--------------+-----------------+------------------------------+-------------------------+-------------------------+------------------------------------------------------------------------------------------------------------------------------------------------------------------------------------------------------------------------------------------------------------------------------------------------------------------------------------------------------------------------------------------------------------------------------------------------------------------------------------------------------------------------------------------------------------------------------------------------------------------------------------------------------------------------------------------------------------------------------------------------------------------------------------------------------------------------------------------------------------------------------------------------------------------------------------------------------------------------------------------------------------------------------------------------------------------------------------------------------------------------------------------------------------------------+------------+--------------+------------------+----------------+-------------------------+\n",
      "|009ea376-8aff-d92c-e5f0-3b6980a2fd29|ea1baf46-35ce-a1fa-c8ff-b244e831ca29|99999999999           |active|[institutional]|claim|urn:uuid:7ca297d1-94e0-8069-4cdb-50f313de9a5f|1956-09-06T22:59:33-04:00|1957-09-06T22:59:33-04:00|NO_INSURANCE   |Practitioner?identifier=http://hl7.org/fhir/sid/us-npi|9999999939|#referral         |urn:uuid:ea1baf46-35ce-a1fa-c8ff-b244e831ca29|complete|Practitioner?identifier=http://hl7.org/fhir/sid/us-npi|9999999939|Primary Care Practitioner|#coverage                   |NO_INSURANCE              |true           |Medical care         |185345009        |Encounter for symptom                             |NULL          |NULL             |Inpatient Hospital            |1956-09-06T22:44:33-04:00|1956-09-06T22:59:33-04:00|NULL                                                                                                                                                                                                                                                                                                                                                                                                                                                                                                                                                                                                                                                                                                                                                                                                                                                                                                                                                                                                                                                                                                                                                                    |NULL        |NULL          |0.0               |USD             |1956-09-06T22:59:33-04:00|\n",
      "|009ea376-8aff-d92c-e5f0-3b6980a2fd29|ea1baf46-35ce-a1fa-c8ff-b244e831ca29|99999999999           |active|[institutional]|claim|urn:uuid:7ca297d1-94e0-8069-4cdb-50f313de9a5f|1956-09-06T22:59:33-04:00|1957-09-06T22:59:33-04:00|NO_INSURANCE   |Practitioner?identifier=http://hl7.org/fhir/sid/us-npi|9999999939|#referral         |urn:uuid:ea1baf46-35ce-a1fa-c8ff-b244e831ca29|complete|Practitioner?identifier=http://hl7.org/fhir/sid/us-npi|9999999939|Primary Care Practitioner|#coverage                   |NO_INSURANCE              |true           |Medical care         |40055000         |Chronic sinusitis (disorder)                      |NULL          |NULL             |Inpatient Hospital            |1956-09-06T22:44:33-04:00|1956-09-06T22:59:33-04:00|NULL                                                                                                                                                                                                                                                                                                                                                                                                                                                                                                                                                                                                                                                                                                                                                                                                                                                                                                                                                                                                                                                                                                                                                                    |NULL        |NULL          |0.0               |USD             |1956-09-06T22:59:33-04:00|\n",
      "|009ea376-8aff-d92c-e5f0-3b6980a2fd29|ea1baf46-35ce-a1fa-c8ff-b244e831ca29|99999999999           |active|[institutional]|claim|urn:uuid:7ca297d1-94e0-8069-4cdb-50f313de9a5f|1956-09-06T22:59:33-04:00|1957-09-06T22:59:33-04:00|NO_INSURANCE   |Practitioner?identifier=http://hl7.org/fhir/sid/us-npi|9999999939|#referral         |urn:uuid:ea1baf46-35ce-a1fa-c8ff-b244e831ca29|complete|Practitioner?identifier=http://hl7.org/fhir/sid/us-npi|9999999939|Primary Care Practitioner|#coverage                   |NO_INSURANCE              |true           |Medical care         |185345009        |Encounter for symptom                             |NULL          |NULL             |Inpatient Hospital            |1956-09-06T22:44:33-04:00|1956-09-06T22:59:33-04:00|NULL                                                                                                                                                                                                                                                                                                                                                                                                                                                                                                                                                                                                                                                                                                                                                                                                                                                                                                                                                                                                                                                                                                                                                                    |NULL        |NULL          |0.0               |USD             |1956-09-06T22:59:33-04:00|\n",
      "|009ea376-8aff-d92c-e5f0-3b6980a2fd29|ea1baf46-35ce-a1fa-c8ff-b244e831ca29|99999999999           |active|[institutional]|claim|urn:uuid:7ca297d1-94e0-8069-4cdb-50f313de9a5f|1956-09-06T22:59:33-04:00|1957-09-06T22:59:33-04:00|NO_INSURANCE   |Practitioner?identifier=http://hl7.org/fhir/sid/us-npi|9999999939|#referral         |urn:uuid:ea1baf46-35ce-a1fa-c8ff-b244e831ca29|complete|Practitioner?identifier=http://hl7.org/fhir/sid/us-npi|9999999939|Primary Care Practitioner|#coverage                   |NO_INSURANCE              |true           |Medical care         |40055000         |Chronic sinusitis (disorder)                      |NULL          |NULL             |Inpatient Hospital            |1956-09-06T22:44:33-04:00|1956-09-06T22:59:33-04:00|NULL                                                                                                                                                                                                                                                                                                                                                                                                                                                                                                                                                                                                                                                                                                                                                                                                                                                                                                                                                                                                                                                                                                                                                                    |NULL        |NULL          |0.0               |USD             |1956-09-06T22:59:33-04:00|\n",
      "|f0ceb0aa-aac4-828c-9490-cc7d31c5f820|f6d072a1-66de-d03e-1616-99eeeceed280|99999999999           |active|[institutional]|claim|urn:uuid:7ca297d1-94e0-8069-4cdb-50f313de9a5f|1972-06-19T03:59:33-04:00|1973-06-19T03:59:33-04:00|NO_INSURANCE   |Practitioner?identifier=http://hl7.org/fhir/sid/us-npi|9999999359|#referral         |urn:uuid:f6d072a1-66de-d03e-1616-99eeeceed280|complete|Practitioner?identifier=http://hl7.org/fhir/sid/us-npi|9999999359|Primary Care Practitioner|#coverage                   |NO_INSURANCE              |true           |Medical care         |410620009        |Well child visit (procedure)                      |NULL          |NULL             |Off Campus-Outpatient Hospital|1972-06-19T03:44:33-04:00|1972-06-19T03:59:33-04:00|NULL                                                                                                                                                                                                                                                                                                                                                                                                                                                                                                                                                                                                                                                                                                                                                                                                                                                                                                                                                                                                                                                                                                                                                                    |NULL        |NULL          |0.0               |USD             |1972-06-19T03:59:33-04:00|\n",
      "|f0ceb0aa-aac4-828c-9490-cc7d31c5f820|f6d072a1-66de-d03e-1616-99eeeceed280|99999999999           |active|[institutional]|claim|urn:uuid:7ca297d1-94e0-8069-4cdb-50f313de9a5f|1972-06-19T03:59:33-04:00|1973-06-19T03:59:33-04:00|NO_INSURANCE   |Practitioner?identifier=http://hl7.org/fhir/sid/us-npi|9999999359|#referral         |urn:uuid:f6d072a1-66de-d03e-1616-99eeeceed280|complete|Practitioner?identifier=http://hl7.org/fhir/sid/us-npi|9999999359|Primary Care Practitioner|#coverage                   |NO_INSURANCE              |true           |Medical care         |162864005        |Body mass index 30+ - obesity (finding)           |NULL          |NULL             |Off Campus-Outpatient Hospital|1972-06-19T03:44:33-04:00|1972-06-19T03:59:33-04:00|NULL                                                                                                                                                                                                                                                                                                                                                                                                                                                                                                                                                                                                                                                                                                                                                                                                                                                                                                                                                                                                                                                                                                                                                                    |NULL        |NULL          |0.0               |USD             |1972-06-19T03:59:33-04:00|\n",
      "|f0ceb0aa-aac4-828c-9490-cc7d31c5f820|f6d072a1-66de-d03e-1616-99eeeceed280|99999999999           |active|[institutional]|claim|urn:uuid:7ca297d1-94e0-8069-4cdb-50f313de9a5f|1972-06-19T03:59:33-04:00|1973-06-19T03:59:33-04:00|NO_INSURANCE   |Practitioner?identifier=http://hl7.org/fhir/sid/us-npi|9999999359|#referral         |urn:uuid:f6d072a1-66de-d03e-1616-99eeeceed280|complete|Practitioner?identifier=http://hl7.org/fhir/sid/us-npi|9999999359|Primary Care Practitioner|#coverage                   |NO_INSURANCE              |true           |Medical care         |410620009        |Well child visit (procedure)                      |NULL          |NULL             |Off Campus-Outpatient Hospital|1972-06-19T03:44:33-04:00|1972-06-19T03:59:33-04:00|NULL                                                                                                                                                                                                                                                                                                                                                                                                                                                                                                                                                                                                                                                                                                                                                                                                                                                                                                                                                                                                                                                                                                                                                                    |NULL        |NULL          |0.0               |USD             |1972-06-19T03:59:33-04:00|\n",
      "|f0ceb0aa-aac4-828c-9490-cc7d31c5f820|f6d072a1-66de-d03e-1616-99eeeceed280|99999999999           |active|[institutional]|claim|urn:uuid:7ca297d1-94e0-8069-4cdb-50f313de9a5f|1972-06-19T03:59:33-04:00|1973-06-19T03:59:33-04:00|NO_INSURANCE   |Practitioner?identifier=http://hl7.org/fhir/sid/us-npi|9999999359|#referral         |urn:uuid:f6d072a1-66de-d03e-1616-99eeeceed280|complete|Practitioner?identifier=http://hl7.org/fhir/sid/us-npi|9999999359|Primary Care Practitioner|#coverage                   |NO_INSURANCE              |true           |Medical care         |162864005        |Body mass index 30+ - obesity (finding)           |NULL          |NULL             |Off Campus-Outpatient Hospital|1972-06-19T03:44:33-04:00|1972-06-19T03:59:33-04:00|NULL                                                                                                                                                                                                                                                                                                                                                                                                                                                                                                                                                                                                                                                                                                                                                                                                                                                                                                                                                                                                                                                                                                                                                                    |NULL        |NULL          |0.0               |USD             |1972-06-19T03:59:33-04:00|\n",
      "|c032bf48-1906-3a6f-d797-8dbe1d428648|3ae2c9f8-a972-1ada-4f22-a048e1337435|99999999999           |active|[institutional]|claim|urn:uuid:7ca297d1-94e0-8069-4cdb-50f313de9a5f|1988-10-10T03:59:33-04:00|1989-10-10T03:59:33-04:00|NO_INSURANCE   |Practitioner?identifier=http://hl7.org/fhir/sid/us-npi|9999999939|#referral         |urn:uuid:3ae2c9f8-a972-1ada-4f22-a048e1337435|complete|Practitioner?identifier=http://hl7.org/fhir/sid/us-npi|9999999939|Primary Care Practitioner|#coverage                   |NO_INSURANCE              |true           |Medical care         |424441002        |Prenatal initial visit                            |NULL          |NULL             |Inpatient Hospital            |1988-10-10T03:44:33-04:00|1988-10-10T03:59:33-04:00|NULL                                                                                                                                                                                                                                                                                                                                                                                                                                                                                                                                                                                                                                                                                                                                                                                                                                                                                                                                                                                                                                                                                                                                                                    |NULL        |NULL          |0.0               |USD             |1988-10-10T03:59:33-04:00|\n",
      "|c032bf48-1906-3a6f-d797-8dbe1d428648|3ae2c9f8-a972-1ada-4f22-a048e1337435|99999999999           |active|[institutional]|claim|urn:uuid:7ca297d1-94e0-8069-4cdb-50f313de9a5f|1988-10-10T03:59:33-04:00|1989-10-10T03:59:33-04:00|NO_INSURANCE   |Practitioner?identifier=http://hl7.org/fhir/sid/us-npi|9999999939|#referral         |urn:uuid:3ae2c9f8-a972-1ada-4f22-a048e1337435|complete|Practitioner?identifier=http://hl7.org/fhir/sid/us-npi|9999999939|Primary Care Practitioner|#coverage                   |NO_INSURANCE              |true           |Medical care         |19169002         |Miscarriage in first trimester                    |NULL          |NULL             |Inpatient Hospital            |1988-10-10T03:44:33-04:00|1988-10-10T03:59:33-04:00|NULL                                                                                                                                                                                                                                                                                                                                                                                                                                                                                                                                                                                                                                                                                                                                                                                                                                                                                                                                                                                                                                                                                                                                                                    |NULL        |NULL          |0.0               |USD             |1988-10-10T03:59:33-04:00|\n",
      "|c032bf48-1906-3a6f-d797-8dbe1d428648|3ae2c9f8-a972-1ada-4f22-a048e1337435|99999999999           |active|[institutional]|claim|urn:uuid:7ca297d1-94e0-8069-4cdb-50f313de9a5f|1988-10-10T03:59:33-04:00|1989-10-10T03:59:33-04:00|NO_INSURANCE   |Practitioner?identifier=http://hl7.org/fhir/sid/us-npi|9999999939|#referral         |urn:uuid:3ae2c9f8-a972-1ada-4f22-a048e1337435|complete|Practitioner?identifier=http://hl7.org/fhir/sid/us-npi|9999999939|Primary Care Practitioner|#coverage                   |NO_INSURANCE              |true           |Medical care         |424441002        |Prenatal initial visit                            |NULL          |NULL             |Inpatient Hospital            |1988-10-10T03:44:33-04:00|1988-10-10T03:59:33-04:00|NULL                                                                                                                                                                                                                                                                                                                                                                                                                                                                                                                                                                                                                                                                                                                                                                                                                                                                                                                                                                                                                                                                                                                                                                    |NULL        |NULL          |0.0               |USD             |1988-10-10T03:59:33-04:00|\n",
      "|c032bf48-1906-3a6f-d797-8dbe1d428648|3ae2c9f8-a972-1ada-4f22-a048e1337435|99999999999           |active|[institutional]|claim|urn:uuid:7ca297d1-94e0-8069-4cdb-50f313de9a5f|1988-10-10T03:59:33-04:00|1989-10-10T03:59:33-04:00|NO_INSURANCE   |Practitioner?identifier=http://hl7.org/fhir/sid/us-npi|9999999939|#referral         |urn:uuid:3ae2c9f8-a972-1ada-4f22-a048e1337435|complete|Practitioner?identifier=http://hl7.org/fhir/sid/us-npi|9999999939|Primary Care Practitioner|#coverage                   |NO_INSURANCE              |true           |Medical care         |19169002         |Miscarriage in first trimester                    |NULL          |NULL             |Inpatient Hospital            |1988-10-10T03:44:33-04:00|1988-10-10T03:59:33-04:00|NULL                                                                                                                                                                                                                                                                                                                                                                                                                                                                                                                                                                                                                                                                                                                                                                                                                                                                                                                                                                                                                                                                                                                                                                    |NULL        |NULL          |0.0               |USD             |1988-10-10T03:59:33-04:00|\n",
      "|b1bf7dda-9971-8c9c-ae81-e249fb8c5742|22f98c04-7811-f7e6-716e-f76a70b0a79a|99999999999           |active|[institutional]|claim|urn:uuid:7ca297d1-94e0-8069-4cdb-50f313de9a5f|2002-08-22T04:24:22-04:00|2003-08-22T04:24:22-04:00|NO_INSURANCE   |Practitioner?identifier=http://hl7.org/fhir/sid/us-npi|9999999939|#referral         |urn:uuid:22f98c04-7811-f7e6-716e-f76a70b0a79a|complete|Practitioner?identifier=http://hl7.org/fhir/sid/us-npi|9999999939|Primary Care Practitioner|#coverage                   |NO_INSURANCE              |true           |Medical care         |698314001        |Consultation for treatment                        |NULL          |NULL             |Inpatient Hospital            |2002-08-22T03:44:33-04:00|2002-08-22T04:24:22-04:00|NULL                                                                                                                                                                                                                                                                                                                                                                                                                                                                                                                                                                                                                                                                                                                                                                                                                                                                                                                                                                                                                                                                                                                                                                    |NULL        |NULL          |0.0               |USD             |2002-08-22T04:24:22-04:00|\n",
      "|b1bf7dda-9971-8c9c-ae81-e249fb8c5742|22f98c04-7811-f7e6-716e-f76a70b0a79a|99999999999           |active|[institutional]|claim|urn:uuid:7ca297d1-94e0-8069-4cdb-50f313de9a5f|2002-08-22T04:24:22-04:00|2003-08-22T04:24:22-04:00|NO_INSURANCE   |Practitioner?identifier=http://hl7.org/fhir/sid/us-npi|9999999939|#referral         |urn:uuid:22f98c04-7811-f7e6-716e-f76a70b0a79a|complete|Practitioner?identifier=http://hl7.org/fhir/sid/us-npi|9999999939|Primary Care Practitioner|#coverage                   |NO_INSURANCE              |true           |Medical care         |698314001        |Consultation for treatment                        |NULL          |NULL             |Inpatient Hospital            |2002-08-22T03:44:33-04:00|2002-08-22T04:24:22-04:00|NULL                                                                                                                                                                                                                                                                                                                                                                                                                                                                                                                                                                                                                                                                                                                                                                                                                                                                                                                                                                                                                                                                                                                                                                    |NULL        |NULL          |0.0               |USD             |2002-08-22T04:24:22-04:00|\n",
      "|7429cb49-3873-7c94-58fb-5caf1b126125|d03e2203-cbd3-f268-8faa-51d79894b118|99999999999           |active|[institutional]|claim|urn:uuid:7ca297d1-94e0-8069-4cdb-50f313de9a5f|2004-03-25T20:59:33-05:00|2005-03-25T20:59:33-05:00|NO_INSURANCE   |Practitioner?identifier=http://hl7.org/fhir/sid/us-npi|9999999939|#referral         |urn:uuid:d03e2203-cbd3-f268-8faa-51d79894b118|complete|Practitioner?identifier=http://hl7.org/fhir/sid/us-npi|9999999939|Primary Care Practitioner|#coverage                   |NO_INSURANCE              |true           |Medical care         |185345009        |Encounter for symptom                             |NULL          |NULL             |Inpatient Hospital            |2004-03-25T20:44:33-05:00|2004-03-25T20:59:33-05:00|NULL                                                                                                                                                                                                                                                                                                                                                                                                                                                                                                                                                                                                                                                                                                                                                                                                                                                                                                                                                                                                                                                                                                                                                                    |NULL        |NULL          |0.0               |USD             |2004-03-25T20:59:33-05:00|\n",
      "|7429cb49-3873-7c94-58fb-5caf1b126125|d03e2203-cbd3-f268-8faa-51d79894b118|99999999999           |active|[institutional]|claim|urn:uuid:7ca297d1-94e0-8069-4cdb-50f313de9a5f|2004-03-25T20:59:33-05:00|2005-03-25T20:59:33-05:00|NO_INSURANCE   |Practitioner?identifier=http://hl7.org/fhir/sid/us-npi|9999999939|#referral         |urn:uuid:d03e2203-cbd3-f268-8faa-51d79894b118|complete|Practitioner?identifier=http://hl7.org/fhir/sid/us-npi|9999999939|Primary Care Practitioner|#coverage                   |NO_INSURANCE              |true           |Medical care         |195662009        |Acute viral pharyngitis (disorder)                |NULL          |NULL             |Inpatient Hospital            |2004-03-25T20:44:33-05:00|2004-03-25T20:59:33-05:00|NULL                                                                                                                                                                                                                                                                                                                                                                                                                                                                                                                                                                                                                                                                                                                                                                                                                                                                                                                                                                                                                                                                                                                                                                    |NULL        |NULL          |0.0               |USD             |2004-03-25T20:59:33-05:00|\n",
      "|7429cb49-3873-7c94-58fb-5caf1b126125|d03e2203-cbd3-f268-8faa-51d79894b118|99999999999           |active|[institutional]|claim|urn:uuid:7ca297d1-94e0-8069-4cdb-50f313de9a5f|2004-03-25T20:59:33-05:00|2005-03-25T20:59:33-05:00|NO_INSURANCE   |Practitioner?identifier=http://hl7.org/fhir/sid/us-npi|9999999939|#referral         |urn:uuid:d03e2203-cbd3-f268-8faa-51d79894b118|complete|Practitioner?identifier=http://hl7.org/fhir/sid/us-npi|9999999939|Primary Care Practitioner|#coverage                   |NO_INSURANCE              |true           |Medical care         |185345009        |Encounter for symptom                             |NULL          |NULL             |Inpatient Hospital            |2004-03-25T20:44:33-05:00|2004-03-25T20:59:33-05:00|NULL                                                                                                                                                                                                                                                                                                                                                                                                                                                                                                                                                                                                                                                                                                                                                                                                                                                                                                                                                                                                                                                                                                                                                                    |NULL        |NULL          |0.0               |USD             |2004-03-25T20:59:33-05:00|\n",
      "|7429cb49-3873-7c94-58fb-5caf1b126125|d03e2203-cbd3-f268-8faa-51d79894b118|99999999999           |active|[institutional]|claim|urn:uuid:7ca297d1-94e0-8069-4cdb-50f313de9a5f|2004-03-25T20:59:33-05:00|2005-03-25T20:59:33-05:00|NO_INSURANCE   |Practitioner?identifier=http://hl7.org/fhir/sid/us-npi|9999999939|#referral         |urn:uuid:d03e2203-cbd3-f268-8faa-51d79894b118|complete|Practitioner?identifier=http://hl7.org/fhir/sid/us-npi|9999999939|Primary Care Practitioner|#coverage                   |NO_INSURANCE              |true           |Medical care         |195662009        |Acute viral pharyngitis (disorder)                |NULL          |NULL             |Inpatient Hospital            |2004-03-25T20:44:33-05:00|2004-03-25T20:59:33-05:00|NULL                                                                                                                                                                                                                                                                                                                                                                                                                                                                                                                                                                                                                                                                                                                                                                                                                                                                                                                                                                                                                                                                                                                                                                    |NULL        |NULL          |0.0               |USD             |2004-03-25T20:59:33-05:00|\n",
      "|03a8d3d0-079f-1ab2-eb4a-3961b3d71854|74fb5c46-cacf-a5a5-80ba-3554901cf692|99999999999           |active|[institutional]|claim|urn:uuid:7ca297d1-94e0-8069-4cdb-50f313de9a5f|2005-05-02T03:59:33-04:00|2006-05-02T03:59:33-04:00|NO_INSURANCE   |Practitioner?identifier=http://hl7.org/fhir/sid/us-npi|9999999359|#referral         |urn:uuid:74fb5c46-cacf-a5a5-80ba-3554901cf692|complete|Practitioner?identifier=http://hl7.org/fhir/sid/us-npi|9999999359|Primary Care Practitioner|#coverage                   |NO_INSURANCE              |true           |Medical care         |162673000        |General examination of patient (procedure)        |NULL          |NULL             |Off Campus-Outpatient Hospital|2005-05-02T03:44:33-04:00|2005-05-02T03:59:33-04:00|NULL                                                                                                                                                                                                                                                                                                                                                                                                                                                                                                                                                                                                                                                                                                                                                                                                                                                                                                                                                                                                                                                                                                                                                                    |NULL        |NULL          |108.80000000000001|USD             |2005-05-02T03:59:33-04:00|\n",
      "|03a8d3d0-079f-1ab2-eb4a-3961b3d71854|74fb5c46-cacf-a5a5-80ba-3554901cf692|99999999999           |active|[institutional]|claim|urn:uuid:7ca297d1-94e0-8069-4cdb-50f313de9a5f|2005-05-02T03:59:33-04:00|2006-05-02T03:59:33-04:00|NO_INSURANCE   |Practitioner?identifier=http://hl7.org/fhir/sid/us-npi|9999999359|#referral         |urn:uuid:74fb5c46-cacf-a5a5-80ba-3554901cf692|complete|Practitioner?identifier=http://hl7.org/fhir/sid/us-npi|9999999359|Primary Care Practitioner|#coverage                   |NO_INSURANCE              |true           |Medical care         |140              |Influenza, seasonal, injectable, preservative free|136.0         |USD              |Off Campus-Outpatient Hospital|2005-05-02T03:44:33-04:00|2005-05-02T03:59:33-04:00|[{{USD, 27.200000000000003}, {[{https://bluebutton.cms.gov/resources/variables/line_coinsrnc_amt, Line Beneficiary Coinsurance Amount, https://bluebutton.cms.gov/resources/codesystem/adjudication}]}}, {{USD, 108.80000000000001}, {[{https://bluebutton.cms.gov/resources/variables/line_prvdr_pmt_amt, Line Provider Payment Amount, https://bluebutton.cms.gov/resources/codesystem/adjudication}]}}, {{USD, 136.0}, {[{https://bluebutton.cms.gov/resources/variables/line_sbmtd_chrg_amt, Line Submitted Charge Amount, https://bluebutton.cms.gov/resources/codesystem/adjudication}]}}, {{USD, 136.0}, {[{https://bluebutton.cms.gov/resources/variables/line_alowd_chrg_amt, Line Allowed Charge Amount, https://bluebutton.cms.gov/resources/codesystem/adjudication}]}}, {{USD, 0.0}, {[{https://bluebutton.cms.gov/resources/variables/line_bene_ptb_ddctbl_amt, Line Beneficiary Part B Deductible Amount, https://bluebutton.cms.gov/resources/codesystem/adjudication}]}}, {NULL, {[{https://bluebutton.cms.gov/resources/variables/line_prcsg_ind_cd, Line Processing Indicator Code, https://bluebutton.cms.gov/resources/codesystem/adjudication}]}}]|NULL        |NULL          |108.80000000000001|USD             |2005-05-02T03:59:33-04:00|\n",
      "+------------------------------------+------------------------------------+----------------------+------+---------------+-----+---------------------------------------------+-------------------------+-------------------------+---------------+-----------------------------------------------------------------+------------------+---------------------------------------------+--------+-----------------------------------------------------------------+-------------------------+----------------------------+--------------------------+---------------+---------------------+-----------------+--------------------------------------------------+--------------+-----------------+------------------------------+-------------------------+-------------------------+------------------------------------------------------------------------------------------------------------------------------------------------------------------------------------------------------------------------------------------------------------------------------------------------------------------------------------------------------------------------------------------------------------------------------------------------------------------------------------------------------------------------------------------------------------------------------------------------------------------------------------------------------------------------------------------------------------------------------------------------------------------------------------------------------------------------------------------------------------------------------------------------------------------------------------------------------------------------------------------------------------------------------------------------------------------------------------------------------------------------------------------------------------------------+------------+--------------+------------------+----------------+-------------------------+\n",
      "only showing top 20 rows\n",
      "\n"
     ]
    }
   ],
   "execution_count": 34
  },
  {
   "metadata": {
    "ExecuteTime": {
     "end_time": "2024-11-29T21:26:55.720174Z",
     "start_time": "2024-11-29T21:26:55.718359Z"
    }
   },
   "cell_type": "code",
   "source": [
    "#todo explode adjudication \n",
    "\n"
   ],
   "id": "aedce1f2bde30337",
   "outputs": [],
   "execution_count": 35
  },
  {
   "metadata": {
    "ExecuteTime": {
     "end_time": "2024-11-29T21:26:56.439957Z",
     "start_time": "2024-11-29T21:26:55.797468Z"
    }
   },
   "cell_type": "code",
   "source": [
    "# Save the DataFrame to Parquet\n",
    "eob_df.write.mode(\"overwrite\").parquet(\"explanation_of_benefit\")\n",
    "\n",
    "print(\"Explanation of Benefit DataFrame has been successfully saved in the 'explanation_of_benefit' folder.\")"
   ],
   "id": "ea614d76c1b41f4c",
   "outputs": [
    {
     "name": "stdout",
     "output_type": "stream",
     "text": [
      "Explanation of Benefit DataFrame has been successfully saved in the 'explanation_of_benefit' folder.\n"
     ]
    },
    {
     "name": "stderr",
     "output_type": "stream",
     "text": [
      "24/11/29 13:26:56 WARN MemoryManager: Total allocation exceeds 95.00% (1,020,054,720 bytes) of heap memory\n",
      "Scaling row group sizes to 95.00% for 8 writers\n"
     ]
    }
   ],
   "execution_count": 36
  },
  {
   "metadata": {},
   "cell_type": "markdown",
   "source": "### care plan ",
   "id": "4b0c63afffd60707"
  },
  {
   "metadata": {
    "ExecuteTime": {
     "end_time": "2024-11-29T21:26:56.750940Z",
     "start_time": "2024-11-29T21:26:56.563787Z"
    }
   },
   "cell_type": "code",
   "source": [
    "# Filter for CarePlan resources\n",
    "careplans = entries.filter(col(\"entry.resource.resourceType\") == \"CarePlan\") \\\n",
    "                   .select(col(\"entry.resource.*\"))\n",
    "\n",
    "# Extract relevant fields from CarePlan\n",
    "careplan_df = careplans.select(\n",
    "    col(\"id\").alias(\"careplan_id\"),\n",
    "    col(\"status\").alias(\"status\"),\n",
    "    col(\"intent\").alias(\"intent\"),\n",
    "    # col(\"category\").getItem(0).getField(\"text\").alias(\"text\"),  #todo\n",
    "    col(\"subject.reference\").alias(\"patient_reference\"),\n",
    "    col(\"encounter.reference\").alias(\"encounter_reference\"),\n",
    "    col(\"period.start\").alias(\"period_start\"),\n",
    "    col(\"period.end\").alias(\"period_end\"),\n",
    "    col(\"created\").alias(\"created_date\"),\n",
    "    col(\"careTeam\").alias(\"care_team\"), #todo\n",
    "    col(\"activity\").alias(\"activities\"),    #todo\n",
    "    col(\"addresses.reference\").alias(\"addresses\")\n",
    ")\n",
    "\n",
    "# Show the resulting DataFrame\n",
    "careplan_df.show(truncate=False)"
   ],
   "id": "bf33c31e33f679a6",
   "outputs": [
    {
     "name": "stdout",
     "output_type": "stream",
     "text": [
      "+------------------------------------+---------+------+---------------------------------------------+---------------------------------------------+-------------------------+-------------------------+------------+-------------------------------------------------------------------+--------------------------------------------------------------------------------------------------------------------------------------------------------------------------------------------------------------------------------------------------------------------------------------------------------------------------------------------------------------------------------------------------------------------------------------------------------------------------------------------------------------------------------------------------------------------------------------------------------------------------------------------------------------------------------------+-----------------------------------------------+\n",
      "|careplan_id                         |status   |intent|patient_reference                            |encounter_reference                          |period_start             |period_end               |created_date|care_team                                                          |activities                                                                                                                                                                                                                                                                                                                                                                                                                                                                                                                                                                                                                                                                            |addresses                                      |\n",
      "+------------------------------------+---------+------+---------------------------------------------+---------------------------------------------+-------------------------+-------------------------+------------+-------------------------------------------------------------------+--------------------------------------------------------------------------------------------------------------------------------------------------------------------------------------------------------------------------------------------------------------------------------------------------------------------------------------------------------------------------------------------------------------------------------------------------------------------------------------------------------------------------------------------------------------------------------------------------------------------------------------------------------------------------------------+-----------------------------------------------+\n",
      "|351b1eae-3e1c-fa97-717a-ab614d84a2bc|active   |order |urn:uuid:7ca297d1-94e0-8069-4cdb-50f313de9a5f|urn:uuid:f2e9b264-652b-2e37-5d7b-ead701bfe233|2006-02-04T03:07:43-05:00|NULL                     |NULL        |[{NULL, urn:uuid:a2cd2181-4dc2-7815-a0ad-945edfa66a9e, NULL, NULL}]|[{{{[{183063000, low salt diet education, http://snomed.info/sct}], low salt diet education}, {Dr. g.b. Cross Memorial Hospital}, in-progress}}, {{{[{183301007, physical exercise, http://snomed.info/sct}], physical exercise}, {Dr. g.b. Cross Memorial Hospital}, in-progress}}]                                                                                                                                                                                                                                                                                                                                                                                                  |[urn:uuid:78172f1f-b075-68bb-1863-a1602c1c7fc2]|\n",
      "|c8710294-e6b9-098e-0d84-8fef4d47181e|completed|order |urn:uuid:7ca297d1-94e0-8069-4cdb-50f313de9a5f|urn:uuid:583133c2-99d2-caae-ed78-b11999c129da|2009-01-19T03:07:43-05:00|2009-01-20T03:55:16-05:00|NULL        |[{NULL, urn:uuid:ee20c56d-d24d-05be-4bf8-7db7e6708614, NULL, NULL}]|[{{{[{385715006, Cardiac care (regime/therapy), http://snomed.info/sct}], Cardiac care (regime/therapy)}, {Dr. g.b. Cross Memorial Hospital}, completed}}, {{{[{386619000, Low sodium diet (finding), http://snomed.info/sct}], Low sodium diet (finding)}, {Dr. g.b. Cross Memorial Hospital}, completed}}]                                                                                                                                                                                                                                                                                                                                                                          |[urn:uuid:78172f1f-b075-68bb-1863-a1602c1c7fc2]|\n",
      "|e7aa7521-4af0-65fd-af3d-13c134e8716e|completed|order |urn:uuid:7ca297d1-94e0-8069-4cdb-50f313de9a5f|urn:uuid:cfd0e7b0-bc15-5a1c-a7ac-4a8c7c1a91d3|2009-07-18T04:08:55-04:00|2009-08-08T04:08:55-04:00|NULL        |[{NULL, urn:uuid:f5d0e7da-3a5c-378a-c1a5-1f1fb76440e1, NULL, NULL}]|[{{{[{229586001, Rest, ice, compression and elevation treatment programme, http://snomed.info/sct}], Rest, ice, compression and elevation treatment programme}, {Dr. g.b. Cross Memorial Hospital}, completed}}, {{{[{229070002, Stretching exercises, http://snomed.info/sct}], Stretching exercises}, {Dr. g.b. Cross Memorial Hospital}, completed}}]                                                                                                                                                                                                                                                                                                                              |[urn:uuid:801f9a58-bfe5-8125-6541-76ec2e1a2d07]|\n",
      "|d447041f-439a-66be-ab98-584952e4d952|completed|order |urn:uuid:7ca297d1-94e0-8069-4cdb-50f313de9a5f|urn:uuid:00336118-a170-38de-1a6d-eb3dec651c9e|2009-10-12T08:04:31-04:00|2009-10-20T08:04:31-04:00|NULL        |[{NULL, urn:uuid:5256b461-8cde-b8d6-6931-f22244389cdb, NULL, NULL}]|[{{{[{304510005, Recommendation to avoid exercise, http://snomed.info/sct}], Recommendation to avoid exercise}, {Dr. g.b. Cross Memorial Hospital}, completed}}, {{{[{371605008, Deep breathing and coughing exercises, http://snomed.info/sct}], Deep breathing and coughing exercises}, {Dr. g.b. Cross Memorial Hospital}, completed}}]                                                                                                                                                                                                                                                                                                                                            |[urn:uuid:89ec043c-8260-8c33-e2d5-b246679179a7]|\n",
      "|a1152dc0-dee6-a3f2-b679-510b10351f03|completed|order |urn:uuid:7ca297d1-94e0-8069-4cdb-50f313de9a5f|urn:uuid:98e03bab-9a5b-fd11-814f-623d22a04871|2010-01-16T03:55:16-05:00|2010-01-17T04:56:19-05:00|NULL        |[{NULL, urn:uuid:afdd3f0c-0ffe-8cd2-4dd9-764904caefa6, NULL, NULL}]|[{{{[{385715006, Cardiac care (regime/therapy), http://snomed.info/sct}], Cardiac care (regime/therapy)}, {Dr. g.b. Cross Memorial Hospital}, completed}}, {{{[{386619000, Low sodium diet (finding), http://snomed.info/sct}], Low sodium diet (finding)}, {Dr. g.b. Cross Memorial Hospital}, completed}}]                                                                                                                                                                                                                                                                                                                                                                          |[urn:uuid:78172f1f-b075-68bb-1863-a1602c1c7fc2]|\n",
      "|5b16a7cd-e889-3746-973e-bee24491f4a5|completed|order |urn:uuid:7ca297d1-94e0-8069-4cdb-50f313de9a5f|urn:uuid:f2905642-80e7-61b0-ff10-87034008f022|2010-06-26T04:08:55-04:00|2010-08-27T04:08:55-04:00|NULL        |[{NULL, urn:uuid:b30144ce-2473-1bdf-e14b-7556676daa85, NULL, NULL}]|[{{{[{183051005, Recommendation to rest, http://snomed.info/sct}], Recommendation to rest}, {Dr. g.b. Cross Memorial Hospital}, completed}}, {{{[{226138001, Alcohol-free diet, http://snomed.info/sct}], Alcohol-free diet}, {Dr. g.b. Cross Memorial Hospital}, completed}}]                                                                                                                                                                                                                                                                                                                                                                                                        |[urn:uuid:de8ee0a1-dbb6-2e43-a3c2-b108c3446a5c]|\n",
      "|a9d90709-e43e-0e5f-92a7-a6c6c799bba7|completed|order |urn:uuid:7ca297d1-94e0-8069-4cdb-50f313de9a5f|urn:uuid:cde2af48-e4cb-3992-aae5-f88e79071420|2011-09-19T05:56:19-04:00|2011-09-20T06:48:15-04:00|NULL        |[{NULL, urn:uuid:a9f3247c-ca17-10ed-3c4a-4095c2a9f2fc, NULL, NULL}]|[{{{[{385715006, Cardiac care (regime/therapy), http://snomed.info/sct}], Cardiac care (regime/therapy)}, {Dr. g.b. Cross Memorial Hospital}, completed}}, {{{[{386619000, Low sodium diet (finding), http://snomed.info/sct}], Low sodium diet (finding)}, {Dr. g.b. Cross Memorial Hospital}, completed}}]                                                                                                                                                                                                                                                                                                                                                                          |[urn:uuid:78172f1f-b075-68bb-1863-a1602c1c7fc2]|\n",
      "|10b777e0-6fe3-96c7-430e-62bbcf1a5a9f|active   |order |urn:uuid:7ca297d1-94e0-8069-4cdb-50f313de9a5f|urn:uuid:54fdb2f4-3e48-26d2-1a66-f5bc7e692f18|2013-07-05T06:48:15-04:00|NULL                     |NULL        |[{NULL, urn:uuid:35b83061-ccd7-3769-d1e4-c0cb1a5c30f5, NULL, NULL}]|[{{{[{385715006, Cardiac care (regime/therapy), http://snomed.info/sct}], Cardiac care (regime/therapy)}, {Dr. g.b. Cross Memorial Hospital}, in-progress}}, {{{[{386619000, Low sodium diet (finding), http://snomed.info/sct}], Low sodium diet (finding)}, {Dr. g.b. Cross Memorial Hospital}, in-progress}}]                                                                                                                                                                                                                                                                                                                                                                      |[urn:uuid:78172f1f-b075-68bb-1863-a1602c1c7fc2]|\n",
      "|de3a7507-e533-21ec-2490-2260c4a368af|completed|order |urn:uuid:c8af2e36-e7d2-fc26-de8c-8936c9e4705e|urn:uuid:c841db73-939a-6870-8fb6-6c2de2c0560d|2011-06-01T23:19:25-04:00|2011-07-24T23:19:25-04:00|NULL        |[{NULL, urn:uuid:30215393-7cd3-5191-0488-9a81251c7f01, NULL, NULL}]|[{{{[{183051005, Recommendation to rest, http://snomed.info/sct}], Recommendation to rest}, {Queen Elizabeth Hospital}, completed}}, {{{[{408580007, Physical activity target light exercise, http://snomed.info/sct}], Physical activity target light exercise}, {Queen Elizabeth Hospital}, completed}}]                                                                                                                                                                                                                                                                                                                                                                            |[urn:uuid:9effaafb-b7cb-33e5-7ab7-5c51c8f57fb0]|\n",
      "|819d8d40-7fe2-e2f2-09fd-b9d4360b4111|completed|order |urn:uuid:c8af2e36-e7d2-fc26-de8c-8936c9e4705e|urn:uuid:10bb7c70-2726-6bcb-3c12-52b4a15f360f|2014-02-03T19:48:18-05:00|2014-02-28T02:00:31-05:00|NULL        |[{NULL, urn:uuid:9202bcec-2ced-4342-a84e-57158c62b1de, NULL, NULL}]|[{{{[{91251008, Physical therapy procedure (regime/therapy), http://snomed.info/sct}], Physical therapy procedure (regime/therapy)}, {Queen Elizabeth Hospital}, completed}}, {{{[{228557008, Cognitive and behavior therapy, http://snomed.info/sct}], Cognitive and behavior therapy}, {Queen Elizabeth Hospital}, completed}}]                                                                                                                                                                                                                                                                                                                                                     |NULL                                           |\n",
      "|bbef634d-938b-92e0-7353-8dfd4692c20c|active   |order |urn:uuid:c8af2e36-e7d2-fc26-de8c-8936c9e4705e|urn:uuid:f98279b5-b0fb-274a-300c-7e8c1407f7e2|2014-03-30T03:00:31-04:00|NULL                     |NULL        |[{NULL, urn:uuid:26058e6c-6247-6ac3-4d85-63b725a8cde6, NULL, NULL}]|[{{{[{91251008, Physical therapy procedure (regime/therapy), http://snomed.info/sct}], Physical therapy procedure (regime/therapy)}, {Queen Elizabeth Hospital}, in-progress}}, {{{[{228557008, Cognitive and behavioral therapy (regime/therapy), http://snomed.info/sct}], Cognitive and behavioral therapy (regime/therapy)}, {Queen Elizabeth Hospital}, in-progress}}]                                                                                                                                                                                                                                                                                                           |NULL                                           |\n",
      "|4210855f-d3fe-49c4-787c-96749359acd1|active   |order |urn:uuid:c8af2e36-e7d2-fc26-de8c-8936c9e4705e|urn:uuid:82a97de4-2f30-e110-662a-0feb93f71d0c|2015-12-09T20:19:55-05:00|NULL                     |NULL        |[{NULL, urn:uuid:ef0964b6-1d4e-29cb-04ba-a83fccd42702, NULL, NULL}]|[{{{[{183063000, low salt diet education, http://snomed.info/sct}], low salt diet education}, {Queen Elizabeth Hospital}, in-progress}}, {{{[{183301007, physical exercise, http://snomed.info/sct}], physical exercise}, {Queen Elizabeth Hospital}, in-progress}}]                                                                                                                                                                                                                                                                                                                                                                                                                  |[urn:uuid:4cbc93d1-1879-32d3-66dc-4e9b45bf980f]|\n",
      "|6e94d2ec-32cf-c5c0-3ce3-490fe458b00f|completed|order |urn:uuid:c8af2e36-e7d2-fc26-de8c-8936c9e4705e|urn:uuid:ff5e7bb6-3c45-23fb-8427-7be49c62dab2|2019-05-22T21:19:55-04:00|2019-05-23T22:26:54-04:00|NULL        |[{NULL, urn:uuid:7aa90859-8fe0-414f-84dc-866bc4edbf30, NULL, NULL}]|[{{{[{385715006, Cardiac care (regime/therapy), http://snomed.info/sct}], Cardiac care (regime/therapy)}, {Queen Elizabeth Hospital}, completed}}, {{{[{386619000, Low sodium diet (finding), http://snomed.info/sct}], Low sodium diet (finding)}, {Queen Elizabeth Hospital}, completed}}]                                                                                                                                                                                                                                                                                                                                                                                          |[urn:uuid:4cbc93d1-1879-32d3-66dc-4e9b45bf980f]|\n",
      "|1067a473-b648-5baf-1c84-00ce72fe5474|completed|order |urn:uuid:c8af2e36-e7d2-fc26-de8c-8936c9e4705e|urn:uuid:63325d44-e05d-1766-4421-dfdbfb6d5ea4|2019-07-10T22:26:54-04:00|2019-07-11T23:05:44-04:00|NULL        |[{NULL, urn:uuid:67b1ffb7-c232-2bcf-05af-ce24cbc9a9e7, NULL, NULL}]|[{{{[{385715006, Cardiac care (regime/therapy), http://snomed.info/sct}], Cardiac care (regime/therapy)}, {Queen Elizabeth Hospital}, completed}}, {{{[{386619000, Low sodium diet (finding), http://snomed.info/sct}], Low sodium diet (finding)}, {Queen Elizabeth Hospital}, completed}}]                                                                                                                                                                                                                                                                                                                                                                                          |[urn:uuid:4cbc93d1-1879-32d3-66dc-4e9b45bf980f]|\n",
      "|0e06c923-5155-8e65-f537-603da75938ab|completed|order |urn:uuid:c8af2e36-e7d2-fc26-de8c-8936c9e4705e|urn:uuid:20c8d568-22a7-96b8-1755-5b8f59c948bc|2020-03-08T21:00:50-04:00|2020-03-22T19:56:18-04:00|NULL        |[{NULL, urn:uuid:f455873f-40b8-c492-3d78-8067d950c813, NULL, NULL}]|[{{{[{444908001, Isolation nursing in negative pressure isolation environment (regime/therapy), http://snomed.info/sct}], Isolation nursing in negative pressure isolation environment (regime/therapy)}, {Queen Elizabeth Hospital}, completed}}, {{{[{409524006, Airborne precautions (procedure), http://snomed.info/sct}], Airborne precautions (procedure)}, {Queen Elizabeth Hospital}, completed}}, {{{[{409526008, Personal protective equipment (physical object), http://snomed.info/sct}], Personal protective equipment (physical object)}, {Queen Elizabeth Hospital}, completed}}]                                                                                      |[urn:uuid:a9e9d1ca-8411-aeeb-9d3e-9477e7a59496]|\n",
      "|ee42f404-1665-e27e-9348-376ec87c5e42|active   |order |urn:uuid:0ff36c90-7124-3569-9591-75c6386f45f5|urn:uuid:fcd0d303-1525-2f3c-2cbd-7801da3a4785|1995-12-24T17:32:24-05:00|NULL                     |NULL        |[{NULL, urn:uuid:729bd9c9-60f3-1bc8-1f11-3bcb6997f6de, NULL, NULL}]|[{{{[{160670007, Diabetic diet, http://snomed.info/sct}], Diabetic diet}, {Fort Simpson Health Centre}, in-progress}}, {{{[{229065009, Exercise therapy, http://snomed.info/sct}], Exercise therapy}, {Fort Simpson Health Centre}, in-progress}}]                                                                                                                                                                                                                                                                                                                                                                                                                                    |[urn:uuid:ef9eaa9f-78ab-0e92-712e-23369f81e7c9]|\n",
      "|2aa96c5d-21d0-35a8-0be2-a0766c5bac12|active   |order |urn:uuid:0ff36c90-7124-3569-9591-75c6386f45f5|urn:uuid:1e5602df-b3fd-4a55-4e92-5273832e2c07|1998-12-27T17:32:24-05:00|NULL                     |NULL        |[{NULL, urn:uuid:581b875e-2da1-82cf-2176-c51c46d69822, NULL, NULL}]|[{{{[{386463000, Prescribed activity/exercise education, http://snomed.info/sct}], Prescribed activity/exercise education}, {Fort Simpson Health Centre}, in-progress}}, {{{[{413473000, Counseling about alcohol consumption, http://snomed.info/sct}], Counseling about alcohol consumption}, {Fort Simpson Health Centre}, in-progress}}, {{{[{1151000175103, Dietary approaches to stop hypertension diet, http://snomed.info/sct}], Dietary approaches to stop hypertension diet}, {Fort Simpson Health Centre}, in-progress}}, {{{[{225323000, Smoking cessation education, http://snomed.info/sct}], Smoking cessation education}, {Fort Simpson Health Centre}, in-progress}}]|[urn:uuid:35597686-df51-9578-e6b1-846c823b7bcb]|\n",
      "|b3578a73-0588-c263-dd6a-24cc529ebacb|active   |order |urn:uuid:0ff36c90-7124-3569-9591-75c6386f45f5|urn:uuid:91860114-a240-72f6-4fc0-0ff0600fb07b|2010-05-14T14:57:30-04:00|NULL                     |NULL        |[{NULL, urn:uuid:3bb6526e-1cd0-0979-2bdf-94c0c19386dd, NULL, NULL}]|[{{{[{58332002, Allergy education, http://snomed.info/sct}], Allergy education}, {Fort Simpson Health Centre}, in-progress}}]                                                                                                                                                                                                                                                                                                                                                                                                                                                                                                                                                         |NULL                                           |\n",
      "|dc57a441-1aa8-866d-592d-6bc04df71c83|completed|order |urn:uuid:0ff36c90-7124-3569-9591-75c6386f45f5|urn:uuid:1c53935e-bb8e-aa98-0c65-475189457a8e|2010-05-14T14:57:30-04:00|2014-05-21T05:11:54-04:00|NULL        |[{NULL, urn:uuid:e7c3859f-bb43-f72b-b264-f7382baab806, NULL, NULL}]|[{{{[{182678001, Hyposensitization to allergens (procedure), http://snomed.info/sct}], Hyposensitization to allergens (procedure)}, {Fort Simpson Health Centre}, completed}}]                                                                                                                                                                                                                                                                                                                                                                                                                                                                                                        |NULL                                           |\n",
      "|3b15e189-75dc-1e13-4af4-c5d9ab28086d|completed|order |urn:uuid:0ff36c90-7124-3569-9591-75c6386f45f5|urn:uuid:fb2c8368-38a0-1f55-a336-9d52ff8c16dd|2020-03-03T17:46:54-05:00|2020-03-03T19:12:20-05:00|NULL        |[{NULL, urn:uuid:e9fdf49e-fdb1-cb18-df8a-7c9e111ca815, NULL, NULL}]|[{{{[{409524006, Airborne precautions (procedure), http://snomed.info/sct}], Airborne precautions (procedure)}, {Fort Simpson Health Centre}, completed}}, {{{[{409526008, Personal protective equipment (physical object), http://snomed.info/sct}], Personal protective equipment (physical object)}, {Fort Simpson Health Centre}, completed}}]                                                                                                                                                                                                                                                                                                                                    |[urn:uuid:7b26a165-e545-5013-c452-6270c35d28df]|\n",
      "+------------------------------------+---------+------+---------------------------------------------+---------------------------------------------+-------------------------+-------------------------+------------+-------------------------------------------------------------------+--------------------------------------------------------------------------------------------------------------------------------------------------------------------------------------------------------------------------------------------------------------------------------------------------------------------------------------------------------------------------------------------------------------------------------------------------------------------------------------------------------------------------------------------------------------------------------------------------------------------------------------------------------------------------------------+-----------------------------------------------+\n",
      "only showing top 20 rows\n",
      "\n"
     ]
    }
   ],
   "execution_count": 37
  },
  {
   "metadata": {
    "ExecuteTime": {
     "end_time": "2024-11-29T21:26:56.772592Z",
     "start_time": "2024-11-29T21:26:56.770361Z"
    }
   },
   "cell_type": "code",
   "source": "",
   "id": "f10b5df92075fada",
   "outputs": [],
   "execution_count": null
  }
 ],
 "metadata": {
  "kernelspec": {
   "display_name": "Python 3",
   "language": "python",
   "name": "python3"
  },
  "language_info": {
   "codemirror_mode": {
    "name": "ipython",
    "version": 2
   },
   "file_extension": ".py",
   "mimetype": "text/x-python",
   "name": "python",
   "nbconvert_exporter": "python",
   "pygments_lexer": "ipython2",
   "version": "2.7.6"
  }
 },
 "nbformat": 4,
 "nbformat_minor": 5
}
