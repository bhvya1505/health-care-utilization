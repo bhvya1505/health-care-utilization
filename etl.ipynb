{
 "cells": [
  {
   "cell_type": "code",
   "id": "initial_id",
   "metadata": {
    "collapsed": true,
    "ExecuteTime": {
     "end_time": "2024-11-26T23:58:58.964737Z",
     "start_time": "2024-11-26T23:58:58.959680Z"
    }
   },
   "source": [
    "from pyspark.sql import SparkSession\n",
    "from pyspark.sql.functions import col, explode, expr\n",
    "\n",
    "# Initialize Spark session\n",
    "spark = SparkSession.builder \\\n",
    "    .appName(\"FHIR Data Pipeline\") \\\n",
    "    .getOrCreate()\n"
   ],
   "outputs": [],
   "execution_count": 18
  },
  {
   "metadata": {
    "ExecuteTime": {
     "end_time": "2024-11-26T23:58:59.042345Z",
     "start_time": "2024-11-26T23:58:58.971065Z"
    }
   },
   "cell_type": "code",
   "source": [
    "\n",
    "# File path\n",
    "file_path = \"data/fhir/samples\"\n",
    "\n",
    "# Read the JSON file\n",
    "data = spark.read.json(file_path, multiLine=True)\n",
    "\n",
    "# Explode the entry array\n",
    "entries = data.select(explode(col(\"entry\")).alias(\"entry\"))\n"
   ],
   "id": "6b638a009f7fb92b",
   "outputs": [],
   "execution_count": 19
  },
  {
   "metadata": {},
   "cell_type": "markdown",
   "source": "### Patients",
   "id": "a3c0e6f019112637"
  },
  {
   "metadata": {
    "ExecuteTime": {
     "end_time": "2024-11-26T23:58:59.219617Z",
     "start_time": "2024-11-26T23:58:59.053979Z"
    }
   },
   "cell_type": "code",
   "source": [
    "\n",
    "# Filter patient resources\n",
    "patients = entries.filter(col(\"entry.resource.resourceType\") == \"Patient\") \\\n",
    "                  .select(col(\"entry.resource.*\"))\n",
    "\n",
    "# Extract the \"official\" name\n",
    "official_name = expr(\"\"\"\n",
    "    filter(name, x -> x.use = 'official')[0]\n",
    "\"\"\")\n",
    "\n",
    "# Extract geolocation fields\n",
    "geolocation = expr(\"\"\"\n",
    "    filter(address[0].extension, x -> x.url = 'http://hl7.org/fhir/StructureDefinition/geolocation')[0].extension\n",
    "\"\"\")\n",
    "\n",
    "# Extract all languages from communication as a list\n",
    "communication_languages = expr(\"\"\"\n",
    "    transform(communication, x -> x.language.text)\n",
    "\"\"\")\n",
    "\n",
    "# Extract identifier types\n",
    "identifier_types = expr(\"\"\"\n",
    "    transform(identifier, x -> x.type.coding[0].display)\n",
    "\"\"\")\n",
    "\n",
    "# Create the enhanced patient DataFrame\n",
    "patient_df = patients.select(\n",
    "    col(\"id\").alias(\"patient_id\"),\n",
    "    identifier_types.alias(\"identifier_types\"),\n",
    "    official_name.getField(\"family\").alias(\"last_name\"),\n",
    "    official_name.getField(\"given\").getItem(0).alias(\"first_name\"),\n",
    "    col(\"gender\").alias(\"gender\"),\n",
    "    col(\"birthDate\").alias(\"birth_date\"),\n",
    "    col(\"address\").getItem(0).getField(\"city\").alias(\"city\"),\n",
    "    col(\"address\").getItem(0).getField(\"state\").alias(\"state\"),\n",
    "    col(\"address\").getItem(0).getField(\"country\").alias(\"country\"),\n",
    "    col(\"address\").getItem(0).getField(\"postalCode\").alias(\"postal_code\"),\n",
    "    geolocation.getItem(0).getField(\"valueDecimal\").alias(\"latitude\"),\n",
    "    geolocation.getItem(1).getField(\"valueDecimal\").alias(\"longitude\"),\n",
    "    col(\"telecom\").getItem(0).getField(\"value\").alias(\"phone\"),\n",
    "    col(\"maritalStatus.text\").alias(\"marital_status\"),\n",
    "    col(\"extension\").getItem(0).getField(\"valueString\").alias(\"mothers_maiden_name\"),\n",
    "    col(\"extension\").getItem(1).getField(\"valueAddress\").getField(\"city\").alias(\"birthplace_city\"),\n",
    "    col(\"extension\").getItem(1).getField(\"valueAddress\").getField(\"state\").alias(\"birthplace_state\"),\n",
    "    col(\"extension\").getItem(1).getField(\"valueAddress\").getField(\"country\").alias(\"birthplace_country\"),\n",
    "    col(\"extension\").getItem(2).getField(\"valueDecimal\").alias(\"disability_adjusted_life_years\"),\n",
    "    col(\"extension\").getItem(3).getField(\"valueDecimal\").alias(\"quality_adjusted_life_years\"),\n",
    "    col(\"multipleBirthBoolean\").alias(\"multiple_birth\"),\n",
    "    communication_languages.alias(\"languages\")\n",
    ")\n",
    "\n",
    "# Show the resulting DataFrame\n",
    "patient_df.show(truncate=False)\n"
   ],
   "id": "10b83f7c66e3efed",
   "outputs": [
    {
     "name": "stdout",
     "output_type": "stream",
     "text": [
      "+------------------------------------+----------------------------------------------------------------------------------------+-------------+------------+------+----------+-------+------+-------+-----------+-----------------+------------------+------------+--------------+--------------------+---------------+----------------+------------------+------------------------------+---------------------------+--------------+---------+\n",
      "|patient_id                          |identifier_types                                                                        |last_name    |first_name  |gender|birth_date|city   |state |country|postal_code|latitude         |longitude         |phone       |marital_status|mothers_maiden_name |birthplace_city|birthplace_state|birthplace_country|disability_adjusted_life_years|quality_adjusted_life_years|multiple_birth|languages|\n",
      "+------------------------------------+----------------------------------------------------------------------------------------+-------------+------------+------+----------+-------+------+-------+-----------+-----------------+------------------+------------+--------------+--------------------+---------------+----------------+------------------+------------------------------+---------------------------+--------------+---------+\n",
      "|5bbda3f6-ee30-6a51-ebbd-19cd0a6b119d|[NULL, Medical Record Number, Social Security Number, Driver's License, Passport Number]|Morissette863|Zachariah133|male  |1967-05-28|Chambly|Quebec|CA     |J3L        |45.43568543727035|-73.33662889480526|555-889-7346|M             |Deonna907 Steuber698|Montréal       |Quebec          |CA                |1.1335464915548155            |51.86645350844518          |false         |[English]|\n",
      "+------------------------------------+----------------------------------------------------------------------------------------+-------------+------------+------+----------+-------+------+-------+-----------+-----------------+------------------+------------+--------------+--------------------+---------------+----------------+------------------+------------------------------+---------------------------+--------------+---------+\n",
      "\n"
     ]
    }
   ],
   "execution_count": 20
  },
  {
   "metadata": {
    "ExecuteTime": {
     "end_time": "2024-11-26T23:58:59.458506Z",
     "start_time": "2024-11-26T23:58:59.233755Z"
    }
   },
   "cell_type": "code",
   "source": [
    "# Save the DataFrame to Parquet format in the \"patients\" folder\n",
    "patient_df.write.mode(\"overwrite\").parquet(\"patients\")\n",
    "\n",
    "print(\"Patient DataFrame has been successfully saved in Parquet format in the 'patients' folder.\")"
   ],
   "id": "c6454c0f8a1f0bd9",
   "outputs": [
    {
     "name": "stdout",
     "output_type": "stream",
     "text": [
      "Patient DataFrame has been successfully saved in Parquet format in the 'patients' folder.\n"
     ]
    }
   ],
   "execution_count": 21
  },
  {
   "metadata": {},
   "cell_type": "markdown",
   "source": "### Encounters",
   "id": "d38ae6bbdd86b9dc"
  },
  {
   "metadata": {
    "ExecuteTime": {
     "end_time": "2024-11-27T00:33:21.564042Z",
     "start_time": "2024-11-27T00:33:21.351495Z"
    }
   },
   "cell_type": "code",
   "source": [
    "from pyspark.sql.functions import from_json\n",
    "from pyspark.sql.types import ArrayType, StructType, StructField, StringType\n",
    "\n",
    "# Define the schema for the 'type' field\n",
    "type_schema = ArrayType(\n",
    "    StructType([\n",
    "        StructField(\"coding\", ArrayType(\n",
    "            StructType([\n",
    "                StructField(\"system\", StringType(), True),\n",
    "                StructField(\"code\", StringType(), True),\n",
    "                StructField(\"display\", StringType(), True)\n",
    "            ])\n",
    "        ), True),\n",
    "        StructField(\"text\", StringType(), True)\n",
    "    ])\n",
    ")\n",
    "\n",
    "\n",
    "# Filter encounter resources\n",
    "encounters = entries.filter(col(\"entry.resource.resourceType\") == \"Encounter\") \\\n",
    "                    .select(col(\"entry.resource.*\"))\n",
    "\n",
    "# Parse the 'type' field from JSON string to structured format\n",
    "encounters = encounters.withColumn(\"type_parsed\", from_json(col(\"type\"), type_schema))\n",
    "\n",
    "# Explode the participant array to create one row per participant\n",
    "encounters_with_participants = encounters.select(\n",
    "    col(\"id\").alias(\"encounter_id\"),\n",
    "    col(\"status\").alias(\"status\"),\n",
    "    col(\"class.code\").alias(\"class_code\"),  #todo - find a better column name\n",
    "    col(\"type_parsed\").getItem(0).getField(\"text\").alias(\"type_text\"),  #todo - find a better column name\n",
    "    col(\"subject.reference\").alias(\"patient_reference\"),\n",
    "    col(\"period.start\").alias(\"start_time\"),\n",
    "    col(\"period.end\").alias(\"end_time\"),\n",
    "    col(\"serviceProvider.reference\").alias(\"service_provider_id\"),\n",
    "    col(\"serviceProvider.display\").alias(\"service_provider_display\"),\n",
    "    explode(col(\"participant\")).alias(\"participant\")\n",
    ")\n",
    "\n",
    "# Extract participant details\n",
    "encounter_with_participant_df = encounters_with_participants.select(\n",
    "    col(\"encounter_id\"),\n",
    "    col(\"status\"),\n",
    "    col(\"class_code\"),\n",
    "    col(\"type_text\"),\n",
    "    col(\"start_time\"),\n",
    "    col(\"end_time\"),\n",
    "    col(\"patient_reference\"),\n",
    "    col(\"service_provider_id\"),\n",
    "    col(\"service_provider_display\"),\n",
    "    col(\"participant.individual.display\").alias(\"participant_individual_display\"),\n",
    "    col(\"participant.individual.reference\").alias(\"participant_individual_reference\"),\n",
    "    # col(\"participant.member.display\").alias(\"participant_member_display\"),\n",
    "    # col(\"participant.member.reference\").alias(\"participant_member_reference\"),\n",
    "    col(\"participant.period.start\").alias(\"participant_period_start\"),\n",
    "    col(\"participant.period.end\").alias(\"participant_period_end\"),\n",
    "    col(\"participant.type\").getItem(0).getField(\"coding\").getItem(0).getField(\"code\").alias(\"participant_type_code\"),\n",
    "    col(\"participant.type\").getItem(0).getField(\"coding\").getItem(0).getField(\"display\").alias(\"participant_type_display\")\n",
    ")\n",
    "\n",
    "# Show the resulting DataFrame\n",
    "encounter_with_participant_df.show(truncate=False)\n"
   ],
   "id": "3810fb21f83a9d94",
   "outputs": [
    {
     "name": "stdout",
     "output_type": "stream",
     "text": [
      "+------------------------------------+--------+----------+------------------------------------------+-------------------------+-------------------------+---------------------------------------------+-------------------------------------------------------------------------------------------------------+-------------------------------------------------------------------+------------------------------+-----------------------------------------------------------------+-------------------------+-------------------------+---------------------+------------------------+\n",
      "|encounter_id                        |status  |class_code|type_text                                 |start_time               |end_time                 |patient_reference                            |service_provider_id                                                                                    |service_provider_display                                           |participant_individual_display|participant_individual_reference                                 |participant_period_start |participant_period_end   |participant_type_code|participant_type_display|\n",
      "+------------------------------------+--------+----------+------------------------------------------+-------------------------+-------------------------+---------------------------------------------+-------------------------------------------------------------------------------------------------------+-------------------------------------------------------------------+------------------------------+-----------------------------------------------------------------+-------------------------+-------------------------+---------------------+------------------------+\n",
      "|e829a6cd-b320-7410-8862-b5d8445ced29|finished|AMB       |Encounter for symptom                     |1974-11-27T13:02:17-05:00|1974-11-27T13:17:17-05:00|urn:uuid:5bbda3f6-ee30-6a51-ebbd-19cd0a6b119d|Organization?identifier=https://github.com/synthetichealth/synthea|5cb67491-4cf3-32e7-8e38-b25213d4debb|CLSC ET GROUPE DE MЙDECINE DE FAMILLE UNIVERSITAIRE DE SAINT-HUBERT|Dr. Oleta341 Ratke343         |Practitioner?identifier=http://hl7.org/fhir/sid/us-npi|9999998959|1974-11-27T13:02:17-05:00|1974-11-27T13:17:17-05:00|PPRF                 |primary performer       |\n",
      "|0117b286-44eb-9668-0e7e-2aae7e4f4e86|finished|AMB       |General examination of patient (procedure)|1985-07-21T04:02:17-04:00|1985-07-21T04:17:17-04:00|urn:uuid:5bbda3f6-ee30-6a51-ebbd-19cd0a6b119d|Organization?identifier=https://github.com/synthetichealth/synthea|0d50b32d-539e-3208-91c8-3634b6454a56|SERVICES DE JOUR DE CHAMBLY                                        |Dr. Dewayne363 Gleason633     |Practitioner?identifier=http://hl7.org/fhir/sid/us-npi|9999989359|1985-07-21T04:02:17-04:00|1985-07-21T04:17:17-04:00|PPRF                 |primary performer       |\n",
      "|ec4eddac-363b-b530-9f93-bb604b5ce3d2|finished|AMB       |General examination of patient (procedure)|1986-07-27T04:02:17-04:00|1986-07-27T04:17:17-04:00|urn:uuid:5bbda3f6-ee30-6a51-ebbd-19cd0a6b119d|Organization?identifier=https://github.com/synthetichealth/synthea|0d50b32d-539e-3208-91c8-3634b6454a56|SERVICES DE JOUR DE CHAMBLY                                        |Dr. Dewayne363 Gleason633     |Practitioner?identifier=http://hl7.org/fhir/sid/us-npi|9999989359|1986-07-27T04:02:17-04:00|1986-07-27T04:17:17-04:00|PPRF                 |primary performer       |\n",
      "|7555b184-8c0e-17da-8a0f-b13bafa79e77|finished|AMB       |General examination of patient (procedure)|1987-08-02T04:02:17-04:00|1987-08-02T04:17:17-04:00|urn:uuid:5bbda3f6-ee30-6a51-ebbd-19cd0a6b119d|Organization?identifier=https://github.com/synthetichealth/synthea|0d50b32d-539e-3208-91c8-3634b6454a56|SERVICES DE JOUR DE CHAMBLY                                        |Dr. Dewayne363 Gleason633     |Practitioner?identifier=http://hl7.org/fhir/sid/us-npi|9999989359|1987-08-02T04:02:17-04:00|1987-08-02T04:17:17-04:00|PPRF                 |primary performer       |\n",
      "|86ed4f3e-ef30-e240-3ffc-bafc0e4c5cb5|finished|AMB       |General examination of patient (procedure)|1988-08-07T04:02:17-04:00|1988-08-07T04:17:17-04:00|urn:uuid:5bbda3f6-ee30-6a51-ebbd-19cd0a6b119d|Organization?identifier=https://github.com/synthetichealth/synthea|0d50b32d-539e-3208-91c8-3634b6454a56|SERVICES DE JOUR DE CHAMBLY                                        |Dr. Dewayne363 Gleason633     |Practitioner?identifier=http://hl7.org/fhir/sid/us-npi|9999989359|1988-08-07T04:02:17-04:00|1988-08-07T04:17:17-04:00|PPRF                 |primary performer       |\n",
      "|9279e429-3547-73d3-3f4b-048386c224a1|finished|AMB       |General examination of patient (procedure)|1989-08-13T04:02:17-04:00|1989-08-13T04:17:17-04:00|urn:uuid:5bbda3f6-ee30-6a51-ebbd-19cd0a6b119d|Organization?identifier=https://github.com/synthetichealth/synthea|0d50b32d-539e-3208-91c8-3634b6454a56|SERVICES DE JOUR DE CHAMBLY                                        |Dr. Dewayne363 Gleason633     |Practitioner?identifier=http://hl7.org/fhir/sid/us-npi|9999989359|1989-08-13T04:02:17-04:00|1989-08-13T04:17:17-04:00|PPRF                 |primary performer       |\n",
      "|fc66a111-100b-2fd8-59e6-0c970645d8dc|finished|AMB       |General examination of patient (procedure)|1990-08-19T04:02:17-04:00|1990-08-19T04:17:17-04:00|urn:uuid:5bbda3f6-ee30-6a51-ebbd-19cd0a6b119d|Organization?identifier=https://github.com/synthetichealth/synthea|0d50b32d-539e-3208-91c8-3634b6454a56|SERVICES DE JOUR DE CHAMBLY                                        |Dr. Dewayne363 Gleason633     |Practitioner?identifier=http://hl7.org/fhir/sid/us-npi|9999989359|1990-08-19T04:02:17-04:00|1990-08-19T04:17:17-04:00|PPRF                 |primary performer       |\n",
      "|165cd68a-183e-d1c2-89ea-380299736a53|finished|AMB       |General examination of patient (procedure)|1991-08-25T04:02:17-04:00|1991-08-25T04:17:17-04:00|urn:uuid:5bbda3f6-ee30-6a51-ebbd-19cd0a6b119d|Organization?identifier=https://github.com/synthetichealth/synthea|0d50b32d-539e-3208-91c8-3634b6454a56|SERVICES DE JOUR DE CHAMBLY                                        |Dr. Dewayne363 Gleason633     |Practitioner?identifier=http://hl7.org/fhir/sid/us-npi|9999989359|1991-08-25T04:02:17-04:00|1991-08-25T04:17:17-04:00|PPRF                 |primary performer       |\n",
      "|c1bdda80-84e0-f1d3-dd1b-700ef3ac5437|finished|AMB       |General examination of patient (procedure)|1992-08-30T04:02:17-04:00|1992-08-30T04:17:17-04:00|urn:uuid:5bbda3f6-ee30-6a51-ebbd-19cd0a6b119d|Organization?identifier=https://github.com/synthetichealth/synthea|0d50b32d-539e-3208-91c8-3634b6454a56|SERVICES DE JOUR DE CHAMBLY                                        |Dr. Dewayne363 Gleason633     |Practitioner?identifier=http://hl7.org/fhir/sid/us-npi|9999989359|1992-08-30T04:02:17-04:00|1992-08-30T04:17:17-04:00|PPRF                 |primary performer       |\n",
      "|1d954300-f832-55f3-c00b-3821c8575e3d|finished|AMB       |General examination of patient (procedure)|1993-09-05T04:02:17-04:00|1993-09-05T04:17:17-04:00|urn:uuid:5bbda3f6-ee30-6a51-ebbd-19cd0a6b119d|Organization?identifier=https://github.com/synthetichealth/synthea|0d50b32d-539e-3208-91c8-3634b6454a56|SERVICES DE JOUR DE CHAMBLY                                        |Dr. Dewayne363 Gleason633     |Practitioner?identifier=http://hl7.org/fhir/sid/us-npi|9999989359|1993-09-05T04:02:17-04:00|1993-09-05T04:17:17-04:00|PPRF                 |primary performer       |\n",
      "|8e8e4242-96f0-ead1-cbd3-e6b5ba4be118|finished|AMB       |General examination of patient (procedure)|1994-09-11T04:02:17-04:00|1994-09-11T04:17:17-04:00|urn:uuid:5bbda3f6-ee30-6a51-ebbd-19cd0a6b119d|Organization?identifier=https://github.com/synthetichealth/synthea|0d50b32d-539e-3208-91c8-3634b6454a56|SERVICES DE JOUR DE CHAMBLY                                        |Dr. Dewayne363 Gleason633     |Practitioner?identifier=http://hl7.org/fhir/sid/us-npi|9999989359|1994-09-11T04:02:17-04:00|1994-09-11T04:17:17-04:00|PPRF                 |primary performer       |\n",
      "|35982ffa-d9d0-8139-c971-ed7db03d0935|finished|AMB       |General examination of patient (procedure)|1995-09-17T04:02:17-04:00|1995-09-17T04:17:17-04:00|urn:uuid:5bbda3f6-ee30-6a51-ebbd-19cd0a6b119d|Organization?identifier=https://github.com/synthetichealth/synthea|0d50b32d-539e-3208-91c8-3634b6454a56|SERVICES DE JOUR DE CHAMBLY                                        |Dr. Dewayne363 Gleason633     |Practitioner?identifier=http://hl7.org/fhir/sid/us-npi|9999989359|1995-09-17T04:02:17-04:00|1995-09-17T04:17:17-04:00|PPRF                 |primary performer       |\n",
      "|ac138bde-ddfe-abb6-06d3-5cd3cbf7d3b6|finished|AMB       |General examination of patient (procedure)|1996-09-22T04:02:17-04:00|1996-09-22T04:17:17-04:00|urn:uuid:5bbda3f6-ee30-6a51-ebbd-19cd0a6b119d|Organization?identifier=https://github.com/synthetichealth/synthea|0d50b32d-539e-3208-91c8-3634b6454a56|SERVICES DE JOUR DE CHAMBLY                                        |Dr. Dewayne363 Gleason633     |Practitioner?identifier=http://hl7.org/fhir/sid/us-npi|9999989359|1996-09-22T04:02:17-04:00|1996-09-22T04:17:17-04:00|PPRF                 |primary performer       |\n",
      "|3b20b0f7-79a1-e025-5276-ea01bcecc906|finished|AMB       |General examination of patient (procedure)|1997-09-28T04:02:17-04:00|1997-09-28T04:17:17-04:00|urn:uuid:5bbda3f6-ee30-6a51-ebbd-19cd0a6b119d|Organization?identifier=https://github.com/synthetichealth/synthea|0d50b32d-539e-3208-91c8-3634b6454a56|SERVICES DE JOUR DE CHAMBLY                                        |Dr. Dewayne363 Gleason633     |Practitioner?identifier=http://hl7.org/fhir/sid/us-npi|9999989359|1997-09-28T04:02:17-04:00|1997-09-28T04:17:17-04:00|PPRF                 |primary performer       |\n",
      "|7a9069fd-2740-2612-b143-1de464730abe|finished|AMB       |General examination of patient (procedure)|1998-10-04T04:02:17-04:00|1998-10-04T04:17:17-04:00|urn:uuid:5bbda3f6-ee30-6a51-ebbd-19cd0a6b119d|Organization?identifier=https://github.com/synthetichealth/synthea|0d50b32d-539e-3208-91c8-3634b6454a56|SERVICES DE JOUR DE CHAMBLY                                        |Dr. Dewayne363 Gleason633     |Practitioner?identifier=http://hl7.org/fhir/sid/us-npi|9999989359|1998-10-04T04:02:17-04:00|1998-10-04T04:17:17-04:00|PPRF                 |primary performer       |\n",
      "|7ae7f3e3-8acd-7d1b-2746-384e62ba7979|finished|AMB       |General examination of patient (procedure)|1999-10-10T04:02:17-04:00|1999-10-10T04:17:17-04:00|urn:uuid:5bbda3f6-ee30-6a51-ebbd-19cd0a6b119d|Organization?identifier=https://github.com/synthetichealth/synthea|0d50b32d-539e-3208-91c8-3634b6454a56|SERVICES DE JOUR DE CHAMBLY                                        |Dr. Dewayne363 Gleason633     |Practitioner?identifier=http://hl7.org/fhir/sid/us-npi|9999989359|1999-10-10T04:02:17-04:00|1999-10-10T04:17:17-04:00|PPRF                 |primary performer       |\n",
      "|1e3fe358-9bc0-dfbe-515f-8553df6e4d60|finished|AMB       |General examination of patient (procedure)|2000-10-15T04:02:17-04:00|2000-10-15T04:17:17-04:00|urn:uuid:5bbda3f6-ee30-6a51-ebbd-19cd0a6b119d|Organization?identifier=https://github.com/synthetichealth/synthea|0d50b32d-539e-3208-91c8-3634b6454a56|SERVICES DE JOUR DE CHAMBLY                                        |Dr. Dewayne363 Gleason633     |Practitioner?identifier=http://hl7.org/fhir/sid/us-npi|9999989359|2000-10-15T04:02:17-04:00|2000-10-15T04:17:17-04:00|PPRF                 |primary performer       |\n",
      "|494d5be7-e80b-e430-2031-8e4ba530a607|finished|AMB       |General examination of patient (procedure)|2001-10-21T04:02:17-04:00|2001-10-21T04:17:17-04:00|urn:uuid:5bbda3f6-ee30-6a51-ebbd-19cd0a6b119d|Organization?identifier=https://github.com/synthetichealth/synthea|0d50b32d-539e-3208-91c8-3634b6454a56|SERVICES DE JOUR DE CHAMBLY                                        |Dr. Dewayne363 Gleason633     |Practitioner?identifier=http://hl7.org/fhir/sid/us-npi|9999989359|2001-10-21T04:02:17-04:00|2001-10-21T04:17:17-04:00|PPRF                 |primary performer       |\n",
      "|416eea2f-6b8e-5c7b-4f6d-a11e61c8a139|finished|AMB       |General examination of patient (procedure)|2002-10-27T03:02:17-05:00|2002-10-27T03:17:17-05:00|urn:uuid:5bbda3f6-ee30-6a51-ebbd-19cd0a6b119d|Organization?identifier=https://github.com/synthetichealth/synthea|0d50b32d-539e-3208-91c8-3634b6454a56|SERVICES DE JOUR DE CHAMBLY                                        |Dr. Dewayne363 Gleason633     |Practitioner?identifier=http://hl7.org/fhir/sid/us-npi|9999989359|2002-10-27T03:02:17-05:00|2002-10-27T03:17:17-05:00|PPRF                 |primary performer       |\n",
      "|1376174e-f554-56ea-49c3-d2d90e146bf3|finished|AMB       |General examination of patient (procedure)|2003-11-02T03:02:17-05:00|2003-11-02T03:17:17-05:00|urn:uuid:5bbda3f6-ee30-6a51-ebbd-19cd0a6b119d|Organization?identifier=https://github.com/synthetichealth/synthea|0d50b32d-539e-3208-91c8-3634b6454a56|SERVICES DE JOUR DE CHAMBLY                                        |Dr. Dewayne363 Gleason633     |Practitioner?identifier=http://hl7.org/fhir/sid/us-npi|9999989359|2003-11-02T03:02:17-05:00|2003-11-02T03:17:17-05:00|PPRF                 |primary performer       |\n",
      "+------------------------------------+--------+----------+------------------------------------------+-------------------------+-------------------------+---------------------------------------------+-------------------------------------------------------------------------------------------------------+-------------------------------------------------------------------+------------------------------+-----------------------------------------------------------------+-------------------------+-------------------------+---------------------+------------------------+\n",
      "only showing top 20 rows\n",
      "\n"
     ]
    }
   ],
   "execution_count": 37
  },
  {
   "metadata": {
    "ExecuteTime": {
     "end_time": "2024-11-27T00:34:18.527541Z",
     "start_time": "2024-11-27T00:34:18.295200Z"
    }
   },
   "cell_type": "code",
   "source": [
    "# Save the DataFrame to Parquet\n",
    "encounter_with_participant_df.write.mode(\"overwrite\").parquet(\"participant_details\")\n",
    "\n",
    "print(\"Participant details have been successfully extracted and saved in the 'participant_details' folder.\")\n"
   ],
   "id": "fc087e2619556ac8",
   "outputs": [
    {
     "name": "stdout",
     "output_type": "stream",
     "text": [
      "Participant details have been successfully extracted and saved in the 'participant_details' folder.\n"
     ]
    }
   ],
   "execution_count": 38
  },
  {
   "metadata": {
    "ExecuteTime": {
     "end_time": "2024-11-26T23:58:59.756313Z",
     "start_time": "2024-11-26T23:58:59.754435Z"
    }
   },
   "cell_type": "code",
   "source": "",
   "id": "10d7b8b23cfbc4ff",
   "outputs": [],
   "execution_count": null
  }
 ],
 "metadata": {
  "kernelspec": {
   "display_name": "Python 3",
   "language": "python",
   "name": "python3"
  },
  "language_info": {
   "codemirror_mode": {
    "name": "ipython",
    "version": 2
   },
   "file_extension": ".py",
   "mimetype": "text/x-python",
   "name": "python",
   "nbconvert_exporter": "python",
   "pygments_lexer": "ipython2",
   "version": "2.7.6"
  }
 },
 "nbformat": 4,
 "nbformat_minor": 5
}
