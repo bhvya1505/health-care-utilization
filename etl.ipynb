{
 "cells": [
  {
   "cell_type": "code",
   "id": "initial_id",
   "metadata": {
    "collapsed": true,
    "ExecuteTime": {
     "end_time": "2024-11-26T22:23:13.032279Z",
     "start_time": "2024-11-26T22:23:13.028765Z"
    }
   },
   "source": [
    "from pyspark.sql import SparkSession\n",
    "from pyspark.sql.functions import col, explode, expr\n",
    "\n",
    "# Initialize Spark session\n",
    "spark = SparkSession.builder \\\n",
    "    .appName(\"FHIR Data Pipeline\") \\\n",
    "    .getOrCreate()\n"
   ],
   "outputs": [],
   "execution_count": 8
  },
  {
   "metadata": {
    "ExecuteTime": {
     "end_time": "2024-11-26T22:23:13.393620Z",
     "start_time": "2024-11-26T22:23:13.035981Z"
    }
   },
   "cell_type": "code",
   "source": [
    "\n",
    "# File path\n",
    "file_path = \"data/fhir/samples\"\n",
    "\n",
    "# Read the JSON file\n",
    "data = spark.read.json(file_path, multiLine=True)\n",
    "\n",
    "# Explode the entry array\n",
    "entries = data.select(explode(col(\"entry\")).alias(\"entry\"))\n"
   ],
   "id": "6b638a009f7fb92b",
   "outputs": [],
   "execution_count": 9
  },
  {
   "metadata": {},
   "cell_type": "markdown",
   "source": "### Patients",
   "id": "a3c0e6f019112637"
  },
  {
   "metadata": {
    "ExecuteTime": {
     "end_time": "2024-11-26T22:23:14.395447Z",
     "start_time": "2024-11-26T22:23:13.405922Z"
    }
   },
   "cell_type": "code",
   "source": [
    "\n",
    "# Filter patient resources\n",
    "patients = entries.filter(col(\"entry.resource.resourceType\") == \"Patient\") \\\n",
    "                  .select(col(\"entry.resource.*\"))\n",
    "\n",
    "# Extract the \"official\" name\n",
    "official_name = expr(\"\"\"\n",
    "    filter(name, x -> x.use = 'official')[0]\n",
    "\"\"\")\n",
    "\n",
    "# Extract geolocation fields\n",
    "geolocation = expr(\"\"\"\n",
    "    filter(address[0].extension, x -> x.url = 'http://hl7.org/fhir/StructureDefinition/geolocation')[0].extension\n",
    "\"\"\")\n",
    "\n",
    "# Extract all languages from communication as a list\n",
    "communication_languages = expr(\"\"\"\n",
    "    transform(communication, x -> x.language.text)\n",
    "\"\"\")\n",
    "\n",
    "# Extract identifier types\n",
    "identifier_types = expr(\"\"\"\n",
    "    transform(identifier, x -> x.type.coding[0].display)\n",
    "\"\"\")\n",
    "\n",
    "# Create the enhanced patient DataFrame\n",
    "patient_df = patients.select(\n",
    "    col(\"id\").alias(\"patient_id\"),\n",
    "    identifier_types.alias(\"identifier_types\"),\n",
    "    official_name.getField(\"family\").alias(\"last_name\"),\n",
    "    official_name.getField(\"given\").getItem(0).alias(\"first_name\"),\n",
    "    col(\"gender\").alias(\"gender\"),\n",
    "    col(\"birthDate\").alias(\"birth_date\"),\n",
    "    col(\"address\").getItem(0).getField(\"city\").alias(\"city\"),\n",
    "    col(\"address\").getItem(0).getField(\"state\").alias(\"state\"),\n",
    "    col(\"address\").getItem(0).getField(\"country\").alias(\"country\"),\n",
    "    col(\"address\").getItem(0).getField(\"postalCode\").alias(\"postal_code\"),\n",
    "    geolocation.getItem(0).getField(\"valueDecimal\").alias(\"latitude\"),\n",
    "    geolocation.getItem(1).getField(\"valueDecimal\").alias(\"longitude\"),\n",
    "    col(\"telecom\").getItem(0).getField(\"value\").alias(\"phone\"),\n",
    "    col(\"maritalStatus.text\").alias(\"marital_status\"),\n",
    "    col(\"extension\").getItem(0).getField(\"valueString\").alias(\"mothers_maiden_name\"),\n",
    "    col(\"extension\").getItem(1).getField(\"valueAddress\").getField(\"city\").alias(\"birthplace_city\"),\n",
    "    col(\"extension\").getItem(1).getField(\"valueAddress\").getField(\"state\").alias(\"birthplace_state\"),\n",
    "    col(\"extension\").getItem(1).getField(\"valueAddress\").getField(\"country\").alias(\"birthplace_country\"),\n",
    "    col(\"extension\").getItem(2).getField(\"valueDecimal\").alias(\"disability_adjusted_life_years\"),\n",
    "    col(\"extension\").getItem(3).getField(\"valueDecimal\").alias(\"quality_adjusted_life_years\"),\n",
    "    col(\"multipleBirthBoolean\").alias(\"multiple_birth\"),\n",
    "    communication_languages.alias(\"languages\")\n",
    ")\n",
    "\n",
    "# Show the resulting DataFrame\n",
    "patient_df.show(truncate=False)\n"
   ],
   "id": "10b83f7c66e3efed",
   "outputs": [
    {
     "name": "stdout",
     "output_type": "stream",
     "text": [
      "+------------------------------------+----------------------------------------------------------------------------------------+-------------+------------+------+----------+-----------------------+-------------------------+-------+-----------+------------------+-------------------+------------+--------------+-------------------------+---------------+-------------------------+------------------+------------------------------+---------------------------+--------------+---------+\n",
      "|patient_id                          |identifier_types                                                                        |last_name    |first_name  |gender|birth_date|city                   |state                    |country|postal_code|latitude          |longitude          |phone       |marital_status|mothers_maiden_name      |birthplace_city|birthplace_state         |birthplace_country|disability_adjusted_life_years|quality_adjusted_life_years|multiple_birth|languages|\n",
      "+------------------------------------+----------------------------------------------------------------------------------------+-------------+------------+------+----------+-----------------------+-------------------------+-------+-----------+------------------+-------------------+------------+--------------+-------------------------+---------------+-------------------------+------------------+------------------------------+---------------------------+--------------+---------+\n",
      "|7ca297d1-94e0-8069-4cdb-50f313de9a5f|[NULL, Medical Record Number, Social Security Number, Driver's License, Passport Number]|Murphy561    |Zenaida56   |female|1955-05-02|Clarenville            |Newfoundland and Labrador|CA     |A5A        |48.12501389713399 |-53.92252843475256 |555-305-5898|S             |Lavon272 Christiansen251 |Bay Bulls      |Newfoundland and Labrador|CA                |2.7338625827639547            |54.266137417236045         |false         |[English]|\n",
      "|c8af2e36-e7d2-fc26-de8c-8936c9e4705e|[NULL, Medical Record Number, Social Security Number, Driver's License, Passport Number]|Schmeler639  |Zenia843    |female|1932-01-30|Clyde River            |Prince Edward Island     |CA     |C1A        |46.41758999887787 |-63.25585052176373 |555-267-8817|M             |Ryan260 Lowe577          |Lot 41         |Prince Edward Island     |CA                |17.88266610855829             |69.11733389144172          |false         |[English]|\n",
      "|0ff36c90-7124-3569-9591-75c6386f45f5|[NULL, Medical Record Number, Social Security Number, Driver's License, Passport Number]|Feest103     |Zack583     |male  |1976-10-24|Hay River Dene 1       |Northwest Territories    |CA     |X1A        |62.739726053610326|-118.91433182864165|555-459-3391|S             |Dolly486 Boyer713        |Hay River      |Northwest Territories    |CA                |13.305182020937078            |30.694817979062922         |false         |[English]|\n",
      "|b4b67625-c44c-a832-7aba-3a2ae02a4ef1|[NULL, Medical Record Number, Social Security Number, Driver's License, Passport Number]|Hagenes547   |Zita788     |female|1921-09-16|Dieppe                 |New Brunswick            |CA     |E1A        |46.13854678684814 |-64.74598466358349 |555-764-5676|M             |Cristine925 Krajcik437   |Dieppe         |New Brunswick            |CA                |26.14170585712538             |71.85829414287463          |false         |[English]|\n",
      "|3ed96c8a-2671-2959-57cd-b3aeb8b16af0|[NULL, Medical Record Number, Social Security Number, Driver's License, Passport Number]|Gusikowski974|Zane918     |male  |1944-03-07|Dawson                 |Yukon                    |CA     |Y0B        |64.0730842673304  |-139.43134924611675|555-861-5473|S             |Kyoko885 Braun514        |Whitehorse     |Yukon                    |CA                |12.760364834252417            |62.239635165747586         |false         |[English]|\n",
      "|8fc4d8c6-1ae5-2736-1158-ef55c405db8d|[NULL, Medical Record Number, Social Security Number, Driver's License, Passport Number]|Collier206   |Zulema784   |female|1948-05-10|Prince Albert          |Saskatchewan             |CA     |S6X        |53.23190505935035 |-105.70555320939029|555-522-6510|M             |Jannie509 Gaylord332     |North Grove    |Saskatchewan             |CA                |4.534778979359391             |66.46522102064061          |false         |[English]|\n",
      "|5bbda3f6-ee30-6a51-ebbd-19cd0a6b119d|[NULL, Medical Record Number, Social Security Number, Driver's License, Passport Number]|Morissette863|Zachariah133|male  |1967-05-28|Chambly                |Quebec                   |CA     |J3L        |45.43568543727035 |-73.33662889480526 |555-889-7346|M             |Deonna907 Steuber698     |Montréal       |Quebec                   |CA                |1.1335464915548155            |51.86645350844518          |false         |[English]|\n",
      "|43dceade-79e7-fc0f-8245-59ec5feb4174|[NULL, Medical Record Number, Social Security Number, Driver's License, Passport Number]|Feest103     |Zandra428   |female|1998-02-28|North Cowichan         |British Columbia         |CA     |V0R        |48.85197586305505 |-123.7064674358977 |555-870-8290|Never Married |Arielle168 MacGyver246   |Kamloops       |British Columbia         |CA                |0.2352648564246976            |21.7647351435753           |false         |[English]|\n",
      "|37b0788d-2389-b706-52e0-7938f80f3f23|[NULL, Medical Record Number, Social Security Number, Driver's License, Passport Number]|Harber290    |Zachary28   |male  |1977-02-03|Division No. 4, Subd. B|Newfoundland and Labrador|CA     |A1A        |48.52235473195535 |-55.367993741065376|555-999-9943|M             |Sharika71 Bailey598      |Paradise       |Newfoundland and Labrador|CA                |20.28075539923084             |17.71924460076916          |false         |[English]|\n",
      "|fbcfe59a-ee76-74ed-240c-a0f3c9d46c04|[NULL, Medical Record Number, Social Security Number]                                   |Eichmann909  |Zachary28   |male  |1994-03-31|Toronto                |Ontario                  |CA     |M5T        |43.77829275458251 |-79.36014636017556 |555-971-7361|Never Married |Lashandra868 Considine820|Markham        |Ontario                  |CA                |0.0                           |6.0                        |false         |[English]|\n",
      "|fb47aa81-57a0-edc1-185d-891ad133034b|[NULL, Medical Record Number, Social Security Number]                                   |Koepp521     |Zita788     |female|2006-01-21|Toronto                |Ontario                  |CA     |M5T        |43.76017927942715 |-79.33393338925657 |555-412-4566|Never Married |Cary869 Cassin499        |Kingston       |Ontario                  |CA                |0.002142737663232659          |13.997857262336767         |false         |[English]|\n",
      "|33c6c178-b195-c16c-0045-02f5f4b53073|[NULL, Medical Record Number, Social Security Number, Driver's License, Passport Number]|Doyle959     |Zachary28   |male  |1997-04-13|Powell River           |British Columbia         |CA     |V8A        |49.875567621600275|-124.5682193519181 |555-801-2894|Never Married |Cherly215 McKenzie376    |Saanich        |British Columbia         |CA                |0.10556535972610256           |22.894434640273897         |false         |[English]|\n",
      "|d59c9ad1-8a83-f0f0-a080-635ff42b43fa|[NULL, Medical Record Number, Social Security Number, Driver's License, Passport Number]|Hermann103   |Zackary401  |male  |1950-02-18|Montréal               |Quebec                   |CA     |H1X        |45.54242699911329 |-73.539351988652   |555-113-2781|S             |Mardell937 Prosacco716   |Saint-Pie      |Quebec                   |CA                |0.0013755505092018219         |69.9986244494908           |false         |[English]|\n",
      "|000002d9-3788-19b0-0631-c4cad43fe513|[NULL, Medical Record Number, Social Security Number]                                   |Schmeler639  |Zetta950    |female|2019-05-13|Wallace Hills 14A      |Nova Scotia              |CA     |B3K        |44.90638228831787 |-63.963210909879436|555-850-6821|Never Married |Gaynell126 Beahan375     |Cape Breton    |Nova Scotia              |CA                |0.0                           |1.0                        |false         |[English]|\n",
      "|047c5aaf-d8cb-a31b-189a-f28e0efb78e0|[NULL, Medical Record Number, Social Security Number, Driver's License, Passport Number]|Volkman526   |Zulma701    |female|1965-08-20|Woodstock              |Newfoundland and Labrador|CA     |A1A        |48.53819876689299 |-55.41441339349075 |555-292-7037|S             |Mazie442 Jaskolski867    |St. John's     |Newfoundland and Labrador|CA                |0.11930722915184863           |46.88069277084815          |false         |[English]|\n",
      "+------------------------------------+----------------------------------------------------------------------------------------+-------------+------------+------+----------+-----------------------+-------------------------+-------+-----------+------------------+-------------------+------------+--------------+-------------------------+---------------+-------------------------+------------------+------------------------------+---------------------------+--------------+---------+\n",
      "\n"
     ]
    }
   ],
   "execution_count": 10
  },
  {
   "metadata": {
    "ExecuteTime": {
     "end_time": "2024-11-26T22:27:28.504533Z",
     "start_time": "2024-11-26T22:27:27.539191Z"
    }
   },
   "cell_type": "code",
   "source": [
    "# Save the DataFrame to Parquet format in the \"patients\" folder\n",
    "patient_df.write.mode(\"overwrite\").parquet(\"patients\")\n",
    "\n",
    "print(\"Patient DataFrame has been successfully saved in Parquet format in the 'patients' folder.\")"
   ],
   "id": "c6454c0f8a1f0bd9",
   "outputs": [
    {
     "name": "stderr",
     "output_type": "stream",
     "text": [
      "24/11/26 14:27:28 WARN MemoryManager: Total allocation exceeds 95.00% (1,020,054,720 bytes) of heap memory\n",
      "Scaling row group sizes to 95.00% for 8 writers\n",
      "24/11/26 14:27:28 WARN MemoryManager: Total allocation exceeds 95.00% (1,020,054,720 bytes) of heap memory\n",
      "Scaling row group sizes to 84.44% for 9 writers\n",
      "24/11/26 14:27:28 WARN MemoryManager: Total allocation exceeds 95.00% (1,020,054,720 bytes) of heap memory\n",
      "Scaling row group sizes to 76.00% for 10 writers\n",
      "[Stage 7:>                                                        (0 + 10) / 10]\r"
     ]
    },
    {
     "name": "stdout",
     "output_type": "stream",
     "text": [
      "Patient DataFrame has been successfully saved in Parquet format in the 'patients' folder.\n"
     ]
    },
    {
     "name": "stderr",
     "output_type": "stream",
     "text": [
      "24/11/26 14:27:28 WARN MemoryManager: Total allocation exceeds 95.00% (1,020,054,720 bytes) of heap memory\n",
      "Scaling row group sizes to 84.44% for 9 writers\n",
      "24/11/26 14:27:28 WARN MemoryManager: Total allocation exceeds 95.00% (1,020,054,720 bytes) of heap memory\n",
      "Scaling row group sizes to 95.00% for 8 writers\n",
      "                                                                                \r"
     ]
    }
   ],
   "execution_count": 11
  }
 ],
 "metadata": {
  "kernelspec": {
   "display_name": "Python 3",
   "language": "python",
   "name": "python3"
  },
  "language_info": {
   "codemirror_mode": {
    "name": "ipython",
    "version": 2
   },
   "file_extension": ".py",
   "mimetype": "text/x-python",
   "name": "python",
   "nbconvert_exporter": "python",
   "pygments_lexer": "ipython2",
   "version": "2.7.6"
  }
 },
 "nbformat": 4,
 "nbformat_minor": 5
}
